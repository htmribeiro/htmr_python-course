{
  "nbformat": 4,
  "nbformat_minor": 0,
  "metadata": {
    "colab": {
      "name": "Exercício Python - Curso em vídeo.ipynb",
      "provenance": [],
      "collapsed_sections": [],
      "include_colab_link": true
    },
    "kernelspec": {
      "name": "python3",
      "display_name": "Python 3"
    }
  },
  "cells": [
    {
      "cell_type": "markdown",
      "metadata": {
        "id": "view-in-github",
        "colab_type": "text"
      },
      "source": [
        "<a href=\"https://colab.research.google.com/github/htmribeiro/htmr_python-course/blob/master/Exerc%C3%ADcio_Python_Curso_em_v%C3%ADdeo.ipynb\" target=\"_parent\"><img src=\"https://colab.research.google.com/assets/colab-badge.svg\" alt=\"Open In Colab\"/></a>"
      ]
    },
    {
      "cell_type": "markdown",
      "metadata": {
        "id": "kq6cx_2D8p6a",
        "colab_type": "text"
      },
      "source": [
        "### DESAFIO 001 | Aula 04"
      ]
    },
    {
      "cell_type": "markdown",
      "metadata": {
        "id": "myHlqCOF9xjx",
        "colab_type": "text"
      },
      "source": [
        "Ex.001 - Crie um programa que escreva \"Olá, Mundo!\" na tela."
      ]
    },
    {
      "cell_type": "code",
      "metadata": {
        "id": "pXhjJ1WR98xE",
        "colab_type": "code",
        "outputId": "80489811-1793-4928-d930-36469ec5f159",
        "colab": {
          "base_uri": "https://localhost:8080/",
          "height": 34
        }
      },
      "source": [
        "print('Olá, Mundo!')\n"
      ],
      "execution_count": 0,
      "outputs": [
        {
          "output_type": "stream",
          "text": [
            "Olá, Mundo!\n"
          ],
          "name": "stdout"
        }
      ]
    },
    {
      "cell_type": "code",
      "metadata": {
        "id": "hWTGawZi-tlP",
        "colab_type": "code",
        "outputId": "e02d6d06-8309-437d-c14e-bcc5b02f5f5b",
        "colab": {
          "base_uri": "https://localhost:8080/",
          "height": 34
        }
      },
      "source": [
        "msg = 'Olá, Mundo!'\n",
        "print(msg)"
      ],
      "execution_count": 0,
      "outputs": [
        {
          "output_type": "stream",
          "text": [
            "Olá, Mundo!\n"
          ],
          "name": "stdout"
        }
      ]
    },
    {
      "cell_type": "markdown",
      "metadata": {
        "id": "-d9qkH_HXT8-",
        "colab_type": "text"
      },
      "source": [
        "### DESAFIO 002 | Aula 04"
      ]
    },
    {
      "cell_type": "markdown",
      "metadata": {
        "id": "J2L1gTMnYv6o",
        "colab_type": "text"
      },
      "source": [
        "Ex.002 - Crie um script Python que **leia** o nome de uma pessoa e **mostre** uma mensagem de boas-vindas de acordo com o valor digitado."
      ]
    },
    {
      "cell_type": "code",
      "metadata": {
        "id": "hzTEDZTAZFaQ",
        "colab_type": "code",
        "colab": {
          "base_uri": "https://localhost:8080/",
          "height": 51
        },
        "outputId": "1ad2a3c4-a78e-490c-b555-0b9bd2f2748e"
      },
      "source": [
        "nome = input('Digite seu nome: ')\n",
        "print('É um prazer te conhecer, {}!'.format(nome))"
      ],
      "execution_count": 1,
      "outputs": [
        {
          "output_type": "stream",
          "text": [
            "Digite seu nome: Hamilton\n",
            "É um prazer te conhecer, Hamilton!\n"
          ],
          "name": "stdout"
        }
      ]
    }
  ]
}