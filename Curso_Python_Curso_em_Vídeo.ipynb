{
  "nbformat": 4,
  "nbformat_minor": 0,
  "metadata": {
    "colab": {
      "name": "Curso Python - Curso em Vídeo.ipynb",
      "provenance": [],
      "collapsed_sections": [],
      "toc_visible": true,
      "include_colab_link": true
    },
    "kernelspec": {
      "name": "python3",
      "display_name": "Python 3"
    }
  },
  "cells": [
    {
      "cell_type": "markdown",
      "metadata": {
        "id": "view-in-github",
        "colab_type": "text"
      },
      "source": [
        "<a href=\"https://colab.research.google.com/github/htmribeiro/htmr_python-course/blob/master/Curso_Python_Curso_em_V%C3%ADdeo.ipynb\" target=\"_parent\"><img src=\"https://colab.research.google.com/assets/colab-badge.svg\" alt=\"Open In Colab\"/></a>"
      ]
    },
    {
      "cell_type": "markdown",
      "metadata": {
        "colab_type": "text",
        "id": "YOIQGVhDp7xc"
      },
      "source": [
        "# **CURSO DE PYTHON 3 - MUNDO 1: FUNDAMENTOS** | http://www.cursoemvideo.com\n",
        "\n"
      ]
    },
    {
      "cell_type": "markdown",
      "metadata": {
        "colab_type": "text",
        "id": "8FmizW8_p7iR"
      },
      "source": [
        "#Curso Python #01 - Seja um Programador\n",
        "\n"
      ]
    },
    {
      "cell_type": "markdown",
      "metadata": {
        "id": "v8g-Z7kos_bi",
        "colab_type": "text"
      },
      "source": [
        "#Curso Python #02 - Para que serve o Python?\n"
      ]
    },
    {
      "cell_type": "markdown",
      "metadata": {
        "id": "xh3KblHX1VE_",
        "colab_type": "text"
      },
      "source": [
        "### História\n",
        "**De onde vem o Python?**  \n",
        "A linguagem Python foi criada na Holanda em 1989 pelo programador Guido Van Hossum, que trabalhava no Centro de Matemática e Computação (CWI) em Amsterdam.\n",
        "\n",
        "**Por que esse nome?**  \n",
        "O nome Python foi uma homenagem ao seriado inglês *Monty Python Flying Circus*, e foi ideia do próprio Van Hossum, já que os projetos dentro do CWI tinham nomes de programas de televisão.\n",
        "\n",
        "Atualmente a linguagem é mantida por uma fundação sem fins lucrativos chamada Python Software Foundation, que é apoiada por várias empresas como Microsoft, Google e Globo.\n",
        "\n",
        "Python é uma linguagem multiplataforma interpretada de propósito geral, fácil, intuitiva e principalmente muito organizada. Python é software livre e 100% orientada a objetos. A linguagem Python é muito usada nos campos de inteligência artificial, computação 3D, biotecnologia e realidade virtual, graças à essa simplicidade, versatilidade e capacidade de processamento."
      ]
    },
    {
      "cell_type": "markdown",
      "metadata": {
        "id": "j1sFOyxZw-KY",
        "colab_type": "text"
      },
      "source": [
        "### The Zen of Python, by Tim Peters [>>> import this]\n",
        "- **Bonito é melhor que feio.**\n",
        "- Explicito é melhor que implícito.\n",
        "- **Simples é melhor que complexo.**\n",
        "- **Complexo é melhor que complicado.**\n",
        "- Linear é melhor do que aninhado.\n",
        "- Esparso é melhor que denso.\n",
        "- **Legibilidade conta.**\n",
        "- Casos especiais não são especiais o bastante para quebrar as regras.\n",
        "- Ainda que praticidade vença a pureza.\n",
        "- **Erros nunca devem passar silenciosamente.**\n",
        "- A menos que sejam explicitamente silenciados.\n",
        "- Diante da ambiguidade,recuse a tentação de adivinhar.\n",
        "- Deveria haver um - e preferencialmente só um - modo óbvio para fazer algo.\n",
        "- Embora esse modo possa não ser óbvio a princípio a menos que você seja holandês.\n",
        "- **Agora é melhor que nunca.**\n",
        "- Embora nunca frequentemente seja melhor que *já*.\n",
        "- Se a implementação é difícil de explicar, é uma má idéia.\n",
        "- Se a implementação é fácil de explicar, pode ser uma boa idéia.\n",
        "- Namespace são uma grande idéia - vamos ter mais dessas!"
      ]
    },
    {
      "cell_type": "code",
      "metadata": {
        "id": "do9gNMOs7bnp",
        "colab_type": "code",
        "colab": {}
      },
      "source": [
        "import this"
      ],
      "execution_count": 0,
      "outputs": []
    },
    {
      "cell_type": "markdown",
      "metadata": {
        "id": "YQHhn_QvzTDR",
        "colab_type": "text"
      },
      "source": [
        "### Principais Áreas\n",
        "- Inteligência artificial\n",
        "- Biotecnologia\n",
        "- Computação 3D\n"
      ]
    },
    {
      "cell_type": "markdown",
      "metadata": {
        "id": "5T6JqseFzksU",
        "colab_type": "text"
      },
      "source": [
        "### Quem usa Python?\n",
        "- ZOPE\n",
        "- Air Canada\n",
        "- Bit Torrent\n",
        "- Globo.com (vídeos)\n",
        "- Google\n",
        "- YouTube\n",
        "- NASA\n",
        "- Industrial Light & Magic\n",
        "- AutoDesk (maya e softImage)\n",
        "- Blender e Gimp\n",
        "- RaspberryPi\n",
        "- Arduino"
      ]
    },
    {
      "cell_type": "markdown",
      "metadata": {
        "id": "5H461tmL1nrM",
        "colab_type": "text"
      },
      "source": [
        "#Curso Python #03 - Instalando o Python 3 e o IDLE"
      ]
    },
    {
      "cell_type": "markdown",
      "metadata": {
        "id": "65kJy_LX2BMs",
        "colab_type": "text"
      },
      "source": [
        "### Teoria\n",
        "Entenda como funciona um Interpretador e veja como Python funciona. Depois aprender como instalar o Python 3.0 e o IDLE em seu computador com Windows, Linux ou Mac OS.\n",
        "\n",
        "O Python é uma linguagem interpretada, mas será que você sabe o que é um interpretador e como ele funciona?\n",
        "\n",
        "Veja detalhadamente o funcionamento interno do Python e siga as instruções para instalar a Linguagem Python no seu computador.\n",
        "\n",
        "O Python é compatível com vários sistemas operacionais como Microsoft Windows, distribuições Linux e o Mac OS."
      ]
    },
    {
      "cell_type": "markdown",
      "metadata": {
        "id": "3I-jmYqb80ut",
        "colab_type": "text"
      },
      "source": [
        "# Curso Python #04 - Primeiros comandos em Python 3"
      ]
    },
    {
      "cell_type": "markdown",
      "metadata": {
        "id": "VpE7BcwF9fWh",
        "colab_type": "text"
      },
      "source": [
        "### Primeiros comandos em Python\n",
        "Agora chegou a hora de aprender os comandos básicos do Python e fazer os primeiros programas em Linguagem Python.\n",
        "\n",
        "Nesta aula, vamos aprender a utilizar as instruções `print()` e `input()` para realizr interação com o usuário.\n",
        "\n",
        "Além disso, vamos ver o conceito fundamental de variável e como elas se comportam dentro de um programa em Python.\n",
        "\n",
        "Também teremos exercícios em Python, com desafios de programação, onde você terá que criar programas em Python de acordo com enunciados propostos durante a aula."
      ]
    },
    {
      "cell_type": "markdown",
      "metadata": {
        "id": "hFfeBl2ZBQK5",
        "colab_type": "text"
      },
      "source": [
        "### Teoria\n",
        "**Delimitadores** utilizados para imprimir mensagens:\n",
        "- **aspas** *simples* ou *duplas* - para textos\n",
        "- **parenteses** - obrigatório em todas as funções\n",
        "\n",
        ">###### |py|\n",
        ">```py\n",
        ">print('Olá, Mundo!')\n",
        ">\n",
        ">print(7 + 4) //11\n",
        ">\n",
        ">print('7' + '4') //'74'\n",
        ">```"
      ]
    },
    {
      "cell_type": "markdown",
      "metadata": {
        "id": "qNKUYqY8Db26",
        "colab_type": "text"
      },
      "source": [
        "### Prática"
      ]
    },
    {
      "cell_type": "code",
      "metadata": {
        "id": "9rnQhtgBD4ZH",
        "colab_type": "code",
        "outputId": "a2c770ae-1c5b-4344-de93-1104eb44417e",
        "colab": {
          "base_uri": "https://localhost:8080/",
          "height": 34
        }
      },
      "source": [
        "print('Olá, Mundo!')"
      ],
      "execution_count": 0,
      "outputs": [
        {
          "output_type": "stream",
          "text": [
            "Olá, Mundo!\n"
          ],
          "name": "stdout"
        }
      ]
    },
    {
      "cell_type": "markdown",
      "metadata": {
        "id": "WjD0znkEEg5m",
        "colab_type": "text"
      },
      "source": [
        "se utilizarmos o comando acima sem as aspas o IDLE retornará uma mensagem de erro:  \n",
        "```\n",
        "# print(Olá, Mundo!)\n",
        "```  \n",
        "SyntaxError: Invalid syntax"
      ]
    },
    {
      "cell_type": "code",
      "metadata": {
        "id": "em0adYQQFgJ7",
        "colab_type": "code",
        "outputId": "2ab540db-9c47-44e8-af00-ea08e5ed2654",
        "colab": {
          "base_uri": "https://localhost:8080/",
          "height": 34
        }
      },
      "source": [
        "print(7 + 4)"
      ],
      "execution_count": 0,
      "outputs": [
        {
          "output_type": "stream",
          "text": [
            "11\n"
          ],
          "name": "stdout"
        }
      ]
    },
    {
      "cell_type": "code",
      "metadata": {
        "id": "TpJevPl0FuOC",
        "colab_type": "code",
        "outputId": "815aa378-d43a-49e3-a6dd-0607ec88b3ef",
        "colab": {
          "base_uri": "https://localhost:8080/",
          "height": 34
        }
      },
      "source": [
        "print('7' + '4')"
      ],
      "execution_count": 0,
      "outputs": [
        {
          "output_type": "stream",
          "text": [
            "74\n"
          ],
          "name": "stdout"
        }
      ]
    },
    {
      "cell_type": "code",
      "metadata": {
        "id": "oiSSToEmF6tB",
        "colab_type": "code",
        "outputId": "1e693944-7485-4906-d443-85156e5dd066",
        "colab": {
          "base_uri": "https://localhost:8080/",
          "height": 34
        }
      },
      "source": [
        "7+4"
      ],
      "execution_count": 0,
      "outputs": [
        {
          "output_type": "execute_result",
          "data": {
            "text/plain": [
              "11"
            ]
          },
          "metadata": {
            "tags": []
          },
          "execution_count": 5
        }
      ]
    },
    {
      "cell_type": "code",
      "metadata": {
        "id": "6qu_cVm-F_uP",
        "colab_type": "code",
        "outputId": "f5f946d7-d4ba-4983-e9a4-cd34257823ae",
        "colab": {
          "base_uri": "https://localhost:8080/",
          "height": 34
        }
      },
      "source": [
        "'7' + '4'"
      ],
      "execution_count": 0,
      "outputs": [
        {
          "output_type": "execute_result",
          "data": {
            "text/plain": [
              "'74'"
            ]
          },
          "metadata": {
            "tags": []
          },
          "execution_count": 6
        }
      ]
    },
    {
      "cell_type": "markdown",
      "metadata": {
        "id": "OMNj2b2rGX4t",
        "colab_type": "text"
      },
      "source": [
        "Abaixo um exemplo onde não funciona utilizar o \"+\" para concatenar uma mensagem:\n",
        "```\n",
        "print('Olá' + 5)\n",
        "```\n",
        "Traceback (most recent call last):\n",
        "  File \"<pyshell#0>\", line 1, in <module>\n",
        "    print('Olá' + 5)\n",
        "TypeError: can only concatenate str (not \"int\") to str"
      ]
    },
    {
      "cell_type": "code",
      "metadata": {
        "id": "DYMwcH1EGl3l",
        "colab_type": "code",
        "outputId": "84861e08-f91d-4fc7-d765-002cd0f67060",
        "colab": {
          "base_uri": "https://localhost:8080/",
          "height": 34
        }
      },
      "source": [
        "print('Olá', 5)"
      ],
      "execution_count": 0,
      "outputs": [
        {
          "output_type": "stream",
          "text": [
            "Olá 5\n"
          ],
          "name": "stdout"
        }
      ]
    },
    {
      "cell_type": "markdown",
      "metadata": {
        "id": "jBx9wI8IHJZv",
        "colab_type": "text"
      },
      "source": [
        "### Variáveis\n",
        "Toda variável é um objeto.\n",
        "\n",
        "Toda variável recebe ( = ) um valor, que é armazenado em memória.\n",
        "\n",
        "**Variaveis**\n",
        "- nome\n",
        "- idade\n",
        "- peso"
      ]
    },
    {
      "cell_type": "code",
      "metadata": {
        "id": "Ns2fx1IiIXo7",
        "colab_type": "code",
        "outputId": "005d1b76-cae2-4da7-d4c5-fae547c2c49e",
        "colab": {
          "base_uri": "https://localhost:8080/",
          "height": 34
        }
      },
      "source": [
        "nome = 'Hamilton'\n",
        "idade = 39\n",
        "peso = 98.5\n",
        "\n",
        "print(nome, idade, peso)"
      ],
      "execution_count": 0,
      "outputs": [
        {
          "output_type": "stream",
          "text": [
            "Hamilton 39 98.5\n"
          ],
          "name": "stdout"
        }
      ]
    },
    {
      "cell_type": "markdown",
      "metadata": {
        "id": "bcwU_YpIJdVm",
        "colab_type": "text"
      },
      "source": [
        "#### Input()\n",
        "significa leia."
      ]
    },
    {
      "cell_type": "markdown",
      "metadata": {
        "id": "Z17SrnlNJl6m",
        "colab_type": "text"
      },
      "source": [
        "#### Print()\n",
        "significa imprima."
      ]
    },
    {
      "cell_type": "code",
      "metadata": {
        "id": "xSdeqF5eJzdr",
        "colab_type": "code",
        "outputId": "c710b0f7-f30a-40e3-9063-3b941f9e5f41",
        "colab": {
          "base_uri": "https://localhost:8080/",
          "height": 85
        }
      },
      "source": [
        "nome = input('Qual o seu nome?')\n",
        "idade = input('Quantos anos você tem?')\n",
        "peso = input('Quanto você pesa?')\n",
        "\n",
        "print(nome, idade, peso)"
      ],
      "execution_count": 0,
      "outputs": [
        {
          "output_type": "stream",
          "text": [
            "Qual o seu nome?Hamilton\n",
            "Quantos anos você tem?39\n",
            "Quanto você pesa?98\n",
            "Hamilton 39 98\n"
          ],
          "name": "stdout"
        }
      ]
    },
    {
      "cell_type": "markdown",
      "metadata": {
        "id": "D5W1a6ikNI6e",
        "colab_type": "text"
      },
      "source": [
        "### Desafios\n"
      ]
    },
    {
      "cell_type": "markdown",
      "metadata": {
        "id": "najqIqzoNgcC",
        "colab_type": "text"
      },
      "source": [
        "#### Desafio 001\n",
        "\n",
        "Crie um script Python que **leia** o nome de uma pessoa e **mostre** uma mensagem de boas-vindas de acordo com o valor digitado."
      ]
    },
    {
      "cell_type": "code",
      "metadata": {
        "id": "syYg-8hxOOFY",
        "colab_type": "code",
        "outputId": "59b2e7f0-51f2-455e-a3e0-c7af2f315a1f",
        "colab": {
          "base_uri": "https://localhost:8080/",
          "height": 51
        }
      },
      "source": [
        "print('============= DESAFIO 01 ==============')\n",
        "nome = input('Qual é o seu nome? ')\n",
        "msg = 'Olá '  + nome + ', Parabéns por concluir o seu primeiro desafio.'\n",
        "print(msg)"
      ],
      "execution_count": 0,
      "outputs": [
        {
          "output_type": "stream",
          "text": [
            "Qual é o seu nome? Hamilton\n",
            "Olá Hamilton, Parabéns por concluir o seu primeiro desafio.\n"
          ],
          "name": "stdout"
        }
      ]
    },
    {
      "cell_type": "markdown",
      "metadata": {
        "id": "5nMI6RkKP7PZ",
        "colab_type": "text"
      },
      "source": [
        "#### Desafio 002\n",
        "Crie um script Python que **leia** o *dia*, o *mês* e o *ano* de nascimento de uma pessoa e **mostre** uma mensagem com a **data formatada**."
      ]
    },
    {
      "cell_type": "code",
      "metadata": {
        "id": "9-9dlUtuRKNV",
        "colab_type": "code",
        "outputId": "c1c680f1-767f-49de-8c67-c74cc0cc1a47",
        "colab": {
          "base_uri": "https://localhost:8080/",
          "height": 136
        }
      },
      "source": [
        "print('============= DESAFIO 02 ==============')\n",
        "print('Digite abaixo a sua data de nascimento.')\n",
        "dia = input('Dia = ')\n",
        "mes = input('Mês = ')\n",
        "ano = input('Ano = ')\n",
        "print('Você nasceu no dia', dia, 'de '+ mes + ' de', ano,'.')\n",
        "confirma = input('Correto? ')"
      ],
      "execution_count": 0,
      "outputs": [
        {
          "output_type": "stream",
          "text": [
            "============= DESAFIO 02 ==============\n",
            "Digite abaixo a sua data de nascimento.\n",
            "Dia = 21\n",
            "Mês = Março\n",
            "Ano = 1980\n",
            "Você nasceu no dia 21 de Março de 1980 .\n",
            "Correto? sim\n"
          ],
          "name": "stdout"
        }
      ]
    },
    {
      "cell_type": "markdown",
      "metadata": {
        "id": "SnLdDsa5YHtq",
        "colab_type": "text"
      },
      "source": [
        "#### Desafio 003\n",
        "Crie um script Python que **leia** *dois números* e tente mostrar a soma entre eles."
      ]
    },
    {
      "cell_type": "code",
      "metadata": {
        "id": "iVFjHl_-YelN",
        "colab_type": "code",
        "outputId": "31ab6c28-5992-48f1-d012-f9492ee1b6e5",
        "colab": {
          "base_uri": "https://localhost:8080/",
          "height": 102
        }
      },
      "source": [
        "print('============= DESAFIO 03 ==============')\n",
        "print('Digite dois números para calcular a soma.')\n",
        "num1 = input('Primeiro número: ')\n",
        "num2 = input('Segundo número: ')\n",
        "result = int(num1) + int(num2)\n",
        "print('A soma é:', result)"
      ],
      "execution_count": 0,
      "outputs": [
        {
          "output_type": "stream",
          "text": [
            "============= DESAFIO 03 ==============\n",
            "Digite dois números para calcular a soma.\n",
            "Primeiro número: 3\n",
            "Segundo número: 9\n",
            "A soma é: 12\n"
          ],
          "name": "stdout"
        }
      ]
    },
    {
      "cell_type": "code",
      "metadata": {
        "id": "AnneuhBGfAhM",
        "colab_type": "code",
        "outputId": "b108a245-9fba-4ebf-da5a-9f0324891310",
        "colab": {
          "base_uri": "https://localhost:8080/",
          "height": 102
        }
      },
      "source": [
        "print('============= DESAFIO 03 ==============')\n",
        "print('Digite dois números para calcular a soma.')\n",
        "n1 = int(input('Primeiro valor: '))\n",
        "n2 = int(input('Segundo valor: '))\n",
        "s = n1 + n2\n",
        "\n",
        "print('A soma entre {} e {}, é igual a: {}!' .format(n1, n2, s))"
      ],
      "execution_count": 0,
      "outputs": [
        {
          "output_type": "stream",
          "text": [
            "============= DESAFIO 03 ==============\n",
            "Digite dois números para calcular a soma.\n",
            "Primeiro valor: 4\n",
            "Segundo valor: 7\n",
            "A soma entre 4 e 7, é igual a: 11!\n"
          ],
          "name": "stdout"
        }
      ]
    },
    {
      "cell_type": "markdown",
      "metadata": {
        "id": "cbM34eFAb6o5",
        "colab_type": "text"
      },
      "source": [
        "# Curso Python #05 - Instalando o PyCharm e o QPython3"
      ]
    },
    {
      "cell_type": "markdown",
      "metadata": {
        "id": "-chEjfo_ccFl",
        "colab_type": "text"
      },
      "source": [
        "Nesta aula, veremos como instalar e configurar a IDE (Integrated Development Environment) Python chamada PyCharm no Windows, MacOS e Linux. Além disso, veremos como programar Python no Android, utilizando o QPython3."
      ]
    },
    {
      "cell_type": "markdown",
      "metadata": {
        "id": "CfKh1KO7eR6_",
        "colab_type": "text"
      },
      "source": [
        "# Curso Python #06 - Tipos Primitivos e Saída de Dados"
      ]
    },
    {
      "cell_type": "markdown",
      "metadata": {
        "id": "816C_I0tebo3",
        "colab_type": "text"
      },
      "source": [
        "Nessa aula, vamos aprender como funcionam os tipos primitivos no Python e as peculiaridades do `int()` `float()` `bool()` e `str()`. Além disso, veremos como fazer as primeiras operações com a função `print()` do Python."
      ]
    }
  ]
}