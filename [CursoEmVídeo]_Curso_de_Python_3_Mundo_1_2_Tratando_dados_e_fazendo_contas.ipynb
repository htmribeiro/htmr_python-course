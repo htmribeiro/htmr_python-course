{
  "nbformat": 4,
  "nbformat_minor": 0,
  "metadata": {
    "colab": {
      "name": "[CursoEmVídeo] Curso de Python 3 - Mundo 1: 2 Tratando dados e fazendo contas.ipynb",
      "provenance": [],
      "collapsed_sections": [
        "CfKh1KO7eR6_",
        "BSgNVAZN6CwR",
        "TYn5Q0GsAAio",
        "CDvFxa12CBqj",
        "Bxi7sDwCEGlu",
        "n9is00WLMiGM",
        "7do52VnAAbbZ",
        "X_jWwWJKOYZL",
        "Kbni1fWVZt8q",
        "DeC3RIrefVuJ",
        "wY5qvq6Xj_6F",
        "mqkW-lIjkj1G",
        "6sUz95AAknBp",
        "2nq5zaYfkqMi",
        "E6d171AlktWd"
      ],
      "toc_visible": true,
      "include_colab_link": true
    },
    "kernelspec": {
      "name": "python3",
      "display_name": "Python 3"
    }
  },
  "cells": [
    {
      "cell_type": "markdown",
      "metadata": {
        "id": "view-in-github",
        "colab_type": "text"
      },
      "source": [
        "<a href=\"https://colab.research.google.com/github/htmribeiro/htmr_python-course/blob/master/%5BCursoEmV%C3%ADdeo%5D_Curso_de_Python_3_Mundo_1_2_Tratando_dados_e_fazendo_contas.ipynb\" target=\"_parent\"><img src=\"https://colab.research.google.com/assets/colab-badge.svg\" alt=\"Open In Colab\"/></a>"
      ]
    },
    {
      "cell_type": "markdown",
      "metadata": {
        "colab_type": "text",
        "id": "YOIQGVhDp7xc"
      },
      "source": [
        "# **CURSO DE PYTHON 3 - MUNDO 1: FUNDAMENTOS**  \n",
        "http://www.cursoemvideo.com\n",
        "\n"
      ]
    },
    {
      "cell_type": "markdown",
      "metadata": {
        "id": "LXg4SHGE3ER5",
        "colab_type": "text"
      },
      "source": [
        "#**2 Tratando dados e fazendo contas**"
      ]
    },
    {
      "cell_type": "markdown",
      "metadata": {
        "id": "CfKh1KO7eR6_",
        "colab_type": "text"
      },
      "source": [
        "## Curso Python #06 - Tipos Primitivos e Saída de Dados"
      ]
    },
    {
      "cell_type": "markdown",
      "metadata": {
        "id": "816C_I0tebo3",
        "colab_type": "text"
      },
      "source": [
        "Nessa aula, vamos aprender como funcionam os tipos primitivos no Python e as peculiaridades do `int()` `float()` `bool()` e `str()`. Além disso, veremos como fazer as primeiras operações com a função `print()` do Python."
      ]
    },
    {
      "cell_type": "markdown",
      "metadata": {
        "id": "BSgNVAZN6CwR",
        "colab_type": "text"
      },
      "source": [
        "### TEORIA"
      ]
    },
    {
      "cell_type": "markdown",
      "metadata": {
        "id": "JerfuL9nD6Mq",
        "colab_type": "text"
      },
      "source": [
        "#### 4 Tipos primitivos básicos\n",
        "\n",
        "`int()` => números inteiros (7, -4, 0, 9875)  \n",
        "`float()` => números com ponto flutuante | número Real (4.5, 0.076, -15.223, 7.0)  \n",
        "`bool()` => tipo booleano (verdadeiro/True ou falso/False)  \n",
        "`str()` => valores tipo caracteres/strings ('Olá', '7.5', '')  \n",
        "\n",
        "\n",
        "\n",
        "```\n",
        "n1 = int(input('Digite um número: '))\n",
        "n2 = int(input('Digite um número: '))\n",
        "s = n1 + n2\n",
        "print('A soma vale', s)\n",
        "```"
      ]
    },
    {
      "cell_type": "markdown",
      "metadata": {
        "id": "JCxoGTeXDtdx",
        "colab_type": "text"
      },
      "source": [
        "#### Nova Sintáxe do método `print()` do Python 3\n",
        "\n",
        "**`.format()`**  \n",
        "\n",
        "É inserido um parte de chaves `{}` que chamamos de \"máscara\" que será substituído pelo método da própria string.\n",
        "\n",
        "```\n",
        "print('A soma vale {}'.format(s))\n",
        "```"
      ]
    },
    {
      "cell_type": "markdown",
      "metadata": {
        "id": "TYn5Q0GsAAio",
        "colab_type": "text"
      },
      "source": [
        "### PRÁTICA"
      ]
    },
    {
      "cell_type": "markdown",
      "metadata": {
        "id": "CDvFxa12CBqj",
        "colab_type": "text"
      },
      "source": [
        "#### Aula6a"
      ]
    },
    {
      "cell_type": "code",
      "metadata": {
        "id": "PB1MpThFCRUa",
        "colab_type": "code",
        "outputId": "a9f0a32d-6185-44c7-97a7-d85c99a2b505",
        "colab": {
          "base_uri": "https://localhost:8080/",
          "height": 51
        }
      },
      "source": [
        "n1 = input('Digite um valor: ')\n",
        "print(type(n1))"
      ],
      "execution_count": 0,
      "outputs": [
        {
          "output_type": "stream",
          "text": [
            "Digite um valor: 5\n",
            "<class 'str'>\n"
          ],
          "name": "stdout"
        }
      ]
    },
    {
      "cell_type": "code",
      "metadata": {
        "id": "LVlB5WgTChDv",
        "colab_type": "code",
        "outputId": "9d7f0f53-f116-4806-d233-3f519589d6a4",
        "colab": {
          "base_uri": "https://localhost:8080/",
          "height": 51
        }
      },
      "source": [
        "n1 = int(input('Digite um valor: '))\n",
        "print(type(n1))"
      ],
      "execution_count": 0,
      "outputs": [
        {
          "output_type": "stream",
          "text": [
            "Digite um valor: 5\n",
            "<class 'int'>\n"
          ],
          "name": "stdout"
        }
      ]
    },
    {
      "cell_type": "code",
      "metadata": {
        "id": "JuWgkgN6CuCs",
        "colab_type": "code",
        "outputId": "fb98b356-e038-4a3c-f317-9f3158155dc7",
        "colab": {
          "base_uri": "https://localhost:8080/",
          "height": 68
        }
      },
      "source": [
        "n1 = int(input('Digite um valor: '))\n",
        "n2 = int(input('Digite outro valor: '))\n",
        "s= n1 + n2\n",
        "print('A soma entre {} e {} vale {}.'.format(n1, n2, s))"
      ],
      "execution_count": 0,
      "outputs": [
        {
          "output_type": "stream",
          "text": [
            "Digite um valor: 6\n",
            "Digite outro valor: 2\n",
            "A soma entre 6 e 2 vale 8.\n"
          ],
          "name": "stdout"
        }
      ]
    },
    {
      "cell_type": "markdown",
      "metadata": {
        "id": "Bxi7sDwCEGlu",
        "colab_type": "text"
      },
      "source": [
        "#### Aula06b"
      ]
    },
    {
      "cell_type": "code",
      "metadata": {
        "id": "I6YjrJ-FFLJH",
        "colab_type": "code",
        "outputId": "288ec2af-a7d4-4c15-fce7-0ac71f270de6",
        "colab": {
          "base_uri": "https://localhost:8080/",
          "height": 51
        }
      },
      "source": [
        "n = bool(input('Digite um valor: '))\n",
        "print(n)"
      ],
      "execution_count": 0,
      "outputs": [
        {
          "output_type": "stream",
          "text": [
            "Digite um valor: 4\n",
            "True\n"
          ],
          "name": "stdout"
        }
      ]
    },
    {
      "cell_type": "markdown",
      "metadata": {
        "id": "-MVHYNovE5gb",
        "colab_type": "text"
      },
      "source": [
        "No exemplo acima, ele verifica se existe algum valor dentro da váriável e retorna que é **verdadeiro**.  \n",
        "Se não for digitado nenhum valor ele retornará **falso**."
      ]
    },
    {
      "cell_type": "code",
      "metadata": {
        "id": "N-m9DMBSEK8x",
        "colab_type": "code",
        "outputId": "a17a24c1-dcf5-43f0-a991-4d9cef13d462",
        "colab": {
          "base_uri": "https://localhost:8080/",
          "height": 51
        }
      },
      "source": [
        "n = float(input('Digite um valor: '))\n",
        "print(n)"
      ],
      "execution_count": 0,
      "outputs": [
        {
          "output_type": "stream",
          "text": [
            "Digite um valor: 4\n",
            "4.0\n"
          ],
          "name": "stdout"
        }
      ]
    },
    {
      "cell_type": "markdown",
      "metadata": {
        "id": "PE_VWDSpF4Bx",
        "colab_type": "text"
      },
      "source": [
        "No exemplo acima, será retornado o valor inteiro que digitado, porém com o ponto flutuante."
      ]
    },
    {
      "cell_type": "code",
      "metadata": {
        "id": "87_EBGr7GbSt",
        "colab_type": "code",
        "outputId": "9486719d-a1a3-498e-bd9c-a051113b104a",
        "colab": {
          "base_uri": "https://localhost:8080/",
          "height": 51
        }
      },
      "source": [
        "n = str(input('Digite um valor: '))\n",
        "print(type(n))"
      ],
      "execution_count": 0,
      "outputs": [
        {
          "output_type": "stream",
          "text": [
            "Digite um valor: 6\n",
            "<class 'str'>\n"
          ],
          "name": "stdout"
        }
      ]
    },
    {
      "cell_type": "markdown",
      "metadata": {
        "id": "BJVz9RMxG44v",
        "colab_type": "text"
      },
      "source": [
        "No exemplo acima, foi digitado um número porém se consultamos o `type()` desse valor, ele nos informa que é uma string."
      ]
    },
    {
      "cell_type": "code",
      "metadata": {
        "id": "B9zIv4a5HRG9",
        "colab_type": "code",
        "outputId": "8d6983ce-853b-469e-83bc-241c5aa25141",
        "colab": {
          "base_uri": "https://localhost:8080/",
          "height": 51
        }
      },
      "source": [
        "n = input('Digite algo: ')\n",
        "print(n.isnumeric())"
      ],
      "execution_count": 0,
      "outputs": [
        {
          "output_type": "stream",
          "text": [
            "Digite um valor: 4.0\n",
            "False\n"
          ],
          "name": "stdout"
        }
      ]
    },
    {
      "cell_type": "markdown",
      "metadata": {
        "id": "jjO0zgk_IpIU",
        "colab_type": "text"
      },
      "source": [
        "No exemplo acima, retorna **verdadeiro** se o que foi armazenado na variável, é possível converter em valores numéricos, caso contrário retornará **falso**."
      ]
    },
    {
      "cell_type": "code",
      "metadata": {
        "id": "MYEpaTQIJu4E",
        "colab_type": "code",
        "outputId": "032d8afc-ba06-4f90-b5de-a6db74c2e401",
        "colab": {
          "base_uri": "https://localhost:8080/",
          "height": 51
        }
      },
      "source": [
        "n = input('Digite algo: ')\n",
        "print(n.isalpha())"
      ],
      "execution_count": 0,
      "outputs": [
        {
          "output_type": "stream",
          "text": [
            "Digitte algo: 123\n",
            "False\n"
          ],
          "name": "stdout"
        }
      ]
    },
    {
      "cell_type": "markdown",
      "metadata": {
        "id": "M4zMczwAK2wv",
        "colab_type": "text"
      },
      "source": [
        "No exemplo acima, retorna **True** se todos os caracteres em **n** forem alfabéticos e houver pelo menos um caractere em **n**, **False** caso contrário."
      ]
    },
    {
      "cell_type": "code",
      "metadata": {
        "id": "XU9mIDvfLb-P",
        "colab_type": "code",
        "outputId": "0e164392-8fed-4f98-f2ed-8a1c9b4b4e85",
        "colab": {
          "base_uri": "https://localhost:8080/",
          "height": 51
        }
      },
      "source": [
        "n = input('Digite algo: ')\n",
        "print(n.isalnum())"
      ],
      "execution_count": 0,
      "outputs": [
        {
          "output_type": "stream",
          "text": [
            "Digite algo: abc123\n",
            "True\n"
          ],
          "name": "stdout"
        }
      ]
    },
    {
      "cell_type": "markdown",
      "metadata": {
        "id": "cz_A5svoLxoo",
        "colab_type": "text"
      },
      "source": [
        "No exemplo acima, retorna **True** se todos os caracteres em **n** forem alfanuméricos e houver pelo menos um carctere em **n**, **False** caso contrário."
      ]
    },
    {
      "cell_type": "markdown",
      "metadata": {
        "id": "n9is00WLMiGM",
        "colab_type": "text"
      },
      "source": [
        "### DESAFIOS"
      ]
    },
    {
      "cell_type": "markdown",
      "metadata": {
        "id": "7do52VnAAbbZ",
        "colab_type": "text"
      },
      "source": [
        "#### Desafio 003\n",
        "Crie um script Python que **leia** *dois números* e tente mostrar a soma entre eles."
      ]
    },
    {
      "cell_type": "code",
      "metadata": {
        "id": "yh--FnBzAhTZ",
        "colab_type": "code",
        "outputId": "5104e932-b5c8-4178-f31a-9761b95fa49a",
        "colab": {
          "base_uri": "https://localhost:8080/",
          "height": 102
        }
      },
      "source": [
        "print('============= DESAFIO 03 ==============')\n",
        "print('Digite dois números para calcular a soma.')\n",
        "n1 = int(input('Digite o primeiro valor: '))\n",
        "n2 = int(input('Digite o segundo valor: '))\n",
        "\n",
        "s = n1 + n2\n",
        "\n",
        "print('A soma entre o primeiro valor ({}) e o segundo valor ({}) é igual a {}.'.format(n1, n2, s))"
      ],
      "execution_count": 0,
      "outputs": [
        {
          "output_type": "stream",
          "text": [
            "============= DESAFIO 03 ==============\n",
            "Digite dois números para calcular a soma.\n",
            "Digite o primeiro valor: 8\n",
            "Digite o segundo valor: 16\n",
            "A soma entre o primeiro valor (8) e o segundo valor (16) é igual a 24.\n"
          ],
          "name": "stdout"
        }
      ]
    },
    {
      "cell_type": "markdown",
      "metadata": {
        "id": "X_jWwWJKOYZL",
        "colab_type": "text"
      },
      "source": [
        "#### Desafio 004\n",
        "Faça um programa que leia algo pelo teclado e mostre na tela o seu tipo primitivo e todas as informações possíveis sobre ele. (utilizando os métodos \"is\")"
      ]
    },
    {
      "cell_type": "code",
      "metadata": {
        "id": "OW4YyH2Egp63",
        "colab_type": "code",
        "outputId": "2e4c4379-f548-4232-d19b-b1bf3de61058",
        "colab": {
          "base_uri": "https://localhost:8080/",
          "height": 85
        }
      },
      "source": [
        "print('============= DESAFIO 04 ==============')\n",
        "print('Digite qualquer informação.')\n",
        "n = input('Digite algo: ')\n",
        "print('O conteúdo {} digitado é Alfanúmérico? {}'.format(n, n.isalnum()))\n"
      ],
      "execution_count": 0,
      "outputs": [
        {
          "output_type": "stream",
          "text": [
            "============= DESAFIO 04 ==============\n",
            "Digite qualquer informação.\n",
            "Digite algo: FUB-6502\n",
            "O conteúdo FUB-6502 digitado é Alfanúmérico? False\n"
          ],
          "name": "stdout"
        }
      ]
    },
    {
      "cell_type": "markdown",
      "metadata": {
        "id": "sUld35m2cD3k",
        "colab_type": "text"
      },
      "source": [
        "## Curso Python #07 - Operadores Aritméticos"
      ]
    },
    {
      "cell_type": "markdown",
      "metadata": {
        "id": "Kh0PateVjHUu",
        "colab_type": "text"
      },
      "source": [
        "Nessa aula, vamos aprender quais são os operadores aritméticos do Python e também sua ordem de precedência dentro de expressões matemáticas. Veja como funcionam os operadores de adição, subtração, multiplicação, divisão, exponenciação e quociente na linguagem Python."
      ]
    },
    {
      "cell_type": "markdown",
      "metadata": {
        "id": "-D77DRYSceN5",
        "colab_type": "text"
      },
      "source": [
        "### TEORIA\n"
      ]
    },
    {
      "cell_type": "markdown",
      "metadata": {
        "id": "8VT64QPJMkwy",
        "colab_type": "text"
      },
      "source": [
        "#### Operadores Aritméticos\n",
        "\n",
        "**`+`** Adição &nbsp; &nbsp; &nbsp; &nbsp; &nbsp; &nbsp; &nbsp; |&nbsp; &nbsp; **` **`** Potência ou Exponenciação  \n",
        "**`-`** Subtração &nbsp; &nbsp; &nbsp; &nbsp; |&nbsp; &nbsp; **`//`** Divisão Inteira  \n",
        "**`*`** Multiplicação &nbsp; | &nbsp; &nbsp; **`%`** Mod ou Resto da Divisão  \n",
        "**`/`** Divisão  \n",
        "\n",
        "**Exemplos:**  \n",
        "\n",
        "&nbsp; `5 + 2 == 7` &nbsp; &nbsp; &nbsp; &nbsp; | &nbsp; &nbsp; `5 ** 2 == 25`  \n",
        "&nbsp; `5 - 2 == 3` &nbsp; &nbsp; &nbsp; &nbsp; | &nbsp; &nbsp; `5 // 2 == 2`  \n",
        "&nbsp; `5 * 2 == 10` &nbsp; &nbsp; &nbsp; | &nbsp; &nbsp; `5 % 2 == 1`"
      ]
    },
    {
      "cell_type": "markdown",
      "metadata": {
        "id": "NKV4iQnkMaIG",
        "colab_type": "text"
      },
      "source": [
        "#### Ordem de Precedência\n",
        "\n",
        "|Ordem|Símbolo|Operador|\n",
        "|:-|:-:|:-|\n",
        "|1º|**`( )`**|Parênteses|\n",
        "|2º|**` **`**|Potência ou Exponência|\n",
        "|3º|**`*`**|Multiplicação|\n",
        "|| **`/`**|Divisão|\n",
        "|| **`//`**|Divisão Inteira|\n",
        "|| **`%`**|Mod ou Resto da divisão|\n",
        "|4º|**`+`**|Soma|\n",
        "|| **`-`**|Subtração|  \n",
        "\n",
        "**Exemplos**  \n",
        "`5 + 3 * 2 == 11`  \n",
        "`3 * 5 + 4 ** 2 == 31`  \n",
        "`3 * (5 + 4) ** 2 == 243`"
      ]
    },
    {
      "cell_type": "markdown",
      "metadata": {
        "id": "H16GkKZF9k1B",
        "colab_type": "text"
      },
      "source": [
        "### PRÁTICA"
      ]
    },
    {
      "cell_type": "markdown",
      "metadata": {
        "id": "J16x7aGETruV",
        "colab_type": "text"
      },
      "source": [
        "#### Aula07a"
      ]
    },
    {
      "cell_type": "code",
      "metadata": {
        "id": "4m2nn7Y7TwKj",
        "colab_type": "code",
        "colab": {}
      },
      "source": [
        "#\n",
        "5+3*2"
      ],
      "execution_count": 0,
      "outputs": []
    },
    {
      "cell_type": "code",
      "metadata": {
        "id": "CWjDW7mzUAEo",
        "colab_type": "code",
        "colab": {}
      },
      "source": [
        "#\n",
        "5**2"
      ],
      "execution_count": 0,
      "outputs": []
    },
    {
      "cell_type": "code",
      "metadata": {
        "id": "NK0woUu4UDY8",
        "colab_type": "code",
        "outputId": "cab89a47-4bae-4fb6-bfaa-559148b881c4",
        "colab": {
          "base_uri": "https://localhost:8080/",
          "height": 34
        }
      },
      "source": [
        "#\n",
        "19//2"
      ],
      "execution_count": 0,
      "outputs": [
        {
          "output_type": "execute_result",
          "data": {
            "text/plain": [
              "9"
            ]
          },
          "metadata": {
            "tags": []
          },
          "execution_count": 2
        }
      ]
    },
    {
      "cell_type": "code",
      "metadata": {
        "id": "Z2voIssXUJOF",
        "colab_type": "code",
        "colab": {}
      },
      "source": [
        "#\n",
        "19/2"
      ],
      "execution_count": 0,
      "outputs": []
    },
    {
      "cell_type": "code",
      "metadata": {
        "id": "JT8fHpFVUQ4C",
        "colab_type": "code",
        "outputId": "966acfef-9250-47cd-c437-96e1096733cd",
        "colab": {
          "base_uri": "https://localhost:8080/",
          "height": 54
        }
      },
      "source": [
        "#\n",
        "365**522"
      ],
      "execution_count": 0,
      "outputs": [
        {
          "output_type": "execute_result",
          "data": {
            "text/plain": [
              "328757179819813422897342196080764612107983831743389023624405255670690832060848221824306724753890685373501884093100548274222202663446608298512276776135446705469491814539803873642610394430773633554403355416974854007035755228889612424513374927559842603441418654104461280145637681789303089629527662565782973169473632613892227202558852797417890403781298627935060943131553207847071012503628934101032568553492005722471235231175395508478579666737993774691221615401882520433870241816456538902550621493799034888700490988180773993600803740261912173392899204969073991772519053632900131878746604281127190866631915762608689816806771836872415722791565149632176594565096318733265520269878534562068905210887036910677779213731152584356530644171389622698260088337435627254504382786190234343066196447449762641236425340982756792144082378252527121431558389772373943718349561294131169636736255312634653334887203122825969534260679785514411488205619827582773094708191924556184435978863549262949792896533760832798285965554733612854129717778632012055700151978056791790524010052527327495001179716488946524725767902738384512922791579787066666412111532082155241351220020125791273120398070293320004319283837665370506925822282513313193463726035323295851514647384470993862048857953573304447474731813602449983852690376567914012245243127186000720030278898775577545166015625"
            ]
          },
          "metadata": {
            "tags": []
          },
          "execution_count": 1
        }
      ]
    },
    {
      "cell_type": "code",
      "metadata": {
        "id": "PXRWLkZXUWY8",
        "colab_type": "code",
        "colab": {}
      },
      "source": [
        "#\n",
        "18%2"
      ],
      "execution_count": 0,
      "outputs": []
    },
    {
      "cell_type": "code",
      "metadata": {
        "id": "wTsMBbrcUayq",
        "colab_type": "code",
        "colab": {}
      },
      "source": [
        "#\n",
        "122%3"
      ],
      "execution_count": 0,
      "outputs": []
    },
    {
      "cell_type": "code",
      "metadata": {
        "id": "-KhhpsLSUebQ",
        "colab_type": "code",
        "outputId": "e311f963-392f-4124-cdb7-f2dfd5a57cf1",
        "colab": {
          "base_uri": "https://localhost:8080/",
          "height": 34
        }
      },
      "source": [
        "#\n",
        "4**3"
      ],
      "execution_count": 0,
      "outputs": [
        {
          "output_type": "execute_result",
          "data": {
            "text/plain": [
              "64"
            ]
          },
          "metadata": {
            "tags": []
          },
          "execution_count": 7
        }
      ]
    },
    {
      "cell_type": "code",
      "metadata": {
        "id": "fGgw5lHKUhtZ",
        "colab_type": "code",
        "outputId": "19361097-9d39-4221-ad92-51d130c8db47",
        "colab": {
          "base_uri": "https://localhost:8080/",
          "height": 34
        }
      },
      "source": [
        "#@markdown Da mesma forma podemos utilizar o função interna de potência `Pow()`.\n",
        "#@markdown Porém, perderemos a ordem de precedência no cálculo da equação.\n",
        "\n",
        "pow(4,3)"
      ],
      "execution_count": 0,
      "outputs": [
        {
          "output_type": "execute_result",
          "data": {
            "text/plain": [
              "64"
            ]
          },
          "metadata": {
            "tags": []
          },
          "execution_count": 1
        }
      ]
    },
    {
      "cell_type": "code",
      "metadata": {
        "id": "TNinccGWcqql",
        "colab_type": "code",
        "outputId": "6e62a21a-4d14-4c3d-cf58-a4df1a67ba31",
        "colab": {
          "base_uri": "https://localhost:8080/",
          "height": 34
        }
      },
      "source": [
        "9**2"
      ],
      "execution_count": 0,
      "outputs": [
        {
          "output_type": "execute_result",
          "data": {
            "text/plain": [
              "81"
            ]
          },
          "metadata": {
            "tags": []
          },
          "execution_count": 8
        }
      ]
    },
    {
      "cell_type": "markdown",
      "metadata": {
        "id": "0-jdJUtretgA",
        "colab_type": "text"
      },
      "source": [
        "Para calcular a **Raíz Quadrada** de um número, podemos elevar o número à **potência** de `0,5`."
      ]
    },
    {
      "cell_type": "code",
      "metadata": {
        "id": "p5KIsosmauMt",
        "colab_type": "code",
        "outputId": "4ac64713-ff69-4856-9714-177c3d56fdc6",
        "colab": {
          "base_uri": "https://localhost:8080/",
          "height": 34
        }
      },
      "source": [
        "81**(1/2)"
      ],
      "execution_count": 0,
      "outputs": [
        {
          "output_type": "execute_result",
          "data": {
            "text/plain": [
              "9.0"
            ]
          },
          "metadata": {
            "tags": []
          },
          "execution_count": 6
        }
      ]
    },
    {
      "cell_type": "code",
      "metadata": {
        "id": "dRPWARt4cizM",
        "colab_type": "code",
        "outputId": "fbdc25c4-ac45-443b-ab73-f5294bb3eda6",
        "colab": {
          "base_uri": "https://localhost:8080/",
          "height": 34
        }
      },
      "source": [
        "25**(1/2)"
      ],
      "execution_count": 0,
      "outputs": [
        {
          "output_type": "execute_result",
          "data": {
            "text/plain": [
              "5.0"
            ]
          },
          "metadata": {
            "tags": []
          },
          "execution_count": 9
        }
      ]
    },
    {
      "cell_type": "markdown",
      "metadata": {
        "id": "BVNfZ9uajhny",
        "colab_type": "text"
      },
      "source": [
        "Para calcular a **Raíz Cúbica** de um número.\n",
        "Número elevado à `0,333`."
      ]
    },
    {
      "cell_type": "code",
      "metadata": {
        "colab_type": "code",
        "outputId": "ed09af91-9c70-40fd-a254-8ab6a0db5f0c",
        "id": "XEFTIh5Kgcng",
        "colab": {
          "base_uri": "https://localhost:8080/",
          "height": 34
        }
      },
      "source": [
        "127**(1/3)"
      ],
      "execution_count": 0,
      "outputs": [
        {
          "output_type": "execute_result",
          "data": {
            "text/plain": [
              "5.026525695313479"
            ]
          },
          "metadata": {
            "tags": []
          },
          "execution_count": 14
        }
      ]
    },
    {
      "cell_type": "markdown",
      "metadata": {
        "id": "UiWduwASFlh-",
        "colab_type": "text"
      },
      "source": [
        "\n",
        "\n",
        "---\n",
        "\n"
      ]
    },
    {
      "cell_type": "markdown",
      "metadata": {
        "id": "UACtIajUZYYS",
        "colab_type": "text"
      },
      "source": [
        "#### Aula07b"
      ]
    },
    {
      "cell_type": "markdown",
      "metadata": {
        "id": "nEWReCBrMPVs",
        "colab_type": "text"
      },
      "source": [
        "Alguns exemplos de **Operadores Aritméticos** trabalhando com **strings**."
      ]
    },
    {
      "cell_type": "code",
      "metadata": {
        "id": "_5wDX2ThDO_i",
        "colab_type": "code",
        "outputId": "40686608-6ee8-4caf-d7bb-c568c4e30381",
        "colab": {
          "base_uri": "https://localhost:8080/",
          "height": 34
        }
      },
      "source": [
        "'Oi'+'Olá'"
      ],
      "execution_count": 0,
      "outputs": [
        {
          "output_type": "execute_result",
          "data": {
            "text/plain": [
              "'OiOlá'"
            ]
          },
          "metadata": {
            "tags": []
          },
          "execution_count": 1
        }
      ]
    },
    {
      "cell_type": "code",
      "metadata": {
        "id": "npfVPOggDb0f",
        "colab_type": "code",
        "outputId": "b3acdbfc-b885-4e34-cc6e-7b08c04f9b33",
        "colab": {
          "base_uri": "https://localhost:8080/",
          "height": 34
        }
      },
      "source": [
        "'Oi'*5"
      ],
      "execution_count": 0,
      "outputs": [
        {
          "output_type": "execute_result",
          "data": {
            "text/plain": [
              "'OiOiOiOiOi'"
            ]
          },
          "metadata": {
            "tags": []
          },
          "execution_count": 2
        }
      ]
    },
    {
      "cell_type": "code",
      "metadata": {
        "id": "6tnGGOAQDi6J",
        "colab_type": "code",
        "outputId": "9591a967-3955-443a-87be-4c441ff645d7",
        "colab": {
          "base_uri": "https://localhost:8080/",
          "height": 34
        }
      },
      "source": [
        "'='*20"
      ],
      "execution_count": 0,
      "outputs": [
        {
          "output_type": "execute_result",
          "data": {
            "text/plain": [
              "'===================='"
            ]
          },
          "metadata": {
            "tags": []
          },
          "execution_count": 3
        }
      ]
    },
    {
      "cell_type": "markdown",
      "metadata": {
        "id": "qEX1e2WZHUny",
        "colab_type": "text"
      },
      "source": [
        "Exemplos de replicar informações utilizando o método `print()`."
      ]
    },
    {
      "cell_type": "code",
      "metadata": {
        "id": "0Ve03T5RDmql",
        "colab_type": "code",
        "outputId": "b1b19c33-52f1-48c3-b037-43108aad62b3",
        "colab": {
          "base_uri": "https://localhost:8080/",
          "height": 34
        }
      },
      "source": [
        "#Funciona somente no console\n",
        "print('='*20)"
      ],
      "execution_count": 0,
      "outputs": [
        {
          "output_type": "stream",
          "text": [
            "====================\n"
          ],
          "name": "stdout"
        }
      ]
    },
    {
      "cell_type": "code",
      "metadata": {
        "id": "8y2WShBcD5oa",
        "colab_type": "code",
        "outputId": "8fad14d7-ca86-406f-d65b-1ae3a6263afc",
        "colab": {
          "base_uri": "https://localhost:8080/",
          "height": 51
        }
      },
      "source": [
        "nome=input('Qual é seu nome? ')\n",
        "print('Prazer em te conhecer {}!'.format(nome))"
      ],
      "execution_count": 0,
      "outputs": [
        {
          "output_type": "stream",
          "text": [
            "Qual é seu nome? Hamilton\n",
            "Prazer em te conhecer Hamilton!\n"
          ],
          "name": "stdout"
        }
      ]
    },
    {
      "cell_type": "markdown",
      "metadata": {
        "id": "dwQBEwuLNJ7F",
        "colab_type": "text"
      },
      "source": [
        "Com base no exemplo acima, vamos fazer com que o texto digitado fique posicionado em uma máscara de 20 caracteres. "
      ]
    },
    {
      "cell_type": "code",
      "metadata": {
        "id": "sBIrgWSRNOU9",
        "colab_type": "code",
        "outputId": "cfd0b6b4-2acd-4bc2-b894-ba2719e7211c",
        "colab": {
          "base_uri": "https://localhost:8080/",
          "height": 51
        }
      },
      "source": [
        "# utilizando o símbolo de **` :`** dois-pontos, \n",
        "# o texto ficará alinhado a esquerda por default.\n",
        "nome=input('Qual é seu nome? ')\n",
        "print('Prazer em te conhecer ({:20})!'.format(nome))"
      ],
      "execution_count": 0,
      "outputs": [
        {
          "output_type": "stream",
          "text": [
            "Qual é seu nome? Hamilton\n",
            "Prazer em te conhecer (Hamilton            )!\n"
          ],
          "name": "stdout"
        }
      ]
    },
    {
      "cell_type": "code",
      "metadata": {
        "colab_type": "code",
        "outputId": "a117b3f4-3d82-4a70-965d-68d94b6efb62",
        "id": "K1VJIzPfP0iZ",
        "colab": {
          "base_uri": "https://localhost:8080/",
          "height": 51
        }
      },
      "source": [
        "# utilizando o símbolo de **` :>`** dois-pontos e sinal de maior, \n",
        "# o texto ficará alinhado a direita.\n",
        "nome=input('Qual é seu nome? ')\n",
        "print('Prazer em te conhecer ({:>20})!'.format(nome))"
      ],
      "execution_count": 0,
      "outputs": [
        {
          "output_type": "stream",
          "text": [
            "Qual é seu nome? Hamilton\n",
            "Prazer em te conhecer (            Hamilton)!\n"
          ],
          "name": "stdout"
        }
      ]
    },
    {
      "cell_type": "code",
      "metadata": {
        "colab_type": "code",
        "outputId": "1784bbd4-d306-4a43-edaf-2cf8dcf94565",
        "id": "ui2aJ9WMRLS5",
        "colab": {
          "base_uri": "https://localhost:8080/",
          "height": 51
        }
      },
      "source": [
        "# utilizando o símbolo de **` :<`** dois-pontos e sinal de menor, \n",
        "# o texto ficará alinhado a esquerda.\n",
        "nome=input('Qual é seu nome? ')\n",
        "print('Prazer em te conhecer ({:<20})!'.format(nome))"
      ],
      "execution_count": 0,
      "outputs": [
        {
          "output_type": "stream",
          "text": [
            "Qual é seu nome? Hamilton\n",
            "Prazer em te conhecer (Hamilton            )!\n"
          ],
          "name": "stdout"
        }
      ]
    },
    {
      "cell_type": "code",
      "metadata": {
        "colab_type": "code",
        "outputId": "7857601b-3cc3-4159-ebb0-8acc60c7c465",
        "id": "Ez--JSw9RXc3",
        "colab": {
          "base_uri": "https://localhost:8080/",
          "height": 51
        }
      },
      "source": [
        "# utilizando o símbolo de **` :^`** dois-pontos e ascento circunflexo, \n",
        "# o texto ficará alinhado no centro.\n",
        "nome=input('Qual é seu nome? ')\n",
        "print('Prazer em te conhecer ({:^20})!'.format(nome))"
      ],
      "execution_count": 0,
      "outputs": [
        {
          "output_type": "stream",
          "text": [
            "Qual é seu nome? Hamilton\n",
            "Prazer em te conhecer (      Hamilton      )!\n"
          ],
          "name": "stdout"
        }
      ]
    },
    {
      "cell_type": "code",
      "metadata": {
        "colab_type": "code",
        "outputId": "57369553-0c41-4116-e554-914817040060",
        "id": "ZtNYVSgmRxu-",
        "colab": {
          "base_uri": "https://localhost:8080/",
          "height": 51
        }
      },
      "source": [
        "# utilizando o símbolo de **` :=^`** dois-pontos, igual (ou qlq outro símbolo)\n",
        "# e ascento circunflexo, o texto ficará alinhado no centro e o símbolo utilizado\n",
        "# preencherá os demais espaços até completar os 20 caracteres.\n",
        "nome=input('Qual é seu nome? ')\n",
        "print('Prazer em te conhecer ({:=^20})!'.format(nome))"
      ],
      "execution_count": 0,
      "outputs": [
        {
          "output_type": "stream",
          "text": [
            "Qual é seu nome? Hamilton\n",
            "Prazer em te conhecer (======Hamilton======)!\n"
          ],
          "name": "stdout"
        }
      ]
    },
    {
      "cell_type": "markdown",
      "metadata": {
        "id": "kI-kpiwATpPY",
        "colab_type": "text"
      },
      "source": [
        "\n",
        "\n",
        "---\n",
        "\n"
      ]
    },
    {
      "cell_type": "markdown",
      "metadata": {
        "id": "yCznW-fqZAkP",
        "colab_type": "text"
      },
      "source": [
        "#### Aula07c"
      ]
    },
    {
      "cell_type": "code",
      "metadata": {
        "id": "_uII_B3MSm1j",
        "colab_type": "code",
        "outputId": "a90020dd-9ad1-4910-a1ae-5f7400596372",
        "colab": {
          "base_uri": "https://localhost:8080/",
          "height": 85
        }
      },
      "source": [
        "n1 = int(input('Um valor:'))\n",
        "n2 = int(input('Outro valor: '))\n",
        "s = n1 + n2\n",
        "m = n1 * n2\n",
        "d = n1 / n2\n",
        "di = n1 // n2\n",
        "e = n1 ** n2\n",
        "print('A soma é {}, o produto é {} e a divisão é {:.3f}'.format(s, m, d))\n",
        "print('A divisão inteira é {} e a potência é {}'.format(di, e))"
      ],
      "execution_count": 0,
      "outputs": [
        {
          "output_type": "stream",
          "text": [
            "Um valor:4\n",
            "Outro valor: 3\n",
            "A soma é 7, o produto é 12 e a divisão é 1.333\n",
            "A divisão inteira é 1 e a potência é 64\n"
          ],
          "name": "stdout"
        }
      ]
    },
    {
      "cell_type": "markdown",
      "metadata": {
        "id": "rWn68DL4U9br",
        "colab_type": "text"
      },
      "source": [
        "No exemplo acima formatamos as casas decimais da **divisão** para mostrar apenas 3 casas decimais após o ponto flutuante **`{:.3f}`**."
      ]
    },
    {
      "cell_type": "code",
      "metadata": {
        "colab_type": "code",
        "outputId": "813e3386-3a74-463e-d568-a1bdb278d117",
        "id": "VYQvJEANV7fn",
        "colab": {
          "base_uri": "https://localhost:8080/",
          "height": 68
        }
      },
      "source": [
        "n1 = int(input('Um valor:'))\n",
        "n2 = int(input('Outro valor: '))\n",
        "s = n1 + n2\n",
        "m = n1 * n2\n",
        "d = n1 / n2\n",
        "di = n1 // n2\n",
        "e = n1 ** n2\n",
        "print('A soma é {}, o produto é {}, a divisão é {:.3f}'.format(s, m, d), end=', ')\n",
        "print('a divisão inteira é {} e a potência é {}.'.format(di, e))"
      ],
      "execution_count": 0,
      "outputs": [
        {
          "output_type": "stream",
          "text": [
            "Um valor:4\n",
            "Outro valor: 3\n",
            "A soma é 7, o produto é 12, a divisão é 1.333, a divisão inteira é 1 e a potência é 64.\n"
          ],
          "name": "stdout"
        }
      ]
    },
    {
      "cell_type": "markdown",
      "metadata": {
        "id": "NnnqGkNNWDp-",
        "colab_type": "text"
      },
      "source": [
        "No exemplo acima, utilizamos **`end=''`**, para **não quebra** a linha do primeiro para o segundo `print()`."
      ]
    },
    {
      "cell_type": "code",
      "metadata": {
        "colab_type": "code",
        "outputId": "042df79c-7543-4ac2-8bd9-10995fd591ae",
        "id": "8rsStfhaXgfr",
        "colab": {
          "base_uri": "https://localhost:8080/",
          "height": 153
        }
      },
      "source": [
        "n1 = int(input('Um valor:'))\n",
        "n2 = int(input('Outro valor: '))\n",
        "s = n1 + n2\n",
        "m = n1 * n2\n",
        "d = n1 / n2\n",
        "di = n1 // n2\n",
        "e = n1 ** n2\n",
        "print('\\nA soma é {}, \\nO produto é {}, \\nA divisão é {:.3f}'.format(s, m, d), end=', ')\n",
        "print('\\nA divisão inteira é {}, \\nA potência é {}.'.format(di, e))"
      ],
      "execution_count": 0,
      "outputs": [
        {
          "output_type": "stream",
          "text": [
            "Um valor:4\n",
            "Outro valor: 3\n",
            "\n",
            "A soma é 7, \n",
            "O produto é 12, \n",
            "A divisão é 1.333, \n",
            "A divisão inteira é 1, \n",
            "A potência é 64.\n"
          ],
          "name": "stdout"
        }
      ]
    },
    {
      "cell_type": "markdown",
      "metadata": {
        "id": "okz7PNblX9jR",
        "colab_type": "text"
      },
      "source": [
        "No exemplo acima, utilizamos **`\\n`**, para **quebrar** a linha na exibição do `print()`."
      ]
    },
    {
      "cell_type": "markdown",
      "metadata": {
        "id": "JhwW6nVNZjmF",
        "colab_type": "text"
      },
      "source": [
        "### DESAFIOS"
      ]
    },
    {
      "cell_type": "markdown",
      "metadata": {
        "id": "Kbni1fWVZt8q",
        "colab_type": "text"
      },
      "source": [
        "#### Desafio 005 - Done\n",
        "Faça um programa que **leia** um **número Inteiro** e **mostre** na tela o seu ***sucessor*** e seu ***antecessor***."
      ]
    },
    {
      "cell_type": "code",
      "metadata": {
        "id": "MYu-_Ec1aTs8",
        "colab_type": "code",
        "outputId": "31533647-0721-45eb-e5f0-b7fa2f0ad1f2",
        "colab": {
          "base_uri": "https://localhost:8080/",
          "height": 68
        }
      },
      "source": [
        "n = int(input('Digite um número: '))\n",
        "suc = n + 1\n",
        "ant = n - 1\n",
        "print('O sucessor de ({}) é {} \\nO antecessor de ({}) é {}'.format(n, suc, n, ant))"
      ],
      "execution_count": 0,
      "outputs": [
        {
          "output_type": "stream",
          "text": [
            "Digite um número: 21\n",
            "O sucessor de (21) é 22 \n",
            "O antecessor de (21) é 20\n"
          ],
          "name": "stdout"
        }
      ]
    },
    {
      "cell_type": "markdown",
      "metadata": {
        "id": "DeC3RIrefVuJ",
        "colab_type": "text"
      },
      "source": [
        "#### Desafio 006 - Done\n",
        "Crie um algoritmo que **leia** um número e **mostre** o seu **dobro**, **triplo** e **raiz quadrada**."
      ]
    },
    {
      "cell_type": "code",
      "metadata": {
        "id": "OYl642gWfoTQ",
        "colab_type": "code",
        "outputId": "4029f71a-3796-44bf-86db-62a62170e609",
        "colab": {
          "base_uri": "https://localhost:8080/",
          "height": 102
        }
      },
      "source": [
        "n = int(input('Digite um número: '))\n",
        "d = n * 2\n",
        "t = n * 3\n",
        "sqrt = n ** (1/2)\n",
        "print('\\nO dobro de {} é {} \\nO triplo de {} é {} \\nA raiz de {} é {:.4f}'.format(n, d, n, t, n, sqrt))"
      ],
      "execution_count": 0,
      "outputs": [
        {
          "output_type": "stream",
          "text": [
            "Digite um número: 3\n",
            "\n",
            "O dobro de 3 é 9 \n",
            "O triplo de 3 é 27 \n",
            "A raiz de 3 é 1.7321\n"
          ],
          "name": "stdout"
        }
      ]
    },
    {
      "cell_type": "markdown",
      "metadata": {
        "id": "wY5qvq6Xj_6F",
        "colab_type": "text"
      },
      "source": [
        "#### Desafio 007 - Done\n",
        "Desenvolva um programa que **leia** as **duas notas** de um aluno, calcule e **mostre** a sua **média**.  \n",
        "[Dica] Ordem de prescedência."
      ]
    },
    {
      "cell_type": "code",
      "metadata": {
        "id": "EoKTafFO3kHi",
        "colab_type": "code",
        "outputId": "9f1cb323-f21d-433c-8ec6-4820589f9e19",
        "colab": {
          "base_uri": "https://localhost:8080/",
          "height": 68
        }
      },
      "source": [
        "n1 = float(input('Digite a primeira nota: '))\n",
        "n2 = float(input('Digite a segunda nota: '))\n",
        "\n",
        "m = (n1 + n2)/2\n",
        "\n",
        "print('A média entre as notas {} e {}: {}'.format(n1, n2, m))"
      ],
      "execution_count": 0,
      "outputs": [
        {
          "output_type": "stream",
          "text": [
            "Digite a primeira nota: 6.5\n",
            "Digite a segunda nota: 9.2\n",
            "A média entre as notas 6.5 e 9.2: 7.85\n"
          ],
          "name": "stdout"
        }
      ]
    },
    {
      "cell_type": "markdown",
      "metadata": {
        "id": "mqkW-lIjkj1G",
        "colab_type": "text"
      },
      "source": [
        "#### Desafio 008 - Done\n",
        "Escreva um programa que **leia** um **valor** em **metros** e exiba **convertido** em **centimetros** e **milímetros**."
      ]
    },
    {
      "cell_type": "code",
      "metadata": {
        "id": "l3ayqBbV9AEl",
        "colab_type": "code",
        "outputId": "1f1f2235-56ad-4797-e3cd-38147169ad4e",
        "colab": {
          "base_uri": "https://localhost:8080/",
          "height": 68
        }
      },
      "source": [
        "md = float(input('Informe a medida em metros: '))\n",
        "\n",
        "cm = int(md * 100)\n",
        "mm = int(md * 1000)\n",
        "\n",
        "print('{} m equivale à {} cm.'.format(md, cm))\n",
        "print('{} m equivale à {} mm.'.format(md, mm))"
      ],
      "execution_count": 0,
      "outputs": [
        {
          "output_type": "stream",
          "text": [
            "Informe a medida em metros: 1.90\n",
            "1.9 m equivale à 190 cm.\n",
            "1.9 m equivale à 1900 mm.\n"
          ],
          "name": "stdout"
        }
      ]
    },
    {
      "cell_type": "markdown",
      "metadata": {
        "id": "6sUz95AAknBp",
        "colab_type": "text"
      },
      "source": [
        "#### Desafio 009 - Done\n",
        "Faça um programa que **leia** um **número inteiro** qualquer e **mostre** na tela a sua **tabuada**."
      ]
    },
    {
      "cell_type": "code",
      "metadata": {
        "id": "_vBo4cwiVb7G",
        "colab_type": "code",
        "outputId": "58fe4230-73c7-4299-8359-61907998a0c4",
        "colab": {
          "base_uri": "https://localhost:8080/",
          "height": 204
        }
      },
      "source": [
        "n = int(input('Digite o número que deseja obter a tabuada: '))\n",
        "\n",
        "print('{} x 1  = {}'.format(n, n*1))\n",
        "print('{} x 2  = {}'.format(n, n*2))\n",
        "print('{} x 3  = {}'.format(n, n*3))\n",
        "print('{} x 4  = {}'.format(n, n*4))\n",
        "print('{} x 5  = {}'.format(n, n*5))\n",
        "print('{} x 6  = {}'.format(n, n*6))\n",
        "print('{} x 7  = {}'.format(n, n*7))\n",
        "print('{} x 8  = {}'.format(n, n*8))\n",
        "print('{} x 9  = {}'.format(n, n*9))\n",
        "print('{} x 10 = {}'.format(n, n*10))\n",
        "\n",
        "#@markdown Outra formas de construir os prints:<br/>``` print('{} x {:2} = {}'.format(n, 1, n*1) ```\n"
      ],
      "execution_count": 0,
      "outputs": [
        {
          "output_type": "stream",
          "text": [
            "Digite o número que deseja obter a tabuada: 7\n",
            "7 x 1  = 7\n",
            "7 x 2  = 14\n",
            "7 x 3  = 21\n",
            "7 x 4  = 28\n",
            "7 x 5  = 35\n",
            "7 x 6  = 42\n",
            "7 x 7  = 49\n",
            "7 x 8  = 56\n",
            "7 x 9  = 63\n",
            "7 x 10 = 70\n"
          ],
          "name": "stdout"
        }
      ]
    },
    {
      "cell_type": "markdown",
      "metadata": {
        "id": "2nq5zaYfkqMi",
        "colab_type": "text"
      },
      "source": [
        "#### Desafio 010 - Done\n",
        "Crie um programa que **leia** quanto dinheiro uma pessoa tem na carteira e **mostre** quantos Dólares ela pode comprar."
      ]
    },
    {
      "cell_type": "markdown",
      "metadata": {
        "id": "uJGFbOF_ko9u",
        "colab_type": "text"
      },
      "source": [
        "Considere:  \n",
        "```\n",
        "US$1.00 = R$3,27\n",
        "```"
      ]
    },
    {
      "cell_type": "code",
      "metadata": {
        "id": "yVtl4KVidddX",
        "colab_type": "code",
        "outputId": "ceda1326-7a24-4499-a07b-131f4a263a3d",
        "colab": {
          "base_uri": "https://localhost:8080/",
          "height": 68
        }
      },
      "source": [
        "wallet = float(input('How much money do you have in your Wallet? \\nR$'))\n",
        "\n",
        "print('Você pode comprar US${:.2f}, com o Dólar cotado a $3.27'.format(wallet / 3.27))"
      ],
      "execution_count": 0,
      "outputs": [
        {
          "output_type": "stream",
          "text": [
            "How much money do you have in your Wallet? \n",
            "R$150\n",
            "Você pode comprar US$45.87, com o Dólar cotado a $3.27\n"
          ],
          "name": "stdout"
        }
      ]
    },
    {
      "cell_type": "markdown",
      "metadata": {
        "id": "E6d171AlktWd",
        "colab_type": "text"
      },
      "source": [
        "#### Desafio 011 - Done\n",
        "Faça um programa que **leia** a **largura** e a **altura** de uma parede em metros, calcule a sua área e a quantidade de tinta necessária para pintá-la."
      ]
    },
    {
      "cell_type": "markdown",
      "metadata": {
        "id": "iErTxR4Qk-uW",
        "colab_type": "text"
      },
      "source": [
        "![DICA] sabendo que cada litro de tinta, pinta uma área de 2m²"
      ]
    },
    {
      "cell_type": "code",
      "metadata": {
        "id": "BiXKGlJILqfu",
        "colab_type": "code",
        "outputId": "e79cc4c9-3e78-4f3f-b4f7-fa4fe4436fc5",
        "colab": {
          "base_uri": "https://localhost:8080/",
          "height": 221
        }
      },
      "source": [
        "b = float(input('Digite a largura da parede (m): '))\n",
        "h = float(input('Digite a altura da parede (m): '))\n",
        "\n",
        "A = b * h\n",
        "_1d = (A / 2)\n",
        "_2d = (A / 2) * 2\n",
        "\n",
        "print('\\n{:-^50}'.format(' Resultado '))\n",
        "print('\\nMedida da parede é {:.2f}m².'.format(A))\n",
        "print('\\n{:-^50}'.format(' Considerando 1 Demão '))\n",
        "print('Quantidade de Tinta necessária será = {:.2f} Litros.'.format(_1d))\n",
        "print('\\n{:-^50}'.format(' Considerando 2 Demãos '))\n",
        "print('Quantidade de Tinta necessária será = {:.2f} Litros.'.format(_2d))"
      ],
      "execution_count": 0,
      "outputs": [
        {
          "output_type": "stream",
          "text": [
            "Digite a largura da parede (em metros): 2.7\n",
            "Digite a altura da parede (em metros): 3\n",
            "\n",
            "------------------- Resultado --------------------\n",
            "\n",
            "Medida da parede é 8.10 m².\n",
            "\n",
            "-------------- Considerando 1 Demão --------------\n",
            "Quantidade de Tinta necessária será = 4.05 Litros.\n",
            "\n",
            "------------- Considerando 2 Demãos --------------\n",
            "Quantidade de Tinta necessária será = 8.10 Litros.\n"
          ],
          "name": "stdout"
        }
      ]
    },
    {
      "cell_type": "markdown",
      "metadata": {
        "id": "olrOcNXbkvfT",
        "colab_type": "text"
      },
      "source": [
        "#### Desafio 012 - Done\n",
        "Faça um algoritmos que **leia** o preço de um produto e **mostre** seu novo preço, com 5% de desconto."
      ]
    },
    {
      "cell_type": "code",
      "metadata": {
        "id": "ezwJ4u1gQFeP",
        "colab_type": "code",
        "outputId": "62ea83de-5db7-4fa9-ab67-6498c6e681f3",
        "colab": {
          "base_uri": "https://localhost:8080/",
          "height": 102
        }
      },
      "source": [
        "vlProd = float(input('Digite o valor do produto:\\nR$'))\n",
        "vlDesc = vlProd * 5 / 100 #0.95\n",
        "newPrice = vlProd - vlDesc\n",
        "\n",
        "#Utilizando equação geral\n",
        "#newPrice = vlProd - (vlProd*vlDesc/100)\n",
        "\n",
        "print('Produto com 5% Off\\nDe: R${:.2f}\\nPor: R${:.2f}'.format(vlProd, newPrice))"
      ],
      "execution_count": 0,
      "outputs": [
        {
          "output_type": "stream",
          "text": [
            "Digite o valor do produto:\n",
            "R$920.59\n",
            "Produto com 5% Off\n",
            "De: R$920.59\n",
            "Por: R$874.56\n"
          ],
          "name": "stdout"
        }
      ]
    },
    {
      "cell_type": "markdown",
      "metadata": {
        "id": "jfNJqIWJkyD1",
        "colab_type": "text"
      },
      "source": [
        "#### Desafio 013 - Done\n",
        "Faça um algoritmo que **leia** o salário de um funcionário e **mostre** seu novo salário, com 15% de aumento."
      ]
    },
    {
      "cell_type": "code",
      "metadata": {
        "id": "LedyRS7rhfgJ",
        "colab_type": "code",
        "outputId": "73405646-47f0-40da-c5ce-92d98b724223",
        "colab": {
          "base_uri": "https://localhost:8080/",
          "height": 68
        }
      },
      "source": [
        "salarioAtual = float(input('Digite o valor do salário atual:\\nR$'))\n",
        "percReajuste = 15\n",
        "novoSalario = salarioAtual + (salarioAtual * percReajuste / 100)\n",
        "\n",
        "print('Seu novo salário será de R${:.2f}.'.format(novoSalario))"
      ],
      "execution_count": 0,
      "outputs": [
        {
          "output_type": "stream",
          "text": [
            "Digite o valor do salário atual:\n",
            "R$6000\n",
            "Seu novo salário será de R$6900.00.\n"
          ],
          "name": "stdout"
        }
      ]
    }
  ]
}