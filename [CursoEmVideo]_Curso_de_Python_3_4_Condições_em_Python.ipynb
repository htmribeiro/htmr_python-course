{
  "nbformat": 4,
  "nbformat_minor": 0,
  "metadata": {
    "colab": {
      "name": "[CursoEmVideo] Curso de Python 3 - 4 Condições em Python.ipynb",
      "provenance": [],
      "collapsed_sections": [],
      "toc_visible": true,
      "authorship_tag": "ABX9TyM7C6QjXWLsdK6iExu+YgoJ",
      "include_colab_link": true
    },
    "kernelspec": {
      "name": "python3",
      "display_name": "Python 3"
    }
  },
  "cells": [
    {
      "cell_type": "markdown",
      "metadata": {
        "id": "view-in-github",
        "colab_type": "text"
      },
      "source": [
        "<a href=\"https://colab.research.google.com/github/htmribeiro/htmr_python-course/blob/master/%5BCursoEmVideo%5D_Curso_de_Python_3_4_Condi%C3%A7%C3%B5es_em_Python.ipynb\" target=\"_parent\"><img src=\"https://colab.research.google.com/assets/colab-badge.svg\" alt=\"Open In Colab\"/></a>"
      ]
    },
    {
      "cell_type": "markdown",
      "metadata": {
        "id": "utSKTG-gwFf6",
        "colab_type": "text"
      },
      "source": [
        "# **CURSO DE PYTHON 3 - MUNDO 1: FUNDAMENTOS**  \n",
        "http://www.cursoemvideo.com"
      ]
    },
    {
      "cell_type": "markdown",
      "metadata": {
        "id": "rE8LB9GowNfF",
        "colab_type": "text"
      },
      "source": [
        "# **4 Condições em Python (if..else)**"
      ]
    },
    {
      "cell_type": "markdown",
      "metadata": {
        "id": "hR6t5ZuT3Nnk",
        "colab_type": "text"
      },
      "source": [
        "## Curso Python #10 - Condições (Parte 1)"
      ]
    },
    {
      "cell_type": "markdown",
      "metadata": {
        "id": "i711-GJb3cta",
        "colab_type": "text"
      },
      "source": [
        "Nessa aula, vamos aprender como utilizar estruturas condicionais **simples** e **compostas** nos seus programas em Python.  \n",
        "Veja como aplicar os comandos `if:` e `else:` no Python."
      ]
    },
    {
      "cell_type": "markdown",
      "metadata": {
        "id": "lnnvIa-B37pE",
        "colab_type": "text"
      },
      "source": [
        "### TEORIA"
      ]
    },
    {
      "cell_type": "markdown",
      "metadata": {
        "id": "X0Ms17D24hI7",
        "colab_type": "text"
      },
      "source": [
        "#### Objeto.Método\n",
        "- **Comandos estruturados**  \n",
        "- de **cima** para **baixo**, da **esquerda** para **direita**.  \n",
        " - carro.siga()  \n",
        " - carro.esquerda()  \n",
        " - carro.siga()  \n",
        " - carro.direita()  \n",
        " - carro.siga()  \n",
        " - carro.direita()  \n",
        " - carro.siga()  \n",
        " - carro.esquerda()  \n",
        " - carro.siga()  \n",
        " - carro.pare()  \n",
        "\n"
      ]
    },
    {
      "cell_type": "markdown",
      "metadata": {
        "id": "7nYxoIEGAeCe",
        "colab_type": "text"
      },
      "source": [
        "#### Desvios\n",
        "\n",
        "|Execução|||\n",
        "|:--|--:|--:|\n",
        "|**carro.siga()**|||\n",
        "|caminho|**Esquerda**|**Direita**|\n",
        "||**se carro.esquerda()**|**senão**|\n",
        "||**if carro.esquerda():**|**else:**|\n",
        "||carro.siga()|carro.siga()|\n",
        "||carro.direita()|carro.esquerda()|\n",
        "||carro.siga()|carro.siga()|\n",
        "||carro.esquerda()|carro.esquerda()|\n",
        "||carro.siga()|carro.siga()|\n",
        "||carro.direita()||\n",
        "||carro.siga()||\n",
        "|**carro.pare()**|||"
      ]
    },
    {
      "cell_type": "markdown",
      "metadata": {
        "id": "dDpjvfTWAnoQ",
        "colab_type": "text"
      },
      "source": [
        "#### Exibição estruturada\n",
        "\n",
        "|Execução|||\n",
        "|:--|:--||\n",
        "|carro.siga()|\n",
        "|**se carro.esquerda()**|\n",
        "||carro.siga()|\n",
        "||carro.direita()|\n",
        "||carro.siga()|\n",
        "||carro.esquerda()|\n",
        "||carro.siga()|\n",
        "||carro.direita()|\n",
        "||carro.siga()|\n",
        "|**senão**|\n",
        "||carro.siga()|\n",
        "||carro.esquerda()|\n",
        "||carro.siga()|\n",
        "||carro.esquerda()|\n",
        "||carro.siga()|\n",
        "|carro.pare()|"
      ]
    },
    {
      "cell_type": "markdown",
      "metadata": {
        "id": "2_e9RVRIAu6B",
        "colab_type": "text"
      },
      "source": [
        "#### Blocos\n",
        "\n",
        "|||**Condição**||\n",
        "|---|---|---|---|\n",
        "|**se carro.esquerda()**||**if carro.esquerda():**|\n",
        "||bloco_V_||bloco True|\n",
        "|**senão**||**else:**|\n",
        "||bloco_F_||bloco False|\n",
        "\n"
      ]
    },
    {
      "cell_type": "markdown",
      "metadata": {
        "colab_type": "text",
        "id": "_OwwRjChHFep"
      },
      "source": [
        "#### Estrutura de Condição Simples\n",
        "```py\n",
        "tempo = int(input('Quantos anos tem seu carro?'))\n",
        "if tempo <= 3:  \n",
        "  print('carro novo')\n",
        "print('carro velho')\n",
        "print('--fim--')\n",
        "```"
      ]
    },
    {
      "cell_type": "markdown",
      "metadata": {
        "id": "ynS0dW14DPGT",
        "colab_type": "text"
      },
      "source": [
        "#### Estrutura de Condição Composta\n",
        "```py\n",
        "tempo = int(input('Quantos anos tem seu carro?'))\n",
        "if tempo <= 3:  \n",
        "  print('carro novo')\n",
        "else:\n",
        "  print('carro velho')\n",
        "print('--fim--')\n",
        "```"
      ]
    },
    {
      "cell_type": "markdown",
      "metadata": {
        "id": "Bq0KDgyXErU8",
        "colab_type": "text"
      },
      "source": [
        "#### Estrutura de Condição Simplificada\n",
        "\n",
        "```py\n",
        "tempo = int(input('Quantos anos tem seu carro?'))\n",
        "print('carro novo' if tempo <=3 else 'carro velho')\n",
        "print('--fim--')\n",
        "```"
      ]
    },
    {
      "cell_type": "markdown",
      "metadata": {
        "id": "ICk82l9k4CYP",
        "colab_type": "text"
      },
      "source": [
        "### PRÁTICA"
      ]
    },
    {
      "cell_type": "markdown",
      "metadata": {
        "id": "qJXM-wH2F0wN",
        "colab_type": "text"
      },
      "source": [
        "#### aula10a"
      ]
    },
    {
      "cell_type": "code",
      "metadata": {
        "id": "Br1nea50F94H",
        "colab_type": "code",
        "colab": {
          "base_uri": "https://localhost:8080/",
          "height": 51
        },
        "outputId": "07c08d9a-1e44-4bf7-d9d0-5a1f11952ca6"
      },
      "source": [
        "nome = str(input('Qual é seu nome? ')).strip().title()\n",
        "if nome == 'Hamilton':\n",
        "  print('Que nome lindo você tem!')\n",
        "print('Bom dia, {}!'.format(nome))"
      ],
      "execution_count": 3,
      "outputs": [
        {
          "output_type": "stream",
          "text": [
            "Qual é seu nome? Jonas\n",
            "Bom dia, Jonas!\n"
          ],
          "name": "stdout"
        }
      ]
    },
    {
      "cell_type": "code",
      "metadata": {
        "colab_type": "code",
        "outputId": "0833a19b-f7a4-449c-aa4e-506b3f3bed97",
        "id": "oMl0HNDxHkpi",
        "colab": {
          "base_uri": "https://localhost:8080/",
          "height": 68
        }
      },
      "source": [
        "nome = str(input('Qual é seu nome? ')).strip().title()\n",
        "if nome == 'Hamilton':\n",
        "  print('Que nome lindo você tem!')\n",
        "else:\n",
        "  print('Seu nome é tão normal!')n1 \n",
        "print('Bom dia, {}!'.format(nome))"
      ],
      "execution_count": 7,
      "outputs": [
        {
          "output_type": "stream",
          "text": [
            "Qual é seu nome? maria\n",
            "Seu nome é tão normal!\n",
            "Bom dia, Maria!\n"
          ],
          "name": "stdout"
        }
      ]
    },
    {
      "cell_type": "code",
      "metadata": {
        "id": "uTFlgOa3IA7x",
        "colab_type": "code",
        "colab": {
          "base_uri": "https://localhost:8080/",
          "height": 85
        },
        "outputId": "b31004dc-f1b6-4b23-f05d-f6c2d6857203"
      },
      "source": [
        "n1 = float(input('Digite a primeira nota: '))\n",
        "n2 = float(input('Digite a segunda nota: '))\n",
        "\n",
        "m = (n1 + n2) / 2\n",
        "\n",
        "print('A sua média foi {:.1f}'.format(m))\n",
        "if m>=6.0:\n",
        "  print('Sua média foi boa! PARABÉNS!')\n",
        "else:\n",
        "  print('Sua média foi ruim! ESTUDE MAIS!')"
      ],
      "execution_count": 10,
      "outputs": [
        {
          "output_type": "stream",
          "text": [
            "Digite a primeira nota: 4.5\n",
            "Digite a segunda nota: 5.5\n",
            "A sua média foi 5.00\n",
            "Sua média foi ruim! ESTUDE MAIS!\n"
          ],
          "name": "stdout"
        }
      ]
    },
    {
      "cell_type": "code",
      "metadata": {
        "colab_type": "code",
        "outputId": "173e31be-d708-4d1b-a11d-fbd63e97b286",
        "id": "9sdxgnjDJK4q",
        "colab": {
          "base_uri": "https://localhost:8080/",
          "height": 85
        }
      },
      "source": [
        "n1 = float(input('Digite a primeira nota: '))\n",
        "n2 = float(input('Digite a segunda nota: '))\n",
        "\n",
        "m = (n1 + n2) / 2\n",
        "\n",
        "print('A sua média foi {:.1f}'.format(m))\n",
        "print('Sua média foi boa! PARABÉNS!' if m>=6.0 else 'Sua média foi ruim! ESTUDE MAIS!')"
      ],
      "execution_count": 11,
      "outputs": [
        {
          "output_type": "stream",
          "text": [
            "Digite a primeira nota: 7.6\n",
            "Digite a segunda nota: 9.4\n",
            "A sua média foi 8.5\n",
            "Sua média foi boa! PARABÉNS!\n"
          ],
          "name": "stdout"
        }
      ]
    },
    {
      "cell_type": "markdown",
      "metadata": {
        "id": "hhjswKbc4Hfw",
        "colab_type": "text"
      },
      "source": [
        "### DESAFIOS"
      ]
    },
    {
      "cell_type": "markdown",
      "metadata": {
        "id": "eWI-nouPKZNi",
        "colab_type": "text"
      },
      "source": [
        "#### Desafio 028"
      ]
    },
    {
      "cell_type": "markdown",
      "metadata": {
        "id": "jg8_ZzvxLQ8b",
        "colab_type": "text"
      },
      "source": [
        "Escreva um programa que faça o computador \"pensar\" em um número inteiro entrre **0** e **5** e **peça para o usuário tentar descobrir** qual foi o número escolhido pelo computador.  \n",
        "\n",
        "O programa deverá **escrever** na tela se o usuário **venceu** ou **perdeu**."
      ]
    },
    {
      "cell_type": "markdown",
      "metadata": {
        "id": "WjU2DwXiKxhh",
        "colab_type": "text"
      },
      "source": [
        "#### Desafio 029"
      ]
    },
    {
      "cell_type": "markdown",
      "metadata": {
        "id": "65jWt11jMDpC",
        "colab_type": "text"
      },
      "source": [
        "Escreva um programa que **leia** a velocidadde de um carro.  \n",
        "\n",
        "Se ele ultrapassar **80 Km/h**, mostre uma mensagem dizendo que ele foi multado.  \n",
        "\n",
        "A multa vai custar **R$7,00** por cada Km acima do limite."
      ]
    },
    {
      "cell_type": "markdown",
      "metadata": {
        "id": "UwYJS7byK2NH",
        "colab_type": "text"
      },
      "source": [
        "#### Desafio 030"
      ]
    },
    {
      "cell_type": "markdown",
      "metadata": {
        "id": "hlpNeEv8Mv8E",
        "colab_type": "text"
      },
      "source": [
        "Crie um programa que **leia** um número inteiro e mostre na tela se ele é **PAR** ou **IMPAR**."
      ]
    },
    {
      "cell_type": "markdown",
      "metadata": {
        "id": "vRzphN-tK5lq",
        "colab_type": "text"
      },
      "source": [
        "#### Desafio 031"
      ]
    },
    {
      "cell_type": "markdown",
      "metadata": {
        "id": "60Q8SpDxNMY9",
        "colab_type": "text"
      },
      "source": [
        "Desenvolva um programa que **pergunte** a distância de uma viagem em Km. **Calcule** o preço da passagem, cobrando **R\\$0,50** por Km para viagens até **200Km** e **R$0,45** para viagens **mais longas**."
      ]
    },
    {
      "cell_type": "markdown",
      "metadata": {
        "id": "abUt95wmK7QA",
        "colab_type": "text"
      },
      "source": [
        "#### Desafio 032"
      ]
    },
    {
      "cell_type": "markdown",
      "metadata": {
        "id": "az9MfqtZOIua",
        "colab_type": "text"
      },
      "source": [
        "Faça um programa que **leia** um ano qualquer e mostre se ele é **BISSEXTO**."
      ]
    },
    {
      "cell_type": "markdown",
      "metadata": {
        "id": "CaLyQsIeK-Pu",
        "colab_type": "text"
      },
      "source": [
        "#### Desafio 033"
      ]
    },
    {
      "cell_type": "markdown",
      "metadata": {
        "id": "Yz0n5WVFObV6",
        "colab_type": "text"
      },
      "source": [
        "Faça um programa que **leia** três números e mostre qual é o **maior** e qual é o **menor**."
      ]
    },
    {
      "cell_type": "markdown",
      "metadata": {
        "id": "QPmbJH3lLBUC",
        "colab_type": "text"
      },
      "source": [
        "#### Desafio 034"
      ]
    },
    {
      "cell_type": "markdown",
      "metadata": {
        "id": "Zq8fC7c7OvrI",
        "colab_type": "text"
      },
      "source": [
        "Escreva um programa que **pergunte** o salário de um funcionário e calcule o valor do seu aumento.  \n",
        "\n",
        "Para salários superiores a **R$1.250,00**, calcule um aumento de **10%**.  \n",
        "\n",
        "Para os inferiores ou iguais, o aumento é de **15%**."
      ]
    },
    {
      "cell_type": "markdown",
      "metadata": {
        "id": "R4x1zgKeLDE0",
        "colab_type": "text"
      },
      "source": [
        "#### Desafio 035"
      ]
    },
    {
      "cell_type": "markdown",
      "metadata": {
        "id": "GtbJqogRPY9b",
        "colab_type": "text"
      },
      "source": [
        "Desenvolva um programa que **leia** o comprimento de três retas e **diga** ao usuário se elas **podem** ou **não formar um triângulo**.  \n",
        "\n",
        "- r1\n",
        "- r2\n",
        "- r3"
      ]
    }
  ]
}