{
  "nbformat": 4,
  "nbformat_minor": 0,
  "metadata": {
    "colab": {
      "name": "[Curso em Vídeo] Exercícios de Python 3.ipynb",
      "provenance": [],
      "collapsed_sections": [
        "kq6cx_2D8p6a",
        "-d9qkH_HXT8-",
        "yWIxTgDhehm_",
        "eiyohdpPjHPJ",
        "7gNhS5gLoyto"
      ],
      "toc_visible": true,
      "include_colab_link": true
    },
    "kernelspec": {
      "name": "python3",
      "display_name": "Python 3"
    }
  },
  "cells": [
    {
      "cell_type": "markdown",
      "metadata": {
        "id": "view-in-github",
        "colab_type": "text"
      },
      "source": [
        "<a href=\"https://colab.research.google.com/github/htmribeiro/htmr_python-course/blob/master/%5BCurso_em_V%C3%ADdeo%5D_Exerc%C3%ADcios_de_Python_3.ipynb\" target=\"_parent\"><img src=\"https://colab.research.google.com/assets/colab-badge.svg\" alt=\"Open In Colab\"/></a>"
      ]
    },
    {
      "cell_type": "markdown",
      "metadata": {
        "id": "kq6cx_2D8p6a",
        "colab_type": "text"
      },
      "source": [
        "#### DESAFIO 001 - Deixando tudo pronto | Aula 04"
      ]
    },
    {
      "cell_type": "markdown",
      "metadata": {
        "id": "myHlqCOF9xjx",
        "colab_type": "text"
      },
      "source": [
        "Ex.001 - Crie um programa que escreva \"Olá, Mundo!\" na tela."
      ]
    },
    {
      "cell_type": "code",
      "metadata": {
        "id": "pXhjJ1WR98xE",
        "colab_type": "code",
        "outputId": "3e30b8e3-7c2d-4ae6-c4e5-1a87ed09851e",
        "colab": {
          "base_uri": "https://localhost:8080/",
          "height": 51
        }
      },
      "source": [
        "print('{:=^60}'.format(' DESAFIO 001 '))\n",
        "print('Olá, Mundo!')\n"
      ],
      "execution_count": 0,
      "outputs": [
        {
          "output_type": "stream",
          "text": [
            "======================= DESAFIO 001 ========================\n",
            "Olá, Mundo!\n"
          ],
          "name": "stdout"
        }
      ]
    },
    {
      "cell_type": "code",
      "metadata": {
        "id": "hWTGawZi-tlP",
        "colab_type": "code",
        "outputId": "f9431430-53a7-4c1a-ec77-eb2c58797f7d",
        "colab": {
          "base_uri": "https://localhost:8080/",
          "height": 51
        }
      },
      "source": [
        "print('{:=^60}'.format(' DESAFIO 001 '))\n",
        "msg = 'Olá, Mundo!'\n",
        "print(msg)"
      ],
      "execution_count": 0,
      "outputs": [
        {
          "output_type": "stream",
          "text": [
            "======================= DESAFIO 001 ========================\n",
            "Olá, Mundo!\n"
          ],
          "name": "stdout"
        }
      ]
    },
    {
      "cell_type": "markdown",
      "metadata": {
        "id": "-d9qkH_HXT8-",
        "colab_type": "text"
      },
      "source": [
        "#### DESAFIO 002 - Respondendo ao Usuário | Aula 04"
      ]
    },
    {
      "cell_type": "markdown",
      "metadata": {
        "id": "J2L1gTMnYv6o",
        "colab_type": "text"
      },
      "source": [
        "Ex.002 - Crie um script Python que **leia** o nome de uma pessoa e **mostre** uma mensagem de boas-vindas de acordo com o valor digitado."
      ]
    },
    {
      "cell_type": "code",
      "metadata": {
        "id": "hzTEDZTAZFaQ",
        "colab_type": "code",
        "outputId": "1f326ac1-82fb-4a1f-d5f1-608d67f1f161",
        "colab": {
          "base_uri": "https://localhost:8080/",
          "height": 68
        }
      },
      "source": [
        "print('{:=^60}'.format(' DESAFIO 002 '))\n",
        "nome = input('Digite seu nome: ')\n",
        "print('É um prazer te conhecer, {}!'.format(nome))"
      ],
      "execution_count": 0,
      "outputs": [
        {
          "output_type": "stream",
          "text": [
            "======================= DESAFIO 002 ========================\n",
            "Digite seu nome: Hamilton\n",
            "É um prazer te conhecer, Hamilton!\n"
          ],
          "name": "stdout"
        }
      ]
    },
    {
      "cell_type": "markdown",
      "metadata": {
        "id": "EOn7kYH9pHRX",
        "colab_type": "text"
      },
      "source": [
        "#### DESAFIO 003 - Somando dois números | Aula 06\n"
      ]
    },
    {
      "cell_type": "markdown",
      "metadata": {
        "id": "T0eSJvYdtrlU",
        "colab_type": "text"
      },
      "source": [
        "Ex.003 - Crei um programa que **leia** dois números e mostre a **soma** entre eles."
      ]
    },
    {
      "cell_type": "code",
      "metadata": {
        "id": "MpGWZqkHvGi3",
        "colab_type": "code",
        "outputId": "5504e573-665f-41f8-b584-d54c800f1f0a",
        "colab": {
          "base_uri": "https://localhost:8080/",
          "height": 102
        }
      },
      "source": [
        "print('{:=^60}'.format(' DESAFIO 003 '))\n",
        "print('Digite dois números para calcular a soma.')\n",
        "n1 = int(input('Digite o primeiro valor: '))\n",
        "n2 = int(input('Digite o segundo valor: '))\n",
        "\n",
        "s = n1 + n2\n",
        "\n",
        "print('A soma entre o valor ({}) e o valor ({}) é igual a: {}.'.format(n1, n2, s))"
      ],
      "execution_count": 0,
      "outputs": [
        {
          "output_type": "stream",
          "text": [
            "======================= DESAFIO 003 ========================\n",
            "Digite dois números para calcular a soma.\n",
            "Digite o primeiro valor: 4\n",
            "Digite o segundo valor: 3\n",
            "A soma entre o primeiro valor (4) e o segundo valor (3) é igual a: 7.\n"
          ],
          "name": "stdout"
        }
      ]
    },
    {
      "cell_type": "markdown",
      "metadata": {
        "id": "ts2o6b7vxBOp",
        "colab_type": "text"
      },
      "source": [
        "#### DESAFIO 004 - Dissecando uma Variável | Aula 06"
      ]
    },
    {
      "cell_type": "markdown",
      "metadata": {
        "id": "xyNn7jQFxQPW",
        "colab_type": "text"
      },
      "source": [
        "Ex.004 - Faça um programa que **leia** algo pelo teclado e **mostre** na tela o seu **tipo primitivo** e **todas as informações** possíveis sobre ele."
      ]
    },
    {
      "cell_type": "code",
      "metadata": {
        "id": "a8C-cLDrxtD9",
        "colab_type": "code",
        "outputId": "cba87741-2ee7-4cb2-962f-d2a2d4d2476d",
        "colab": {
          "base_uri": "https://localhost:8080/",
          "height": 187
        }
      },
      "source": [
        "print('{:=^60}'.format(' DESAFIO 004 '))\n",
        "n = input('Digite algo: ')\n",
        "\n",
        "print('O tipo primitivo de ({}) é: '.format(n), type(n))\n",
        "print('O conteúdo ({}) só tem espaço? '.format(n, n.isspace()))\n",
        "print('O conteúdo ({}) é um número? {}'.format(n, n.isnumeric()))\n",
        "print('O contéudo ({}) é alfabético? {}'.format(n, n.isalpha()))\n",
        "print('O contéudo ({}) é alfanumérico? {}'.format(n, n.isalnum()))\n",
        "print('O conteúdo ({}) está em maiúsculas? {}'.format(n, n.isupper()))\n",
        "print('O conteúdo ({}) está em minúsculas? {}'.format(n, n.islower()))\n",
        "print('O conteúdo ({}) está capitalizada? {}'.format(n, n.istitle()))"
      ],
      "execution_count": 0,
      "outputs": [
        {
          "output_type": "stream",
          "text": [
            "======================= DESAFIO 004 ========================\n",
            "Digite algo: 44.3\n",
            "O tipo primitivo de (44.3) é:  <class 'str'>\n",
            "O conteúdo (44.3) só tem espaço? \n",
            "O conteúdo (44.3) é um número? False\n",
            "O contéudo (44.3) é alfabético? False\n",
            "O contéudo (44.3) é alfanumérico? False\n",
            "O conteúdo (44.3) está em maiúsculas? False\n",
            "O conteúdo (44.3) está em minúsculas? False\n",
            "O conteúdo (44.3) está capitalizada? False\n"
          ],
          "name": "stdout"
        }
      ]
    },
    {
      "cell_type": "markdown",
      "metadata": {
        "id": "A9IH35WbksWN",
        "colab_type": "text"
      },
      "source": [
        "#### DESAFIO 005 - Antecessor e Sucessor | Aula 07"
      ]
    },
    {
      "cell_type": "markdown",
      "metadata": {
        "id": "A9IPWOs6lUxw",
        "colab_type": "text"
      },
      "source": [
        "Ex.005 - Faça um programa que **leia** um **número Inteiro** e **mostre** na tela o seu ***sucessor*** e seu ***antecessor***."
      ]
    },
    {
      "cell_type": "code",
      "metadata": {
        "id": "1Rv-GjSWlkdH",
        "colab_type": "code",
        "outputId": "d7fc2128-658d-4d8c-d3c3-37c9c43516c3",
        "colab": {
          "base_uri": "https://localhost:8080/",
          "height": 102
        }
      },
      "source": [
        "print('{:=^50}'.format(' Desafio 005 ')) #cabeçalho\n",
        "\n",
        "n = int(input('Digite um valor: '))\n",
        "print('O número digitado foi: {} \\nE o seu Antecessor é: {} \\nE o seu Sucessor é: {}'.format(n, n-1, n+1))"
      ],
      "execution_count": 0,
      "outputs": [
        {
          "output_type": "stream",
          "text": [
            "================== Desafio 005 ===================\n",
            "Digite um valor: 52\n",
            "O número digitado foi: 52 \n",
            "E o seu antecessor é: 51 \n",
            "E o seu sucessor é: 53\n"
          ],
          "name": "stdout"
        }
      ]
    },
    {
      "cell_type": "markdown",
      "metadata": {
        "id": "P5M_HGMUuLt4",
        "colab_type": "text"
      },
      "source": [
        "#### DESAFIO 006 - dobro, triplo e raiz quadrada | Aula 07"
      ]
    },
    {
      "cell_type": "markdown",
      "metadata": {
        "id": "JcJ1R2RYvDXE",
        "colab_type": "text"
      },
      "source": [
        "Ex.006 - Crie um algoritmo que **leia** um número e **mostre** o seu **dobro**, **triplo** e **raiz quadrada**."
      ]
    },
    {
      "cell_type": "code",
      "metadata": {
        "id": "noaUKPI1wVP3",
        "colab_type": "code",
        "outputId": "b707fd9a-8fc2-4cf4-f774-9efa9f074451",
        "colab": {
          "base_uri": "https://localhost:8080/",
          "height": 102
        }
      },
      "source": [
        "print('{:=^50}'.format(' Desafio 006 ')) #cabeçalho\n",
        "\n",
        "n = int(input('Digite um número: '))\n",
        "\n",
        "#d = n * 2 \n",
        "#t = n * 3\n",
        "#r = n ** (1/2)\n",
        "\n",
        "print('O dobro de {} é: {}'.format(n, n*2))\n",
        "print('O triplo de {} é: {}'.format(n, n*3))\n",
        "print('E a raíz quadrada de {} é: {:.2f}.'.format(n, pow(n, (1/2))))"
      ],
      "execution_count": 0,
      "outputs": [
        {
          "output_type": "stream",
          "text": [
            "================== Desafio 006 ===================\n",
            "Digite um número: 16\n",
            "O dobro de 16 é: 32\n",
            "O triplo de 16 é: 48\n",
            "E a raíz quadrada de 16 é: 4.00.\n"
          ],
          "name": "stdout"
        }
      ]
    },
    {
      "cell_type": "markdown",
      "metadata": {
        "id": "d7C1v3kn27RB",
        "colab_type": "text"
      },
      "source": [
        "#### DESAFIO 007 - Média Aritmética | Aula 07"
      ]
    },
    {
      "cell_type": "markdown",
      "metadata": {
        "id": "gbXhWL4I3GSr",
        "colab_type": "text"
      },
      "source": [
        "Ex.007 - Desenvolva um programa que leia as duas notas de um aluno, calcule e mostre a sua média."
      ]
    },
    {
      "cell_type": "code",
      "metadata": {
        "id": "FbNd6IDG5_mF",
        "colab_type": "code",
        "outputId": "bc16363a-9829-448b-eeb4-0a66a9fa6b54",
        "colab": {
          "base_uri": "https://localhost:8080/",
          "height": 85
        }
      },
      "source": [
        "print('{:=^50}'.format(' Desafio 007 '))\n",
        "\n",
        "n1 = float(input('Digite a primeira nota: '))\n",
        "n2 = float(input('Digite a segunda nota: '))\n",
        "\n",
        "m = (n1 + n2)/2\n",
        "\n",
        "print('A média entre as notas {} e {} é igual a: {:.1f}'.format(n1, n2, m))"
      ],
      "execution_count": 0,
      "outputs": [
        {
          "output_type": "stream",
          "text": [
            "================== Desafio 007 ===================\n",
            "Digite a primeira nota: 5\n",
            "Digite a segunda nota: 5.5\n",
            "A média entre as notas 5.0 e 5.5 é igual a: 5.2\n"
          ],
          "name": "stdout"
        }
      ]
    },
    {
      "cell_type": "markdown",
      "metadata": {
        "id": "DrFowkNw7HRj",
        "colab_type": "text"
      },
      "source": [
        "#### DESAFIO 008 - Conversor de Medidas | Aula 07"
      ]
    },
    {
      "cell_type": "markdown",
      "metadata": {
        "id": "fmzCB9e77S1k",
        "colab_type": "text"
      },
      "source": [
        "Ex.008 - Escreva um programa que leia um valor em metros e o exiva convertido em centímetros e milímetros.  \n",
        "\n",
        "\n",
        "|**kilometro**|**hectometro**|**decametro**|**Metro**|**decimetro**|**centimetro**|**milimetro**| \n",
        "|:---:|:---:|:---:|:---:|:---:|:---:|:---:|\n",
        "|0,001|0,01|0,1|1|10|100|1000|\n",
        "|km|hm|dam|m|dm|cm|mm|\n"
      ]
    },
    {
      "cell_type": "code",
      "metadata": {
        "id": "4qFsvmXqBEUS",
        "colab_type": "code",
        "outputId": "00eab461-313f-4e3d-b1b1-ed3f90b9c9ed",
        "colab": {
          "base_uri": "https://localhost:8080/",
          "height": 170
        }
      },
      "source": [
        "print('{:=^50}'.format(' Desafio 008 '))\n",
        "\n",
        "mt = float(input('Digite a medida em metros: '))\n",
        "\n",
        "mm = mt * 1000\n",
        "cm = mt * 100\n",
        "dm = mt * 10\n",
        "dam = mt / 10\n",
        "hm = mt / 100\n",
        "km = mt / 1000\n",
        "\n",
        "print('A medida de {} m corresponde a: '.format(mt))\n",
        "print('{:.0f} mm \\n{:.0f} cm \\n{:.0f} dm'.format(mm, cm, dm))\n",
        "print('{} km \\n{} hm \\n{} dam'.format(km, hm, dam))"
      ],
      "execution_count": 0,
      "outputs": [
        {
          "output_type": "stream",
          "text": [
            "================== Desafio 008 ===================\n",
            "Digite a medida em metros: 2\n",
            "A medida de 2.0 m corresponde a: \n",
            "2000 mm \n",
            "200 cm \n",
            "20 dm\n",
            "0.002 km \n",
            "0.02 hm \n",
            "0.2 dam\n"
          ],
          "name": "stdout"
        }
      ]
    },
    {
      "cell_type": "markdown",
      "metadata": {
        "id": "WR3hF4bzYsLP",
        "colab_type": "text"
      },
      "source": [
        "#### DESAFIO 009 - Tabuada | Aula 07"
      ]
    },
    {
      "cell_type": "markdown",
      "metadata": {
        "id": "SCZAR6I-Y-a4",
        "colab_type": "text"
      },
      "source": [
        "Ex.009 - Faça um programa que leia um número inteiro qualquer e mostre na tela a sua tabuada."
      ]
    },
    {
      "cell_type": "code",
      "metadata": {
        "id": "BIE9c2bCZI_R",
        "colab_type": "code",
        "outputId": "e07d7838-4e73-4326-8dff-44f546d6d26a",
        "colab": {
          "base_uri": "https://localhost:8080/",
          "height": 221
        }
      },
      "source": [
        "print('{:=^50}'.format(' Desafio 008 '))\n",
        "\n",
        "n = int(input('Deseja visualizar a Tabuada de qual número? '))\n",
        "\n",
        "print('{} x {:2} = {}'.format(n, 1, n*1))\n",
        "print('{} x {:2} = {}'.format(n, 2, n*2))\n",
        "print('{} x {:2} = {}'.format(n, 3, n*3))\n",
        "print('{} x {:2} = {}'.format(n, 4, n*4))\n",
        "print('{} x {:2} = {}'.format(n, 5, n*5))\n",
        "print('{} x {:2} = {}'.format(n, 6, n*6))\n",
        "print('{} x {:2} = {}'.format(n, 7, n*7))\n",
        "print('{} x {:2} = {}'.format(n, 8, n*8))\n",
        "print('{} x {:2} = {}'.format(n, 9, n*9))\n",
        "print('{} x {:2} = {}'.format(n, 10, n*10))"
      ],
      "execution_count": 0,
      "outputs": [
        {
          "output_type": "stream",
          "text": [
            "================== Desafio 008 ===================\n",
            "Deseja visualizar a Tabuada de qual número? 12\n",
            "12 x  1 = 12\n",
            "12 x  2 = 24\n",
            "12 x  3 = 36\n",
            "12 x  4 = 48\n",
            "12 x  5 = 60\n",
            "12 x  6 = 72\n",
            "12 x  7 = 84\n",
            "12 x  8 = 96\n",
            "12 x  9 = 108\n",
            "12 x 10 = 120\n"
          ],
          "name": "stdout"
        }
      ]
    },
    {
      "cell_type": "markdown",
      "metadata": {
        "id": "PqFGxNaTW3HJ",
        "colab_type": "text"
      },
      "source": [
        "#### DESAFIO 010 - Conversor de Moedas | Aula 07"
      ]
    },
    {
      "cell_type": "markdown",
      "metadata": {
        "id": "8rjITdrAkQXg",
        "colab_type": "text"
      },
      "source": [
        "ex.010 - Crie um programa leia quanto dinheiro uma pessoa tem na carteira e mostre quantos Dólares ela pode comprar."
      ]
    },
    {
      "cell_type": "code",
      "metadata": {
        "id": "pXOZj1EJaBw9",
        "colab_type": "code",
        "outputId": "2cec5184-1f42-4c32-9b84-2ec980217d3c",
        "colab": {
          "base_uri": "https://localhost:8080/",
          "height": 272
        }
      },
      "source": [
        "print('{:=^50}'.format(' Desafio 010 '))\n",
        "\n",
        "real = float(input('Quanto vc tem na carteira?\\nR$'))\n",
        "dataCot = '27/12/2019'\n",
        "\n",
        "cotUs = 4.24\n",
        "cotEu = 4.74\n",
        "cotLi = 5.68\n",
        "\n",
        "dolar = real / cotUs\n",
        "euro = real / cotEu\n",
        "libra = real / cotLi\n",
        "\n",
        "print('\\n{:-^50}'.format(' Dólar '))\n",
        "print('Com o valor de R${:.2f}, vc poderá comprar US${:.2f}.'.format(real, dolar))\n",
        "print('Cotação do US$ valendo {:.2f} em {}.'.format(cotUs, dataCot))\n",
        "\n",
        "print('\\n{:-^50}'.format(' Euro '))\n",
        "print('Com o valor de R${:.2f}, vc poderá comprar €{:.2f}.'.format(real, euro))\n",
        "print('Cotação do € valento {:.2f} em {}.'.format(cotEu, dataCot))\n",
        "\n",
        "print('\\n{:-^50}'.format(' Libra '))\n",
        "print('Com o valor de R${:.2f}, vc poderá comprar ₡{:.2f}'.format(real, libra))\n",
        "print('Cotação da ₡ valendo {:.2f} em {}.'.format(cotLi, dataCot))"
      ],
      "execution_count": 0,
      "outputs": [
        {
          "output_type": "stream",
          "text": [
            "================== Desafio 010 ===================\n",
            "Quanto vc tem na carteira?\n",
            "R$250\n",
            "\n",
            "--------------------- Dólar ----------------------\n",
            "Com o valor de R$250.00, vc poderá comprar US$58.96.\n",
            "Cotação do US$ valendo 4.24 em 27/12/2019.\n",
            "\n",
            "---------------------- Euro ----------------------\n",
            "Com o valor de R$250.00, vc poderá comprar €52.74.\n",
            "Cotação do € valento 4.74 em 27/12/2019.\n",
            "\n",
            "--------------------- Libra ----------------------\n",
            "Com o valor de R$250.00, vc poderá comprar ₡44.01\n",
            "Cotação do ₡ valendo 5.68 em 27/12/2019.\n"
          ],
          "name": "stdout"
        }
      ]
    },
    {
      "cell_type": "code",
      "metadata": {
        "id": "kwQ-_zTFOyKw",
        "colab_type": "code",
        "colab": {}
      },
      "source": [
        ""
      ],
      "execution_count": 0,
      "outputs": []
    },
    {
      "cell_type": "markdown",
      "metadata": {
        "id": "9wN-JqizJenS",
        "colab_type": "text"
      },
      "source": [
        "#### DESAFIO 011 - Pintando Parede | Aula 07"
      ]
    },
    {
      "cell_type": "markdown",
      "metadata": {
        "id": "-wJw5KZEJpWP",
        "colab_type": "text"
      },
      "source": [
        "Ex.011 - Faça um programa que leia a largura e a altura de uma parede em metros, calcule a sua área e a quantidade de tinta necessária para pintá-la.  \n",
        "![tips] sabendo que cada litro de tinta, pinta uma área de 2m²."
      ]
    },
    {
      "cell_type": "code",
      "metadata": {
        "id": "elCjztA5KpXb",
        "colab_type": "code",
        "outputId": "508bb1f2-3fd7-41a3-cbf8-5e3a465f7d32",
        "colab": {
          "base_uri": "https://localhost:8080/",
          "height": 221
        }
      },
      "source": [
        "print('{:=^50}'.format(' Desafio 011 '))\n",
        "\n",
        "w = float(input('Digite a Largura da parede (m): '))\n",
        "h = float(input('Digite a Altura da parede (m):'))\n",
        "\n",
        "area = w * h\n",
        "tintaLt = area / 2\n",
        "_2Demaos = tintaLt * 2\n",
        "\n",
        "print('\\n{:-^50}'.format(' Área da Parede '))\n",
        "print('A área calculada da parede é de {:.2f}m².'.format(area))\n",
        "\n",
        "print('\\n{:-^50}'.format(' Pintura - 1 Demão '))\n",
        "print('A quantidade de tinta necessária, será de {:.2f} Litros.'.format(tintaLt))\n",
        "\n",
        "print('\\n{:-^50}'.format(' Pintura - 2 Demãos '))\n",
        "print('A quantidade de tinta necessária, será de {:.2f} Litros.'.format(_2Demaos))"
      ],
      "execution_count": 0,
      "outputs": [
        {
          "output_type": "stream",
          "text": [
            "================== Desafio 011 ===================\n",
            "Digite a Largura da parede (m): 2.7\n",
            "Digite a Altura da parede (m):3\n",
            "\n",
            "----------------- Área da Parede -----------------\n",
            "A área calculada da parede é de 8.10m².\n",
            "\n",
            "--------------- Pintura - 1 Demão ----------------\n",
            "A quantidade de tinta necessária, será de 4.05 Litros.\n",
            "\n",
            "--------------- Pintura - 2 Demãos ---------------\n",
            "A quantidade de tinta necessária, será de 8.10 Litros.\n"
          ],
          "name": "stdout"
        }
      ]
    },
    {
      "cell_type": "markdown",
      "metadata": {
        "id": "yWIxTgDhehm_",
        "colab_type": "text"
      },
      "source": [
        "#### DESAFIO 012 - Calculando Descontos | Aula 07"
      ]
    },
    {
      "cell_type": "markdown",
      "metadata": {
        "id": "7HzHPcJVevnd",
        "colab_type": "text"
      },
      "source": [
        "Ex.012 - Faça um algoritmos que leia o preço de um produto e mostre seu novo preço, com 5% de desconto."
      ]
    },
    {
      "cell_type": "code",
      "metadata": {
        "id": "AYW1EG5RezbI",
        "colab_type": "code",
        "outputId": "bd0d1af6-b52c-476f-f72e-333afb6c2697",
        "colab": {
          "base_uri": "https://localhost:8080/",
          "height": 136
        }
      },
      "source": [
        "print('{:=^50}'.format(' Desafio 012 '))\n",
        "\n",
        "vlProd = float(input('Digite o valor do produto:\\nR$'))\n",
        "newPrice = vlProd - (vlProd * 5 / 100)\n",
        "\n",
        "print('\\n{:-^50}'.format(' O produto com 5% de Desconto '))\n",
        "print('DE: R${:.2f}\\nPOR: R${:.2f}'.format(vlProd, newPrice))"
      ],
      "execution_count": 0,
      "outputs": [
        {
          "output_type": "stream",
          "text": [
            "================== Desafio 012 ===================\n",
            "Digite o valor do produto:\n",
            "R$20\n",
            "\n",
            "---------- O produto com 5% de Desconto ----------\n",
            "DE: R$20.00\n",
            "POR: R$19.00\n"
          ],
          "name": "stdout"
        }
      ]
    },
    {
      "cell_type": "markdown",
      "metadata": {
        "id": "eiyohdpPjHPJ",
        "colab_type": "text"
      },
      "source": [
        "#### DESAFIO 013 - Reajuste Salarial | Aula 07"
      ]
    },
    {
      "cell_type": "markdown",
      "metadata": {
        "id": "0LSt0OD1jNnn",
        "colab_type": "text"
      },
      "source": [
        "Ex.013a - Faça um algoritmo que leia o salário de um funcionário e mostre seu novo salário, com 15% de aumento."
      ]
    },
    {
      "cell_type": "code",
      "metadata": {
        "id": "vxqJXSFcjQTF",
        "colab_type": "code",
        "outputId": "34d1b7d0-2465-4634-c31a-0da6dd313f1e",
        "colab": {
          "base_uri": "https://localhost:8080/",
          "height": 68
        }
      },
      "source": [
        "print('{:=^50}'.format(' Desafio 013 '))\n",
        "\n",
        "salarioAtual = float(input('Digite o valor do salário atual:\\R$'))\n",
        "percReajuste = 15\n",
        "novoSalario = salarioAtual + (salarioAtual * percReajuste / 100)\n",
        "\n",
        "print('Seu novo salário com {}% de reajuste, será de R${:.2f}.'.format(percReajuste, novoSalario))"
      ],
      "execution_count": 0,
      "outputs": [
        {
          "output_type": "stream",
          "text": [
            "================== Desafio 013 ===================\n",
            "Digite o valor do salário atual:\\R$6000\n",
            "Seu novo salário com 15% de reajuste, será de R$6900.00.\n"
          ],
          "name": "stdout"
        }
      ]
    },
    {
      "cell_type": "markdown",
      "metadata": {
        "id": "z86r7ZgEkktM",
        "colab_type": "text"
      },
      "source": [
        "Ex.013b - Faça um algoritmos que leia o preço de um produto e mostre seu novo preço, com 10% de desconto para pagamento à vista e acréscimo de 8% para pagamento parcelado."
      ]
    },
    {
      "cell_type": "code",
      "metadata": {
        "id": "qHKF-ggTllv1",
        "colab_type": "code",
        "outputId": "4a69047e-c456-4b18-95c0-2e2ec0c683d6",
        "colab": {
          "base_uri": "https://localhost:8080/",
          "height": 170
        }
      },
      "source": [
        "print('{:=^50}'.format(' Desafio 013 - Extra '))\n",
        "\n",
        "vlProd = float(input('Digite o valor do produto:\\nR$'))\n",
        "vlDesc = vlProd - (vlProd * 10 / 100)\n",
        "vlAcre = vlProd + (vlProd * 8 / 100)\n",
        "\n",
        "print('\\n{:-^50}'.format(' Desconto À Vista '))\n",
        "print('Seu produto à vista sairá por: R${:.2f}.'.format(vlDesc))\n",
        "\n",
        "print('\\n{:-^50}'.format(' Acréscimo no Pagamento parcelado '))\n",
        "print('Seu produto parcelado saíra por: R${:.2f}.'.format(vlAcre))"
      ],
      "execution_count": 0,
      "outputs": [
        {
          "output_type": "stream",
          "text": [
            "============== Desafio 013 - Extra ===============\n",
            "Digite o valor do produto:\n",
            "R$35\n",
            "\n",
            "---------------- Desconto À Vista ----------------\n",
            "Seu produto à vista sairá por: R$31.50.\n",
            "\n",
            "-------- Acréscimo no Pagamento parcelado --------\n",
            "Seu produto parcelado saíra por: R$37.80.\n"
          ],
          "name": "stdout"
        }
      ]
    },
    {
      "cell_type": "markdown",
      "metadata": {
        "id": "7gNhS5gLoyto",
        "colab_type": "text"
      },
      "source": [
        "#### DESAFIO 014 - Conversor de Temperatura | Aula 07"
      ]
    },
    {
      "cell_type": "markdown",
      "metadata": {
        "id": "JOg3wVLKxEuZ",
        "colab_type": "text"
      },
      "source": [
        "Ex.014 - Escreva um programa que converta uma temperatura digitando em graus Celsius e converta para graus Fahrenheit."
      ]
    },
    {
      "cell_type": "markdown",
      "metadata": {
        "id": "c0rC2_uc0MWl",
        "colab_type": "text"
      },
      "source": [
        "**Celsius → Fahrenheit** \n",
        "\n",
        "***Multiplicamos*** a temperatura em ºC por 1,8 e ***somamos*** 32 ao resultado.  \n",
        "\n",
        "**Exemplo:** \n",
        "Converter a temperatura de 15 ºC para ºF.  \n",
        "```\n",
        "15 x 1,8 = 27 + 32 = 59 ˚F \n",
        "```\n",
        "\n",
        "**Fahrenheit → Celsius**  \n",
        "\n",
        "***Subtraímos*** a temperatura em ºF por 32 e ***dividimos*** o resultado por 1,8. \n",
        "\n",
        "**Exemplo:** \n",
        "Converter a temperatura de 40 ºF para ºC. \n",
        "```\n",
        "40 – 32 = 8 : 1,8 = 4,4 ºC\n",
        "```  "
      ]
    },
    {
      "cell_type": "code",
      "metadata": {
        "id": "SqSz1ZvAx9sn",
        "colab_type": "code",
        "outputId": "01a359fe-7b97-4965-c6f0-965b56ff81e7",
        "colab": {
          "base_uri": "https://localhost:8080/",
          "height": 102
        }
      },
      "source": [
        "print('{:=^50}'.format(' Desafio 014 - Extra '))\n",
        "\n",
        "c = float(input('Digite a temperatura em Celsius: '))\n",
        "print('\\n{:-^50}'.format(' Celsius → Fahrenheit '))\n",
        "\n",
        "#f = c * 1.8 + 32\n",
        "f = ((c * 9) / 5) + 32\n",
        "\n",
        "print('A temperatura de {:.1f}˚C é equivalente a {:.1f}˚F.'.format(c, f))"
      ],
      "execution_count": 0,
      "outputs": [
        {
          "output_type": "stream",
          "text": [
            "============== Desafio 014 - Extra ===============\n",
            "Digite a temperatura em Celsius: 27\n",
            "\n",
            "-------------- Celsius → Fahrenheit --------------\n",
            "A temperatura de 27.0˚C é equivalente a 80.6˚F.\n"
          ],
          "name": "stdout"
        }
      ]
    },
    {
      "cell_type": "markdown",
      "metadata": {
        "id": "2Q60BbeUo9jb",
        "colab_type": "text"
      },
      "source": [
        "#### DESAFIO 015 - Aluguel de Carros | Aula 07"
      ]
    },
    {
      "cell_type": "markdown",
      "metadata": {
        "id": "XXhl6G7hbs7V",
        "colab_type": "text"
      },
      "source": [
        "Ex.015 - Escreva um programa que pergunte:  \n",
        "- a quantidade de Km percorridos por um carro alugado;\n",
        "- a quantidade de dias pelos quais ele foi alugado.  \n",
        "\n",
        "Calcule o preço a pagar.  \n",
        "\n",
        "![Dica] sabendo que o carro custa R\\$60 por dia e R\\$0,15 por Km rodado."
      ]
    },
    {
      "cell_type": "code",
      "metadata": {
        "id": "LRuth_SNdkj9",
        "colab_type": "code",
        "outputId": "ae0c1fb0-f51a-4527-af56-80e930fcf657",
        "colab": {
          "base_uri": "https://localhost:8080/",
          "height": 119
        }
      },
      "source": [
        "print('{:=^50}'.format(' Desafio 015 - Extra'))\n",
        "\n",
        "dias = int(input('Quantos dias o carro alugado? '))\n",
        "km = float(input('Quantidade de kilometros rodados? '))\n",
        "\n",
        "aluguel = (dias * 60) + (km * 0.15)\n",
        "\n",
        "print('\\n{:-^50}'.format(' Valor do Aluguel '))\n",
        "print('O valor do aluguel por {} dias e {}Km rodados será de R${:.2f}.'.format(dias, km, aluguel))"
      ],
      "execution_count": 0,
      "outputs": [
        {
          "output_type": "stream",
          "text": [
            "=============== Desafio 015 - Extra===============\n",
            "Quantos dias o carro alugado? 3\n",
            "Quantidade de kilometros rodados? 200\n",
            "\n",
            "---------------- Valor do Aluguel ----------------\n",
            "O valor do aluguel por 3 dias e 200.0Km rodados será de R$210.00.\n"
          ],
          "name": "stdout"
        }
      ]
    }
  ]
}