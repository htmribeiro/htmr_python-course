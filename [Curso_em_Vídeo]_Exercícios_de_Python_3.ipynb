{
  "nbformat": 4,
  "nbformat_minor": 0,
  "metadata": {
    "colab": {
      "name": "[Curso em Vídeo] Exercícios de Python 3.ipynb",
      "provenance": [],
      "collapsed_sections": [],
      "include_colab_link": true
    },
    "kernelspec": {
      "name": "python3",
      "display_name": "Python 3"
    }
  },
  "cells": [
    {
      "cell_type": "markdown",
      "metadata": {
        "id": "view-in-github",
        "colab_type": "text"
      },
      "source": [
        "<a href=\"https://colab.research.google.com/github/htmribeiro/htmr_python-course/blob/master/%5BCurso_em_V%C3%ADdeo%5D_Exerc%C3%ADcios_de_Python_3.ipynb\" target=\"_parent\"><img src=\"https://colab.research.google.com/assets/colab-badge.svg\" alt=\"Open In Colab\"/></a>"
      ]
    },
    {
      "cell_type": "markdown",
      "metadata": {
        "id": "kq6cx_2D8p6a",
        "colab_type": "text"
      },
      "source": [
        "#### DESAFIO 001 - Deixando tudo pronto | Aula 04"
      ]
    },
    {
      "cell_type": "markdown",
      "metadata": {
        "id": "myHlqCOF9xjx",
        "colab_type": "text"
      },
      "source": [
        "Ex.001 - Crie um programa que escreva \"Olá, Mundo!\" na tela."
      ]
    },
    {
      "cell_type": "code",
      "metadata": {
        "id": "pXhjJ1WR98xE",
        "colab_type": "code",
        "outputId": "80489811-1793-4928-d930-36469ec5f159",
        "colab": {
          "base_uri": "https://localhost:8080/",
          "height": 34
        }
      },
      "source": [
        "print('Olá, Mundo!')\n"
      ],
      "execution_count": 0,
      "outputs": [
        {
          "output_type": "stream",
          "text": [
            "Olá, Mundo!\n"
          ],
          "name": "stdout"
        }
      ]
    },
    {
      "cell_type": "code",
      "metadata": {
        "id": "hWTGawZi-tlP",
        "colab_type": "code",
        "outputId": "e02d6d06-8309-437d-c14e-bcc5b02f5f5b",
        "colab": {
          "base_uri": "https://localhost:8080/",
          "height": 34
        }
      },
      "source": [
        "msg = 'Olá, Mundo!'\n",
        "print(msg)"
      ],
      "execution_count": 0,
      "outputs": [
        {
          "output_type": "stream",
          "text": [
            "Olá, Mundo!\n"
          ],
          "name": "stdout"
        }
      ]
    },
    {
      "cell_type": "markdown",
      "metadata": {
        "id": "-d9qkH_HXT8-",
        "colab_type": "text"
      },
      "source": [
        "#### DESAFIO 002 - Respondendo ao Usuário | Aula 04"
      ]
    },
    {
      "cell_type": "markdown",
      "metadata": {
        "id": "J2L1gTMnYv6o",
        "colab_type": "text"
      },
      "source": [
        "Ex.002 - Crie um script Python que **leia** o nome de uma pessoa e **mostre** uma mensagem de boas-vindas de acordo com o valor digitado."
      ]
    },
    {
      "cell_type": "code",
      "metadata": {
        "id": "hzTEDZTAZFaQ",
        "colab_type": "code",
        "outputId": "1ad2a3c4-a78e-490c-b555-0b9bd2f2748e",
        "colab": {
          "base_uri": "https://localhost:8080/",
          "height": 51
        }
      },
      "source": [
        "nome = input('Digite seu nome: ')\n",
        "print('É um prazer te conhecer, {}!'.format(nome))"
      ],
      "execution_count": 0,
      "outputs": [
        {
          "output_type": "stream",
          "text": [
            "Digite seu nome: Hamilton\n",
            "É um prazer te conhecer, Hamilton!\n"
          ],
          "name": "stdout"
        }
      ]
    },
    {
      "cell_type": "markdown",
      "metadata": {
        "id": "EOn7kYH9pHRX",
        "colab_type": "text"
      },
      "source": [
        "#### Desafio 003 - Somando dois números | Aula 06\n"
      ]
    },
    {
      "cell_type": "markdown",
      "metadata": {
        "id": "T0eSJvYdtrlU",
        "colab_type": "text"
      },
      "source": [
        "Ex.003 - Crei um programa que **leia** dois números e mostre a **soma** entre eles."
      ]
    },
    {
      "cell_type": "code",
      "metadata": {
        "id": "MpGWZqkHvGi3",
        "colab_type": "code",
        "colab": {
          "base_uri": "https://localhost:8080/",
          "height": 102
        },
        "outputId": "4b7dfa43-523e-4fc5-c98c-5a4e78ad3e82"
      },
      "source": [
        "print('============= DESAFIO 03 ==============')\n",
        "print('Digite dois números para calcular a soma.')\n",
        "n1 = int(input('Digite o primeiro valor: '))\n",
        "n2 = int(input('Digite o segundo valor: '))\n",
        "\n",
        "s = n1 + n2\n",
        "\n",
        "print('A soma entre o primeiro valor ({}) e o segundo valor ({}) é igual a: {}.'.format(n1, n2, s))"
      ],
      "execution_count": 3,
      "outputs": [
        {
          "output_type": "stream",
          "text": [
            "============= DESAFIO 03 ==============\n",
            "Digite dois números para calcular a soma.\n",
            "Digite o primeiro valor: 5\n",
            "Digite o segundo valor: 4\n",
            "A soma entre o primeiro valor (5) e o segundo valor (4) é: 9\n"
          ],
          "name": "stdout"
        }
      ]
    },
    {
      "cell_type": "markdown",
      "metadata": {
        "id": "ts2o6b7vxBOp",
        "colab_type": "text"
      },
      "source": [
        "#### Desafio 04 - Dissecando uma Variável | Aula 06"
      ]
    },
    {
      "cell_type": "markdown",
      "metadata": {
        "id": "xyNn7jQFxQPW",
        "colab_type": "text"
      },
      "source": [
        "Ex.004 - Faça um programa que **leia** algo pelo teclado e **mostre** na tela o seu **tipo primitivo** e **todas as informações** possíveis sobre ele."
      ]
    },
    {
      "cell_type": "code",
      "metadata": {
        "id": "a8C-cLDrxtD9",
        "colab_type": "code",
        "colab": {
          "base_uri": "https://localhost:8080/",
          "height": 204
        },
        "outputId": "7c1d5935-254d-4f37-8058-825708892bf9"
      },
      "source": [
        "print('============= DESAFIO 04 ==============')\n",
        "print('Digite algo.')\n",
        "n = input('Digite algo: ')\n",
        "\n",
        "print('O tipo primitivo de ({}) é: '.format(n), type(n))\n",
        "print('O conteúdo ({}) só tem espaço? '.format(n, n.isspace()))\n",
        "print('O conteúdo ({}) é um número? {}'.format(n, n.isnumeric()))\n",
        "print('O contéudo ({}) é alfabético? {}'.format(n, n.isalpha()))\n",
        "print('O contéudo ({}) é alfanumérico? {}'.format(n, n.isalnum()))\n",
        "print('O conteúdo ({}) está em maiúsculas? {}'.format(n, n.isupper()))\n",
        "print('O conteúdo ({}) está em minúsculas? {}'.format(n, n.islower()))\n",
        "print('O conteúdo ({}) está capitalizada? {}'.format(n, n.istitle()))"
      ],
      "execution_count": 11,
      "outputs": [
        {
          "output_type": "stream",
          "text": [
            "============= DESAFIO 04 ==============\n",
            "Digite algo.\n",
            "Digite algo: FUB-6502\n",
            "O tipo primitivo de (FUB-6502) é:  <class 'str'>\n",
            "O conteúdo (FUB-6502) só tem espaço? \n",
            "O conteúdo (FUB-6502) é um número? False\n",
            "O contéudo (FUB-6502) é alfabético? False\n",
            "O contéudo (FUB-6502) é alfanumérico? False\n",
            "O conteúdo (FUB-6502) está em maiúsculas? True\n",
            "O conteúdo (FUB-6502) está em minúsculas? False\n",
            "O conteúdo (FUB-6502) está capitalizada? False\n"
          ],
          "name": "stdout"
        }
      ]
    }
  ]
}