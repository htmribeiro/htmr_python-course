{
  "nbformat": 4,
  "nbformat_minor": 0,
  "metadata": {
    "colab": {
      "name": "[Curso em Vídeo] Exercícios de Python 3.ipynb",
      "provenance": [],
      "collapsed_sections": [
        "kq6cx_2D8p6a",
        "-d9qkH_HXT8-",
        "EOn7kYH9pHRX",
        "ts2o6b7vxBOp"
      ],
      "toc_visible": true,
      "include_colab_link": true
    },
    "kernelspec": {
      "name": "python3",
      "display_name": "Python 3"
    }
  },
  "cells": [
    {
      "cell_type": "markdown",
      "metadata": {
        "id": "view-in-github",
        "colab_type": "text"
      },
      "source": [
        "<a href=\"https://colab.research.google.com/github/htmribeiro/htmr_python-course/blob/master/%5BCurso_em_V%C3%ADdeo%5D_Exerc%C3%ADcios_de_Python_3.ipynb\" target=\"_parent\"><img src=\"https://colab.research.google.com/assets/colab-badge.svg\" alt=\"Open In Colab\"/></a>"
      ]
    },
    {
      "cell_type": "markdown",
      "metadata": {
        "id": "kq6cx_2D8p6a",
        "colab_type": "text"
      },
      "source": [
        "#### DESAFIO 001 - Deixando tudo pronto | Aula 04"
      ]
    },
    {
      "cell_type": "markdown",
      "metadata": {
        "id": "myHlqCOF9xjx",
        "colab_type": "text"
      },
      "source": [
        "Ex.001 - Crie um programa que escreva \"Olá, Mundo!\" na tela."
      ]
    },
    {
      "cell_type": "code",
      "metadata": {
        "id": "pXhjJ1WR98xE",
        "colab_type": "code",
        "outputId": "3e30b8e3-7c2d-4ae6-c4e5-1a87ed09851e",
        "colab": {
          "base_uri": "https://localhost:8080/",
          "height": 51
        }
      },
      "source": [
        "print('{:=^60}'.format(' DESAFIO 001 '))\n",
        "print('Olá, Mundo!')\n"
      ],
      "execution_count": 0,
      "outputs": [
        {
          "output_type": "stream",
          "text": [
            "======================= DESAFIO 001 ========================\n",
            "Olá, Mundo!\n"
          ],
          "name": "stdout"
        }
      ]
    },
    {
      "cell_type": "code",
      "metadata": {
        "id": "hWTGawZi-tlP",
        "colab_type": "code",
        "outputId": "f9431430-53a7-4c1a-ec77-eb2c58797f7d",
        "colab": {
          "base_uri": "https://localhost:8080/",
          "height": 51
        }
      },
      "source": [
        "print('{:=^60}'.format(' DESAFIO 001 '))\n",
        "msg = 'Olá, Mundo!'\n",
        "print(msg)"
      ],
      "execution_count": 0,
      "outputs": [
        {
          "output_type": "stream",
          "text": [
            "======================= DESAFIO 001 ========================\n",
            "Olá, Mundo!\n"
          ],
          "name": "stdout"
        }
      ]
    },
    {
      "cell_type": "markdown",
      "metadata": {
        "id": "-d9qkH_HXT8-",
        "colab_type": "text"
      },
      "source": [
        "#### DESAFIO 002 - Respondendo ao Usuário | Aula 04"
      ]
    },
    {
      "cell_type": "markdown",
      "metadata": {
        "id": "J2L1gTMnYv6o",
        "colab_type": "text"
      },
      "source": [
        "Ex.002 - Crie um script Python que **leia** o nome de uma pessoa e **mostre** uma mensagem de boas-vindas de acordo com o valor digitado."
      ]
    },
    {
      "cell_type": "code",
      "metadata": {
        "id": "hzTEDZTAZFaQ",
        "colab_type": "code",
        "outputId": "1f326ac1-82fb-4a1f-d5f1-608d67f1f161",
        "colab": {
          "base_uri": "https://localhost:8080/",
          "height": 68
        }
      },
      "source": [
        "print('{:=^60}'.format(' DESAFIO 002 '))\n",
        "nome = input('Digite seu nome: ')\n",
        "print('É um prazer te conhecer, {}!'.format(nome))"
      ],
      "execution_count": 0,
      "outputs": [
        {
          "output_type": "stream",
          "text": [
            "======================= DESAFIO 002 ========================\n",
            "Digite seu nome: Hamilton\n",
            "É um prazer te conhecer, Hamilton!\n"
          ],
          "name": "stdout"
        }
      ]
    },
    {
      "cell_type": "markdown",
      "metadata": {
        "id": "EOn7kYH9pHRX",
        "colab_type": "text"
      },
      "source": [
        "#### Desafio 003 - Somando dois números | Aula 06\n"
      ]
    },
    {
      "cell_type": "markdown",
      "metadata": {
        "id": "T0eSJvYdtrlU",
        "colab_type": "text"
      },
      "source": [
        "Ex.003 - Crei um programa que **leia** dois números e mostre a **soma** entre eles."
      ]
    },
    {
      "cell_type": "code",
      "metadata": {
        "id": "MpGWZqkHvGi3",
        "colab_type": "code",
        "outputId": "5504e573-665f-41f8-b584-d54c800f1f0a",
        "colab": {
          "base_uri": "https://localhost:8080/",
          "height": 102
        }
      },
      "source": [
        "print('{:=^60}'.format(' DESAFIO 003 '))\n",
        "print('Digite dois números para calcular a soma.')\n",
        "n1 = int(input('Digite o primeiro valor: '))\n",
        "n2 = int(input('Digite o segundo valor: '))\n",
        "\n",
        "s = n1 + n2\n",
        "\n",
        "print('A soma entre o valor ({}) e o valor ({}) é igual a: {}.'.format(n1, n2, s))"
      ],
      "execution_count": 0,
      "outputs": [
        {
          "output_type": "stream",
          "text": [
            "======================= DESAFIO 003 ========================\n",
            "Digite dois números para calcular a soma.\n",
            "Digite o primeiro valor: 4\n",
            "Digite o segundo valor: 3\n",
            "A soma entre o primeiro valor (4) e o segundo valor (3) é igual a: 7.\n"
          ],
          "name": "stdout"
        }
      ]
    },
    {
      "cell_type": "markdown",
      "metadata": {
        "id": "ts2o6b7vxBOp",
        "colab_type": "text"
      },
      "source": [
        "#### Desafio 004 - Dissecando uma Variável | Aula 06"
      ]
    },
    {
      "cell_type": "markdown",
      "metadata": {
        "id": "xyNn7jQFxQPW",
        "colab_type": "text"
      },
      "source": [
        "Ex.004 - Faça um programa que **leia** algo pelo teclado e **mostre** na tela o seu **tipo primitivo** e **todas as informações** possíveis sobre ele."
      ]
    },
    {
      "cell_type": "code",
      "metadata": {
        "id": "a8C-cLDrxtD9",
        "colab_type": "code",
        "outputId": "cba87741-2ee7-4cb2-962f-d2a2d4d2476d",
        "colab": {
          "base_uri": "https://localhost:8080/",
          "height": 187
        }
      },
      "source": [
        "print('{:=^60}'.format(' DESAFIO 004 '))\n",
        "n = input('Digite algo: ')\n",
        "\n",
        "print('O tipo primitivo de ({}) é: '.format(n), type(n))\n",
        "print('O conteúdo ({}) só tem espaço? '.format(n, n.isspace()))\n",
        "print('O conteúdo ({}) é um número? {}'.format(n, n.isnumeric()))\n",
        "print('O contéudo ({}) é alfabético? {}'.format(n, n.isalpha()))\n",
        "print('O contéudo ({}) é alfanumérico? {}'.format(n, n.isalnum()))\n",
        "print('O conteúdo ({}) está em maiúsculas? {}'.format(n, n.isupper()))\n",
        "print('O conteúdo ({}) está em minúsculas? {}'.format(n, n.islower()))\n",
        "print('O conteúdo ({}) está capitalizada? {}'.format(n, n.istitle()))"
      ],
      "execution_count": 0,
      "outputs": [
        {
          "output_type": "stream",
          "text": [
            "======================= DESAFIO 004 ========================\n",
            "Digite algo: 44.3\n",
            "O tipo primitivo de (44.3) é:  <class 'str'>\n",
            "O conteúdo (44.3) só tem espaço? \n",
            "O conteúdo (44.3) é um número? False\n",
            "O contéudo (44.3) é alfabético? False\n",
            "O contéudo (44.3) é alfanumérico? False\n",
            "O conteúdo (44.3) está em maiúsculas? False\n",
            "O conteúdo (44.3) está em minúsculas? False\n",
            "O conteúdo (44.3) está capitalizada? False\n"
          ],
          "name": "stdout"
        }
      ]
    },
    {
      "cell_type": "markdown",
      "metadata": {
        "id": "A9IH35WbksWN",
        "colab_type": "text"
      },
      "source": [
        "#### Desafio 005 - Antecessor e Sucessor | Aula 07"
      ]
    },
    {
      "cell_type": "markdown",
      "metadata": {
        "id": "A9IPWOs6lUxw",
        "colab_type": "text"
      },
      "source": [
        "Ex.005 - Faça um programa que **leia** um **número Inteiro** e **mostre** na tela o seu ***sucessor*** e seu ***antecessor***."
      ]
    },
    {
      "cell_type": "code",
      "metadata": {
        "id": "1Rv-GjSWlkdH",
        "colab_type": "code",
        "outputId": "d7fc2128-658d-4d8c-d3c3-37c9c43516c3",
        "colab": {
          "base_uri": "https://localhost:8080/",
          "height": 102
        }
      },
      "source": [
        "print('{:=^50}'.format(' Desafio 005 ')) #cabeçalho\n",
        "\n",
        "n = int(input('Digite um valor: '))\n",
        "print('O número digitado foi: {} \\nE o seu Antecessor é: {} \\nE o seu Sucessor é: {}'.format(n, n-1, n+1))"
      ],
      "execution_count": 2,
      "outputs": [
        {
          "output_type": "stream",
          "text": [
            "================== Desafio 005 ===================\n",
            "Digite um valor: 52\n",
            "O número digitado foi: 52 \n",
            "E o seu antecessor é: 51 \n",
            "E o seu sucessor é: 53\n"
          ],
          "name": "stdout"
        }
      ]
    },
    {
      "cell_type": "markdown",
      "metadata": {
        "id": "P5M_HGMUuLt4",
        "colab_type": "text"
      },
      "source": [
        "#### Desafio 006 - dobro, triplo e raiz quadrada | Aula 07"
      ]
    },
    {
      "cell_type": "markdown",
      "metadata": {
        "id": "JcJ1R2RYvDXE",
        "colab_type": "text"
      },
      "source": [
        "Ex.006 - Crie um algoritmo que **leia** um número e **mostre** o seu **dobro**, **triplo** e **raiz quadrada**."
      ]
    },
    {
      "cell_type": "code",
      "metadata": {
        "id": "noaUKPI1wVP3",
        "colab_type": "code",
        "colab": {
          "base_uri": "https://localhost:8080/",
          "height": 102
        },
        "outputId": "b707fd9a-8fc2-4cf4-f774-9efa9f074451"
      },
      "source": [
        "print('{:=^50}'.format(' Desafio 006 ')) #cabeçalho\n",
        "\n",
        "n = int(input('Digite um número: '))\n",
        "\n",
        "#d = n * 2 \n",
        "#t = n * 3\n",
        "#r = n ** (1/2)\n",
        "\n",
        "print('O dobro de {} é: {}'.format(n, n*2))\n",
        "print('O triplo de {} é: {}'.format(n, n*3))\n",
        "print('E a raíz quadrada de {} é: {:.2f}.'.format(n, pow(n, (1/2))))"
      ],
      "execution_count": 10,
      "outputs": [
        {
          "output_type": "stream",
          "text": [
            "================== Desafio 006 ===================\n",
            "Digite um número: 16\n",
            "O dobro de 16 é: 32\n",
            "O triplo de 16 é: 48\n",
            "E a raíz quadrada de 16 é: 4.00.\n"
          ],
          "name": "stdout"
        }
      ]
    }
  ]
}