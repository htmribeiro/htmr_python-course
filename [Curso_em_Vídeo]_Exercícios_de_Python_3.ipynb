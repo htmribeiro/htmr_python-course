{
  "nbformat": 4,
  "nbformat_minor": 0,
  "metadata": {
    "colab": {
      "name": "[Curso em Vídeo] Exercícios de Python 3.ipynb",
      "provenance": [],
      "collapsed_sections": [
        "kq6cx_2D8p6a",
        "-d9qkH_HXT8-",
        "yWIxTgDhehm_",
        "eiyohdpPjHPJ"
      ],
      "toc_visible": true,
      "include_colab_link": true
    },
    "kernelspec": {
      "name": "python3",
      "display_name": "Python 3"
    }
  },
  "cells": [
    {
      "cell_type": "markdown",
      "metadata": {
        "id": "view-in-github",
        "colab_type": "text"
      },
      "source": [
        "<a href=\"https://colab.research.google.com/github/htmribeiro/htmr_python-course/blob/master/%5BCurso_em_V%C3%ADdeo%5D_Exerc%C3%ADcios_de_Python_3.ipynb\" target=\"_parent\"><img src=\"https://colab.research.google.com/assets/colab-badge.svg\" alt=\"Open In Colab\"/></a>"
      ]
    },
    {
      "cell_type": "markdown",
      "metadata": {
        "id": "kq6cx_2D8p6a",
        "colab_type": "text"
      },
      "source": [
        "#### DESAFIO 001 - Deixando tudo pronto | Aula 04"
      ]
    },
    {
      "cell_type": "markdown",
      "metadata": {
        "id": "myHlqCOF9xjx",
        "colab_type": "text"
      },
      "source": [
        "Ex.001 - Crie um programa que escreva \"Olá, Mundo!\" na tela."
      ]
    },
    {
      "cell_type": "code",
      "metadata": {
        "id": "pXhjJ1WR98xE",
        "colab_type": "code",
        "outputId": "3e30b8e3-7c2d-4ae6-c4e5-1a87ed09851e",
        "colab": {
          "base_uri": "https://localhost:8080/",
          "height": 51
        }
      },
      "source": [
        "print('{:=^60}'.format(' DESAFIO 001 '))\n",
        "print('Olá, Mundo!')\n"
      ],
      "execution_count": 0,
      "outputs": [
        {
          "output_type": "stream",
          "text": [
            "======================= DESAFIO 001 ========================\n",
            "Olá, Mundo!\n"
          ],
          "name": "stdout"
        }
      ]
    },
    {
      "cell_type": "code",
      "metadata": {
        "id": "hWTGawZi-tlP",
        "colab_type": "code",
        "outputId": "f9431430-53a7-4c1a-ec77-eb2c58797f7d",
        "colab": {
          "base_uri": "https://localhost:8080/",
          "height": 51
        }
      },
      "source": [
        "print('{:=^60}'.format(' DESAFIO 001 '))\n",
        "msg = 'Olá, Mundo!'\n",
        "print(msg)"
      ],
      "execution_count": 0,
      "outputs": [
        {
          "output_type": "stream",
          "text": [
            "======================= DESAFIO 001 ========================\n",
            "Olá, Mundo!\n"
          ],
          "name": "stdout"
        }
      ]
    },
    {
      "cell_type": "markdown",
      "metadata": {
        "id": "-d9qkH_HXT8-",
        "colab_type": "text"
      },
      "source": [
        "#### DESAFIO 002 - Respondendo ao Usuário | Aula 04"
      ]
    },
    {
      "cell_type": "markdown",
      "metadata": {
        "id": "J2L1gTMnYv6o",
        "colab_type": "text"
      },
      "source": [
        "Ex.002 - Crie um script Python que **leia** o nome de uma pessoa e **mostre** uma mensagem de boas-vindas de acordo com o valor digitado."
      ]
    },
    {
      "cell_type": "code",
      "metadata": {
        "id": "hzTEDZTAZFaQ",
        "colab_type": "code",
        "outputId": "1f326ac1-82fb-4a1f-d5f1-608d67f1f161",
        "colab": {
          "base_uri": "https://localhost:8080/",
          "height": 68
        }
      },
      "source": [
        "print('{:=^60}'.format(' DESAFIO 002 '))\n",
        "nome = input('Digite seu nome: ')\n",
        "print('É um prazer te conhecer, {}!'.format(nome))"
      ],
      "execution_count": 0,
      "outputs": [
        {
          "output_type": "stream",
          "text": [
            "======================= DESAFIO 002 ========================\n",
            "Digite seu nome: Hamilton\n",
            "É um prazer te conhecer, Hamilton!\n"
          ],
          "name": "stdout"
        }
      ]
    },
    {
      "cell_type": "markdown",
      "metadata": {
        "id": "EOn7kYH9pHRX",
        "colab_type": "text"
      },
      "source": [
        "#### DESAFIO 003 - Somando dois números | Aula 06\n"
      ]
    },
    {
      "cell_type": "markdown",
      "metadata": {
        "id": "T0eSJvYdtrlU",
        "colab_type": "text"
      },
      "source": [
        "Ex.003 - Crei um programa que **leia** dois números e mostre a **soma** entre eles."
      ]
    },
    {
      "cell_type": "code",
      "metadata": {
        "id": "MpGWZqkHvGi3",
        "colab_type": "code",
        "outputId": "5504e573-665f-41f8-b584-d54c800f1f0a",
        "colab": {
          "base_uri": "https://localhost:8080/",
          "height": 102
        }
      },
      "source": [
        "print('{:=^60}'.format(' DESAFIO 003 '))\n",
        "print('Digite dois números para calcular a soma.')\n",
        "n1 = int(input('Digite o primeiro valor: '))\n",
        "n2 = int(input('Digite o segundo valor: '))\n",
        "\n",
        "s = n1 + n2\n",
        "\n",
        "print('A soma entre o valor ({}) e o valor ({}) é igual a: {}.'.format(n1, n2, s))"
      ],
      "execution_count": 0,
      "outputs": [
        {
          "output_type": "stream",
          "text": [
            "======================= DESAFIO 003 ========================\n",
            "Digite dois números para calcular a soma.\n",
            "Digite o primeiro valor: 4\n",
            "Digite o segundo valor: 3\n",
            "A soma entre o primeiro valor (4) e o segundo valor (3) é igual a: 7.\n"
          ],
          "name": "stdout"
        }
      ]
    },
    {
      "cell_type": "markdown",
      "metadata": {
        "id": "ts2o6b7vxBOp",
        "colab_type": "text"
      },
      "source": [
        "#### DESAFIO 004 - Dissecando uma Variável | Aula 06"
      ]
    },
    {
      "cell_type": "markdown",
      "metadata": {
        "id": "xyNn7jQFxQPW",
        "colab_type": "text"
      },
      "source": [
        "Ex.004 - Faça um programa que **leia** algo pelo teclado e **mostre** na tela o seu **tipo primitivo** e **todas as informações** possíveis sobre ele."
      ]
    },
    {
      "cell_type": "code",
      "metadata": {
        "id": "a8C-cLDrxtD9",
        "colab_type": "code",
        "outputId": "cba87741-2ee7-4cb2-962f-d2a2d4d2476d",
        "colab": {
          "base_uri": "https://localhost:8080/",
          "height": 187
        }
      },
      "source": [
        "print('{:=^60}'.format(' DESAFIO 004 '))\n",
        "n = input('Digite algo: ')\n",
        "\n",
        "print('O tipo primitivo de ({}) é: '.format(n), type(n))\n",
        "print('O conteúdo ({}) só tem espaço? '.format(n, n.isspace()))\n",
        "print('O conteúdo ({}) é um número? {}'.format(n, n.isnumeric()))\n",
        "print('O contéudo ({}) é alfabético? {}'.format(n, n.isalpha()))\n",
        "print('O contéudo ({}) é alfanumérico? {}'.format(n, n.isalnum()))\n",
        "print('O conteúdo ({}) está em maiúsculas? {}'.format(n, n.isupper()))\n",
        "print('O conteúdo ({}) está em minúsculas? {}'.format(n, n.islower()))\n",
        "print('O conteúdo ({}) está capitalizada? {}'.format(n, n.istitle()))"
      ],
      "execution_count": 0,
      "outputs": [
        {
          "output_type": "stream",
          "text": [
            "======================= DESAFIO 004 ========================\n",
            "Digite algo: 44.3\n",
            "O tipo primitivo de (44.3) é:  <class 'str'>\n",
            "O conteúdo (44.3) só tem espaço? \n",
            "O conteúdo (44.3) é um número? False\n",
            "O contéudo (44.3) é alfabético? False\n",
            "O contéudo (44.3) é alfanumérico? False\n",
            "O conteúdo (44.3) está em maiúsculas? False\n",
            "O conteúdo (44.3) está em minúsculas? False\n",
            "O conteúdo (44.3) está capitalizada? False\n"
          ],
          "name": "stdout"
        }
      ]
    },
    {
      "cell_type": "markdown",
      "metadata": {
        "id": "A9IH35WbksWN",
        "colab_type": "text"
      },
      "source": [
        "#### DESAFIO 005 - Antecessor e Sucessor | Aula 07"
      ]
    },
    {
      "cell_type": "markdown",
      "metadata": {
        "id": "A9IPWOs6lUxw",
        "colab_type": "text"
      },
      "source": [
        "Ex.005 - Faça um programa que **leia** um **número Inteiro** e **mostre** na tela o seu ***sucessor*** e seu ***antecessor***."
      ]
    },
    {
      "cell_type": "code",
      "metadata": {
        "id": "1Rv-GjSWlkdH",
        "colab_type": "code",
        "outputId": "d7fc2128-658d-4d8c-d3c3-37c9c43516c3",
        "colab": {
          "base_uri": "https://localhost:8080/",
          "height": 102
        }
      },
      "source": [
        "print('{:=^50}'.format(' Desafio 005 ')) #cabeçalho\n",
        "\n",
        "n = int(input('Digite um valor: '))\n",
        "print('O número digitado foi: {} \\nE o seu Antecessor é: {} \\nE o seu Sucessor é: {}'.format(n, n-1, n+1))"
      ],
      "execution_count": 0,
      "outputs": [
        {
          "output_type": "stream",
          "text": [
            "================== Desafio 005 ===================\n",
            "Digite um valor: 52\n",
            "O número digitado foi: 52 \n",
            "E o seu antecessor é: 51 \n",
            "E o seu sucessor é: 53\n"
          ],
          "name": "stdout"
        }
      ]
    },
    {
      "cell_type": "markdown",
      "metadata": {
        "id": "P5M_HGMUuLt4",
        "colab_type": "text"
      },
      "source": [
        "#### DESAFIO 006 - dobro, triplo e raiz quadrada | Aula 07"
      ]
    },
    {
      "cell_type": "markdown",
      "metadata": {
        "id": "JcJ1R2RYvDXE",
        "colab_type": "text"
      },
      "source": [
        "Ex.006 - Crie um algoritmo que **leia** um número e **mostre** o seu **dobro**, **triplo** e **raiz quadrada**."
      ]
    },
    {
      "cell_type": "code",
      "metadata": {
        "id": "noaUKPI1wVP3",
        "colab_type": "code",
        "outputId": "b707fd9a-8fc2-4cf4-f774-9efa9f074451",
        "colab": {
          "base_uri": "https://localhost:8080/",
          "height": 102
        }
      },
      "source": [
        "print('{:=^50}'.format(' Desafio 006 ')) #cabeçalho\n",
        "\n",
        "n = int(input('Digite um número: '))\n",
        "\n",
        "#d = n * 2 \n",
        "#t = n * 3\n",
        "#r = n ** (1/2)\n",
        "\n",
        "print('O dobro de {} é: {}'.format(n, n*2))\n",
        "print('O triplo de {} é: {}'.format(n, n*3))\n",
        "print('E a raíz quadrada de {} é: {:.2f}.'.format(n, pow(n, (1/2))))"
      ],
      "execution_count": 0,
      "outputs": [
        {
          "output_type": "stream",
          "text": [
            "================== Desafio 006 ===================\n",
            "Digite um número: 16\n",
            "O dobro de 16 é: 32\n",
            "O triplo de 16 é: 48\n",
            "E a raíz quadrada de 16 é: 4.00.\n"
          ],
          "name": "stdout"
        }
      ]
    },
    {
      "cell_type": "markdown",
      "metadata": {
        "id": "d7C1v3kn27RB",
        "colab_type": "text"
      },
      "source": [
        "#### DESAFIO 007 - Média Aritmética | Aula 07"
      ]
    },
    {
      "cell_type": "markdown",
      "metadata": {
        "id": "gbXhWL4I3GSr",
        "colab_type": "text"
      },
      "source": [
        "Ex.007 - Desenvolva um programa que leia as duas notas de um aluno, calcule e mostre a sua média."
      ]
    },
    {
      "cell_type": "code",
      "metadata": {
        "id": "FbNd6IDG5_mF",
        "colab_type": "code",
        "outputId": "bc16363a-9829-448b-eeb4-0a66a9fa6b54",
        "colab": {
          "base_uri": "https://localhost:8080/",
          "height": 85
        }
      },
      "source": [
        "print('{:=^50}'.format(' Desafio 007 '))\n",
        "\n",
        "n1 = float(input('Digite a primeira nota: '))\n",
        "n2 = float(input('Digite a segunda nota: '))\n",
        "\n",
        "m = (n1 + n2)/2\n",
        "\n",
        "print('A média entre as notas {} e {} é igual a: {:.1f}'.format(n1, n2, m))"
      ],
      "execution_count": 0,
      "outputs": [
        {
          "output_type": "stream",
          "text": [
            "================== Desafio 007 ===================\n",
            "Digite a primeira nota: 5\n",
            "Digite a segunda nota: 5.5\n",
            "A média entre as notas 5.0 e 5.5 é igual a: 5.2\n"
          ],
          "name": "stdout"
        }
      ]
    },
    {
      "cell_type": "markdown",
      "metadata": {
        "id": "DrFowkNw7HRj",
        "colab_type": "text"
      },
      "source": [
        "#### DESAFIO 008 - Conversor de Medidas | Aula 07"
      ]
    },
    {
      "cell_type": "markdown",
      "metadata": {
        "id": "fmzCB9e77S1k",
        "colab_type": "text"
      },
      "source": [
        "Ex.008 - Escreva um programa que leia um valor em metros e o exiva convertido em centímetros e milímetros.  \n",
        "\n",
        "\n",
        "|**kilometro**|**hectometro**|**decametro**|**Metro**|**decimetro**|**centimetro**|**milimetro**| \n",
        "|:---:|:---:|:---:|:---:|:---:|:---:|:---:|\n",
        "|0,001|0,01|0,1|1|10|100|1000|\n",
        "|km|hm|dam|m|dm|cm|mm|\n"
      ]
    },
    {
      "cell_type": "code",
      "metadata": {
        "id": "4qFsvmXqBEUS",
        "colab_type": "code",
        "outputId": "00eab461-313f-4e3d-b1b1-ed3f90b9c9ed",
        "colab": {
          "base_uri": "https://localhost:8080/",
          "height": 170
        }
      },
      "source": [
        "print('{:=^50}'.format(' Desafio 008 '))\n",
        "\n",
        "mt = float(input('Digite a medida em metros: '))\n",
        "\n",
        "mm = mt * 1000\n",
        "cm = mt * 100\n",
        "dm = mt * 10\n",
        "dam = mt / 10\n",
        "hm = mt / 100\n",
        "km = mt / 1000\n",
        "\n",
        "print('A medida de {} m corresponde a: '.format(mt))\n",
        "print('{:.0f} mm \\n{:.0f} cm \\n{:.0f} dm'.format(mm, cm, dm))\n",
        "print('{} km \\n{} hm \\n{} dam'.format(km, hm, dam))"
      ],
      "execution_count": 0,
      "outputs": [
        {
          "output_type": "stream",
          "text": [
            "================== Desafio 008 ===================\n",
            "Digite a medida em metros: 2\n",
            "A medida de 2.0 m corresponde a: \n",
            "2000 mm \n",
            "200 cm \n",
            "20 dm\n",
            "0.002 km \n",
            "0.02 hm \n",
            "0.2 dam\n"
          ],
          "name": "stdout"
        }
      ]
    },
    {
      "cell_type": "markdown",
      "metadata": {
        "id": "WR3hF4bzYsLP",
        "colab_type": "text"
      },
      "source": [
        "#### DESAFIO 009 - Tabuada | Aula 07"
      ]
    },
    {
      "cell_type": "markdown",
      "metadata": {
        "id": "SCZAR6I-Y-a4",
        "colab_type": "text"
      },
      "source": [
        "Ex.009 - Faça um programa que leia um número inteiro qualquer e mostre na tela a sua tabuada."
      ]
    },
    {
      "cell_type": "code",
      "metadata": {
        "id": "BIE9c2bCZI_R",
        "colab_type": "code",
        "outputId": "e07d7838-4e73-4326-8dff-44f546d6d26a",
        "colab": {
          "base_uri": "https://localhost:8080/",
          "height": 221
        }
      },
      "source": [
        "print('{:=^50}'.format(' Desafio 008 '))\n",
        "\n",
        "n = int(input('Deseja visualizar a Tabuada de qual número? '))\n",
        "\n",
        "print('{} x {:2} = {}'.format(n, 1, n*1))\n",
        "print('{} x {:2} = {}'.format(n, 2, n*2))\n",
        "print('{} x {:2} = {}'.format(n, 3, n*3))\n",
        "print('{} x {:2} = {}'.format(n, 4, n*4))\n",
        "print('{} x {:2} = {}'.format(n, 5, n*5))\n",
        "print('{} x {:2} = {}'.format(n, 6, n*6))\n",
        "print('{} x {:2} = {}'.format(n, 7, n*7))\n",
        "print('{} x {:2} = {}'.format(n, 8, n*8))\n",
        "print('{} x {:2} = {}'.format(n, 9, n*9))\n",
        "print('{} x {:2} = {}'.format(n, 10, n*10))"
      ],
      "execution_count": 0,
      "outputs": [
        {
          "output_type": "stream",
          "text": [
            "================== Desafio 008 ===================\n",
            "Deseja visualizar a Tabuada de qual número? 12\n",
            "12 x  1 = 12\n",
            "12 x  2 = 24\n",
            "12 x  3 = 36\n",
            "12 x  4 = 48\n",
            "12 x  5 = 60\n",
            "12 x  6 = 72\n",
            "12 x  7 = 84\n",
            "12 x  8 = 96\n",
            "12 x  9 = 108\n",
            "12 x 10 = 120\n"
          ],
          "name": "stdout"
        }
      ]
    },
    {
      "cell_type": "markdown",
      "metadata": {
        "id": "PqFGxNaTW3HJ",
        "colab_type": "text"
      },
      "source": [
        "#### DESAFIO 010 - Conversor de Moedas | Aula 07"
      ]
    },
    {
      "cell_type": "markdown",
      "metadata": {
        "id": "8rjITdrAkQXg",
        "colab_type": "text"
      },
      "source": [
        "ex.010 - Crie um programa leia quanto dinheiro uma pessoa tem na carteira e mostre quantos Dólares ela pode comprar."
      ]
    },
    {
      "cell_type": "code",
      "metadata": {
        "id": "pXOZj1EJaBw9",
        "colab_type": "code",
        "outputId": "2cec5184-1f42-4c32-9b84-2ec980217d3c",
        "colab": {
          "base_uri": "https://localhost:8080/",
          "height": 272
        }
      },
      "source": [
        "print('{:=^50}'.format(' Desafio 010 '))\n",
        "\n",
        "real = float(input('Quanto vc tem na carteira?\\nR$'))\n",
        "dataCot = '27/12/2019'\n",
        "\n",
        "cotUs = 4.24\n",
        "cotEu = 4.74\n",
        "cotLi = 5.68\n",
        "\n",
        "dolar = real / cotUs\n",
        "euro = real / cotEu\n",
        "libra = real / cotLi\n",
        "\n",
        "print('\\n{:-^50}'.format(' Dólar '))\n",
        "print('Com o valor de R${:.2f}, vc poderá comprar US${:.2f}.'.format(real, dolar))\n",
        "print('Cotação do US$ valendo {:.2f} em {}.'.format(cotUs, dataCot))\n",
        "\n",
        "print('\\n{:-^50}'.format(' Euro '))\n",
        "print('Com o valor de R${:.2f}, vc poderá comprar €{:.2f}.'.format(real, euro))\n",
        "print('Cotação do € valento {:.2f} em {}.'.format(cotEu, dataCot))\n",
        "\n",
        "print('\\n{:-^50}'.format(' Libra '))\n",
        "print('Com o valor de R${:.2f}, vc poderá comprar ₡{:.2f}'.format(real, libra))\n",
        "print('Cotação da ₡ valendo {:.2f} em {}.'.format(cotLi, dataCot))"
      ],
      "execution_count": 0,
      "outputs": [
        {
          "output_type": "stream",
          "text": [
            "================== Desafio 010 ===================\n",
            "Quanto vc tem na carteira?\n",
            "R$250\n",
            "\n",
            "--------------------- Dólar ----------------------\n",
            "Com o valor de R$250.00, vc poderá comprar US$58.96.\n",
            "Cotação do US$ valendo 4.24 em 27/12/2019.\n",
            "\n",
            "---------------------- Euro ----------------------\n",
            "Com o valor de R$250.00, vc poderá comprar €52.74.\n",
            "Cotação do € valento 4.74 em 27/12/2019.\n",
            "\n",
            "--------------------- Libra ----------------------\n",
            "Com o valor de R$250.00, vc poderá comprar ₡44.01\n",
            "Cotação do ₡ valendo 5.68 em 27/12/2019.\n"
          ],
          "name": "stdout"
        }
      ]
    },
    {
      "cell_type": "code",
      "metadata": {
        "id": "kwQ-_zTFOyKw",
        "colab_type": "code",
        "colab": {}
      },
      "source": [
        ""
      ],
      "execution_count": 0,
      "outputs": []
    },
    {
      "cell_type": "markdown",
      "metadata": {
        "id": "9wN-JqizJenS",
        "colab_type": "text"
      },
      "source": [
        "#### DESAFIO 011 - Pintando Parede | Aula 07"
      ]
    },
    {
      "cell_type": "markdown",
      "metadata": {
        "id": "-wJw5KZEJpWP",
        "colab_type": "text"
      },
      "source": [
        "Ex.011 - Faça um programa que leia a largura e a altura de uma parede em metros, calcule a sua área e a quantidade de tinta necessária para pintá-la.  \n",
        "![tips] sabendo que cada litro de tinta, pinta uma área de 2m²."
      ]
    },
    {
      "cell_type": "code",
      "metadata": {
        "id": "elCjztA5KpXb",
        "colab_type": "code",
        "outputId": "508bb1f2-3fd7-41a3-cbf8-5e3a465f7d32",
        "colab": {
          "base_uri": "https://localhost:8080/",
          "height": 221
        }
      },
      "source": [
        "print('{:=^50}'.format(' Desafio 011 '))\n",
        "\n",
        "w = float(input('Digite a Largura da parede (m): '))\n",
        "h = float(input('Digite a Altura da parede (m):'))\n",
        "\n",
        "area = w * h\n",
        "tintaLt = area / 2\n",
        "_2Demaos = tintaLt * 2\n",
        "\n",
        "print('\\n{:-^50}'.format(' Área da Parede '))\n",
        "print('A área calculada da parede é de {:.2f}m².'.format(area))\n",
        "\n",
        "print('\\n{:-^50}'.format(' Pintura - 1 Demão '))\n",
        "print('A quantidade de tinta necessária, será de {:.2f} Litros.'.format(tintaLt))\n",
        "\n",
        "print('\\n{:-^50}'.format(' Pintura - 2 Demãos '))\n",
        "print('A quantidade de tinta necessária, será de {:.2f} Litros.'.format(_2Demaos))"
      ],
      "execution_count": 0,
      "outputs": [
        {
          "output_type": "stream",
          "text": [
            "================== Desafio 011 ===================\n",
            "Digite a Largura da parede (m): 2.7\n",
            "Digite a Altura da parede (m):3\n",
            "\n",
            "----------------- Área da Parede -----------------\n",
            "A área calculada da parede é de 8.10m².\n",
            "\n",
            "--------------- Pintura - 1 Demão ----------------\n",
            "A quantidade de tinta necessária, será de 4.05 Litros.\n",
            "\n",
            "--------------- Pintura - 2 Demãos ---------------\n",
            "A quantidade de tinta necessária, será de 8.10 Litros.\n"
          ],
          "name": "stdout"
        }
      ]
    },
    {
      "cell_type": "markdown",
      "metadata": {
        "id": "yWIxTgDhehm_",
        "colab_type": "text"
      },
      "source": [
        "#### DESAFIO 012 - Calculando Descontos | Aula 07"
      ]
    },
    {
      "cell_type": "markdown",
      "metadata": {
        "id": "7HzHPcJVevnd",
        "colab_type": "text"
      },
      "source": [
        "Ex.012 - Faça um algoritmos que leia o preço de um produto e mostre seu novo preço, com 5% de desconto."
      ]
    },
    {
      "cell_type": "code",
      "metadata": {
        "id": "AYW1EG5RezbI",
        "colab_type": "code",
        "outputId": "bd0d1af6-b52c-476f-f72e-333afb6c2697",
        "colab": {
          "base_uri": "https://localhost:8080/",
          "height": 136
        }
      },
      "source": [
        "print('{:=^50}'.format(' Desafio 012 '))\n",
        "\n",
        "vlProd = float(input('Digite o valor do produto:\\nR$'))\n",
        "newPrice = vlProd - (vlProd * 5 / 100)\n",
        "\n",
        "print('\\n{:-^50}'.format(' O produto com 5% de Desconto '))\n",
        "print('DE: R${:.2f}\\nPOR: R${:.2f}'.format(vlProd, newPrice))"
      ],
      "execution_count": 0,
      "outputs": [
        {
          "output_type": "stream",
          "text": [
            "================== Desafio 012 ===================\n",
            "Digite o valor do produto:\n",
            "R$20\n",
            "\n",
            "---------- O produto com 5% de Desconto ----------\n",
            "DE: R$20.00\n",
            "POR: R$19.00\n"
          ],
          "name": "stdout"
        }
      ]
    },
    {
      "cell_type": "markdown",
      "metadata": {
        "id": "eiyohdpPjHPJ",
        "colab_type": "text"
      },
      "source": [
        "#### DESAFIO 013 - Reajuste Salarial | Aula 07"
      ]
    },
    {
      "cell_type": "markdown",
      "metadata": {
        "id": "0LSt0OD1jNnn",
        "colab_type": "text"
      },
      "source": [
        "Ex.013a - Faça um algoritmo que leia o salário de um funcionário e mostre seu novo salário, com 15% de aumento."
      ]
    },
    {
      "cell_type": "code",
      "metadata": {
        "id": "vxqJXSFcjQTF",
        "colab_type": "code",
        "outputId": "34d1b7d0-2465-4634-c31a-0da6dd313f1e",
        "colab": {
          "base_uri": "https://localhost:8080/",
          "height": 68
        }
      },
      "source": [
        "print('{:=^50}'.format(' Desafio 013 '))\n",
        "\n",
        "salarioAtual = float(input('Digite o valor do salário atual:\\R$'))\n",
        "percReajuste = 15\n",
        "novoSalario = salarioAtual + (salarioAtual * percReajuste / 100)\n",
        "\n",
        "print('Seu novo salário com {}% de reajuste, será de R${:.2f}.'.format(percReajuste, novoSalario))"
      ],
      "execution_count": 0,
      "outputs": [
        {
          "output_type": "stream",
          "text": [
            "================== Desafio 013 ===================\n",
            "Digite o valor do salário atual:\\R$6000\n",
            "Seu novo salário com 15% de reajuste, será de R$6900.00.\n"
          ],
          "name": "stdout"
        }
      ]
    },
    {
      "cell_type": "markdown",
      "metadata": {
        "id": "z86r7ZgEkktM",
        "colab_type": "text"
      },
      "source": [
        "Ex.013b - Faça um algoritmos que leia o preço de um produto e mostre seu novo preço, com 10% de desconto para pagamento à vista e acréscimo de 8% para pagamento parcelado."
      ]
    },
    {
      "cell_type": "code",
      "metadata": {
        "id": "qHKF-ggTllv1",
        "colab_type": "code",
        "outputId": "4a69047e-c456-4b18-95c0-2e2ec0c683d6",
        "colab": {
          "base_uri": "https://localhost:8080/",
          "height": 170
        }
      },
      "source": [
        "print('{:=^50}'.format(' Desafio 013 - Extra '))\n",
        "\n",
        "vlProd = float(input('Digite o valor do produto:\\nR$'))\n",
        "vlDesc = vlProd - (vlProd * 10 / 100)\n",
        "vlAcre = vlProd + (vlProd * 8 / 100)\n",
        "\n",
        "print('\\n{:-^50}'.format(' Desconto À Vista '))\n",
        "print('Seu produto à vista sairá por: R${:.2f}.'.format(vlDesc))\n",
        "\n",
        "print('\\n{:-^50}'.format(' Acréscimo no Pagamento parcelado '))\n",
        "print('Seu produto parcelado saíra por: R${:.2f}.'.format(vlAcre))"
      ],
      "execution_count": 0,
      "outputs": [
        {
          "output_type": "stream",
          "text": [
            "============== Desafio 013 - Extra ===============\n",
            "Digite o valor do produto:\n",
            "R$35\n",
            "\n",
            "---------------- Desconto À Vista ----------------\n",
            "Seu produto à vista sairá por: R$31.50.\n",
            "\n",
            "-------- Acréscimo no Pagamento parcelado --------\n",
            "Seu produto parcelado saíra por: R$37.80.\n"
          ],
          "name": "stdout"
        }
      ]
    },
    {
      "cell_type": "markdown",
      "metadata": {
        "id": "7gNhS5gLoyto",
        "colab_type": "text"
      },
      "source": [
        "#### DESAFIO 014 - Conversor de Temperatura | Aula 07"
      ]
    },
    {
      "cell_type": "markdown",
      "metadata": {
        "id": "JOg3wVLKxEuZ",
        "colab_type": "text"
      },
      "source": [
        "Ex.014 - Escreva um programa que converta uma temperatura digitando em graus Celsius e converta para graus Fahrenheit."
      ]
    },
    {
      "cell_type": "markdown",
      "metadata": {
        "id": "c0rC2_uc0MWl",
        "colab_type": "text"
      },
      "source": [
        "**Celsius → Fahrenheit** \n",
        "\n",
        "***Multiplicamos*** a temperatura em ºC por 1,8 e ***somamos*** 32 ao resultado.  \n",
        "\n",
        "**Exemplo:** \n",
        "Converter a temperatura de 15 ºC para ºF.  \n",
        "```\n",
        "15 x 1,8 = 27 + 32 = 59 ˚F \n",
        "```\n",
        "\n",
        "**Fahrenheit → Celsius**  \n",
        "\n",
        "***Subtraímos*** a temperatura em ºF por 32 e ***dividimos*** o resultado por 1,8. \n",
        "\n",
        "**Exemplo:** \n",
        "Converter a temperatura de 40 ºF para ºC. \n",
        "```\n",
        "40 – 32 = 8 : 1,8 = 4,4 ºC\n",
        "```  "
      ]
    },
    {
      "cell_type": "code",
      "metadata": {
        "id": "SqSz1ZvAx9sn",
        "colab_type": "code",
        "outputId": "01a359fe-7b97-4965-c6f0-965b56ff81e7",
        "colab": {
          "base_uri": "https://localhost:8080/",
          "height": 102
        }
      },
      "source": [
        "print('{:=^50}'.format(' Desafio 014 '))\n",
        "\n",
        "c = float(input('Digite a temperatura em Celsius: '))\n",
        "print('\\n{:-^50}'.format(' Celsius → Fahrenheit '))\n",
        "\n",
        "#f = c * 1.8 + 32\n",
        "f = ((c * 9) / 5) + 32\n",
        "\n",
        "print('A temperatura de {:.1f}˚C é equivalente a {:.1f}˚F.'.format(c, f))"
      ],
      "execution_count": 0,
      "outputs": [
        {
          "output_type": "stream",
          "text": [
            "============== Desafio 014 - Extra ===============\n",
            "Digite a temperatura em Celsius: 27\n",
            "\n",
            "-------------- Celsius → Fahrenheit --------------\n",
            "A temperatura de 27.0˚C é equivalente a 80.6˚F.\n"
          ],
          "name": "stdout"
        }
      ]
    },
    {
      "cell_type": "markdown",
      "metadata": {
        "id": "2Q60BbeUo9jb",
        "colab_type": "text"
      },
      "source": [
        "#### DESAFIO 015 - Aluguel de Carros | Aula 07"
      ]
    },
    {
      "cell_type": "markdown",
      "metadata": {
        "id": "XXhl6G7hbs7V",
        "colab_type": "text"
      },
      "source": [
        "Ex.015 - Escreva um programa que pergunte:  \n",
        "- a quantidade de Km percorridos por um carro alugado;\n",
        "- a quantidade de dias pelos quais ele foi alugado.  \n",
        "\n",
        "Calcule o preço a pagar.  \n",
        "\n",
        "![Dica] sabendo que o carro custa R\\$60 por dia e R\\$0,15 por Km rodado."
      ]
    },
    {
      "cell_type": "code",
      "metadata": {
        "id": "LRuth_SNdkj9",
        "colab_type": "code",
        "outputId": "ae0c1fb0-f51a-4527-af56-80e930fcf657",
        "colab": {
          "base_uri": "https://localhost:8080/",
          "height": 119
        }
      },
      "source": [
        "print('{:=^50}'.format(' Desafio 015 '))\n",
        "\n",
        "dias = int(input('Quantos dias o carro alugado? '))\n",
        "km = float(input('Quantidade de kilometros rodados? '))\n",
        "\n",
        "aluguel = (dias * 60) + (km * 0.15)\n",
        "\n",
        "print('\\n{:-^50}'.format(' Valor do Aluguel '))\n",
        "print('O valor do aluguel por {} dias e {}Km rodados será de R${:.2f}.'.format(dias, km, aluguel))"
      ],
      "execution_count": 0,
      "outputs": [
        {
          "output_type": "stream",
          "text": [
            "=============== Desafio 015 - Extra===============\n",
            "Quantos dias o carro alugado? 3\n",
            "Quantidade de kilometros rodados? 200\n",
            "\n",
            "---------------- Valor do Aluguel ----------------\n",
            "O valor do aluguel por 3 dias e 200.0Km rodados será de R$210.00.\n"
          ],
          "name": "stdout"
        }
      ]
    },
    {
      "cell_type": "markdown",
      "metadata": {
        "id": "_UIDlJbejX0c",
        "colab_type": "text"
      },
      "source": [
        "#### DESAFIO 016 - Quebrando um Número | Aula 08"
      ]
    },
    {
      "cell_type": "markdown",
      "metadata": {
        "id": "RPZa4ufGjjC2",
        "colab_type": "text"
      },
      "source": [
        "Ex.016 - Crie um programa que leia um número Real qualquer e mostre na tela a sua porção Inteira.  \n",
        "Ex.:  \n",
        "Digite um número: **6.127**  \n",
        "O número **6.127** tem a parte inteira **6**."
      ]
    },
    {
      "cell_type": "code",
      "metadata": {
        "id": "qjdwDxIxo4lX",
        "colab_type": "code",
        "outputId": "d386d1ea-589f-462e-a479-9ebc4093b5af",
        "colab": {
          "base_uri": "https://localhost:8080/",
          "height": 85
        }
      },
      "source": [
        "print('{:=^50}'.format(' Desafio 016 '))\n",
        "\n",
        "from math import trunc\n",
        "\n",
        "num = float(input('Digite um número com ponto flutuante \\npara descobrirmos a sua porção Inteira: '))\n",
        "print('O número {} tem a parte inteira {}.'.format(num, trunc(num)))"
      ],
      "execution_count": 0,
      "outputs": [
        {
          "output_type": "stream",
          "text": [
            "================== Desafio 016 ===================\n",
            "Digite um número com ponto flutuante \n",
            "para descobrirmos a sua porção Inteira: 6.127\n",
            "O número 6.127 tem a parte inteira 6.\n"
          ],
          "name": "stdout"
        }
      ]
    },
    {
      "cell_type": "markdown",
      "metadata": {
        "id": "f5DWdAloqEyB",
        "colab_type": "text"
      },
      "source": [
        "#### DESAFIO 017 - Catetos e Hipotenusa | Aula 08"
      ]
    },
    {
      "cell_type": "markdown",
      "metadata": {
        "id": "nUmCC0cxqNwj",
        "colab_type": "text"
      },
      "source": [
        "Ex.017 - Faça um programa que leia o comprimento do cateto oposto e do cateto adjacente de um triângulo, calcule e mostre o comprimento da hipotenusa\n",
        "\n",
        "Princípio matemático: a² = b² + c²"
      ]
    },
    {
      "cell_type": "code",
      "metadata": {
        "id": "Zla6NoNWuZ-n",
        "colab_type": "code",
        "outputId": "a19c9ebd-16ce-4f85-ea04-46a60bdf8e85",
        "colab": {
          "base_uri": "https://localhost:8080/",
          "height": 85
        }
      },
      "source": [
        "print('{:=^50}'.format(' Desafio 017 '))\n",
        "\n",
        "from math import hypot\n",
        "c = float(input('Digite o comprimento do cateto oposto: '))\n",
        "b = float(input('Digite o comprimento do cateto adjacente: '))\n",
        "\n",
        "a = hypot(b, c)\n",
        "\n",
        "print('O comprimento da hipotenusa é de {:.2f}.'.format(a))"
      ],
      "execution_count": 0,
      "outputs": [
        {
          "output_type": "stream",
          "text": [
            "================== Desafio 017 ===================\n",
            "Digite o comprimento do cateto oposto: 6\n",
            "Digite o comprimento do cateto adjacente: 8\n",
            "O comprimento da hipotenusa é de 10.00.\n"
          ],
          "name": "stdout"
        }
      ]
    },
    {
      "cell_type": "markdown",
      "metadata": {
        "id": "iygdFnYnw5KN",
        "colab_type": "text"
      },
      "source": [
        "#### DESAFIO 018 - Seno, Cosseno e Tangente | Aula 08"
      ]
    },
    {
      "cell_type": "markdown",
      "metadata": {
        "id": "Z5He854NxIIJ",
        "colab_type": "text"
      },
      "source": [
        "Ex.018 - Faça um programa que leia um Ângulo qualquer e mostre na tela o valor do seno, cosseno e tangente desse ângulo."
      ]
    },
    {
      "cell_type": "code",
      "metadata": {
        "id": "ze7hFIV-3mL2",
        "colab_type": "code",
        "outputId": "70f0c38d-d067-4bd0-ab09-fb78ff4274a8",
        "colab": {
          "base_uri": "https://localhost:8080/",
          "height": 119
        }
      },
      "source": [
        "print('{:=^50}'.format(' Desafio 018 '))\n",
        "from math import radians, sin, cos, tan\n",
        "\n",
        "ang = float(input('Digite o ângulo que deseja: '))\n",
        "\n",
        "sen = sin(radians(ang))\n",
        "cos = cos(radians(ang))\n",
        "tg = tan(radians(ang))\n",
        "\n",
        "print('O Ângulo de {}° tem:'.format(int(ang)))\n",
        "print('O Seno de {:.3f},'.format(sen))\n",
        "print('O Cosseno de {:.3f} e'.format(cos))\n",
        "print('A Tangente de {:.3f}.'.format(tg))\n"
      ],
      "execution_count": 0,
      "outputs": [
        {
          "output_type": "stream",
          "text": [
            "================== Desafio 018 ===================\n",
            "Digite o ângulo que deseja: 60\n",
            "O Ângulo de 60° tem:\n",
            "O Seno de 0.866,\n",
            "O Cosseno de 0.500 e\n",
            "A Tangente de 1.732.\n"
          ],
          "name": "stdout"
        }
      ]
    },
    {
      "cell_type": "markdown",
      "metadata": {
        "id": "0uk34ryJ-cGG",
        "colab_type": "text"
      },
      "source": [
        "#### DESAFIO 019 - Sorteando um item na lista | Aula 08"
      ]
    },
    {
      "cell_type": "markdown",
      "metadata": {
        "id": "AKzjVCi3-kVz",
        "colab_type": "text"
      },
      "source": [
        "Ex.019 - Um professor quer sortear um dos seus quatro alunos para apagar o quadro. Faça um programa que ajude ele, lendo o nome deles e escrevendo o nome escolhido."
      ]
    },
    {
      "cell_type": "code",
      "metadata": {
        "id": "he9eYf17Z3qb",
        "colab_type": "code",
        "outputId": "b7c4efd2-8279-40a9-b2c9-bcc4266b5a25",
        "colab": {
          "base_uri": "https://localhost:8080/",
          "height": 119
        }
      },
      "source": [
        "print('{:=^50}'.format(' Desafio 018 '))\n",
        "\n",
        "from random import choice\n",
        "\n",
        "n1 = input('Primeiro aluno: ')\n",
        "n2 = input('Segundo aluno: ')\n",
        "n3 = input('Terceiro aluno: ')\n",
        "n4 = input('Quarto aluno: ')\n",
        "\n",
        "lista = [n1, n2, n3, n4]\n",
        "\n",
        "sorteio = choice(lista)\n",
        "\n",
        "print('O aluno escolhido foi {}.'.format(sorteio))"
      ],
      "execution_count": 0,
      "outputs": [
        {
          "output_type": "stream",
          "text": [
            "================== Desafio 018 ===================\n",
            "Primeiro aluno: Paulo\n",
            "Segundo aluno: José\n",
            "Terceiro aluno: Rubens\n",
            "Quarto aluno: Ana Paula\n",
            "O aluno escolhido foi José.\n"
          ],
          "name": "stdout"
        }
      ]
    },
    {
      "cell_type": "markdown",
      "metadata": {
        "id": "-F9QJ_r1YJDb",
        "colab_type": "text"
      },
      "source": [
        "#### DESAFIO 020 - Sorteando uma ordem na lista | Aula 08"
      ]
    },
    {
      "cell_type": "markdown",
      "metadata": {
        "id": "5c46GMeWYYnI",
        "colab_type": "text"
      },
      "source": [
        "Ex.020 - O mesmo professor do desafio anterior quer sortear a ordem de apresentação de trabalhos dos alunos. Faça um programa que leia o nome dos quatro alunos e mostre a ordem sorteada."
      ]
    },
    {
      "cell_type": "code",
      "metadata": {
        "id": "nqiGRzVOYgvz",
        "colab_type": "code",
        "outputId": "8af2eb1a-a3e0-4d21-d042-fcd633009a2c",
        "colab": {
          "base_uri": "https://localhost:8080/",
          "height": 136
        }
      },
      "source": [
        "print('{:=^50}'.format(' Desafio 020 '))\n",
        "\n",
        "from random import shuffle\n",
        "\n",
        "n1 = str(input('Digite o nome do aluno 1: '))\n",
        "n2 = str(input('Digite o nome do aluno 2: '))\n",
        "n3 = str(input('Digite o nome do aluno 3: '))\n",
        "n4 = str(input('Digite o nome do aluno 4: '))\n",
        "\n",
        "lista = [n1, n2, n3, n4]\n",
        "shuffle(lista)\n",
        "\n",
        "print('A ordem de apresentação será:\\n{}'.format(lista))"
      ],
      "execution_count": 0,
      "outputs": [
        {
          "output_type": "stream",
          "text": [
            "================== Desafio 020 ===================\n",
            "Digite o nome do aluno 1: Hamilton\n",
            "Digite o nome do aluno 2: Fabiana\n",
            "Digite o nome do aluno 3: Clarice\n",
            "Digite o nome do aluno 4: Marília\n",
            "A ordem de apresentação será:\n",
            "['Hamilton', 'Clarice', 'Marília', 'Fabiana']\n"
          ],
          "name": "stdout"
        }
      ]
    },
    {
      "cell_type": "markdown",
      "metadata": {
        "id": "Re0OQxGsa_4a",
        "colab_type": "text"
      },
      "source": [
        "#### DESAFIO 021 - Tocando um MP3 | Aula 08 - Pending"
      ]
    },
    {
      "cell_type": "markdown",
      "metadata": {
        "id": "PXJKzCs_bMNC",
        "colab_type": "text"
      },
      "source": [
        "Ex.021 - Faça um programa em Python que abra e reproduza o áudio de um arquivo MP3."
      ]
    },
    {
      "cell_type": "code",
      "metadata": {
        "id": "iO9Q30OkjxzF",
        "colab_type": "code",
        "outputId": "b9ac5a60-fd24-4558-9498-3030a33ce907",
        "colab": {
          "resources": {
            "http://localhost:8080/nbextensions/google.colab/files.js": {
              "data": "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",
              "ok": true,
              "headers": [
                [
                  "content-type",
                  "application/javascript"
                ]
              ],
              "status": 200,
              "status_text": ""
            }
          },
          "base_uri": "https://localhost:8080/",
          "height": 91
        }
      },
      "source": [
        "from google.colab import files\n",
        "\n",
        "uploaded = files.upload()\n",
        "\n",
        "for fn in uploaded.keys():\n",
        "  print('User uploaded file \"{name}\" with length {length} bytes'.format(\n",
        "      name=fn, length=len(uploaded[fn])))"
      ],
      "execution_count": 0,
      "outputs": [
        {
          "output_type": "display_data",
          "data": {
            "text/html": [
              "\n",
              "     <input type=\"file\" id=\"files-2270e9a1-9dad-4285-8d1d-3f58c4c0775a\" name=\"files[]\" multiple disabled />\n",
              "     <output id=\"result-2270e9a1-9dad-4285-8d1d-3f58c4c0775a\">\n",
              "      Upload widget is only available when the cell has been executed in the\n",
              "      current browser session. Please rerun this cell to enable.\n",
              "      </output>\n",
              "      <script src=\"/nbextensions/google.colab/files.js\"></script> "
            ],
            "text/plain": [
              "<IPython.core.display.HTML object>"
            ]
          },
          "metadata": {
            "tags": []
          }
        },
        {
          "output_type": "stream",
          "text": [
            "Saving O_Terrorista-(Instrumental).mp3 to O_Terrorista-(Instrumental).mp3\n",
            "User uploaded file \"O_Terrorista-(Instrumental).mp3\" with length 3522970 bytes\n"
          ],
          "name": "stdout"
        }
      ]
    },
    {
      "cell_type": "markdown",
      "metadata": {
        "id": "mWy9wucSpF_I",
        "colab_type": "text"
      },
      "source": [
        "#### DESAFIO 022 - Analisador de Textos | Aula 09 - In Progress"
      ]
    },
    {
      "cell_type": "markdown",
      "metadata": {
        "id": "bQrlyRw3XqA8",
        "colab_type": "text"
      },
      "source": [
        "Ex.022 - Crie um programa que leia o nome completo de uma pessoa e mostre:  \n",
        "- O nome com todas as letras maiúsculas\n",
        "- O nome com todas as letras minúsculas\n",
        "- Quantas letras ao todo (sem considerar espaços)\n",
        "- Quantas letras tem o primeiro nome."
      ]
    },
    {
      "cell_type": "code",
      "metadata": {
        "id": "xUUNU1FPAd2v",
        "colab_type": "code",
        "outputId": "05f42e7d-1f70-4e59-d516-c03dbeb8ae56",
        "colab": {
          "base_uri": "https://localhost:8080/",
          "height": 221
        }
      },
      "source": [
        "print('{:=^50}'.format(' Desafio 022 '))\n",
        "\n",
        "name = str(input('Digite seu nome completo: ')).strip()\n",
        "\n",
        "print('\\nAnalisando o seu nome...')\n",
        "print('\\nSeu nome em MAIÚSCULAS é {}'.format(name.upper()))\n",
        "print('\\nSeu nome em minúsculas é {}'.format(name.lower()))\n",
        "name = name.split()\n",
        "print('\\nSeu nome tem ao todo {} letras'.format(len(''.join(name))))\n",
        "print('\\nSeu primeiro nome é {} e ele tem {} letras'.format(\n",
        "              name[0],\n",
        "              len(name[0])\n",
        "          ))"
      ],
      "execution_count": 0,
      "outputs": [
        {
          "output_type": "stream",
          "text": [
            "================== Desafio 022 ===================\n",
            "Digite seu nome completo: Hamilton Tadeu Marques Ribeiro\n",
            "\n",
            "Analisando o seu nome...\n",
            "\n",
            "Seu nome em MAIÚSCULAS é HAMILTON TADEU MARQUES RIBEIRO\n",
            "\n",
            "Seu nome em minúsculas é hamilton tadeu marques ribeiro\n",
            "\n",
            "Seu nome tem ao todo 27 letras\n",
            "\n",
            "Seu primeiro nome é Hamilton e ele tem 8 letras\n"
          ],
          "name": "stdout"
        }
      ]
    },
    {
      "cell_type": "markdown",
      "metadata": {
        "id": "xuZQt6KsP_HZ",
        "colab_type": "text"
      },
      "source": [
        "#### DESAFIO 023 - Separando dígitos de um número | Aula 09"
      ]
    },
    {
      "cell_type": "markdown",
      "metadata": {
        "id": "oOttblcsYrvA",
        "colab_type": "text"
      },
      "source": [
        "Faça um programa que leia um número de **0** a **9999** e mostre na tela cada um dos dígitos separados.  \n",
        "Ex.:  \n",
        "**Digite um número:** 1834  \n",
        "\n",
        "**unidade:** 4  \n",
        "**dezena:** 3  \n",
        "**centena:** 8  \n",
        "**milhar:** 1"
      ]
    },
    {
      "cell_type": "code",
      "metadata": {
        "id": "YJl9PD5vtNJC",
        "colab_type": "code",
        "outputId": "d90b9309-b34f-4d1d-a4f0-75d0ef47f3a8",
        "colab": {
          "base_uri": "https://localhost:8080/",
          "height": 153
        }
      },
      "source": [
        "num = int(input('Digite um número de 0 a 9999: '))\n",
        "print('\\nAnalisando o número...\\n')\n",
        "print('A Unidade do número é: {}'.format(num // 1 % 10))\n",
        "print('A Dezena do número é: {}'.format(num // 10 % 10))\n",
        "print('A Centena do número é: {}'.format(num // 100 % 10))\n",
        "print('A Milhar do número é: {}'.format(num // 1000 % 10))"
      ],
      "execution_count": 0,
      "outputs": [
        {
          "output_type": "stream",
          "text": [
            "Digite um número de 0 a 9999: 1834\n",
            "\n",
            "Analisando o número...\n",
            "\n",
            "A Unidade do número é: 4\n",
            "A Dezena do número é: 3\n",
            "A Centena do número é: 8\n",
            "A Milhar do número é: 1\n"
          ],
          "name": "stdout"
        }
      ]
    },
    {
      "cell_type": "markdown",
      "metadata": {
        "id": "AmIDme4HpUXp",
        "colab_type": "text"
      },
      "source": [
        "#### DESAFIO 024 - Verificando as primeiras letras de um texto | Aula 09"
      ]
    },
    {
      "cell_type": "markdown",
      "metadata": {
        "id": "3XnMvyY3Z3jJ",
        "colab_type": "text"
      },
      "source": [
        "Crie um programa que leia o nome de uma cidade e diga se ela começa ou não com o nome **\"SANTO\"**."
      ]
    },
    {
      "cell_type": "code",
      "metadata": {
        "id": "BAAnYlNQtUOp",
        "colab_type": "code",
        "colab": {
          "base_uri": "https://localhost:8080/",
          "height": 102
        },
        "outputId": "6ad3d1ff-4bc4-4303-aaed-0502b797c0d7"
      },
      "source": [
        "print('{:=^50}'.format(' Desafio 024'))\n",
        "\n",
        "cid = str(input('\\nDigite o nome de uma cidade: ')).title().strip()\n",
        "\n",
        "lista = cid.split()\n",
        "\n",
        "print('\\nA cidade {} começa com \"Santo\"? {}'.format(cid, lista[0] == 'Santo'))"
      ],
      "execution_count": 1,
      "outputs": [
        {
          "output_type": "stream",
          "text": [
            "=================== Desafio 024===================\n",
            "\n",
            "Digite o nome de uma cidade: santo andré\n",
            "\n",
            "A cidade Santo André começa com \"Santo\"? True\n"
          ],
          "name": "stdout"
        }
      ]
    },
    {
      "cell_type": "markdown",
      "metadata": {
        "id": "_mEnGmpOuqsr",
        "colab_type": "text"
      },
      "source": [
        "#### DESAFIO 025 - Procurando uma string dentro de outra | Aula 09"
      ]
    },
    {
      "cell_type": "markdown",
      "metadata": {
        "id": "9uHGGSA3aMy_",
        "colab_type": "text"
      },
      "source": [
        "Crie um programa que leia o nome de uma pessoa e diga se ela tem **\"SILVA\"** no nome."
      ]
    },
    {
      "cell_type": "code",
      "metadata": {
        "id": "wNE4AMXaSOgZ",
        "colab_type": "code",
        "colab": {
          "base_uri": "https://localhost:8080/",
          "height": 85
        },
        "outputId": "17fd55c3-64a7-4687-ef65-a7a719988c33"
      },
      "source": [
        "print('{:=^50}'.format(' Desafio 025 '))\n",
        "\n",
        "nome = str(input('Digite seu nome completo: ')).strip().title()\n",
        "\n",
        "print('\\nSeu nome {} \"Silva\" no sobrenome.'.format('Silva' in nome.split()))"
      ],
      "execution_count": 3,
      "outputs": [
        {
          "output_type": "stream",
          "text": [
            "================== Desafio 025 ===================\n",
            "Digite seu nome completo: silvano ribeiro\n",
            "\n",
            "Seu nome False \"Silva\" no sobrenome.\n"
          ],
          "name": "stdout"
        }
      ]
    },
    {
      "cell_type": "markdown",
      "metadata": {
        "id": "ps84JR00VKJf",
        "colab_type": "text"
      },
      "source": [
        "#### DESAFIO 026 - Primeira e última ocorrência de uma string | Aula 09"
      ]
    },
    {
      "cell_type": "markdown",
      "metadata": {
        "id": "MLxfgv97akFc",
        "colab_type": "text"
      },
      "source": [
        "Faça um programa que leia uma frase pelo teclado e mostre:  \n",
        "- Quantas vezes aparece a letra **\"A\"**.\n",
        "- Em que posição ela aparece a primeira vez.\n",
        "- Em que posição ela aparece a última vez."
      ]
    },
    {
      "cell_type": "code",
      "metadata": {
        "id": "nHD0dsw57da5",
        "colab_type": "code",
        "colab": {
          "base_uri": "https://localhost:8080/",
          "height": 119
        },
        "outputId": "de222db3-75ef-41fd-fb0a-9d95d043168c"
      },
      "source": [
        "print('{:=^50}'.format(' Desafio 026 '))\n",
        "\n",
        "frase = str(input('Digite uma frase: ')).strip().upper()\n",
        "\n",
        "print('\\n- \"A\" aparece {} vez(es) na frase.'.format(frase.count('A')))\n",
        "print('- \"A\" aparece a primeira vez na posição: {}'.format(frase.find('A')+1))\n",
        "print('- \"A\" aparece a última vez na posição: {}'.format(frase.rfind('A')+1))"
      ],
      "execution_count": 3,
      "outputs": [
        {
          "output_type": "stream",
          "text": [
            "================== Desafio 026 ===================\n",
            "Digite uma frase: estou aprendendo a programar em Python\n",
            "\n",
            "- \"A\" aparece 4 vez(es) na frase.\n",
            "- \"A\" aparece a primeira vez na posição: 7\n",
            "- \"A\" aparece a última vez na posição: 27\n"
          ],
          "name": "stdout"
        }
      ]
    },
    {
      "cell_type": "markdown",
      "metadata": {
        "id": "Saa3-lZK9gf9",
        "colab_type": "text"
      },
      "source": [
        "#### DESAFIO 027 - Primeiro e último nome de uma pessoa | Aula 09"
      ]
    },
    {
      "cell_type": "markdown",
      "metadata": {
        "id": "upKqZ-rzbB35",
        "colab_type": "text"
      },
      "source": [
        "Faça um programa que leia o nome completo de uma pessoa, mostrando em seguida o primeiro e o último nome separadamente.  \n",
        "Ex.: Ana Maria de Souza  \n",
        "**primeiro =** Ana  \n",
        "**último =** Souza"
      ]
    },
    {
      "cell_type": "code",
      "metadata": {
        "id": "LMnLUbG_FzNI",
        "colab_type": "code",
        "colab": {
          "base_uri": "https://localhost:8080/",
          "height": 102
        },
        "outputId": "31f543c6-2b98-4e2d-cba8-8669150390f4"
      },
      "source": [
        "print('{:=^50}'.format(' Desafio 027 '))\n",
        "\n",
        "nome = str(input('Digite seu nome completo: ')).strip().title()\n",
        "\n",
        "lista = nome.split()\n",
        "\n",
        "print('\\nO seu primeiro nome é: {}'.format(lista[0]))\n",
        "print('O seu último sobrenome é: {}'.format(lista[len(lista)-1]))"
      ],
      "execution_count": 6,
      "outputs": [
        {
          "output_type": "stream",
          "text": [
            "================== Desafio 027 ===================\n",
            "Digite seu nome completo: everton trajano da silva ribeiro\n",
            "\n",
            "O seu primeiro nome é: Everton\n",
            "O seu último sobrenome é: Ribeiro\n"
          ],
          "name": "stdout"
        }
      ]
    }
  ]
}