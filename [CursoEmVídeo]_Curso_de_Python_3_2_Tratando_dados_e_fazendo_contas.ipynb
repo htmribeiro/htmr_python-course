{
  "nbformat": 4,
  "nbformat_minor": 0,
  "metadata": {
    "colab": {
      "name": "[CursoEmVídeo] Curso de Python 3 - 2 Tratando dados e fazendo contas.ipynb",
      "provenance": [],
      "collapsed_sections": [],
      "toc_visible": true,
      "include_colab_link": true
    },
    "kernelspec": {
      "name": "python3",
      "display_name": "Python 3"
    }
  },
  "cells": [
    {
      "cell_type": "markdown",
      "metadata": {
        "id": "view-in-github",
        "colab_type": "text"
      },
      "source": [
        "<a href=\"https://colab.research.google.com/github/htmribeiro/htmr_python-course/blob/master/%5BCursoEmV%C3%ADdeo%5D_Curso_de_Python_3_2_Tratando_dados_e_fazendo_contas.ipynb\" target=\"_parent\"><img src=\"https://colab.research.google.com/assets/colab-badge.svg\" alt=\"Open In Colab\"/></a>"
      ]
    },
    {
      "cell_type": "markdown",
      "metadata": {
        "colab_type": "text",
        "id": "YOIQGVhDp7xc"
      },
      "source": [
        "# **CURSO DE PYTHON 3 - MUNDO 1: FUNDAMENTOS** | http://www.cursoemvideo.com\n",
        "\n"
      ]
    },
    {
      "cell_type": "markdown",
      "metadata": {
        "id": "LXg4SHGE3ER5",
        "colab_type": "text"
      },
      "source": [
        "#**2 Tratando dados e fazendo contas**"
      ]
    },
    {
      "cell_type": "markdown",
      "metadata": {
        "id": "CfKh1KO7eR6_",
        "colab_type": "text"
      },
      "source": [
        "## Curso Python #06 - Tipos Primitivos e Saída de Dados"
      ]
    },
    {
      "cell_type": "markdown",
      "metadata": {
        "id": "816C_I0tebo3",
        "colab_type": "text"
      },
      "source": [
        "Nessa aula, vamos aprender como funcionam os tipos primitivos no Python e as peculiaridades do `int()` `float()` `bool()` e `str()`. Além disso, veremos como fazer as primeiras operações com a função `print()` do Python."
      ]
    }
  ]
}