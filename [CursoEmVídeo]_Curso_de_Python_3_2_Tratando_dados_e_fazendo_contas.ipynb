{
  "nbformat": 4,
  "nbformat_minor": 0,
  "metadata": {
    "colab": {
      "name": "[CursoEmVídeo] Curso de Python 3 - 2 Tratando dados e fazendo contas.ipynb",
      "provenance": [],
      "collapsed_sections": [],
      "toc_visible": true,
      "include_colab_link": true
    },
    "kernelspec": {
      "name": "python3",
      "display_name": "Python 3"
    }
  },
  "cells": [
    {
      "cell_type": "markdown",
      "metadata": {
        "id": "view-in-github",
        "colab_type": "text"
      },
      "source": [
        "<a href=\"https://colab.research.google.com/github/htmribeiro/htmr_python-course/blob/master/%5BCursoEmV%C3%ADdeo%5D_Curso_de_Python_3_2_Tratando_dados_e_fazendo_contas.ipynb\" target=\"_parent\"><img src=\"https://colab.research.google.com/assets/colab-badge.svg\" alt=\"Open In Colab\"/></a>"
      ]
    },
    {
      "cell_type": "markdown",
      "metadata": {
        "colab_type": "text",
        "id": "YOIQGVhDp7xc"
      },
      "source": [
        "# **CURSO DE PYTHON 3 - MUNDO 1: FUNDAMENTOS**  \n",
        "http://www.cursoemvideo.com\n",
        "\n"
      ]
    },
    {
      "cell_type": "markdown",
      "metadata": {
        "id": "LXg4SHGE3ER5",
        "colab_type": "text"
      },
      "source": [
        "#**2 Tratando dados e fazendo contas**"
      ]
    },
    {
      "cell_type": "markdown",
      "metadata": {
        "id": "CfKh1KO7eR6_",
        "colab_type": "text"
      },
      "source": [
        "## Curso Python #06 - Tipos Primitivos e Saída de Dados"
      ]
    },
    {
      "cell_type": "markdown",
      "metadata": {
        "id": "816C_I0tebo3",
        "colab_type": "text"
      },
      "source": [
        "Nessa aula, vamos aprender como funcionam os tipos primitivos no Python e as peculiaridades do `int()` `float()` `bool()` e `str()`. Além disso, veremos como fazer as primeiras operações com a função `print()` do Python."
      ]
    },
    {
      "cell_type": "markdown",
      "metadata": {
        "id": "BSgNVAZN6CwR",
        "colab_type": "text"
      },
      "source": [
        "### TEORIA\n",
        "\n",
        "**4 Tipos primitivos básicos** \n",
        "\n",
        "`int()` => números inteiros (7, -4, 0, 9875)  \n",
        "`float` => números com ponto flutuante | número Real (4.5, 0.076, -15.223, 7.0)  \n",
        "`bool` => tipo booleano (verdadeiro/True ou falso/False)  \n",
        "`str()` => valores tipo caracteres/strings ('Olá', '7.5', '')  \n",
        "\n",
        "\n",
        "\n",
        "```\n",
        "n1 = int(input('Digite um número: '))\n",
        "n2 = int(input('Digite um número: '))\n",
        "s = n1 + n2\n",
        "print('A soma vale', s)\n",
        "```\n",
        "\n",
        "**Nova Sintáxe do método `print()` do Python 3**\n",
        "\n",
        "**`.format()`**  \n",
        "\n",
        "É inserido um parte de chaves `{}` que chamamos de \"máscara\" que será substituído pelo método da própria string.\n",
        "\n",
        "```\n",
        "print('A soma vale {}'.format(s))\n",
        "```"
      ]
    },
    {
      "cell_type": "markdown",
      "metadata": {
        "id": "TYn5Q0GsAAio",
        "colab_type": "text"
      },
      "source": [
        "### PRÁTICA"
      ]
    },
    {
      "cell_type": "markdown",
      "metadata": {
        "id": "CDvFxa12CBqj",
        "colab_type": "text"
      },
      "source": [
        "Aula6a"
      ]
    },
    {
      "cell_type": "code",
      "metadata": {
        "id": "PB1MpThFCRUa",
        "colab_type": "code",
        "outputId": "a9f0a32d-6185-44c7-97a7-d85c99a2b505",
        "colab": {
          "base_uri": "https://localhost:8080/",
          "height": 51
        }
      },
      "source": [
        "n1 = input('Digite um valor: ')\n",
        "print(type(n1))"
      ],
      "execution_count": 0,
      "outputs": [
        {
          "output_type": "stream",
          "text": [
            "Digite um valor: 5\n",
            "<class 'str'>\n"
          ],
          "name": "stdout"
        }
      ]
    },
    {
      "cell_type": "code",
      "metadata": {
        "id": "LVlB5WgTChDv",
        "colab_type": "code",
        "outputId": "9d7f0f53-f116-4806-d233-3f519589d6a4",
        "colab": {
          "base_uri": "https://localhost:8080/",
          "height": 51
        }
      },
      "source": [
        "n1 = int(input('Digite um valor: '))\n",
        "print(type(n1))"
      ],
      "execution_count": 0,
      "outputs": [
        {
          "output_type": "stream",
          "text": [
            "Digite um valor: 5\n",
            "<class 'int'>\n"
          ],
          "name": "stdout"
        }
      ]
    },
    {
      "cell_type": "code",
      "metadata": {
        "id": "JuWgkgN6CuCs",
        "colab_type": "code",
        "outputId": "fb98b356-e038-4a3c-f317-9f3158155dc7",
        "colab": {
          "base_uri": "https://localhost:8080/",
          "height": 68
        }
      },
      "source": [
        "n1 = int(input('Digite um valor: '))\n",
        "n2 = int(input('Digite outro valor: '))\n",
        "s= n1 + n2\n",
        "print('A soma entre {} e {} vale {}.'.format(n1, n2, s))"
      ],
      "execution_count": 0,
      "outputs": [
        {
          "output_type": "stream",
          "text": [
            "Digite um valor: 6\n",
            "Digite outro valor: 2\n",
            "A soma entre 6 e 2 vale 8.\n"
          ],
          "name": "stdout"
        }
      ]
    },
    {
      "cell_type": "markdown",
      "metadata": {
        "id": "Bxi7sDwCEGlu",
        "colab_type": "text"
      },
      "source": [
        "Aula06b"
      ]
    },
    {
      "cell_type": "code",
      "metadata": {
        "id": "I6YjrJ-FFLJH",
        "colab_type": "code",
        "outputId": "288ec2af-a7d4-4c15-fce7-0ac71f270de6",
        "colab": {
          "base_uri": "https://localhost:8080/",
          "height": 51
        }
      },
      "source": [
        "n = bool(input('Digite um valor: '))\n",
        "print(n)"
      ],
      "execution_count": 0,
      "outputs": [
        {
          "output_type": "stream",
          "text": [
            "Digite um valor: 4\n",
            "True\n"
          ],
          "name": "stdout"
        }
      ]
    },
    {
      "cell_type": "markdown",
      "metadata": {
        "id": "-MVHYNovE5gb",
        "colab_type": "text"
      },
      "source": [
        "No exemplo acima, ele verifica se existe algum valor dentro da váriável e retorna que é **verdadeiro**.  \n",
        "Se não for digitado nenhum valor ele retornará **falso**."
      ]
    },
    {
      "cell_type": "code",
      "metadata": {
        "id": "N-m9DMBSEK8x",
        "colab_type": "code",
        "outputId": "a17a24c1-dcf5-43f0-a991-4d9cef13d462",
        "colab": {
          "base_uri": "https://localhost:8080/",
          "height": 51
        }
      },
      "source": [
        "n = float(input('Digite um valor: '))\n",
        "print(n)"
      ],
      "execution_count": 0,
      "outputs": [
        {
          "output_type": "stream",
          "text": [
            "Digite um valor: 4\n",
            "4.0\n"
          ],
          "name": "stdout"
        }
      ]
    },
    {
      "cell_type": "markdown",
      "metadata": {
        "id": "PE_VWDSpF4Bx",
        "colab_type": "text"
      },
      "source": [
        "No exemplo acima, será retornado o valor inteiro que digitado, porém com o ponto flutuante."
      ]
    },
    {
      "cell_type": "code",
      "metadata": {
        "id": "87_EBGr7GbSt",
        "colab_type": "code",
        "outputId": "9486719d-a1a3-498e-bd9c-a051113b104a",
        "colab": {
          "base_uri": "https://localhost:8080/",
          "height": 51
        }
      },
      "source": [
        "n = str(input('Digite um valor: '))\n",
        "print(type(n))"
      ],
      "execution_count": 0,
      "outputs": [
        {
          "output_type": "stream",
          "text": [
            "Digite um valor: 6\n",
            "<class 'str'>\n"
          ],
          "name": "stdout"
        }
      ]
    },
    {
      "cell_type": "markdown",
      "metadata": {
        "id": "BJVz9RMxG44v",
        "colab_type": "text"
      },
      "source": [
        "No exemplo acima, foi digitado um número porém se consultamos o `type()` desse valor, ele nos informa que é uma string."
      ]
    },
    {
      "cell_type": "code",
      "metadata": {
        "id": "B9zIv4a5HRG9",
        "colab_type": "code",
        "outputId": "8d6983ce-853b-469e-83bc-241c5aa25141",
        "colab": {
          "base_uri": "https://localhost:8080/",
          "height": 51
        }
      },
      "source": [
        "n = input('Digite algo: ')\n",
        "print(n.isnumeric())"
      ],
      "execution_count": 0,
      "outputs": [
        {
          "output_type": "stream",
          "text": [
            "Digite um valor: 4.0\n",
            "False\n"
          ],
          "name": "stdout"
        }
      ]
    },
    {
      "cell_type": "markdown",
      "metadata": {
        "id": "jjO0zgk_IpIU",
        "colab_type": "text"
      },
      "source": [
        "No exemplo acima, retorna **verdadeiro** se o que foi armazenado na variável, é possível converter em valores numéricos, caso contrário retornará **falso**."
      ]
    },
    {
      "cell_type": "code",
      "metadata": {
        "id": "MYEpaTQIJu4E",
        "colab_type": "code",
        "outputId": "032d8afc-ba06-4f90-b5de-a6db74c2e401",
        "colab": {
          "base_uri": "https://localhost:8080/",
          "height": 51
        }
      },
      "source": [
        "n = input('Digite algo: ')\n",
        "print(n.isalpha())"
      ],
      "execution_count": 0,
      "outputs": [
        {
          "output_type": "stream",
          "text": [
            "Digitte algo: 123\n",
            "False\n"
          ],
          "name": "stdout"
        }
      ]
    },
    {
      "cell_type": "markdown",
      "metadata": {
        "id": "M4zMczwAK2wv",
        "colab_type": "text"
      },
      "source": [
        "No exemplo acima, retorna **True** se todos os caracteres em **n** forem alfabéticos e houver pelo menos um caractere em **n**, **False** caso contrário."
      ]
    },
    {
      "cell_type": "code",
      "metadata": {
        "id": "XU9mIDvfLb-P",
        "colab_type": "code",
        "outputId": "0e164392-8fed-4f98-f2ed-8a1c9b4b4e85",
        "colab": {
          "base_uri": "https://localhost:8080/",
          "height": 51
        }
      },
      "source": [
        "n = input('Digite algo: ')\n",
        "print(n.isalnum())"
      ],
      "execution_count": 0,
      "outputs": [
        {
          "output_type": "stream",
          "text": [
            "Digite algo: abc123\n",
            "True\n"
          ],
          "name": "stdout"
        }
      ]
    },
    {
      "cell_type": "markdown",
      "metadata": {
        "id": "cz_A5svoLxoo",
        "colab_type": "text"
      },
      "source": [
        "No exemplo acima, retorna **True** se todos os caracteres em **n** forem alfanuméricos e houver pelo menos um carctere em **n**, **False** caso contrário."
      ]
    },
    {
      "cell_type": "markdown",
      "metadata": {
        "id": "n9is00WLMiGM",
        "colab_type": "text"
      },
      "source": [
        "### DESAFIOS"
      ]
    },
    {
      "cell_type": "markdown",
      "metadata": {
        "id": "7do52VnAAbbZ",
        "colab_type": "text"
      },
      "source": [
        "#### Desafio 003\n",
        "Crie um script Python que **leia** *dois números* e tente mostrar a soma entre eles."
      ]
    },
    {
      "cell_type": "code",
      "metadata": {
        "id": "yh--FnBzAhTZ",
        "colab_type": "code",
        "outputId": "5104e932-b5c8-4178-f31a-9761b95fa49a",
        "colab": {
          "base_uri": "https://localhost:8080/",
          "height": 102
        }
      },
      "source": [
        "print('============= DESAFIO 03 ==============')\n",
        "print('Digite dois números para calcular a soma.')\n",
        "n1 = int(input('Digite o primeiro valor: '))\n",
        "n2 = int(input('Digite o segundo valor: '))\n",
        "\n",
        "s = n1 + n2\n",
        "\n",
        "print('A soma entre o primeiro valor ({}) e o segundo valor ({}) é igual a {}.'.format(n1, n2, s))"
      ],
      "execution_count": 0,
      "outputs": [
        {
          "output_type": "stream",
          "text": [
            "============= DESAFIO 03 ==============\n",
            "Digite dois números para calcular a soma.\n",
            "Digite o primeiro valor: 8\n",
            "Digite o segundo valor: 16\n",
            "A soma entre o primeiro valor (8) e o segundo valor (16) é igual a 24.\n"
          ],
          "name": "stdout"
        }
      ]
    },
    {
      "cell_type": "markdown",
      "metadata": {
        "id": "X_jWwWJKOYZL",
        "colab_type": "text"
      },
      "source": [
        "#### Desafio 004\n",
        "Faça um programa que leia algo pelo teclado e mostre na tela o seu tipo primitivo e todas as informações possíveis sobre ele. (utilizando os métodos \"is\")"
      ]
    },
    {
      "cell_type": "code",
      "metadata": {
        "id": "OW4YyH2Egp63",
        "colab_type": "code",
        "colab": {}
      },
      "source": [
        "print('============= DESAFIO 04 ==============')\n",
        "print('Digite qualquer informação.')\n",
        "n = input('Digite algo: ')\n"
      ],
      "execution_count": 0,
      "outputs": []
    }
  ]
}