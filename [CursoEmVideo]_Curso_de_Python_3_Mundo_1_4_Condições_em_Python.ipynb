{
  "nbformat": 4,
  "nbformat_minor": 0,
  "metadata": {
    "colab": {
      "name": "[CursoEmVideo] Curso de Python 3 - Mundo 1: 4 Condições em Python.ipynb",
      "provenance": [],
      "collapsed_sections": [],
      "toc_visible": true,
      "authorship_tag": "ABX9TyMHAopbXUe3LK36IYeBQae8",
      "include_colab_link": true
    },
    "kernelspec": {
      "name": "python3",
      "display_name": "Python 3"
    }
  },
  "cells": [
    {
      "cell_type": "markdown",
      "metadata": {
        "id": "view-in-github",
        "colab_type": "text"
      },
      "source": [
        "<a href=\"https://colab.research.google.com/github/htmribeiro/htmr_python-course/blob/master/%5BCursoEmVideo%5D_Curso_de_Python_3_Mundo_1_4_Condi%C3%A7%C3%B5es_em_Python.ipynb\" target=\"_parent\"><img src=\"https://colab.research.google.com/assets/colab-badge.svg\" alt=\"Open In Colab\"/></a>"
      ]
    },
    {
      "cell_type": "markdown",
      "metadata": {
        "id": "utSKTG-gwFf6",
        "colab_type": "text"
      },
      "source": [
        "# **CURSO DE PYTHON 3 - MUNDO 1: FUNDAMENTOS**  \n",
        "http://www.cursoemvideo.com"
      ]
    },
    {
      "cell_type": "markdown",
      "metadata": {
        "id": "rE8LB9GowNfF",
        "colab_type": "text"
      },
      "source": [
        "# **4 Condições em Python (if..else)**"
      ]
    },
    {
      "cell_type": "markdown",
      "metadata": {
        "id": "hR6t5ZuT3Nnk",
        "colab_type": "text"
      },
      "source": [
        "## Curso Python #10 - Condições (Parte 1)"
      ]
    },
    {
      "cell_type": "markdown",
      "metadata": {
        "id": "i711-GJb3cta",
        "colab_type": "text"
      },
      "source": [
        "Nessa aula, vamos aprender como utilizar estruturas condicionais **simples** e **compostas** nos seus programas em Python.  \n",
        "Veja como aplicar os comandos `if:` e `else:` no Python."
      ]
    },
    {
      "cell_type": "markdown",
      "metadata": {
        "id": "lnnvIa-B37pE",
        "colab_type": "text"
      },
      "source": [
        "### TEORIA"
      ]
    },
    {
      "cell_type": "markdown",
      "metadata": {
        "id": "X0Ms17D24hI7",
        "colab_type": "text"
      },
      "source": [
        "#### Objeto.Método\n",
        "- **Comandos estruturados**  \n",
        "- de **cima** para **baixo**, da **esquerda** para **direita**.  \n",
        " - carro.siga()  \n",
        " - carro.esquerda()  \n",
        " - carro.siga()  \n",
        " - carro.direita()  \n",
        " - carro.siga()  \n",
        " - carro.direita()  \n",
        " - carro.siga()  \n",
        " - carro.esquerda()  \n",
        " - carro.siga()  \n",
        " - carro.pare()  \n",
        "\n"
      ]
    },
    {
      "cell_type": "markdown",
      "metadata": {
        "id": "7nYxoIEGAeCe",
        "colab_type": "text"
      },
      "source": [
        "#### Desvios\n",
        "\n",
        "|Execução|||\n",
        "|:--|--:|--:|\n",
        "|**carro.siga()**|||\n",
        "|caminho|**Esquerda**|**Direita**|\n",
        "||**se carro.esquerda()**|**senão**|\n",
        "||**if carro.esquerda():**|**else:**|\n",
        "||carro.siga()|carro.siga()|\n",
        "||carro.direita()|carro.esquerda()|\n",
        "||carro.siga()|carro.siga()|\n",
        "||carro.esquerda()|carro.esquerda()|\n",
        "||carro.siga()|carro.siga()|\n",
        "||carro.direita()||\n",
        "||carro.siga()||\n",
        "|**carro.pare()**|||"
      ]
    },
    {
      "cell_type": "markdown",
      "metadata": {
        "id": "dDpjvfTWAnoQ",
        "colab_type": "text"
      },
      "source": [
        "#### Exibição estruturada\n",
        "\n",
        "|Execução|||\n",
        "|:--|:--||\n",
        "|carro.siga()|\n",
        "|**se carro.esquerda()**|\n",
        "||carro.siga()|\n",
        "||carro.direita()|\n",
        "||carro.siga()|\n",
        "||carro.esquerda()|\n",
        "||carro.siga()|\n",
        "||carro.direita()|\n",
        "||carro.siga()|\n",
        "|**senão**|\n",
        "||carro.siga()|\n",
        "||carro.esquerda()|\n",
        "||carro.siga()|\n",
        "||carro.esquerda()|\n",
        "||carro.siga()|\n",
        "|carro.pare()|"
      ]
    },
    {
      "cell_type": "markdown",
      "metadata": {
        "id": "2_e9RVRIAu6B",
        "colab_type": "text"
      },
      "source": [
        "#### Blocos\n",
        "\n",
        "|||**Código Python**||\n",
        "|---|---|---|---|\n",
        "|**se carro.esquerda()**||**if carro.esquerda():**|\n",
        "||bloco_V_||bloco True|\n",
        "|**senão**||**else:**|\n",
        "||bloco_F_||bloco False|\n",
        "\n"
      ]
    },
    {
      "cell_type": "markdown",
      "metadata": {
        "colab_type": "text",
        "id": "_OwwRjChHFep"
      },
      "source": [
        "#### Estrutura de Condição Simples\n",
        "```py\n",
        "tempo = int(input('Quantos anos tem seu carro?'))\n",
        "if tempo <= 3:  \n",
        "  print('carro novo')\n",
        "print('carro velho')\n",
        "print('--fim--')\n",
        "```"
      ]
    },
    {
      "cell_type": "markdown",
      "metadata": {
        "id": "ynS0dW14DPGT",
        "colab_type": "text"
      },
      "source": [
        "#### Estrutura de Condição Composta\n",
        "```py\n",
        "tempo = int(input('Quantos anos tem seu carro?'))\n",
        "if tempo <= 3:  \n",
        "  print('carro novo')\n",
        "else:\n",
        "  print('carro velho')\n",
        "print('--fim--')\n",
        "```"
      ]
    },
    {
      "cell_type": "markdown",
      "metadata": {
        "id": "Bq0KDgyXErU8",
        "colab_type": "text"
      },
      "source": [
        "#### Estrutura de Condição Simplificada\n",
        "\n",
        "```py\n",
        "tempo = int(input('Quantos anos tem seu carro?'))\n",
        "print('carro novo' if tempo <=3 else 'carro velho')\n",
        "print('--fim--')\n",
        "```"
      ]
    },
    {
      "cell_type": "markdown",
      "metadata": {
        "id": "ICk82l9k4CYP",
        "colab_type": "text"
      },
      "source": [
        "### PRÁTICA"
      ]
    },
    {
      "cell_type": "markdown",
      "metadata": {
        "id": "qJXM-wH2F0wN",
        "colab_type": "text"
      },
      "source": [
        "#### aula10a"
      ]
    },
    {
      "cell_type": "code",
      "metadata": {
        "id": "Br1nea50F94H",
        "colab_type": "code",
        "outputId": "07c08d9a-1e44-4bf7-d9d0-5a1f11952ca6",
        "colab": {
          "base_uri": "https://localhost:8080/",
          "height": 51
        }
      },
      "source": [
        "nome = str(input('Qual é seu nome? ')).strip().title()\n",
        "\n",
        "# Utilizando a Estrutura de Condição Simples\n",
        "if nome == 'Hamilton':\n",
        "  print('Que nome lindo você tem!')\n",
        "print('Bom dia, {}!'.format(nome))"
      ],
      "execution_count": 0,
      "outputs": [
        {
          "output_type": "stream",
          "text": [
            "Qual é seu nome? Jonas\n",
            "Bom dia, Jonas!\n"
          ],
          "name": "stdout"
        }
      ]
    },
    {
      "cell_type": "code",
      "metadata": {
        "colab_type": "code",
        "outputId": "0833a19b-f7a4-449c-aa4e-506b3f3bed97",
        "id": "oMl0HNDxHkpi",
        "colab": {
          "base_uri": "https://localhost:8080/",
          "height": 68
        }
      },
      "source": [
        "nome = str(input('Qual é seu nome? ')).strip().title()\n",
        "if nome == 'Hamilton':\n",
        "  print('Que nome lindo você tem!')\n",
        "else:\n",
        "  print('Seu nome é tão normal!')n1 \n",
        "print('Bom dia, {}!'.format(nome))"
      ],
      "execution_count": 0,
      "outputs": [
        {
          "output_type": "stream",
          "text": [
            "Qual é seu nome? maria\n",
            "Seu nome é tão normal!\n",
            "Bom dia, Maria!\n"
          ],
          "name": "stdout"
        }
      ]
    },
    {
      "cell_type": "code",
      "metadata": {
        "id": "uTFlgOa3IA7x",
        "colab_type": "code",
        "outputId": "b31004dc-f1b6-4b23-f05d-f6c2d6857203",
        "colab": {
          "base_uri": "https://localhost:8080/",
          "height": 85
        }
      },
      "source": [
        "n1 = float(input('Digite a primeira nota: '))\n",
        "n2 = float(input('Digite a segunda nota: '))\n",
        "\n",
        "m = (n1 + n2) / 2\n",
        "\n",
        "# Utilizando a Estrutura de Condição Composta\n",
        "print('A sua média foi {:.1f}'.format(m))\n",
        "if m>=6.0:\n",
        "  print('Sua média foi boa! PARABÉNS!')\n",
        "else:\n",
        "  print('Sua média foi ruim! ESTUDE MAIS!')"
      ],
      "execution_count": 0,
      "outputs": [
        {
          "output_type": "stream",
          "text": [
            "Digite a primeira nota: 4.5\n",
            "Digite a segunda nota: 5.5\n",
            "A sua média foi 5.00\n",
            "Sua média foi ruim! ESTUDE MAIS!\n"
          ],
          "name": "stdout"
        }
      ]
    },
    {
      "cell_type": "code",
      "metadata": {
        "colab_type": "code",
        "outputId": "173e31be-d708-4d1b-a11d-fbd63e97b286",
        "id": "9sdxgnjDJK4q",
        "colab": {
          "base_uri": "https://localhost:8080/",
          "height": 85
        }
      },
      "source": [
        "n1 = float(input('Digite a primeira nota: '))\n",
        "n2 = float(input('Digite a segunda nota: '))\n",
        "\n",
        "m = (n1 + n2) / 2\n",
        "\n",
        "# Utilizando a Estrutura de Condição Simplificada\n",
        "print('A sua média foi {:.1f}'.format(m))\n",
        "print('Sua média foi boa! PARABÉNS!' if m>=6.0 else 'Sua média foi ruim! ESTUDE MAIS!')"
      ],
      "execution_count": 0,
      "outputs": [
        {
          "output_type": "stream",
          "text": [
            "Digite a primeira nota: 7.6\n",
            "Digite a segunda nota: 9.4\n",
            "A sua média foi 8.5\n",
            "Sua média foi boa! PARABÉNS!\n"
          ],
          "name": "stdout"
        }
      ]
    },
    {
      "cell_type": "markdown",
      "metadata": {
        "id": "hhjswKbc4Hfw",
        "colab_type": "text"
      },
      "source": [
        "### DESAFIOS"
      ]
    },
    {
      "cell_type": "markdown",
      "metadata": {
        "id": "eWI-nouPKZNi",
        "colab_type": "text"
      },
      "source": [
        "#### Desafio 028 - Done"
      ]
    },
    {
      "cell_type": "markdown",
      "metadata": {
        "id": "jg8_ZzvxLQ8b",
        "colab_type": "text"
      },
      "source": [
        "Escreva um programa que faça o computador \"pensar\" em um número inteiro entre **0** e **5** e **peça para o usuário tentar descobrir** qual foi o número escolhido pelo computador.  \n",
        "\n",
        "O programa deverá **escrever** na tela se o usuário **venceu** ou **perdeu**.  \n",
        "\n",
        "`random.ranint(0,5)`"
      ]
    },
    {
      "cell_type": "code",
      "metadata": {
        "id": "gOnY7JuClKJh",
        "colab_type": "code",
        "outputId": "2e7d6e55-172c-4f6b-93ca-586d6062cd47",
        "colab": {
          "base_uri": "https://localhost:8080/",
          "height": 170
        }
      },
      "source": [
        "from random import randint\n",
        "from time import sleep\n",
        "\n",
        "thinking = randint(0,5)\n",
        "\n",
        "print('=-='*20)\n",
        "print('Pensando em um número de 0 a 5...tente advinhá-lo!')\n",
        "print('=-='*20)\n",
        "\n",
        "num = int(input('Tente a sorte: '))\n",
        "print('PROCESSANDO...')\n",
        "sleep(2)\n",
        "\n",
        "if num == thinking:\n",
        "  print('\\nPARABÉNS! Você VENCEU.')\n",
        "else:\n",
        "  print('\\nVocê PERDEU!!! Não fique triste, tente novamente.')\n",
        "  print('\\nEu pensei no número {}.'.format(thinking))\n",
        "print('\\n{:=^50}'.format(' fim do processamento '))"
      ],
      "execution_count": 0,
      "outputs": [
        {
          "output_type": "stream",
          "text": [
            "=-==-==-==-==-==-==-==-==-==-==-==-==-==-==-==-==-==-==-==-=\n",
            "Pensando em um número de 0 a 5...tente advinhá-lo!\n",
            "=-==-==-==-==-==-==-==-==-==-==-==-==-==-==-==-==-==-==-==-=\n",
            "Tente a sorte: 4\n",
            "---processando---\n",
            "\n",
            "PARABÉNS! Você VENCEU.\n",
            "\n",
            "============== fim do processamento ==============\n"
          ],
          "name": "stdout"
        }
      ]
    },
    {
      "cell_type": "markdown",
      "metadata": {
        "id": "WjU2DwXiKxhh",
        "colab_type": "text"
      },
      "source": [
        "#### Desafio 029 - Done"
      ]
    },
    {
      "cell_type": "markdown",
      "metadata": {
        "id": "65jWt11jMDpC",
        "colab_type": "text"
      },
      "source": [
        "\n",
        "Escreva um programa que **leia** a velocidadde de um carro.  \n",
        "\n",
        "Se ele ultrapassar **80 Km/h**, mostre uma mensagem dizendo que ele foi multado.  \n",
        "\n",
        "A multa vai custar **R$7,00** por cada Km acima do limite."
      ]
    },
    {
      "cell_type": "code",
      "metadata": {
        "id": "uI6tzG34rql9",
        "colab_type": "code",
        "outputId": "339261a8-fc79-4ff2-97f6-c2b934564944",
        "colab": {
          "base_uri": "https://localhost:8080/",
          "height": 119
        }
      },
      "source": [
        "from time import sleep\n",
        "\n",
        "speed = int(input('Digite a velocidade do carro: '))\n",
        "\n",
        "if speed <= 80:\n",
        "  print('\\n{:=^50}'.format(' Velocidade regular '))\n",
        "else:\n",
        "  print(' Você excedeu o limite de velocidade permitido.', end=' ')\n",
        "  print('Calculando o valor da MULTA. Aguarde...')\n",
        "  sleep(3)\n",
        "  print('\\nVocê pagará uma multa de: R${:.2f}'.format((speed - 80)*7))\n",
        "print('\\n{:=^50}'.format(' fim do processamento '))"
      ],
      "execution_count": 0,
      "outputs": [
        {
          "output_type": "stream",
          "text": [
            "Digite a velocidade do carro: 94\n",
            " Você excedeu o limite de velocidade permitido. Calculando o valor da MULTA. Aguarde...\n",
            "\n",
            "Você pagará uma multa de: R$98.00\n",
            "\n",
            "============== fim do processamento ==============\n"
          ],
          "name": "stdout"
        }
      ]
    },
    {
      "cell_type": "markdown",
      "metadata": {
        "id": "UwYJS7byK2NH",
        "colab_type": "text"
      },
      "source": [
        "#### Desafio 030 - Done"
      ]
    },
    {
      "cell_type": "markdown",
      "metadata": {
        "id": "hlpNeEv8Mv8E",
        "colab_type": "text"
      },
      "source": [
        "Crie um programa que **leia** um número inteiro e mostre na tela se ele é **PAR** ou **IMPAR**."
      ]
    },
    {
      "cell_type": "code",
      "metadata": {
        "id": "nMEySqc0v4c6",
        "colab_type": "code",
        "outputId": "5af2dbf0-39f9-4167-9de2-3826dfbc940f",
        "colab": {
          "base_uri": "https://localhost:8080/",
          "height": 102
        }
      },
      "source": [
        "num = int(input('Digite um número inteiro: '))\n",
        "\n",
        "if num%2 == 0:\n",
        "  print('\\nO número é PAR.')\n",
        "else:\n",
        "  print('\\nO número é IMPAR.')\n",
        "print('\\n{:=^50}'.format(' fim do processamento '))"
      ],
      "execution_count": 0,
      "outputs": [
        {
          "output_type": "stream",
          "text": [
            "Digite um número inteiro: 2\n",
            "\n",
            "O número é PAR.\n",
            "\n",
            "============== fim do processamento ==============\n"
          ],
          "name": "stdout"
        }
      ]
    },
    {
      "cell_type": "markdown",
      "metadata": {
        "id": "vRzphN-tK5lq",
        "colab_type": "text"
      },
      "source": [
        "#### Desafio 031 - Done"
      ]
    },
    {
      "cell_type": "markdown",
      "metadata": {
        "id": "60Q8SpDxNMY9",
        "colab_type": "text"
      },
      "source": [
        "Desenvolva um programa que **pergunte** a distância de uma viagem em Km.  \n",
        "**Calcule** o preço da passagem:  \n",
        "- cobrando **R\\$0,50** por Km para viagens até **200Km**  \n",
        "- Ou **R$0,45** para viagens **mais longas**."
      ]
    },
    {
      "cell_type": "code",
      "metadata": {
        "id": "h-WOlnbqzcOx",
        "colab_type": "code",
        "outputId": "69bb082f-43a2-419a-d48f-2f4da1b14025",
        "colab": {
          "base_uri": "https://localhost:8080/",
          "height": 102
        }
      },
      "source": [
        "dist = int(input('Qual será a distância percorrida (Km): '))\n",
        "\n",
        "if dist <= 200:\n",
        "  print('\\nVocê pagará pela sua passagem o valor de: R$ {:.2f}'.format(dist * 0.5))\n",
        "else:\n",
        "  print('\\nVocê pagará pela sua passagem o valor de: R$ {:.2f}'.format(dist * 0.45))\n",
        "print('\\n{:=^50}'.format(' fim do processamento '))"
      ],
      "execution_count": 0,
      "outputs": [
        {
          "output_type": "stream",
          "text": [
            "Qual será a distância percorrida (Km): 250\n",
            "\n",
            "Você pagará pela sua passagem o valor de: R$ 112.50\n",
            "\n",
            "============== fim do processamento ==============\n"
          ],
          "name": "stdout"
        }
      ]
    },
    {
      "cell_type": "code",
      "metadata": {
        "id": "ycOIIPl01bmI",
        "colab_type": "code",
        "outputId": "395d9339-d43b-48f7-a272-b848f7848f0f",
        "colab": {
          "base_uri": "https://localhost:8080/",
          "height": 51
        }
      },
      "source": [
        "# Resolvento utilizando a Condição Simplificada\n",
        "\n",
        "dist = float(input('Qual será a distância percorrida (Km): '))\n",
        "price = dist * 0.5 if dist <= 200 else dist * 0.45\n",
        "print('O preço da sua passagem será de: R${:.2f}'.format(price))"
      ],
      "execution_count": 0,
      "outputs": [
        {
          "output_type": "stream",
          "text": [
            "Qual será a distância percorrida (Km): 201\n",
            "O preço da sua passagem será de: R$90.45\n"
          ],
          "name": "stdout"
        }
      ]
    },
    {
      "cell_type": "markdown",
      "metadata": {
        "id": "abUt95wmK7QA",
        "colab_type": "text"
      },
      "source": [
        "#### Desafio 032 - Done"
      ]
    },
    {
      "cell_type": "markdown",
      "metadata": {
        "id": "az9MfqtZOIua",
        "colab_type": "text"
      },
      "source": [
        "Faça um programa que **leia** um ano qualquer e mostre se ele é **BISSEXTO**."
      ]
    },
    {
      "cell_type": "code",
      "metadata": {
        "id": "WifsoWgq5soP",
        "colab_type": "code",
        "outputId": "dcacf864-c17d-460a-b971-b51bc1e055ab",
        "colab": {
          "base_uri": "https://localhost:8080/",
          "height": 102
        }
      },
      "source": [
        "ano = int(input('Digite o ano: '))\n",
        "\n",
        "if (ano%4 == 0 and ano%100 != 0 or ano%400 == 0):\n",
        "  print('\\nAno Bissexto!')\n",
        "else:\n",
        "  print('\\nNão é um ano Bissexto!')\n",
        "print('\\n{:=^50}'.format(' fim do processamento '))"
      ],
      "execution_count": 0,
      "outputs": [
        {
          "output_type": "stream",
          "text": [
            "Digite o ano: 2020\n",
            "\n",
            "Ano Bissexto!\n",
            "\n",
            "============== fim do processamento ==============\n"
          ],
          "name": "stdout"
        }
      ]
    },
    {
      "cell_type": "code",
      "metadata": {
        "id": "3DsSzh1e5Uvn",
        "colab_type": "code",
        "outputId": "5eb333ff-84cf-462f-8905-c5c5be3f2827",
        "colab": {
          "base_uri": "https://localhost:8080/",
          "height": 102
        }
      },
      "source": [
        "# Outra forma de resolução incluindo ano atual\n",
        "from datetime import date\n",
        "\n",
        "ano = int(input('Digite o ano para análise? Coloque 0 para o ano atual: '))\n",
        "\n",
        "if ano == 0:\n",
        "  ano = date.today().year\n",
        "if ano%4 == 0 and ano%100 != 0 or ano%400 == 0:\n",
        "  print('\\nO ano {}, é Bissexto!'.format(ano))\n",
        "else:\n",
        "  print('\\nO ano {}, não é Bissexto!'.format(ano))\n",
        "print('\\n{:=^50}'.format(' fim do processamento '))"
      ],
      "execution_count": 0,
      "outputs": [
        {
          "output_type": "stream",
          "text": [
            "Digite o ano para análise? Coloque 0 para o ano atual: 1900\n",
            "\n",
            "O ano 1900, não é Bissexto!\n",
            "\n",
            "============== fim do processamento ==============\n"
          ],
          "name": "stdout"
        }
      ]
    },
    {
      "cell_type": "markdown",
      "metadata": {
        "id": "CaLyQsIeK-Pu",
        "colab_type": "text"
      },
      "source": [
        "#### Desafio 033 - Done"
      ]
    },
    {
      "cell_type": "markdown",
      "metadata": {
        "id": "Yz0n5WVFObV6",
        "colab_type": "text"
      },
      "source": [
        "Faça um programa que **leia** três números e mostre qual é o **maior** e qual é o **menor**."
      ]
    },
    {
      "cell_type": "code",
      "metadata": {
        "id": "VKeVrGoi_tar",
        "colab_type": "code",
        "outputId": "b680cacc-4d15-411f-a25a-a64b2750cba9",
        "colab": {
          "base_uri": "https://localhost:8080/",
          "height": 136
        }
      },
      "source": [
        "a = int(input('Digite o primeiro valor: '))\n",
        "b = int(input('Digite o segundo valor: '))\n",
        "c = int(input('Digite o terceiro valor: '))\n",
        "\n",
        "# Verificando o menor valor.\n",
        "menor = a\n",
        "if b<a and b<c:\n",
        "  menor = b\n",
        "if c<a and c<b:\n",
        "  menor = c\n",
        "print('\\nO número {} é o MENOR valor.'.format(menor))\n",
        "\n",
        "# Verificando o maior valor.\n",
        "maior = a\n",
        "if b>a and b>c:\n",
        "  maior = b\n",
        "if c>a and c>b:\n",
        "  maior = c\n",
        "print('\\nO número {} é o MAIOR valor.'.format(maior))\n",
        "print('\\n{:=^50}'.format(' fim de processamento '))"
      ],
      "execution_count": 0,
      "outputs": [
        {
          "output_type": "stream",
          "text": [
            "Digite o primeiro valor: 4\n",
            "Digite o segundo valor: 10\n",
            "Digite o terceiro valor: 18\n",
            "\n",
            "O número 4 é o MENOR valor.\n",
            "\n",
            "O número 18 é o MAIOR valor.\n"
          ],
          "name": "stdout"
        }
      ]
    },
    {
      "cell_type": "markdown",
      "metadata": {
        "id": "QPmbJH3lLBUC",
        "colab_type": "text"
      },
      "source": [
        "#### Desafio 034 - Done"
      ]
    },
    {
      "cell_type": "markdown",
      "metadata": {
        "id": "Zq8fC7c7OvrI",
        "colab_type": "text"
      },
      "source": [
        "Escreva um programa que **pergunte** o salário de um funcionário e calcule o valor do seu aumento.  \n",
        "\n",
        "Para salários superiores a **R$1.250,00**, calcule um aumento de **10%**.  \n",
        "\n",
        "Para os inferiores ou iguais, o aumento é de **15%**.\n",
        "\n",
        "***Utilizando equação geral***  \n",
        "*vlProd - (vlProd * vlDesc / 100)*"
      ]
    },
    {
      "cell_type": "code",
      "metadata": {
        "id": "sOKN5VgNFPUq",
        "colab_type": "code",
        "outputId": "1f9d6243-67cd-4930-e263-1c3428075dbd",
        "colab": {
          "base_uri": "https://localhost:8080/",
          "height": 68
        }
      },
      "source": [
        "salary = float(input('Digite o valor do salário atual para vê-lo reajustado: '))\n",
        "\n",
        "if salary <= 1250:\n",
        "  salary = salary + (salary * 15 / 100) #1437,50\n",
        "else:\n",
        "  salary = salary + (salary * 10 / 100) #1376,10\n",
        "print('\\nO seu salario reajustado será de: R${:.2f}'.format(salary))\n",
        "print('\\n{:=^50}'.format(' fim de processamento '))"
      ],
      "execution_count": 0,
      "outputs": [
        {
          "output_type": "stream",
          "text": [
            "Digite o valor do salário atual para calculo do reajuste: 1251\n",
            "\n",
            "O seu salario reajustado será de: R$1376.10\n"
          ],
          "name": "stdout"
        }
      ]
    },
    {
      "cell_type": "markdown",
      "metadata": {
        "id": "R4x1zgKeLDE0",
        "colab_type": "text"
      },
      "source": [
        "#### Desafio 035 - Done"
      ]
    },
    {
      "cell_type": "markdown",
      "metadata": {
        "id": "GtbJqogRPY9b",
        "colab_type": "text"
      },
      "source": [
        "Desenvolva um programa que **leia** o comprimento de três retas e **diga** ao usuário se elas **podem** ou **não formar um triângulo**.  \n",
        "*regra:* ***a < b + c***\n",
        "- r1\n",
        "- r2\n",
        "- r3"
      ]
    },
    {
      "cell_type": "code",
      "metadata": {
        "id": "otddXUtTMxjK",
        "colab_type": "code",
        "outputId": "fa7893b2-e75a-46c5-919e-8963f802c8b4",
        "colab": {
          "base_uri": "https://localhost:8080/",
          "height": 153
        }
      },
      "source": [
        "print('='*50)\n",
        "print('Analisador de Triangulos')\n",
        "print('='*50)\n",
        "# solicitando os dados do usuário\n",
        "a = float(input('Digite o valor do primeiro segmento: '))\n",
        "b = float(input('Digite o valor do segundo segmento: '))\n",
        "c = float(input('Digite o valor do terceiro segmento: '))\n",
        "\n",
        "# processamento das informações\n",
        "if (a < b + c) and (b < a + c) or (c < a + b):\n",
        "  print('\\nAs Retas {}, {} e {} PODEM formar um triângulo.'.format(a, b, c))\n",
        "else:\n",
        "  print('\\nAs Retas {}, {} e {} NÃO PODEM formar um triângulo.'.format(a, b, c))"
      ],
      "execution_count": 0,
      "outputs": [
        {
          "output_type": "stream",
          "text": [
            "==================================================\n",
            "Analisador de Triangulos\n",
            "==================================================\n",
            "Digite o valor do primeiro segmento: 2\n",
            "Digite o valor do segundo segmento: 3\n",
            "Digite o valor do terceiro segmento: 1.5\n",
            "\n",
            "As Retas 2.0, 3.0 e 1.5 PODEM formar um triângulo.\n"
          ],
          "name": "stdout"
        }
      ]
    }
  ]
}