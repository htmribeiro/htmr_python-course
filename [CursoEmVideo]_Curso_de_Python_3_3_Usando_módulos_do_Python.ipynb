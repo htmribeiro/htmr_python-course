{
  "nbformat": 4,
  "nbformat_minor": 0,
  "metadata": {
    "colab": {
      "name": "[CursoEmVideo] Curso de Python 3 - 3 Usando módulos do Python.ipynb",
      "provenance": [],
      "collapsed_sections": [],
      "toc_visible": true,
      "include_colab_link": true
    },
    "kernelspec": {
      "name": "python3",
      "display_name": "Python 3"
    }
  },
  "cells": [
    {
      "cell_type": "markdown",
      "metadata": {
        "id": "view-in-github",
        "colab_type": "text"
      },
      "source": [
        "<a href=\"https://colab.research.google.com/github/htmribeiro/htmr_python-course/blob/master/%5BCursoEmVideo%5D_Curso_de_Python_3_3_Usando_m%C3%B3dulos_do_Python.ipynb\" target=\"_parent\"><img src=\"https://colab.research.google.com/assets/colab-badge.svg\" alt=\"Open In Colab\"/></a>"
      ]
    },
    {
      "cell_type": "markdown",
      "metadata": {
        "id": "utSKTG-gwFf6",
        "colab_type": "text"
      },
      "source": [
        "# **CURSO DE PYTHON 3 - MUNDO 1: FUNDAMENTOS**  \n",
        "http://www.cursoemvideo.com"
      ]
    },
    {
      "cell_type": "markdown",
      "metadata": {
        "id": "rE8LB9GowNfF",
        "colab_type": "text"
      },
      "source": [
        "#**3 Usando módulos do Python**"
      ]
    },
    {
      "cell_type": "markdown",
      "metadata": {
        "id": "KoITWrb6wtOz",
        "colab_type": "text"
      },
      "source": [
        "## Curso Python #08 - Utilizando Módulos"
      ]
    },
    {
      "cell_type": "markdown",
      "metadata": {
        "id": "_RH2y4pMxWD9",
        "colab_type": "text"
      },
      "source": [
        "Nessa aula, vamos aprender como utilizar módulos em Python utilizando os comandos `import` e `from/import` no Python. Veja como carregar bibliotecas de funções e utilizar vários recuros adicionais nos suse programas utilizando módulos built-in e módulos externos, oferecidos no Pypi."
      ]
    },
    {
      "cell_type": "markdown",
      "metadata": {
        "id": "7neInE-6w6Fz",
        "colab_type": "text"
      },
      "source": [
        "### TEORIA"
      ]
    },
    {
      "cell_type": "markdown",
      "metadata": {
        "id": "OvZWaZVAyoBd",
        "colab_type": "text"
      },
      "source": [
        "- No Python, para importar qualquer biblioteca, utilizamos o comando `import`.  \n",
        "Ex.: `import bebidas` --> iremos importar todas as bebidas contidas dentro do módulo `bebidas`.  \n",
        "\n",
        "- Se quisermos importar apenas um doce de dentro do módulo `doces`.  \n",
        "Ex.: `from doces import pudim` --> dessa maneira ele irá importar apenas a funcionalidade pudim.  \n",
        "Sendo esse segundo um comando mais específico, economizando espaço na memória."
      ]
    },
    {
      "cell_type": "markdown",
      "metadata": {
        "id": "PQ8E7v8H2qCs",
        "colab_type": "text"
      },
      "source": [
        "#### Bibliotecas\n",
        "\n",
        "***math***  - \n",
        "Nessa biblioteca contém funcionalidade de matemática, ao qual poderemos utilizar recursos específicos.  \n",
        "\n",
        "|biblioteca:|**math**|Referencia|\n",
        "|:---|---:||\n",
        "||ceil|Arredondamento pra cima|\n",
        "||floor|Arredondamento pra baixo|\n",
        "||trunc|trunca o número eliminando da vírgula pra frente|\n",
        "||pow|Calcula a *potência* de um número|\n",
        "||sqrt|Calcular a *raiz quadrada* de um número|\n",
        "||factorial|Calcula o *fatorial* de um número|\n",
        "\n",
        "```\n",
        "import math  \n",
        "from math import sqrt\n",
        "from math import sqrt, ceil\n",
        "```"
      ]
    },
    {
      "cell_type": "markdown",
      "metadata": {
        "id": "XEoY0zjFAlPx",
        "colab_type": "text"
      },
      "source": [
        "#### PyPi - Python Package Index"
      ]
    },
    {
      "cell_type": "markdown",
      "metadata": {
        "id": "Yb1dgBZECGjU",
        "colab_type": "text"
      },
      "source": [
        "#### Importing a library that is not in Colaboratory\n",
        "\n",
        "To import a library that's not in Colaboratory by default, you can use `!pip install` or `!apt-get install`.\n",
        "\n",
        "by [Snippets: Importing libraries](https://colab.research.google.com/notebooks/snippets/importing_libraries.ipynb)"
      ]
    },
    {
      "cell_type": "markdown",
      "metadata": {
        "id": "vMON2590DSz-",
        "colab_type": "text"
      },
      "source": [
        "**Example**  \n",
        "The entire set of Emoji codes as defined by the unicode consortium is supported in addition to a bunch of aliases. By default only the official list is enabled but doing `emoji.emojize(use_aliases=True)` enables both the full list and aliases.\n",
        "\n",
        ">> \\>> import emoji\n",
        "\\>> print(emoji.emojize('Python is :thumbs_up:'))  \n",
        "\\>> Python is 👍\n",
        "\\>> print(emoji.emojize('Python is :thumbsup:', use_aliases=True))  \n",
        "\\>> Python is 👍\n",
        "\\>> print(emoji.demojize('Python is 👍'))  \n",
        "\\>> Python is :thumbs_up:  \n",
        "\n",
        "by [emoji 0.5.4](https://pypi.org/project/emoji/)\n",
        "\n",
        "**link**  \n",
        "[Emoji Cheat Sheet](https://www.webfx.com/tools/emoji-cheat-sheet/)"
      ]
    },
    {
      "cell_type": "code",
      "metadata": {
        "id": "cx-oGoKnAy82",
        "colab_type": "code",
        "colab": {
          "base_uri": "https://localhost:8080/",
          "height": 68
        },
        "outputId": "436eaf11-5478-4f4c-bd59-33da651d79eb"
      },
      "source": [
        "!pip install -q emoji\n",
        "import emoji\n",
        "print(emoji.emojize(\"Olá, Mundo! :earth_americas:\", use_aliases=True))"
      ],
      "execution_count": 22,
      "outputs": [
        {
          "output_type": "stream",
          "text": [
            "\u001b[?25l\r\u001b[K     |███████▌                        | 10kB 22.2MB/s eta 0:00:01\r\u001b[K     |███████████████                 | 20kB 7.0MB/s eta 0:00:01\r\u001b[K     |██████████████████████▋         | 30kB 9.6MB/s eta 0:00:01\r\u001b[K     |██████████████████████████████▏ | 40kB 6.3MB/s eta 0:00:01\r\u001b[K     |████████████████████████████████| 51kB 3.9MB/s \n",
            "\u001b[?25h  Building wheel for emoji (setup.py) ... \u001b[?25l\u001b[?25hdone\n",
            "Olá, Mundo! 🌎\n"
          ],
          "name": "stdout"
        }
      ]
    },
    {
      "cell_type": "markdown",
      "metadata": {
        "id": "OpCLMUUCw8v_",
        "colab_type": "text"
      },
      "source": [
        "### PRÁTICA"
      ]
    },
    {
      "cell_type": "markdown",
      "metadata": {
        "id": "vQhk7Ei_8KfS",
        "colab_type": "text"
      },
      "source": [
        "#### Aula08a"
      ]
    },
    {
      "cell_type": "code",
      "metadata": {
        "id": "QIAweD2d8byZ",
        "colab_type": "code",
        "colab": {
          "base_uri": "https://localhost:8080/",
          "height": 51
        },
        "outputId": "23b99fea-4da0-4853-cbc5-c22f3cc671b6"
      },
      "source": [
        "import math\n",
        "num = int(input('Digite um número: '))\n",
        "\n",
        "raiz = math.sqrt(num)\n",
        "\n",
        "print('A raiz quadrada de {} é igual a {:.2f}.'.format(num, raiz))"
      ],
      "execution_count": 9,
      "outputs": [
        {
          "output_type": "stream",
          "text": [
            "Digite um número: 5\n",
            "A raiz quadrada de 5 é igual a 2.24.\n"
          ],
          "name": "stdout"
        }
      ]
    },
    {
      "cell_type": "code",
      "metadata": {
        "id": "SJo0iT9U9yWe",
        "colab_type": "code",
        "colab": {
          "base_uri": "https://localhost:8080/",
          "height": 51
        },
        "outputId": "01855da3-612d-4f16-aeb0-68e1cde32904"
      },
      "source": [
        "from math import sqrt, floor\n",
        "num = int(input('Digite um número: '))\n",
        "\n",
        "raiz = sqrt(num)\n",
        "print('A raiz de {} é igual a {:.2f}'.format(num, floor(raiz)))"
      ],
      "execution_count": 13,
      "outputs": [
        {
          "output_type": "stream",
          "text": [
            "Digite um número: 29\n",
            "A raiz de 29 é igual a 5.00\n"
          ],
          "name": "stdout"
        }
      ]
    },
    {
      "cell_type": "code",
      "metadata": {
        "id": "MRoryo6s_nwi",
        "colab_type": "code",
        "colab": {
          "base_uri": "https://localhost:8080/",
          "height": 34
        },
        "outputId": "29b946b5-b0b9-41fa-9639-a776e5ab7ac1"
      },
      "source": [
        "import random\n",
        "num = random.random()\n",
        "print(num)"
      ],
      "execution_count": 14,
      "outputs": [
        {
          "output_type": "stream",
          "text": [
            "0.13041298143527735\n"
          ],
          "name": "stdout"
        }
      ]
    },
    {
      "cell_type": "code",
      "metadata": {
        "id": "IZu_Zpgu_vrh",
        "colab_type": "code",
        "colab": {
          "base_uri": "https://localhost:8080/",
          "height": 34
        },
        "outputId": "b18c6078-f4cc-400e-d753-b4d70bd63cd7"
      },
      "source": [
        "import random\n",
        "num = random.randint(1,10)\n",
        "print(num)"
      ],
      "execution_count": 20,
      "outputs": [
        {
          "output_type": "stream",
          "text": [
            "9\n"
          ],
          "name": "stdout"
        }
      ]
    },
    {
      "cell_type": "markdown",
      "metadata": {
        "id": "eMPKDkTJxKr1",
        "colab_type": "text"
      },
      "source": [
        "### DESAFIOS"
      ]
    },
    {
      "cell_type": "markdown",
      "metadata": {
        "id": "sYY1ZEDCIjfH",
        "colab_type": "text"
      },
      "source": [
        "#### Desafio 016\n",
        "Crie um programa que **leia** um número **Real** qualquer e mostre na tela a sua **porção Inteira**.  \n",
        "**Ex.:**  \n",
        "Digite um número: **6.127**  \n",
        "O número **6.127** tem a parte inteira **6**."
      ]
    },
    {
      "cell_type": "markdown",
      "metadata": {
        "id": "sfPukF5ZKMFV",
        "colab_type": "text"
      },
      "source": [
        "#### Desafio 017\n",
        "Faça um programa que **leia** o **comprimento** do **cateto oposto** e do **cateto adjacente** de um triângulo, calcule e **mostre** o comprimento da **hipotenusa**\n",
        "\n",
        "Princípio matemático: `2.h = 2(ca + co)`"
      ]
    },
    {
      "cell_type": "markdown",
      "metadata": {
        "id": "g7j0KScQLX6J",
        "colab_type": "text"
      },
      "source": [
        "#### Desafio 018\n",
        "Faça um programa que **leia** um **Ângulo** qualquer e mostre na tela o valor do **seno**, **cosseno** e **tangente** desse ângulo."
      ]
    },
    {
      "cell_type": "markdown",
      "metadata": {
        "id": "yKHrgqeIMAAu",
        "colab_type": "text"
      },
      "source": [
        "#### Desafio 019\n",
        "Um professor quer **sortear** um dos seus **quatro alunos** para apagar o quadro. Faça um programa que ajude ele, lendo o nome deles e escrevendo o nome escolhido."
      ]
    },
    {
      "cell_type": "markdown",
      "metadata": {
        "id": "C6eyzrGaMVFT",
        "colab_type": "text"
      },
      "source": [
        "#### Desafio 020\n",
        "O mesmo professor do desafio anterior quer **sortear** a **ordem de apresentação** de trabalhos dos alunos. Faça um programa que **leia** o **nome** dos **quatro alunos** e **mostre** a ordem sorteada."
      ]
    },
    {
      "cell_type": "markdown",
      "metadata": {
        "id": "oxPo-r2pM8OC",
        "colab_type": "text"
      },
      "source": [
        "#### Desafio 021\n",
        "Faça um programa em Python que **abra** e **reproduza** o áudio de um arquivo **MP3**."
      ]
    }
  ]
}