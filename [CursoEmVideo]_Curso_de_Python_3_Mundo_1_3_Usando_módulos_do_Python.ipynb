{
  "nbformat": 4,
  "nbformat_minor": 0,
  "metadata": {
    "colab": {
      "name": "[CursoEmVideo] Curso de Python 3 - Mundo 1: 3 Usando módulos do Python.ipynb",
      "provenance": [],
      "collapsed_sections": [
        "OpCLMUUCw8v_",
        "eMPKDkTJxKr1"
      ],
      "toc_visible": true,
      "include_colab_link": true
    },
    "kernelspec": {
      "name": "python3",
      "display_name": "Python 3"
    }
  },
  "cells": [
    {
      "cell_type": "markdown",
      "metadata": {
        "id": "view-in-github",
        "colab_type": "text"
      },
      "source": [
        "<a href=\"https://colab.research.google.com/github/htmribeiro/htmr_python-course/blob/master/%5BCursoEmVideo%5D_Curso_de_Python_3_Mundo_1_3_Usando_m%C3%B3dulos_do_Python.ipynb\" target=\"_parent\"><img src=\"https://colab.research.google.com/assets/colab-badge.svg\" alt=\"Open In Colab\"/></a>"
      ]
    },
    {
      "cell_type": "markdown",
      "metadata": {
        "id": "utSKTG-gwFf6",
        "colab_type": "text"
      },
      "source": [
        "# **CURSO DE PYTHON 3 - MUNDO 1: FUNDAMENTOS**  \n",
        "http://www.cursoemvideo.com"
      ]
    },
    {
      "cell_type": "markdown",
      "metadata": {
        "id": "rE8LB9GowNfF",
        "colab_type": "text"
      },
      "source": [
        "# **3 Usando módulos do Python**"
      ]
    },
    {
      "cell_type": "markdown",
      "metadata": {
        "id": "KoITWrb6wtOz",
        "colab_type": "text"
      },
      "source": [
        "## Curso Python #08 - Utilizando Módulos"
      ]
    },
    {
      "cell_type": "markdown",
      "metadata": {
        "id": "_RH2y4pMxWD9",
        "colab_type": "text"
      },
      "source": [
        "Nessa aula, vamos aprender como utilizar módulos em Python utilizando os comandos `import` e `from/import` no Python. Veja como carregar bibliotecas de funções e utilizar vários recuros adicionais nos suse programas utilizando módulos built-in e módulos externos, oferecidos no Pypi."
      ]
    },
    {
      "cell_type": "markdown",
      "metadata": {
        "id": "7neInE-6w6Fz",
        "colab_type": "text"
      },
      "source": [
        "### TEORIA"
      ]
    },
    {
      "cell_type": "markdown",
      "metadata": {
        "id": "OvZWaZVAyoBd",
        "colab_type": "text"
      },
      "source": [
        "- No Python, para importar qualquer biblioteca, utilizamos o comando `import`.  \n",
        "Ex.: `import bebidas` --> iremos importar todas as bebidas contidas dentro do módulo `bebidas`.  \n",
        "\n",
        "- Se quisermos importar apenas um doce de dentro do módulo `doces`.  \n",
        "Ex.: `from doces import pudim` --> dessa maneira ele irá importar apenas a funcionalidade pudim.  \n",
        "Sendo esse segundo um comando mais específico, economizando espaço na memória."
      ]
    },
    {
      "cell_type": "markdown",
      "metadata": {
        "id": "PQ8E7v8H2qCs",
        "colab_type": "text"
      },
      "source": [
        "#### Bibliotecas\n",
        "\n",
        "***math***  - \n",
        "Nessa biblioteca contém funcionalidade de matemática, ao qual poderemos utilizar recursos específicos.  \n",
        "\n",
        "|biblioteca:|**math**|Referencia|\n",
        "|:---|---:||\n",
        "||ceil|Arredondamento pra cima|\n",
        "||floor|Arredondamento pra baixo|\n",
        "||trunc|trunca o número eliminando da vírgula pra frente|\n",
        "||pow|Calcula a *potência* de um número|\n",
        "||sqrt|Calcular a *raiz quadrada* de um número|\n",
        "||factorial|Calcula o *fatorial* de um número|\n",
        "\n",
        "<br/>***Estrutura de importação***\n",
        "```py\n",
        "import math  \n",
        "from math import sqrt\n",
        "from math import sqrt, ceil\n",
        "```"
      ]
    },
    {
      "cell_type": "markdown",
      "metadata": {
        "id": "XEoY0zjFAlPx",
        "colab_type": "text"
      },
      "source": [
        "#### PyPi - Python Package Index"
      ]
    },
    {
      "cell_type": "markdown",
      "metadata": {
        "id": "Yb1dgBZECGjU",
        "colab_type": "text"
      },
      "source": [
        "#### Importing a library that is not in Colaboratory\n",
        "\n",
        "To import a library that's not in Colaboratory by default, you can use `!pip install` or `!apt-get install`.\n",
        "\n",
        "by [Snippets: Importing libraries](https://colab.research.google.com/notebooks/snippets/importing_libraries.ipynb)"
      ]
    },
    {
      "cell_type": "markdown",
      "metadata": {
        "id": "vMON2590DSz-",
        "colab_type": "text"
      },
      "source": [
        "**Example**  \n",
        "The entire set of Emoji codes as defined by the unicode consortium is supported in addition to a bunch of aliases. By default only the official list is enabled but doing `emoji.emojize(use_aliases=True)` enables both the full list and aliases.\n",
        "\n",
        ">> \\>> import emoji\n",
        "\\>> print(emoji.emojize('Python is :thumbs_up:'))  \n",
        "\\>> Python is 👍\n",
        "\\>> print(emoji.emojize('Python is :thumbsup:', use_aliases=True))  \n",
        "\\>> Python is 👍\n",
        "\\>> print(emoji.demojize('Python is 👍'))  \n",
        "\\>> Python is :thumbs_up:  \n",
        "\n",
        "by [emoji 0.5.4](https://pypi.org/project/emoji/)\n",
        "\n",
        "**link**  \n",
        "[Emoji Cheat Sheet](https://www.webfx.com/tools/emoji-cheat-sheet/)"
      ]
    },
    {
      "cell_type": "code",
      "metadata": {
        "id": "cx-oGoKnAy82",
        "colab_type": "code",
        "outputId": "436eaf11-5478-4f4c-bd59-33da651d79eb",
        "colab": {
          "base_uri": "https://localhost:8080/",
          "height": 68
        }
      },
      "source": [
        "!pip install -q emoji\n",
        "import emoji\n",
        "print(emoji.emojize(\"Olá, Mundo! :earth_americas:\", use_aliases=True))"
      ],
      "execution_count": 0,
      "outputs": [
        {
          "output_type": "stream",
          "text": [
            "\u001b[?25l\r\u001b[K     |███████▌                        | 10kB 22.2MB/s eta 0:00:01\r\u001b[K     |███████████████                 | 20kB 7.0MB/s eta 0:00:01\r\u001b[K     |██████████████████████▋         | 30kB 9.6MB/s eta 0:00:01\r\u001b[K     |██████████████████████████████▏ | 40kB 6.3MB/s eta 0:00:01\r\u001b[K     |████████████████████████████████| 51kB 3.9MB/s \n",
            "\u001b[?25h  Building wheel for emoji (setup.py) ... \u001b[?25l\u001b[?25hdone\n",
            "Olá, Mundo! 🌎\n"
          ],
          "name": "stdout"
        }
      ]
    },
    {
      "cell_type": "markdown",
      "metadata": {
        "id": "OpCLMUUCw8v_",
        "colab_type": "text"
      },
      "source": [
        "### PRÁTICA"
      ]
    },
    {
      "cell_type": "markdown",
      "metadata": {
        "id": "vQhk7Ei_8KfS",
        "colab_type": "text"
      },
      "source": [
        "#### Aula08a"
      ]
    },
    {
      "cell_type": "code",
      "metadata": {
        "id": "QIAweD2d8byZ",
        "colab_type": "code",
        "outputId": "23b99fea-4da0-4853-cbc5-c22f3cc671b6",
        "colab": {
          "base_uri": "https://localhost:8080/",
          "height": 51
        }
      },
      "source": [
        "import math\n",
        "num = int(input('Digite um número: '))\n",
        "\n",
        "raiz = math.sqrt(num)\n",
        "\n",
        "print('A raiz quadrada de {} é igual a {:.2f}.'.format(num, raiz))"
      ],
      "execution_count": 0,
      "outputs": [
        {
          "output_type": "stream",
          "text": [
            "Digite um número: 5\n",
            "A raiz quadrada de 5 é igual a 2.24.\n"
          ],
          "name": "stdout"
        }
      ]
    },
    {
      "cell_type": "code",
      "metadata": {
        "id": "SJo0iT9U9yWe",
        "colab_type": "code",
        "outputId": "01855da3-612d-4f16-aeb0-68e1cde32904",
        "colab": {
          "base_uri": "https://localhost:8080/",
          "height": 51
        }
      },
      "source": [
        "from math import sqrt, floor\n",
        "num = int(input('Digite um número: '))\n",
        "\n",
        "raiz = sqrt(num)\n",
        "print('A raiz de {} é igual a {:.2f}'.format(num, floor(raiz)))"
      ],
      "execution_count": 0,
      "outputs": [
        {
          "output_type": "stream",
          "text": [
            "Digite um número: 29\n",
            "A raiz de 29 é igual a 5.00\n"
          ],
          "name": "stdout"
        }
      ]
    },
    {
      "cell_type": "code",
      "metadata": {
        "id": "MRoryo6s_nwi",
        "colab_type": "code",
        "outputId": "29b946b5-b0b9-41fa-9639-a776e5ab7ac1",
        "colab": {
          "base_uri": "https://localhost:8080/",
          "height": 34
        }
      },
      "source": [
        "import random\n",
        "num = random.random()\n",
        "print(num)"
      ],
      "execution_count": 0,
      "outputs": [
        {
          "output_type": "stream",
          "text": [
            "0.13041298143527735\n"
          ],
          "name": "stdout"
        }
      ]
    },
    {
      "cell_type": "code",
      "metadata": {
        "id": "IZu_Zpgu_vrh",
        "colab_type": "code",
        "outputId": "b18c6078-f4cc-400e-d753-b4d70bd63cd7",
        "colab": {
          "base_uri": "https://localhost:8080/",
          "height": 34
        }
      },
      "source": [
        "import random\n",
        "num = random.randint(1,10)\n",
        "print(num)"
      ],
      "execution_count": 0,
      "outputs": [
        {
          "output_type": "stream",
          "text": [
            "9\n"
          ],
          "name": "stdout"
        }
      ]
    },
    {
      "cell_type": "markdown",
      "metadata": {
        "id": "eMPKDkTJxKr1",
        "colab_type": "text"
      },
      "source": [
        "### DESAFIOS"
      ]
    },
    {
      "cell_type": "markdown",
      "metadata": {
        "id": "sYY1ZEDCIjfH",
        "colab_type": "text"
      },
      "source": [
        "#### Desafio 016 - Done\n",
        "Crie um programa que **leia** um número **Real** qualquer e mostre na tela a sua **porção Inteira**.  \n",
        "**Ex.:**  \n",
        "Digite um número: **6.127**  \n",
        "O número **6.127** tem a parte inteira **6**."
      ]
    },
    {
      "cell_type": "code",
      "metadata": {
        "id": "81sXx00xnTkD",
        "colab_type": "code",
        "outputId": "5380ac7b-d0f2-44b8-a40a-1ed177c0a83f",
        "colab": {
          "base_uri": "https://localhost:8080/",
          "height": 51
        }
      },
      "source": [
        "from math import trunc\n",
        "num = float(input('Digite um número Real: '))\n",
        "\n",
        "print('O número {:.3f} tem a sua porção inteira {}.'.format(num, trunc(num)))"
      ],
      "execution_count": 0,
      "outputs": [
        {
          "output_type": "stream",
          "text": [
            "Digite um número Real: 4.890\n",
            "O número 4.890 tem a sua porção inteira é 4.\n"
          ],
          "name": "stdout"
        }
      ]
    },
    {
      "cell_type": "markdown",
      "metadata": {
        "id": "89t-bj7slM9R",
        "colab_type": "text"
      },
      "source": [
        "ou podemos utilizar a função interna **int()**, sem precisar importar módulos.\n",
        "```py\n",
        "num = float(input('Digite um número Real: '))\n",
        "print('O número {:.3f} tem a sua porção inteira {}.'format(num, int(num))\n",
        "```"
      ]
    },
    {
      "cell_type": "markdown",
      "metadata": {
        "id": "sfPukF5ZKMFV",
        "colab_type": "text"
      },
      "source": [
        "#### Desafio 017 - Done\n",
        "Faça um programa que **leia** o **comprimento** do **cateto oposto** e do **cateto adjacente** de um triângulo, calcule e **mostre** o comprimento da **hipotenusa**\n",
        "\n",
        "Princípio matemático: `a² = b² + c²`\n",
        "\n",
        "https://docs.python.org/3/library/numeric.html"
      ]
    },
    {
      "cell_type": "code",
      "metadata": {
        "id": "DozUS1sKYDst",
        "colab_type": "code",
        "outputId": "ced35942-dae6-4c15-e596-488c34479371",
        "colab": {
          "base_uri": "https://localhost:8080/",
          "height": 68
        }
      },
      "source": [
        "from math import hypot\n",
        "b = float(input('Digite o comprimento do cateto oposto: '))\n",
        "c = float(input('Digite o comprimento do cateto adjacente: '))\n",
        "\n",
        "#a = (b**2 + c**2) ** (1/2)\n",
        "a = hypot(b, c)\n",
        "\n",
        "print('O comprimento da hipotenusa do triângulo retangulo é de: {:.2f}.'.format(a))"
      ],
      "execution_count": 0,
      "outputs": [
        {
          "output_type": "stream",
          "text": [
            "Digite o comprimento do cateto oposto: 3.5\n",
            "Digite o comprimento do cateto adjacente: 4.75\n",
            "O comprimento da hipotenusa do triângulo retangulo é de: 5.90.\n"
          ],
          "name": "stdout"
        }
      ]
    },
    {
      "cell_type": "markdown",
      "metadata": {
        "id": "Y5ucXTG4sUnn",
        "colab_type": "text"
      },
      "source": [
        "**Resolução utilizando apenas a forma matemática**\n",
        "```py\n",
        "co = float(input('Digite o comprimento do cateto oposto: '))\n",
        "ca = float(input('Digite o comprimento do cateto adjacente: '))\n",
        "\n",
        "hi = (co**2 + ca**2) ** (1/2)\n",
        "\n",
        "print('A hipotenusa vai medir {:.2f}'.format(hi))\n",
        "```"
      ]
    },
    {
      "cell_type": "markdown",
      "metadata": {
        "id": "g7j0KScQLX6J",
        "colab_type": "text"
      },
      "source": [
        "#### Desafio 018 - Done\n",
        "Faça um programa que **leia** um **Ângulo** qualquer e mostre na tela o valor do **seno**, **cosseno** e **tangente** desse ângulo.  \n",
        "ex.:  \n",
        "\n",
        "Grau | sen | cos | tg\n",
        ":---:|---|---|---\n",
        "60° | 0.866 | 0.500 | 1.732\n",
        "\n",
        "**Ângulos Notáveis**\n",
        "\n",
        "||30°|45°|60°|\n",
        "---|:---:|:---:|:---:\n",
        "Sen|1/2|sqrt(2)/2|sqrt(3)/2\n",
        "Cos|sqrt(3)/2|sqrt(2)/2|1/2\n",
        "Tg|sqrt(3)/3|1|sqrt(3)\n",
        "\n"
      ]
    },
    {
      "cell_type": "code",
      "metadata": {
        "id": "TTvVWBVQ7n4C",
        "colab_type": "code",
        "outputId": "eacaf382-f1fd-41c2-b0c2-d20849795c4b",
        "colab": {
          "base_uri": "https://localhost:8080/",
          "height": 102
        }
      },
      "source": [
        "from math import sin, cos, tan, radians\n",
        "\n",
        "ang = float(input('Digite o valor do ângulo que deseja: '))\n",
        "\n",
        "sen = sin(radians(ang))\n",
        "cos = cos(radians(ang))\n",
        "tg  = tan(radians(ang))\n",
        "\n",
        "print('O ângulo de {}° de um triangulo retangulo tem:'.format(int(ang)))\n",
        "print('O Seno de {:.3f}.'.format(sen))\n",
        "print('O Cosseno de {:.3f}.'.format(cos))\n",
        "print('A Tangênte de {:.3f}.'.format(tg))"
      ],
      "execution_count": 0,
      "outputs": [
        {
          "output_type": "stream",
          "text": [
            "Digite o valor do ângulo que deseja: 45\n",
            "O ângulo de 45° de um triangulo retangulo tem:\n",
            "O Seno de 0.707.\n",
            "O Cosseno de 0.707.\n",
            "A Tangênte de 1.000.\n"
          ],
          "name": "stdout"
        }
      ]
    },
    {
      "cell_type": "markdown",
      "metadata": {
        "id": "yKHrgqeIMAAu",
        "colab_type": "text"
      },
      "source": [
        "\n",
        "#### Desafio 019 - Done\n",
        "Um professor quer **sortear** um dos seus **quatro alunos** para apagar o quadro. Faça um programa que ajude ele, lendo o nome deles e escrevendo o nome escolhido."
      ]
    },
    {
      "cell_type": "code",
      "metadata": {
        "id": "mnc0pJJI7tSk",
        "colab_type": "code",
        "outputId": "1413f0cd-d9e7-47e5-e120-a717c5971809",
        "colab": {
          "base_uri": "https://localhost:8080/",
          "height": 102
        }
      },
      "source": [
        "from random import sample, choice\n",
        "\n",
        "aluno1 = input('Digite o nome do aluno 1: ')\n",
        "aluno2 = input('Digite o nome do aluno 2: ')\n",
        "aluno3 = input('Digite o nome do aluno 3: ')\n",
        "aluno4 = input('Digite o nome do aluno 4: ')\n",
        "\n",
        "lista = [aluno1, aluno2, aluno3, aluno4]\n",
        "\n",
        "#sorteio = sample(lista, k=len(lista))\n",
        "#sorteio = sample(lista, k=1)\n",
        "#sorteio = sample(range(10000000), k=60)\n",
        "\n",
        "sorteio = choice(lista)\n",
        "\n",
        "print('O aluno sorteado foi: {}.'.format(sorteio))\n"
      ],
      "execution_count": 0,
      "outputs": [
        {
          "output_type": "stream",
          "text": [
            "Digite o nome do aluno 1: Hamilton\n",
            "Digite o nome do aluno 2: Henrique\n",
            "Digite o nome do aluno 3: Humberto\n",
            "Digite o nome do aluno 4: Fabiana\n",
            "O aluno sorteado foi: Henrique.\n"
          ],
          "name": "stdout"
        }
      ]
    },
    {
      "cell_type": "markdown",
      "metadata": {
        "id": "C6eyzrGaMVFT",
        "colab_type": "text"
      },
      "source": [
        "#### Desafio 020 - Done\n",
        "O mesmo professor do desafio anterior quer **sortear** a **ordem de apresentação** de trabalhos dos alunos. Faça um programa que **leia** o **nome** dos **quatro alunos** e **mostre** a ordem sorteada."
      ]
    },
    {
      "cell_type": "code",
      "metadata": {
        "colab_type": "code",
        "outputId": "1ea82ad0-21ba-44ea-e343-9c82eef5e206",
        "id": "SXwu6Lo5XPBj",
        "colab": {
          "base_uri": "https://localhost:8080/",
          "height": 119
        }
      },
      "source": [
        "from random import shuffle\n",
        "\n",
        "n1 = str(input('Digite o nome do aluno 1: '))\n",
        "n2 = str(input('Digite o nome do aluno 2: '))\n",
        "n3 = str(input('Digite o nome do aluno 3: '))\n",
        "n4 = str(input('Digite o nome do aluno 4: '))\n",
        "\n",
        "lista = [n1, n2, n3, n4]\n",
        "#lista = ['Hamilton', 'Fabiana', 'Marilia', 'Clarice']\n",
        "\n",
        "shuffle(lista)\n",
        "\n",
        "print('A ordem de apresentação será:\\n{}'.format(lista))"
      ],
      "execution_count": 0,
      "outputs": [
        {
          "output_type": "stream",
          "text": [
            "Digite o nome do aluno 1: Hamilton\n",
            "Digite o nome do aluno 2: Fabiana\n",
            "Digite o nome do aluno 3: Clarice\n",
            "Digite o nome do aluno 4: Marília\n",
            "A ordem de apresentação será:\n",
            "['Clarice', 'Marília', 'Fabiana', 'Hamilton']\n"
          ],
          "name": "stdout"
        }
      ]
    },
    {
      "cell_type": "markdown",
      "metadata": {
        "id": "oxPo-r2pM8OC",
        "colab_type": "text"
      },
      "source": [
        "#### Desafio 021 - Done\n",
        "Faça um programa em Python que **abra** e **reproduza** o áudio de um arquivo **MP3**."
      ]
    },
    {
      "cell_type": "markdown",
      "metadata": {
        "id": "AFC6m5Zok2JD",
        "colab_type": "text"
      },
      "source": [
        "Módulo ***pygame*** \n",
        "utilizado para resolução do exercício no curso.\n",
        "```py\n",
        "import pygame\n",
        "pygame.init()\n",
        "pygame.mixer.music.load('O_Terrorista-(Instrumental).mp3')\n",
        "pygame.mixer.music.play()\n",
        "pygame.event.wait()\n",
        "```"
      ]
    },
    {
      "cell_type": "code",
      "metadata": {
        "id": "8sYkY1CpxYnm",
        "colab_type": "code",
        "outputId": "f91702a3-58ac-47f5-9ded-8df4cdae84a0",
        "colab": {
          "resources": {
            "http://localhost:8080/nbextensions/google.colab/files.js": {
              "data": "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",
              "ok": true,
              "headers": [
                [
                  "content-type",
                  "application/javascript"
                ]
              ],
              "status": 200,
              "status_text": ""
            }
          },
          "base_uri": "https://localhost:8080/",
          "height": 91
        }
      },
      "source": [
        "from google.colab import files\n",
        "\n",
        "uploaded = files.upload()\n",
        "\n",
        "for fn in uploaded.keys():\n",
        "  print('User uploaded file \"{name}\" with length {length} bytes'.format(\n",
        "      name=fn, length=len(uploaded[fn])))"
      ],
      "execution_count": 0,
      "outputs": [
        {
          "output_type": "display_data",
          "data": {
            "text/html": [
              "\n",
              "     <input type=\"file\" id=\"files-dab44a0e-c179-48b1-80fc-80f8825eb797\" name=\"files[]\" multiple disabled />\n",
              "     <output id=\"result-dab44a0e-c179-48b1-80fc-80f8825eb797\">\n",
              "      Upload widget is only available when the cell has been executed in the\n",
              "      current browser session. Please rerun this cell to enable.\n",
              "      </output>\n",
              "      <script src=\"/nbextensions/google.colab/files.js\"></script> "
            ],
            "text/plain": [
              "<IPython.core.display.HTML object>"
            ]
          },
          "metadata": {
            "tags": []
          }
        },
        {
          "output_type": "stream",
          "text": [
            "Saving O_Terrorista-(Instrumental).mp3 to O_Terrorista-(Instrumental).mp3\n",
            "User uploaded file \"O_Terrorista-(Instrumental).mp3\" with length 3522970 bytes\n"
          ],
          "name": "stdout"
        }
      ]
    },
    {
      "cell_type": "markdown",
      "metadata": {
        "id": "PO3T1Kconllf",
        "colab_type": "text"
      },
      "source": [
        "## Curso Python #09 - Manipulando Texto (Manipulating Text)"
      ]
    },
    {
      "cell_type": "markdown",
      "metadata": {
        "id": "5PV4nw3qpE1M",
        "colab_type": "text"
      },
      "source": [
        "Nessa aula, vamos aprender operações com **String** no Python. As principais operações que vamos aprender são o Fatiamento de String, Análise com `len()`, `count()`, `find()`, transformações com `replace()`, `upper()`, `lower()`, `capitalize()`, `title()`, `strip()`, **junção** com `join()`."
      ]
    },
    {
      "cell_type": "markdown",
      "metadata": {
        "id": "CK4pK2xhn25H",
        "colab_type": "text"
      },
      "source": [
        "### TEORIA"
      ]
    },
    {
      "cell_type": "markdown",
      "metadata": {
        "id": "_is0dGxdp5Tt",
        "colab_type": "text"
      },
      "source": [
        "#### Manipulando Cadeias de Texto (String)\n",
        "```py\n",
        "frase = 'Curso em Vídeo Python'\n",
        "```"
      ]
    },
    {
      "cell_type": "markdown",
      "metadata": {
        "id": "YwQ4tPRmVnNw",
        "colab_type": "text"
      },
      "source": [
        "|frase||||||||||||||||||||||\n",
        "|-|:-:|:-:|:-:|:-:|:-:|:-:|:-:|:-:|:-:|:-:|:-:|:-:|:-:|:-:|:-:|:-:|:-:|:-:|:-:|:-:|:-:|\n",
        "||C|u|r|s|o| |e|m| |V|í |d |e |o |  |P |y |t |h |o |n |\n",
        "||0|1|2|3|4|5|6|7|8|9|10|11|12|13|14|15|16|17|18|19|20|"
      ]
    },
    {
      "cell_type": "markdown",
      "metadata": {
        "id": "NSzjR9e_tRKQ",
        "colab_type": "text"
      },
      "source": [
        "##### **Fatiamento**"
      ]
    },
    {
      "cell_type": "markdown",
      "metadata": {
        "id": "-m09-S9VLf7F",
        "colab_type": "text"
      },
      "source": [
        "\n",
        "\n",
        "- **frase[9]**  \n",
        "Mostrará na tela o caractere alocado na posição 9.\n",
        "\n",
        "|frase||||||||||||||||||||||\n",
        "|-|:-:|:-:|:-:|:-:|:-:|:-:|:-:|:-:|:-:|:-:|:-:|:-:|:-:|:-:|:-:|:-:|:-:|:-:|:-:|:-:|:-:|\n",
        "||C|u|r|s|o||e|m||\\|**V**\\||í|d|e|o||P|y|t|h|o|n|\n",
        "||0|1|2|3|4|5|6|7|8|\\|**9**\\||10|11|12|13|14|15|16|17|18|19|20|"
      ]
    },
    {
      "cell_type": "markdown",
      "metadata": {
        "id": "zpAPoIkRK6Sy",
        "colab_type": "text"
      },
      "source": [
        "- **frase[9:13]**  \n",
        "Mostrará na tela os caracteres alocado nas posições  \n",
        " inicial: 9  \n",
        " final: 12  \n",
        " ***Obs.: A posição final é sempre o valor indicado -1.***  \n",
        "\n",
        "|frase||||||||||||||||||||||\n",
        "|-|:-:|:-:|:-:|:-:|:-:|:-:|:-:|:-:|:-:|:-:|:-:|:-:|:-:|:-:|:-:|:-:|:-:|:-:|:-:|:-:|:-:|\n",
        "||C|u|r|s|o||e|m||\\|**V**|**í**|**d**|**e**\\||o||P|y|t|h|o|n|\n",
        "||0|1|2|3|4|5|6|7|8|\\|**9**|**10**|**11**|**12**\\||13|14|15|16|17|18|19|20|"
      ]
    },
    {
      "cell_type": "markdown",
      "metadata": {
        "id": "Rl_yHk5xLAAM",
        "colab_type": "text"
      },
      "source": [
        "- **frase[9:21]**  \n",
        "Mostrará na tela os caracteres alocados nas posições  \n",
        " inicial: 9  \n",
        " final: 20\n",
        "\n",
        "|frase||||||||||||||||||||||\n",
        "|-|:-:|:-:|:-:|:-:|:-:|:-:|:-:|:-:|:-:|:-:|:-:|:-:|:-:|:-:|:-:|:-:|:-:|:-:|:-:|:-:|:-:|\n",
        "||C|u|r|s|o||e|m||\\|**V**|**í**|**d**|**e**|**o**||**P**|**y**|**t**|**h**|**o**|**n**\\||\n",
        "||0|1|2|3|4|5|6|7|8|\\|**9**|**10**|**11**|**12**|**13**|**14**|**15**|**16**|**17**|**18**|**19**|**20**\\||"
      ]
    },
    {
      "cell_type": "markdown",
      "metadata": {
        "id": "Il8WKz7WLECb",
        "colab_type": "text"
      },
      "source": [
        "- **frase[9:21:2]**  \n",
        "Mostrará na tela os caracteres alocados nas posições  \n",
        " inicial: 9  \n",
        " Final: 20  \n",
        " Saltando: ***a cada 2 posições***\n",
        "\n",
        "|frase||||||||||||||||||||||\n",
        "|-|:-:|:-:|:-:|:-:|:-:|:-:|:-:|:-:|:-:|:-:|:-:|:-:|:-:|:-:|:-:|:-:|:-:|:-:|:-:|:-:|:-:|\n",
        "||C|u|r|s|o||e|m||\\|**V**\\||í|\\|**d**\\||e|\\|**o**\\|||\\|**P**\\||y|\\|**t**\\||h|\\|**o**\\||n|\n",
        "||0|1|2|3|4|5|6|7|8|\\|**9**\\||10|\\|**11**\\||12|\\|**13**\\||14|\\|**15**\\||16|\\|**17**\\||18|\\|**19**\\||20|"
      ]
    },
    {
      "cell_type": "markdown",
      "metadata": {
        "id": "F81mlMDbLJEe",
        "colab_type": "text"
      },
      "source": [
        "- **frase[:5]**  \n",
        " Mostrará na tela os caracteres alocados nas posições  \n",
        " inicial: 0  \n",
        " final: 4  \n",
        "\n",
        "|frase||||||||||||||||||||||\n",
        "|-|:-:|:-:|:-:|:-:|:-:|:-:|:-:|:-:|:-:|:-:|:-:|:-:|:-:|:-:|:-:|:-:|:-:|:-:|:-:|:-:|:-:|\n",
        "||\\|**C**|**u**|**r**|**s**|**o**\\|||e|m||V|í|d|e|o||P|y|t|h|o|n|\n",
        "||\\|**0**|**1**|**2**|**3**|**4**\\||5|6|7|8|9|10|11|12|13|14|15|16|17|18|19|20|"
      ]
    },
    {
      "cell_type": "markdown",
      "metadata": {
        "id": "29L7sU69LO9g",
        "colab_type": "text"
      },
      "source": [
        "- **frase[15:]**  \n",
        "  Mostrará na tela os caracteres alocados nas posições  \n",
        "  inicial: 15  \n",
        "  final: ***até o final da frase***  \n",
        "\n",
        "|frase||||||||||||||||||||||\n",
        "|-|:-:|:-:|:-:|:-:|:-:|:-:|:-:|:-:|:-:|:-:|:-:|:-:|:-:|:-:|:-:|:-:|:-:|:-:|:-:|:-:|:-:|\n",
        "||C|u|r|s|o| |e|m| |V|í |d |e |o |  |\\|**P**|**y**|**t**|**h**|**o**|**n**\\||\n",
        "||0|1|2|3|4|5|6|7|8|9|10|11|12|13|14|\\|**15**|**16**|**17**|**18**|**19**|**20**\\||"
      ]
    },
    {
      "cell_type": "markdown",
      "metadata": {
        "id": "JqrPT2QtLU3y",
        "colab_type": "text"
      },
      "source": [
        "- **frase[9::3]**  \n",
        "   Mostrará na tela os caracteres alocados nas posições  \n",
        "   inicial: 9  \n",
        "   final: ***até o final da frase***  \n",
        "   Saltando: ***a cada 3 posições***  \n",
        "\n",
        "|frase||||||||||||||||||||||\n",
        "|-|:-:|:-:|:-:|:-:|:-:|:-:|:-:|:-:|:-:|:-:|:-:|:-:|:-:|:-:|:-:|:-:|:-:|:-:|:-:|:-:|:-:|\n",
        "||C|u|r|s|o| |e|m| |\\|**V**\\||í |d |\\|**e**\\||o| |\\|**P**\\||y|t|\\|**h**\\||o |n |\n",
        "||0|1|2|3|4|5|6|7|8|\\|**9**\\||10|11|\\|**12**\\||13|14|\\|**15**\\||16|17|\\|**18**\\||19|20|"
      ]
    },
    {
      "cell_type": "markdown",
      "metadata": {
        "id": "EgQ0Em2U5q-x",
        "colab_type": "text"
      },
      "source": [
        "##### **Análise**"
      ]
    },
    {
      "cell_type": "markdown",
      "metadata": {
        "id": "gdxWgTjolOX_",
        "colab_type": "text"
      },
      "source": [
        "###### **len()**\n",
        "Retorna o número de itens em um conteiner."
      ]
    },
    {
      "cell_type": "markdown",
      "metadata": {
        "id": "axwXHkmIm0X8",
        "colab_type": "text"
      },
      "source": [
        "- **len(frase)**\n",
        "\n",
        "|frase||||||||||||||||||||||\n",
        "|-|:-:|:-:|:-:|:-:|:-:|:-:|:-:|:-:|:-:|:-:|:-:|:-:|:-:|:-:|:-:|:-:|:-:|:-:|:-:|:-:|:-:|\n",
        "||C|u|r|s|o| |e|m| |V|í |d |e |o |  |P |y |t |h |o |n |\n",
        "||0|1|2|3|4|5|6|7|8|9|10|11|12|13|14|15|16|17|18|19|20|"
      ]
    },
    {
      "cell_type": "markdown",
      "metadata": {
        "id": "BtGgdlPCAJ_P",
        "colab_type": "text"
      },
      "source": [
        "```py\n",
        "len(frase)\n",
        "```\n",
        "\\>>> 21"
      ]
    },
    {
      "cell_type": "markdown",
      "metadata": {
        "id": "j8F50YLmlVIW",
        "colab_type": "text"
      },
      "source": [
        "###### **.count()**\n",
        "Retorna o número de ocorrências não sobreposta de *sub* em uma subsequência."
      ]
    },
    {
      "cell_type": "markdown",
      "metadata": {
        "id": "MI04ZoVbAVk4",
        "colab_type": "text"
      },
      "source": [
        "- **frase.count('o')**\n",
        "\n",
        "\\>>> 3\n",
        "\n",
        "|frase||||||||||||||||||||||\n",
        "|-|:-:|:-:|:-:|:-:|:-:|:-:|:-:|:-:|:-:|:-:|:-:|:-:|:-:|:-:|:-:|:-:|:-:|:-:|:-:|:-:|:-:|\n",
        "||C|u|r|s|\\|**o**\\|| |e|m| |V|í |d |e |\\|**o**\\| |  |P |y |t |h |\\|**o**\\| |n |\n",
        "||0|1|2|3|\\|**4**\\||5|6|7|8|9|10|11|12|\\|**13**\\||14|15|16|17|18|\\|**19**\\||20|\n"
      ]
    },
    {
      "cell_type": "markdown",
      "metadata": {
        "id": "V1iAwIIpBLVA",
        "colab_type": "text"
      },
      "source": [
        "- **frase.count('o',0,13)**\n",
        "\n",
        "Os argumentos opcionais [start, end] são interpretados como na notação de fatia.\n",
        "\n",
        "|frase||||||||||||||||||||||\n",
        "|-|:-:|:-:|:-:|:-:|:-:|:-:|:-:|:-:|:-:|:-:|:-:|:-:|:-:|:-:|:-:|:-:|:-:|:-:|:-:|:-:|:-:|\n",
        "||C|u|r|s|\\|**o**\\|||e|m||V|í|d|e|o||P|y|t|h|o|n|\n",
        "||0|1|2|3|\\|**4**\\||5|6|7|8|9|10|11|12|13|14|15|16|17|18|19|20|\n"
      ]
    },
    {
      "cell_type": "markdown",
      "metadata": {
        "id": "FnegUuNulaMK",
        "colab_type": "text"
      },
      "source": [
        "###### **.find()**\n",
        "Retorna a menor posição da sequência de caracteres encontrada.  \n",
        "*Note:* Retornará -1 se a sequência de caracteres não for encontrada."
      ]
    },
    {
      "cell_type": "markdown",
      "metadata": {
        "id": "VDNTO1lCCXoC",
        "colab_type": "text"
      },
      "source": [
        "- **frase.find('deo')**\n",
        "\n",
        "\\>>> 11\n",
        "\n",
        "|frase||||||||||||||||||||||\n",
        "|-|:-:|:-:|:-:|:-:|:-:|:-:|:-:|:-:|:-:|:-:|:-:|:-:|:-:|:-:|:-:|:-:|:-:|:-:|:-:|:-:|:-:|\n",
        "||C|u|r|s|o| |e|m| |V|í |\\|**d**|**e**|**o**\\||  |P |y |t |h |o |n |\n",
        "||0|1|2|3|4|5|6|7|8|9|10|\\|**11**|**12**|**13**\\||14|15|16|17|18|19|20|"
      ]
    },
    {
      "cell_type": "markdown",
      "metadata": {
        "id": "cAZ8LvM7FCVY",
        "colab_type": "text"
      },
      "source": [
        "- **frase.find('Android')**\n",
        "\n",
        "\\>>> -1"
      ]
    },
    {
      "cell_type": "markdown",
      "metadata": {
        "id": "E-x52nxwlgu0",
        "colab_type": "text"
      },
      "source": [
        "###### **in**\n",
        "O operador `in` e `not in` é um teste de associação. Avalia `x in s` e retorna `True` se *x* for membro de *s*, caso contrário retornará `false`."
      ]
    },
    {
      "cell_type": "markdown",
      "metadata": {
        "colab_type": "text",
        "id": "hRiZQwkHFms3"
      },
      "source": [
        "- **'Curso' in frase**\n",
        "\n",
        "\\>>> True\n",
        "\n",
        "|frase||||||||||||||||||||||\n",
        "|-|:-:|:-:|:-:|:-:|:-:|:-:|:-:|:-:|:-:|:-:|:-:|:-:|:-:|:-:|:-:|:-:|:-:|:-:|:-:|:-:|:-:|\n",
        "||\\|**C**|**u**|**r**|**s**|**o**\\|| |e|m| |V|í |d |e |o |  |P |y |t |h |o |n |\n",
        "||\\|**0**|**1**|**2**|**3**|**4**\\||5|6|7|8|9|10|11|12|13|14|15|16|17|18|19|20|"
      ]
    },
    {
      "cell_type": "markdown",
      "metadata": {
        "id": "A_tQkNlB6A2f",
        "colab_type": "text"
      },
      "source": [
        "##### **Transformação**"
      ]
    },
    {
      "cell_type": "markdown",
      "metadata": {
        "id": "1WUf9LxRgfXq",
        "colab_type": "text"
      },
      "source": [
        "###### **.replace()**"
      ]
    },
    {
      "cell_type": "markdown",
      "metadata": {
        "id": "ME2gJsSShUvf",
        "colab_type": "text"
      },
      "source": [
        "- **frase.replace('Python', 'Android')**\n",
        "\n",
        "|frase||||||||||||||||||||||\n",
        "|-|:-:|:-:|:-:|:-:|:-:|:-:|:-:|:-:|:-:|:-:|:-:|:-:|:-:|:-:|:-:|:-:|:-:|:-:|:-:|:-:|:-:|\n",
        "||C|u|r|s|o| |e|m| |V|í |d |e |o |  |P |y |t |h |o |n |\n",
        "||0|1|2|3|4|5|6|7|8|9|10|11|12|13|14|15|16|17|18|19|20|"
      ]
    },
    {
      "cell_type": "markdown",
      "metadata": {
        "id": "uruorHOLop7O",
        "colab_type": "text"
      },
      "source": [
        "###### **.upper()**"
      ]
    },
    {
      "cell_type": "markdown",
      "metadata": {
        "id": "Vyj8zHijoyO_",
        "colab_type": "text"
      },
      "source": [
        "- **frase.upper()**\n",
        "\n",
        "|frase||||||||||||||||||||||\n",
        "|-|:-:|:-:|:-:|:-:|:-:|:-:|:-:|:-:|:-:|:-:|:-:|:-:|:-:|:-:|:-:|:-:|:-:|:-:|:-:|:-:|:-:|\n",
        "||C|U|R|S|O| |E|M| |V|Í |D |E |O |  |P |Y |T |H |O |N |\n",
        "||0|1|2|3|4|5|6|7|8|9|10|11|12|13|14|15|16|17|18|19|20|"
      ]
    },
    {
      "cell_type": "markdown",
      "metadata": {
        "id": "aepb0t2ZpcEl",
        "colab_type": "text"
      },
      "source": [
        "###### **.lower()**"
      ]
    },
    {
      "cell_type": "markdown",
      "metadata": {
        "id": "JlSe_ZXKphv_",
        "colab_type": "text"
      },
      "source": [
        "- **frase.lower()**\n",
        "\n",
        "|frase||||||||||||||||||||||\n",
        "|-|:-:|:-:|:-:|:-:|:-:|:-:|:-:|:-:|:-:|:-:|:-:|:-:|:-:|:-:|:-:|:-:|:-:|:-:|:-:|:-:|:-:|\n",
        "||\\|**c**\\||u|r|s|o| |e|m| |\\|**v**\\||í |d |e |o |  |\\|**p**\\||y |t |h |o |n |\n",
        "||\\|**0**\\||1|2|3|4|5|6|7|8|\\|**9**\\||10|11|12|13|14|\\|**15**\\||16|17|18|19|20|"
      ]
    },
    {
      "cell_type": "markdown",
      "metadata": {
        "id": "0QnwhXo5qS2r",
        "colab_type": "text"
      },
      "source": [
        "###### **.capitalize()**"
      ]
    },
    {
      "cell_type": "markdown",
      "metadata": {
        "id": "ejDR4ZHFqb1V",
        "colab_type": "text"
      },
      "source": [
        "- **frase.capitalize()**\n",
        "\n",
        "|frase||||||||||||||||||||||\n",
        "|-|:-:|:-:|:-:|:-:|:-:|:-:|:-:|:-:|:-:|:-:|:-:|:-:|:-:|:-:|:-:|:-:|:-:|:-:|:-:|:-:|:-:|\n",
        "||\\|**C**\\||u|r|s|o| |e|m| |\\|**v**\\||í |d |e |o |  |\\|**p**\\||y |t |h |o |n |\n",
        "||\\|**0**\\||1|2|3|4|5|6|7|8|\\|**9**\\||10|11|12|13|14|\\|**15**\\||16|17|18|19|20|"
      ]
    },
    {
      "cell_type": "markdown",
      "metadata": {
        "id": "o4od0AAaq1G1",
        "colab_type": "text"
      },
      "source": [
        "###### **.title**"
      ]
    },
    {
      "cell_type": "markdown",
      "metadata": {
        "id": "tT1AHX5Mq41E",
        "colab_type": "text"
      },
      "source": [
        "- **frase.title()**\n",
        "\n",
        "|frase||||||||||||||||||||||\n",
        "|-|:-:|:-:|:-:|:-:|:-:|:-:|:-:|:-:|:-:|:-:|:-:|:-:|:-:|:-:|:-:|:-:|:-:|:-:|:-:|:-:|:-:|\n",
        "||\\|**C**\\||u|r|s|o| |\\|**E**\\||m| |\\|**V**\\||í |d |e |o |  |\\|**P**\\||y |t |h |o |n |\n",
        "||\\|**0**\\||1|2|3|4|5|\\|**6**\\||7|8|\\|**9**\\||10|11|12|13|14|\\|**15**\\||16|17|18|19|20|"
      ]
    },
    {
      "cell_type": "markdown",
      "metadata": {
        "id": "Z7EJDEovs38t",
        "colab_type": "text"
      },
      "source": [
        "###### **.strip()**"
      ]
    },
    {
      "cell_type": "markdown",
      "metadata": {
        "id": "VR-0Hdh3rYqj",
        "colab_type": "text"
      },
      "source": [
        "- **frase.strip()**\n",
        "\n",
        "|frase||||||||||||||||||||||\n",
        "|-|:-:|:-:|:-:|:-:|:-:|:-:|:-:|:-:|:-:|:-:|:-:|:-:|:-:|:-:|:-:|:-:|:-:|:-:|:-:|:-:|:-:|\n",
        "||\\|**X**\\||\\|**X**\\||\\|**X**\\||A|p|r|e|n|d|a||P|y|t|h|o|n|\\|**X**\\||\\|**X**\\||\\|**X**\\||\\|**X**\\||\n",
        "||0|1|2|3|4|5|6|7|8|9|10|11|12|13|14|15|16|17|18|19|20|"
      ]
    },
    {
      "cell_type": "markdown",
      "metadata": {
        "id": "5lQGYM3VtJHJ",
        "colab_type": "text"
      },
      "source": [
        "###### **.rstrip()**"
      ]
    },
    {
      "cell_type": "markdown",
      "metadata": {
        "id": "bdEKClDmsoPE",
        "colab_type": "text"
      },
      "source": [
        "- **frase.rstrip()**\n",
        "\n",
        "|frase||||||||||||||||||||||\n",
        "|-|:-:|:-:|:-:|:-:|:-:|:-:|:-:|:-:|:-:|:-:|:-:|:-:|:-:|:-:|:-:|:-:|:-:|:-:|:-:|:-:|:-:|\n",
        "||\\| \\||\\| \\||\\| \\||A|p|r|e|n|d|a|\\| \\||P|y|t|h|o|n|\\|**X**\\||\\|**X**\\||\\|**X**\\||\\|**X**\\||\n",
        "||0|1|2|3|4|5|6|7|8|9|10|11|12|13|14|15|16|17|18|19|20|"
      ]
    },
    {
      "cell_type": "markdown",
      "metadata": {
        "id": "__iPpFHttPol",
        "colab_type": "text"
      },
      "source": [
        "###### **.lstrip()**"
      ]
    },
    {
      "cell_type": "markdown",
      "metadata": {
        "id": "_ATWn57jtUXt",
        "colab_type": "text"
      },
      "source": [
        "- **frase.lstrip()**\n",
        "\n",
        "|frase||||||||||||||||||||||\n",
        "|-|:-:|:-:|:-:|:-:|:-:|:-:|:-:|:-:|:-:|:-:|:-:|:-:|:-:|:-:|:-:|:-:|:-:|:-:|:-:|:-:|:-:|\n",
        "||\\|**X**\\||\\|**X**\\||\\|**X**\\||A|p|r|e|n|d|a|\\| \\||P|y|t|h|o|n|\\| \\||\\| \\||\\| \\||\\| \\||\n",
        "||0|1|2|3|4|5|6|7|8|9|10|11|12|13|14|15|16|17|18|19|20|"
      ]
    },
    {
      "cell_type": "markdown",
      "metadata": {
        "id": "84nIxWrV6I4t",
        "colab_type": "text"
      },
      "source": [
        "##### **Divisão**"
      ]
    },
    {
      "cell_type": "markdown",
      "metadata": {
        "id": "QDMK2PXKusZX",
        "colab_type": "text"
      },
      "source": [
        "###### **.split()**"
      ]
    },
    {
      "cell_type": "markdown",
      "metadata": {
        "id": "VBwioTdAvHeU",
        "colab_type": "text"
      },
      "source": [
        "- **frase.split()**\n",
        "\n",
        "|frase||||||||||||||||||||||\n",
        "|-|:-:|:-:|:-:|:-:|:-:|:-:|:-:|:-:|:-:|:-:|:-:|:-:|:-:|:-:|:-:|:-:|:-:|:-:|:-:|:-:|:-:|\n",
        "||\\|**C**\\|\\|**u**\\|\\|**r**\\|\\|**s**\\|\\|**o**\\||\\|**e**\\|\\|**m**\\||\\|**V**\\|\\|**í**\\|\\|**d**\\|\\|**e**\\|\\|**o**\\||\\|**P**\\|\\|**y**\\|\\|**t**\\|\\|**h**\\|\\|**o**\\|\\|**n**\\||\n",
        "||\\|**0**\\|\\|**1**\\|\\|**2**\\|\\|**3**\\|\\|**4**\\||\\|**0**\\|\\|**1**\\||\\|**0**\\|\\|**1**\\|\\|**2**\\|\\|**3**\\|\\|**4**\\||\\|**0**\\|\\|**1**\\|\\|**2**\\|\\|**3**\\|\\|**4**\\|\\|**5**\\||\n",
        "||\\|**0**\\||\\|**1**\\||\\|**2**\\||\\|**3**\\||"
      ]
    },
    {
      "cell_type": "markdown",
      "metadata": {
        "id": "kVqYv_rRMt_Y",
        "colab_type": "text"
      },
      "source": [
        "###### **.join()**"
      ]
    },
    {
      "cell_type": "markdown",
      "metadata": {
        "colab_type": "text",
        "id": "jmH9u1doMihZ"
      },
      "source": [
        "- **'-'.join(frase)**\n",
        "\n",
        "|frase||||||||||||||||||||||\n",
        "|-|:-:|:-:|:-:|:-:|:-:|:-:|:-:|:-:|:-:|:-:|:-:|:-:|:-:|:-:|:-:|:-:|:-:|:-:|:-:|:-:|:-:|\n",
        "||\\|**C**\\|\\|**u**\\|\\|**r**\\|\\|**s**\\|\\|**o**\\|\\|**-**\\|\\|**e**\\|\\|**m**\\|\\|**-**\\|\\|**V**\\|\\|**í**\\|\\|**d**\\|\\|**e**\\|\\|**o**\\|\\|**-**\\|\\|**P**\\|\\|**y**\\|\\|**t**\\|\\|**h**\\|\\|**o**\\|\\|**n**\\||\n",
        "||\\|0\\|\\|**1**\\|\\|**2**\\|\\|**3**\\|\\|**4**\\|\\|**5**\\|\\|**6**\\|\\|**7**\\|\\|**8**\\|\\|**9**\\|\\|**10**\\|\\|**11**\\|\\|**12**\\|\\|**13**\\|\\|**14**\\|\\|**15**\\|\\|**16**\\|\\|**17**\\|\\|**18**\\|\\|**19**\\|\\|**20**\\||"
      ]
    },
    {
      "cell_type": "markdown",
      "metadata": {
        "id": "-y1lN23Qn5gP",
        "colab_type": "text"
      },
      "source": [
        "### PRÁTICA"
      ]
    },
    {
      "cell_type": "markdown",
      "metadata": {
        "id": "L8VQggQjQJjj",
        "colab_type": "text"
      },
      "source": [
        "#### Aula09a"
      ]
    },
    {
      "cell_type": "code",
      "metadata": {
        "id": "hhQnv9UfQa9r",
        "colab_type": "code",
        "outputId": "8bdbadf2-a837-4ac1-ae0e-67b2d93ca0cd",
        "colab": {
          "base_uri": "https://localhost:8080/",
          "height": 34
        }
      },
      "source": [
        "frase = 'Curso em Vídeo Python'\n",
        "print(frase[3])"
      ],
      "execution_count": 0,
      "outputs": [
        {
          "output_type": "stream",
          "text": [
            "s\n"
          ],
          "name": "stdout"
        }
      ]
    },
    {
      "cell_type": "code",
      "metadata": {
        "colab_type": "code",
        "outputId": "c386593f-5681-461f-838a-65d137c82ee1",
        "id": "GtlIqSGwQ6Qc",
        "colab": {
          "base_uri": "https://localhost:8080/",
          "height": 34
        }
      },
      "source": [
        "frase = 'Curso em Vídeo Python'\n",
        "print(frase[3:13])"
      ],
      "execution_count": 0,
      "outputs": [
        {
          "output_type": "stream",
          "text": [
            "so em Víde\n"
          ],
          "name": "stdout"
        }
      ]
    },
    {
      "cell_type": "code",
      "metadata": {
        "colab_type": "code",
        "outputId": "eed6854b-8410-42a8-b18c-57e50d3095f9",
        "id": "toybFrJRRDm2",
        "colab": {
          "base_uri": "https://localhost:8080/",
          "height": 34
        }
      },
      "source": [
        "frase = 'Curso em Vídeo Python'\n",
        "print(frase[:13])"
      ],
      "execution_count": 0,
      "outputs": [
        {
          "output_type": "stream",
          "text": [
            "Curso em Víde\n"
          ],
          "name": "stdout"
        }
      ]
    },
    {
      "cell_type": "code",
      "metadata": {
        "colab_type": "code",
        "outputId": "a8b53aa1-1ee8-4e93-9757-9738e04decbf",
        "id": "hM5CKcOfRLK_",
        "colab": {
          "base_uri": "https://localhost:8080/",
          "height": 34
        }
      },
      "source": [
        "frase = 'Curso em Vídeo Python'\n",
        "print(frase[13:])"
      ],
      "execution_count": 0,
      "outputs": [
        {
          "output_type": "stream",
          "text": [
            "o Python\n"
          ],
          "name": "stdout"
        }
      ]
    },
    {
      "cell_type": "code",
      "metadata": {
        "colab_type": "code",
        "outputId": "fd89d01b-38cb-4158-cb32-32242fd36c02",
        "id": "btsL7Jr4RUc9",
        "colab": {
          "base_uri": "https://localhost:8080/",
          "height": 34
        }
      },
      "source": [
        "frase = 'Curso em Vídeo Python'\n",
        "print(frase[1:15:2])"
      ],
      "execution_count": 0,
      "outputs": [
        {
          "output_type": "stream",
          "text": [
            "us mVdo\n"
          ],
          "name": "stdout"
        }
      ]
    },
    {
      "cell_type": "code",
      "metadata": {
        "id": "myHcD3hYTfrK",
        "colab_type": "code",
        "outputId": "a01dd286-5118-4874-9c97-7c4cddcf75ad",
        "colab": {
          "base_uri": "https://localhost:8080/",
          "height": 34
        }
      },
      "source": [
        "frase = 'Curso em Vídeo Python'\n",
        "print(frase.count('o'))"
      ],
      "execution_count": 0,
      "outputs": [
        {
          "output_type": "stream",
          "text": [
            "3\n"
          ],
          "name": "stdout"
        }
      ]
    },
    {
      "cell_type": "code",
      "metadata": {
        "id": "FavGbwNETuxs",
        "colab_type": "code",
        "outputId": "be50c5c2-9d67-4341-e754-53713936750d",
        "colab": {
          "base_uri": "https://localhost:8080/",
          "height": 34
        }
      },
      "source": [
        "frase = 'Curso em Vídeo Python'\n",
        "print(frase.count('O'))"
      ],
      "execution_count": 0,
      "outputs": [
        {
          "output_type": "stream",
          "text": [
            "0\n"
          ],
          "name": "stdout"
        }
      ]
    },
    {
      "cell_type": "code",
      "metadata": {
        "id": "aNGxpKdoT0x4",
        "colab_type": "code",
        "outputId": "f30e129d-89d2-4def-ec63-295c2b92407b",
        "colab": {
          "base_uri": "https://localhost:8080/",
          "height": 34
        }
      },
      "source": [
        "frase = 'Curso em Vídeo Python'\n",
        "print(frase.upper().count('O'))"
      ],
      "execution_count": 0,
      "outputs": [
        {
          "output_type": "stream",
          "text": [
            "3\n"
          ],
          "name": "stdout"
        }
      ]
    },
    {
      "cell_type": "code",
      "metadata": {
        "id": "Vfx7MCHpUH0x",
        "colab_type": "code",
        "outputId": "0cc0a88e-d808-4e1d-acd0-30df67daa20c",
        "colab": {
          "base_uri": "https://localhost:8080/",
          "height": 34
        }
      },
      "source": [
        "frase = 'Curso em Vídeo Python'\n",
        "print(len(frase))"
      ],
      "execution_count": 0,
      "outputs": [
        {
          "output_type": "stream",
          "text": [
            "21\n"
          ],
          "name": "stdout"
        }
      ]
    },
    {
      "cell_type": "code",
      "metadata": {
        "id": "imJW4-LsUNU6",
        "colab_type": "code",
        "outputId": "efea92ae-8816-4711-89a4-e9aea6edfc7a",
        "colab": {
          "base_uri": "https://localhost:8080/",
          "height": 34
        }
      },
      "source": [
        "frase = '  Curso em Vídeo Python  '\n",
        "print(len(frase))"
      ],
      "execution_count": 0,
      "outputs": [
        {
          "output_type": "stream",
          "text": [
            "25\n"
          ],
          "name": "stdout"
        }
      ]
    },
    {
      "cell_type": "code",
      "metadata": {
        "id": "4Qx18rDDUckV",
        "colab_type": "code",
        "outputId": "14d54d3f-dd0b-4d7a-c386-bd6dde8e2c57",
        "colab": {
          "base_uri": "https://localhost:8080/",
          "height": 34
        }
      },
      "source": [
        "frase = '   Curso em Vídeo Python   '\n",
        "print(len(frase.strip()))"
      ],
      "execution_count": 0,
      "outputs": [
        {
          "output_type": "stream",
          "text": [
            "21\n"
          ],
          "name": "stdout"
        }
      ]
    },
    {
      "cell_type": "code",
      "metadata": {
        "id": "sUGtBVjpUoAm",
        "colab_type": "code",
        "outputId": "62145cce-8c47-4756-e8f5-c86505836f21",
        "colab": {
          "base_uri": "https://localhost:8080/",
          "height": 34
        }
      },
      "source": [
        "frase = 'Curso em Vídeo Python'\n",
        "print(frase.replace('Python', 'Android'))"
      ],
      "execution_count": 0,
      "outputs": [
        {
          "output_type": "stream",
          "text": [
            "Curso em Vídeo Android\n"
          ],
          "name": "stdout"
        }
      ]
    },
    {
      "cell_type": "code",
      "metadata": {
        "id": "-vtrc9f7VF0S",
        "colab_type": "code",
        "outputId": "23f72f6f-7b39-4093-b419-ef1a346fb7f9",
        "colab": {
          "base_uri": "https://localhost:8080/",
          "height": 51
        }
      },
      "source": [
        "frase = 'Curso em Vídeo Python'\n",
        "print(frase.replace('Python', 'Android'))\n",
        "print(frase)"
      ],
      "execution_count": 0,
      "outputs": [
        {
          "output_type": "stream",
          "text": [
            "Curso em Vídeo Android\n",
            "Curso em Vídeo Python\n"
          ],
          "name": "stdout"
        }
      ]
    },
    {
      "cell_type": "code",
      "metadata": {
        "id": "EnZV_A1nVX2S",
        "colab_type": "code",
        "outputId": "29c79d31-6e15-4ad4-e51e-5db0949d2e80",
        "colab": {
          "base_uri": "https://localhost:8080/",
          "height": 34
        }
      },
      "source": [
        "frase = 'Curso em Vídeo Python'\n",
        "frase = frase.replace('Python', 'Android')\n",
        "print(frase)"
      ],
      "execution_count": 0,
      "outputs": [
        {
          "output_type": "stream",
          "text": [
            "Curso em Vídeo Android\n"
          ],
          "name": "stdout"
        }
      ]
    },
    {
      "cell_type": "code",
      "metadata": {
        "id": "t2Y3VyezVwJD",
        "colab_type": "code",
        "outputId": "17ce416b-a8c8-4b7d-ffb6-ce4b3984f649",
        "colab": {
          "base_uri": "https://localhost:8080/",
          "height": 34
        }
      },
      "source": [
        "frase = 'Curso em Vídeo Python'\n",
        "print('Curso' in frase)"
      ],
      "execution_count": 0,
      "outputs": [
        {
          "output_type": "stream",
          "text": [
            "True\n"
          ],
          "name": "stdout"
        }
      ]
    },
    {
      "cell_type": "code",
      "metadata": {
        "id": "21xXjOG3V5Th",
        "colab_type": "code",
        "outputId": "9faa11ca-bb95-4dc9-b645-da0def5300ac",
        "colab": {
          "base_uri": "https://localhost:8080/",
          "height": 34
        }
      },
      "source": [
        "frase = 'Curso em Vídeo Python'\n",
        "print(frase.find('Curso'))"
      ],
      "execution_count": 0,
      "outputs": [
        {
          "output_type": "stream",
          "text": [
            "0\n"
          ],
          "name": "stdout"
        }
      ]
    },
    {
      "cell_type": "code",
      "metadata": {
        "id": "fwJptt4IWGPm",
        "colab_type": "code",
        "outputId": "a51d87b6-e5fe-4e71-aab2-93b921837595",
        "colab": {
          "base_uri": "https://localhost:8080/",
          "height": 34
        }
      },
      "source": [
        "frase = 'Curso em Vídeo Python'\n",
        "print(frase.lower().find('vídeo'))"
      ],
      "execution_count": 0,
      "outputs": [
        {
          "output_type": "stream",
          "text": [
            "9\n"
          ],
          "name": "stdout"
        }
      ]
    },
    {
      "cell_type": "code",
      "metadata": {
        "id": "f2L3tyDjWdYE",
        "colab_type": "code",
        "outputId": "2e336241-18a1-4b9a-913d-7f722c356071",
        "colab": {
          "base_uri": "https://localhost:8080/",
          "height": 34
        }
      },
      "source": [
        "frase = 'Curso em Vídeo Python'\n",
        "print(frase.find('vídeo'))"
      ],
      "execution_count": 0,
      "outputs": [
        {
          "output_type": "stream",
          "text": [
            "-1\n"
          ],
          "name": "stdout"
        }
      ]
    },
    {
      "cell_type": "code",
      "metadata": {
        "id": "x-1t9ryJWtvR",
        "colab_type": "code",
        "outputId": "d3c32cd9-2ea2-449c-a89f-9ae071c88d3e",
        "colab": {
          "base_uri": "https://localhost:8080/",
          "height": 34
        }
      },
      "source": [
        "frase = 'Curso em Vídeo Python'\n",
        "print(frase.split())"
      ],
      "execution_count": 0,
      "outputs": [
        {
          "output_type": "stream",
          "text": [
            "['Curso', 'em', 'Vídeo', 'Python']\n"
          ],
          "name": "stdout"
        }
      ]
    },
    {
      "cell_type": "code",
      "metadata": {
        "id": "QW4laG-hW0xg",
        "colab_type": "code",
        "outputId": "8f8e8047-283a-4eb0-99c3-b9635253e931",
        "colab": {
          "base_uri": "https://localhost:8080/",
          "height": 34
        }
      },
      "source": [
        "frase = 'Curso em Vídeo Python'\n",
        "dividido = frase.split()\n",
        "print(dividido[0])"
      ],
      "execution_count": 0,
      "outputs": [
        {
          "output_type": "stream",
          "text": [
            "Curso\n"
          ],
          "name": "stdout"
        }
      ]
    },
    {
      "cell_type": "code",
      "metadata": {
        "id": "hmZ3m6-GW-A9",
        "colab_type": "code",
        "outputId": "567ca4d5-4728-4ad1-f42d-e36b89da4a4f",
        "colab": {
          "base_uri": "https://localhost:8080/",
          "height": 34
        }
      },
      "source": [
        "frase = 'Curso em Vídeo Python'\n",
        "dividido = frase.split()\n",
        "print(dividido[0][3])"
      ],
      "execution_count": 0,
      "outputs": [
        {
          "output_type": "stream",
          "text": [
            "s\n"
          ],
          "name": "stdout"
        }
      ]
    },
    {
      "cell_type": "markdown",
      "metadata": {
        "id": "aVshfNRTR2qG",
        "colab_type": "text"
      },
      "source": [
        "#### Aula09b"
      ]
    },
    {
      "cell_type": "markdown",
      "metadata": {
        "id": "p_dv7G5lSmSA",
        "colab_type": "text"
      },
      "source": [
        "Podemos utilizar o recurso de 3 aspas (simples ou dupla) para printar um texto com muitos caracteres, sem precisar quebrá-lo em vários `print()`."
      ]
    },
    {
      "cell_type": "code",
      "metadata": {
        "id": "T6AGYRRjR8LF",
        "colab_type": "code",
        "outputId": "9c0e148a-f5c1-4ff0-b5e7-e110f0bc9162",
        "colab": {
          "base_uri": "https://localhost:8080/",
          "height": 119
        }
      },
      "source": [
        "print('''Welcome! Are you completely new to programming?\n",
        "If not then we presume you will be looking for information\n",
        "about why and how to get started with Python.\n",
        "Fortunately an experienced programmer in any programming\n",
        "language (whatever it may be) can pick up Python very quickly.\n",
        "It's also easy for beginners to use and learn, so jump in!''')"
      ],
      "execution_count": 0,
      "outputs": [
        {
          "output_type": "stream",
          "text": [
            "Welcome! Are you completely new to programming?\n",
            "If not then we presume you will be looking for information\n",
            "about why and how to get started with Python.\n",
            "Fortunately an experienced programmer in any programming\n",
            "language (whatever it may be) can pick up Python very quickly.\n",
            "It's also easy for beginners to use and learn, so jump in!\n"
          ],
          "name": "stdout"
        }
      ]
    },
    {
      "cell_type": "markdown",
      "metadata": {
        "id": "UDMzDH5tn8sn",
        "colab_type": "text"
      },
      "source": [
        "### DESAFIOS"
      ]
    },
    {
      "cell_type": "markdown",
      "metadata": {
        "id": "O-dh8WijXf9n",
        "colab_type": "text"
      },
      "source": [
        "#### Desafio 022 - Done"
      ]
    },
    {
      "cell_type": "markdown",
      "metadata": {
        "id": "bQrlyRw3XqA8",
        "colab_type": "text"
      },
      "source": [
        "Crie um programa que leia o nome completo de uma pessoa e mostre:  \n",
        "- O nome com todas as letras maiúsculas\n",
        "- O nome com todas as letras minúsculas\n",
        "- Quantas letras ao todo (sem considerar espaços)\n",
        "- Quantas letras tem o primeiro nome."
      ]
    },
    {
      "cell_type": "code",
      "metadata": {
        "id": "23qZNFzyY3ne",
        "colab_type": "code",
        "outputId": "207d2372-b3ec-40e0-d046-459c34560f5d",
        "colab": {
          "base_uri": "https://localhost:8080/",
          "height": 170
        }
      },
      "source": [
        "name = str(input('Digite seu nome completo: ')).strip()\n",
        "\n",
        "print('\\nEm maiúsculas: {}'.format(nome.upper()))\n",
        "print('\\nEm minúsculas: {}'.format(nome.lower()))\n",
        "#print('\\nSeu primeiro nome tem {} letras'.format(name.find(' '))) (Outra maneira)\n",
        "name = name.split()\n",
        "print('\\nSeu nome completo tem {} letras,'.format(len(''.join(name))))\n",
        "print('\\nE o primeiro nome tem {} letras.'.format(len(name[0])))"
      ],
      "execution_count": 0,
      "outputs": [
        {
          "output_type": "stream",
          "text": [
            "Digite seu nome completo: Hamilton Tadeu Marques Ribeiro\n",
            "\n",
            "Em maiúsculas: HAMILTON TADEU MARQUES RIBEIRO\n",
            "\n",
            "Em minúsculas: hamilton tadeu marques ribeiro\n",
            "\n",
            "Seu nome completo tem 27 letras,\n",
            "\n",
            "E o primeiro nome tem 8 letras.\n"
          ],
          "name": "stdout"
        }
      ]
    },
    {
      "cell_type": "markdown",
      "metadata": {
        "id": "_Sthb9YTYW5e",
        "colab_type": "text"
      },
      "source": [
        "#### Desafio 023 - Done\n"
      ]
    },
    {
      "cell_type": "markdown",
      "metadata": {
        "id": "oOttblcsYrvA",
        "colab_type": "text"
      },
      "source": [
        "Faça um programa que leia um número de **0** a **9999** e mostre na tela cada um dos dígitos separados.  \n",
        "Ex.:  \n",
        "**Digite um número:** 1834  \n",
        "\n",
        "**unidade:** 4  \n",
        "**dezena:** 3  \n",
        "**centena:** 8  \n",
        "**milhar:** 1"
      ]
    },
    {
      "cell_type": "code",
      "metadata": {
        "id": "Tp-tHOw4QdR_",
        "colab_type": "code",
        "outputId": "1b733326-eca9-4442-89fa-b628834c6312",
        "colab": {
          "base_uri": "https://localhost:8080/",
          "height": 153
        }
      },
      "source": [
        "num = int(input('Digite um número de 0 a 9999: '))\n",
        "\n",
        "u = num // 1 % 10\n",
        "d = num // 10 % 10\n",
        "c = num // 100 % 10\n",
        "m = num // 1000 % 10\n",
        "\n",
        "print('\\nAnalisando o número...')\n",
        "print('\\nA unidade é: {}'.format(u))\n",
        "print('A dezena é: {}'.format(d))\n",
        "print('A centena é: {}'.format(c))\n",
        "print('A milhar é: {}'.format(m))"
      ],
      "execution_count": 0,
      "outputs": [
        {
          "output_type": "stream",
          "text": [
            "Digite um número de 0 a 9999: 123\n",
            "\n",
            "Analisando o número...\n",
            "\n",
            "A unidade é: 3\n",
            "A dezena é: 2\n",
            "A centena é: 1\n",
            "A milhar é: 0\n"
          ],
          "name": "stdout"
        }
      ]
    },
    {
      "cell_type": "markdown",
      "metadata": {
        "id": "3ZwPBgSmZyd4",
        "colab_type": "text"
      },
      "source": [
        "#### Desafio 024 - Done"
      ]
    },
    {
      "cell_type": "markdown",
      "metadata": {
        "id": "3XnMvyY3Z3jJ",
        "colab_type": "text"
      },
      "source": [
        "Crie um programa que leia o nome de uma cidade e diga se ela começa ou não com o nome **\"SANTO\"**."
      ]
    },
    {
      "cell_type": "code",
      "metadata": {
        "id": "pEpDelCN6MRx",
        "colab_type": "code",
        "outputId": "7090ae77-37e2-4b36-bd0f-64347228513d",
        "colab": {
          "base_uri": "https://localhost:8080/",
          "height": 68
        }
      },
      "source": [
        "state = str(input('Digite o nome de uma cidade brasileira: ')).title().strip()\n",
        "\n",
        "lista = state.split()\n",
        "\n",
        "print('\\nA cidade {} começa com \"Santo\"? {}'.format(state, lista[0] == 'Santo'))"
      ],
      "execution_count": 0,
      "outputs": [
        {
          "output_type": "stream",
          "text": [
            "Digite o nome de uma cidade brasileira: Santorini\n",
            "\n",
            "A cidade Santorini começa com \"Santo\"? False\n"
          ],
          "name": "stdout"
        }
      ]
    },
    {
      "cell_type": "markdown",
      "metadata": {
        "id": "2kg0ow6YaFbv",
        "colab_type": "text"
      },
      "source": [
        "#### Desafio 025 - Done"
      ]
    },
    {
      "cell_type": "markdown",
      "metadata": {
        "id": "9uHGGSA3aMy_",
        "colab_type": "text"
      },
      "source": [
        "Crie um programa que leia o nome de uma pessoa e diga se ela tem **\"SILVA\"** no nome."
      ]
    },
    {
      "cell_type": "code",
      "metadata": {
        "id": "twrP4-92NAwK",
        "colab_type": "code",
        "outputId": "aca10876-7850-431e-eac9-0e4187b3656a",
        "colab": {
          "base_uri": "https://localhost:8080/",
          "height": 68
        }
      },
      "source": [
        "snome = str(input('Digite seu nome completo: ')).strip().upper()\n",
        "\n",
        "print('\\nSeu nome {} o sobrenome \"Silva\".'.format('SILVA' in snome.split()))"
      ],
      "execution_count": 0,
      "outputs": [
        {
          "output_type": "stream",
          "text": [
            "Digite seu nome completo: silvana ribeiro\n",
            "\n",
            "Seu nome False o sobrenome \"Silva\".\n"
          ],
          "name": "stdout"
        }
      ]
    },
    {
      "cell_type": "markdown",
      "metadata": {
        "id": "Ohgc_uFgafYr",
        "colab_type": "text"
      },
      "source": [
        "#### Desafio 026 - Done"
      ]
    },
    {
      "cell_type": "markdown",
      "metadata": {
        "id": "MLxfgv97akFc",
        "colab_type": "text"
      },
      "source": [
        "Faça um programa que leia uma frase pelo teclado e mostre:  \n",
        "- Quantas vezes aparece a letra **\"A\"**.\n",
        "- Em que posição ela aparece a primeira vez.\n",
        "- Em que posição ela aparece a última vez."
      ]
    },
    {
      "cell_type": "code",
      "metadata": {
        "id": "PMBwAvTrVlVk",
        "colab_type": "code",
        "outputId": "08c4cbc3-2e03-4a85-924b-d2f3a76a0b2b",
        "colab": {
          "base_uri": "https://localhost:8080/",
          "height": 102
        }
      },
      "source": [
        "frase = str(input('Digite uma frase: ')).strip().upper()\n",
        "\n",
        "print('\\n- \"A\" aparece {} vez(es) na frase.'.format(frase.count('A')))\n",
        "print('- \"A\" aparece a primeira vez na posição: {}'.format(frase.find('A')+1))\n",
        "print('- \"A\" aparece a última vez na posição: {}'.format(frase.rfind('A')+1))"
      ],
      "execution_count": 0,
      "outputs": [
        {
          "output_type": "stream",
          "text": [
            "Digite uma frase: digitando uma frase\n",
            "\n",
            "- \"A\" aparece 3 vez(es) na frase.\n",
            "- \"A\" aparece a primeira vez na posição: 6\n",
            "- \"A\" aparece a última vez na posição: 17\n"
          ],
          "name": "stdout"
        }
      ]
    },
    {
      "cell_type": "markdown",
      "metadata": {
        "id": "eZalwAsga75D",
        "colab_type": "text"
      },
      "source": [
        "#### Desafio 027 - Done"
      ]
    },
    {
      "cell_type": "markdown",
      "metadata": {
        "id": "upKqZ-rzbB35",
        "colab_type": "text"
      },
      "source": [
        "Faça um programa que leia o nome completo de uma pessoa, mostrando em seguida o primeiro e o último nome separadamente.  \n",
        "Ex.: Ana Maria de Souza  \n",
        "**primeiro =** Ana  \n",
        "**último =** Souza"
      ]
    },
    {
      "cell_type": "code",
      "metadata": {
        "id": "viZePmCY-01G",
        "colab_type": "code",
        "outputId": "d794650c-7c97-4df5-a449-9c7f7d96dbe1",
        "colab": {
          "base_uri": "https://localhost:8080/",
          "height": 85
        }
      },
      "source": [
        "nome = str(input('Digite seu nome completo: ')).strip().title()\n",
        "\n",
        "lista = nome.split()\n",
        "\n",
        "print('\\nO seu primeiro nome é: {}'.format(lista[0]))\n",
        "print('O seu último sobrenome é: {}'.format(lista[len(lista)-1]))"
      ],
      "execution_count": 0,
      "outputs": [
        {
          "output_type": "stream",
          "text": [
            "Digite seu nome completo: hamilton taDeu Marques\n",
            "\n",
            "O seu primeiro nome é: Hamilton\n",
            "O seu último sobrenome é: Marques\n"
          ],
          "name": "stdout"
        }
      ]
    }
  ]
}