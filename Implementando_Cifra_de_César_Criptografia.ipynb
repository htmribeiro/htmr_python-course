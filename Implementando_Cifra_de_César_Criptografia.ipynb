{
  "nbformat": 4,
  "nbformat_minor": 0,
  "metadata": {
    "colab": {
      "name": "Implementando Cifra de César - Criptografia.ipynb",
      "provenance": [],
      "collapsed_sections": [],
      "authorship_tag": "ABX9TyOmqTh4iYEqV86Q5ItaY5Qe",
      "include_colab_link": true
    },
    "kernelspec": {
      "name": "python3",
      "display_name": "Python 3"
    }
  },
  "cells": [
    {
      "cell_type": "markdown",
      "metadata": {
        "id": "view-in-github",
        "colab_type": "text"
      },
      "source": [
        "<a href=\"https://colab.research.google.com/github/htmribeiro/htmr_python-course/blob/master/Implementando_Cifra_de_C%C3%A9sar_Criptografia.ipynb\" target=\"_parent\"><img src=\"https://colab.research.google.com/assets/colab-badge.svg\" alt=\"Open In Colab\"/></a>"
      ]
    },
    {
      "cell_type": "markdown",
      "metadata": {
        "id": "AjPsMXkhqB8Q",
        "colab_type": "text"
      },
      "source": [
        "## Implementando Cifra de César em Python - Criptografia"
      ]
    },
    {
      "cell_type": "markdown",
      "metadata": {
        "id": "j2IxdGW1rIyc",
        "colab_type": "text"
      },
      "source": [
        "### Código"
      ]
    },
    {
      "cell_type": "code",
      "metadata": {
        "id": "--mS9LVFrGrP",
        "colab_type": "code",
        "outputId": "0aadd694-ece6-4ffc-d9ed-17bc8293d1fa",
        "colab": {
          "base_uri": "https://localhost:8080/",
          "height": 68
        }
      },
      "source": [
        "# Solicitando o texto a ser encriptado ou decriptado:\n",
        "texto = input('Digite a mensagem a ser encriptada ou decifrada: ')\n",
        "\n",
        "# Chave a ser utilizada\n",
        "chave = 3\n",
        "\n",
        "# Determinar modo de operação (E = encriptar; D = decriptar)\n",
        "modo = str(input('Escolha E para encriptar ou D para decriptar o texto: ')).upper()\n",
        "\n",
        "# Conjunto de caracteres válidos no algoritmo\n",
        "#CARACTERES = ' !\"#$%&\\'()*+,-./0123456789:;<=>?@ABCDEFGHIJKLMNOPQRSTUVWXYZ[\\\\]^_`abcdefghijklmnopqrstuvwxyz{|}~'\n",
        "CARACTERES = '0123456789ABCDEFGHIJKLMNOPQRSTUVWXYZ^`abcdefghijklmnopqrstuvwxyz~'\n",
        "\n",
        "# Variável para armazenar o textto criptografado (ou decifrado)\n",
        "convertido = ''\n",
        "\n",
        "# Converter todo o texto em maiúsculas:\n",
        "#texto = texto.upper()\n",
        "\n",
        "# Código que será executado em cada caractere do texto:\n",
        "for caractere in texto:\n",
        "  if caractere in CARACTERES:\n",
        "  # Obter o número criptografado ou decriptado do caractere\n",
        "    num = CARACTERES.find(caractere)\n",
        "    \n",
        "    # Obter o número do caractere\n",
        "    if modo == 'E':\n",
        "      num = num + chave\n",
        "    elif modo == 'D':\n",
        "      num = num - chave\n",
        "    \n",
        "    # Manipulando a rotação se o valor de num for maior do que o comprimento de CARACTERES ou menor que 0\n",
        "    if num >= len(CARACTERES):\n",
        "      num = num - len(CARACTERES)\n",
        "    elif num < 0:\n",
        "      num = num + len(CARACTERES)\n",
        "    # Adicionar (concatenar) o caractere correspondente a num na variável convertido\n",
        "    convertido = convertido + CARACTERES[num]\n",
        "  \n",
        "  else:\n",
        "  # Concatenando o caractere sem efetuar criptografia ou decifragem\n",
        "    convertido = convertido + caractere\n",
        "\n",
        "# Mostrar o texto encriptado ou decifrado na tela:\n",
        "if modo == 'E':\n",
        "  print('O texto criptografado é: {}'.format(convertido))\n",
        "if modo == 'D':\n",
        "  print('O texto decriptado é: {}'.format(convertido))\n"
      ],
      "execution_count": 8,
      "outputs": [
        {
          "output_type": "stream",
          "text": [
            "Digite a mensagem a ser encriptada ou decifrada: Temos 2 situações: 1.teste1 - 2.teste2!\n",
            "Escolha E para encriptar ou D para decriptar o texto: e\n",
            "O texto criptografado é: Whprv 5 vlwxdçõhv: 4.whvwh4 - 5.whvwh5!\n"
          ],
          "name": "stdout"
        }
      ]
    }
  ]
}