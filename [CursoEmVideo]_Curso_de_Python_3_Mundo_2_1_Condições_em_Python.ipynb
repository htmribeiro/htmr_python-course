{
  "nbformat": 4,
  "nbformat_minor": 0,
  "metadata": {
    "colab": {
      "name": "[CursoEmVideo] Curso de Python 3 - Mundo 2: 1 Condições em Python.ipynb",
      "provenance": [],
      "collapsed_sections": [],
      "toc_visible": true,
      "authorship_tag": "ABX9TyOKljzwfpa2CHJl7oyPmBc6",
      "include_colab_link": true
    },
    "kernelspec": {
      "name": "python3",
      "display_name": "Python 3"
    }
  },
  "cells": [
    {
      "cell_type": "markdown",
      "metadata": {
        "id": "view-in-github",
        "colab_type": "text"
      },
      "source": [
        "<a href=\"https://colab.research.google.com/github/htmribeiro/htmr_python-course/blob/master/%5BCursoEmVideo%5D_Curso_de_Python_3_Mundo_2_1_Condi%C3%A7%C3%B5es_em_Python.ipynb\" target=\"_parent\"><img src=\"https://colab.research.google.com/assets/colab-badge.svg\" alt=\"Open In Colab\"/></a>"
      ]
    },
    {
      "cell_type": "markdown",
      "metadata": {
        "id": "utSKTG-gwFf6",
        "colab_type": "text"
      },
      "source": [
        "# **CURSO DE PYTHON 3 - MUNDO 2: ESTRUTURA DE CONTROLE**  \n",
        "http://www.cursoemvideo.com"
      ]
    },
    {
      "cell_type": "markdown",
      "metadata": {
        "id": "rE8LB9GowNfF",
        "colab_type": "text"
      },
      "source": [
        "# **Introdução ao Mundo 2**"
      ]
    },
    {
      "cell_type": "markdown",
      "metadata": {
        "id": "hR6t5ZuT3Nnk",
        "colab_type": "text"
      },
      "source": [
        "## Mundo 02 - Curso de Python - Dicas e Regras"
      ]
    },
    {
      "cell_type": "markdown",
      "metadata": {
        "id": "i6Zcl1goOTS0",
        "colab_type": "text"
      },
      "source": [
        "O Curso de Python está de volta no seu Mundo 2 e vai falar sobre Estruturas de Controle da linguagem: `if.. elif.. else` , `for` e `while`."
      ]
    },
    {
      "cell_type": "markdown",
      "metadata": {
        "colab_type": "text",
        "id": "X1Z02tnqPDf_"
      },
      "source": [
        "# **1 Condições em Python (if..elif)**"
      ]
    },
    {
      "cell_type": "markdown",
      "metadata": {
        "colab_type": "text",
        "id": "jkayXXE6RwYr"
      },
      "source": [
        "## Curso Python #12 - Condições Aninhadas"
      ]
    },
    {
      "cell_type": "markdown",
      "metadata": {
        "id": "SputjpnRR38j",
        "colab_type": "text"
      },
      "source": [
        "Nessa aula, vamos aprender como criar estruturas condicionais aninhadas, usando os comandos `if.. elif.. else` em programas Python."
      ]
    },
    {
      "cell_type": "markdown",
      "metadata": {
        "id": "pTCDykmBSYA9",
        "colab_type": "text"
      },
      "source": [
        "### TEORIA"
      ]
    },
    {
      "cell_type": "markdown",
      "metadata": {
        "id": "7nYxoIEGAeCe",
        "colab_type": "text"
      },
      "source": [
        "#### Desvios\n",
        "\n",
        "|Execução||||\n",
        "|:--|--:|--:|--:|\n",
        "|**carro.siga()**|\n",
        "|caminho|**Esquerda**|**Direita**|**Em frente**|\n",
        "||**se carro.esquerda()**|**senão se carro.direita()**|**senão**|\n",
        "||**if carro.esquerda():**|**elif carro.direita():**|**else:**|\n",
        "||carro.siga()|carro.siga()|carro.siga()|\n",
        "||carro.direita()|carro.esquerda()|\n",
        "||carro.siga()|carro.siga()|\n",
        "||carro.esquerda()|carro.esquerda()|\n",
        "||carro.siga()|carro.siga()|\n",
        "||carro.direita()||\n",
        "||carro.siga()||\n",
        "|**carro.pare()**|"
      ]
    },
    {
      "cell_type": "markdown",
      "metadata": {
        "id": "dDpjvfTWAnoQ",
        "colab_type": "text"
      },
      "source": [
        "#### Exibição estruturada\n",
        "\n",
        "|Execução|||\n",
        "|:--|:--||\n",
        "|carro.siga()|\n",
        "|**se carro.esquerda()**|\n",
        "||carro.siga()|\n",
        "||carro.direita()|\n",
        "||carro.siga()|\n",
        "||carro.esquerda()|\n",
        "||carro.siga()|\n",
        "||carro.direita()|\n",
        "||carro.siga()|\n",
        "|**senão se carro.direita()**|\n",
        "||carro.siga()|\n",
        "||carro.esquerda()|\n",
        "||carro.siga()|\n",
        "||carro.esquerda()|\n",
        "||carro.siga()|\n",
        "|**senão**|\n",
        "||carro.siga()|\n",
        "|carro.pare()|"
      ]
    },
    {
      "cell_type": "markdown",
      "metadata": {
        "id": "2_e9RVRIAu6B",
        "colab_type": "text"
      },
      "source": [
        "#### Blocos\n",
        "\n",
        "|**Estrutura Simples**|Estrutura Aninhada|\n",
        "|---|---|\n",
        "|**if carro.esquerda():**|**if carro.esquerda():**|\n",
        "|bloco 1|bloco 1|\n",
        "|**elif carro.direita():**|**elif carro.direita():**|\n",
        "|bloco 2|bloco 2|\n",
        "|**else:**|**elif carro.ré():**|\n",
        "|bloco 3|bloco 3|\n",
        "||**else:**|\n",
        "||bloco 4|"
      ]
    },
    {
      "cell_type": "markdown",
      "metadata": {
        "id": "Mp7FP0z7Sa-y",
        "colab_type": "text"
      },
      "source": [
        "### PRÁTICA"
      ]
    },
    {
      "cell_type": "markdown",
      "metadata": {
        "id": "dl_Fjjdpb30D",
        "colab_type": "text"
      },
      "source": [
        "#### aula12.py"
      ]
    },
    {
      "cell_type": "code",
      "metadata": {
        "id": "WGw5QweRcCkI",
        "colab_type": "code",
        "outputId": "c180c367-d14a-481c-e0f0-a5ec90f00e4e",
        "colab": {
          "base_uri": "https://localhost:8080/",
          "height": 68
        }
      },
      "source": [
        "nome = str(input('Qual é seu nome? ')).title()\n",
        "if nome == 'Hamilton':\n",
        "  print('Que nome bonito!')\n",
        "else:\n",
        "  print('Seu nome é bem normal.')\n",
        "print('Tenha um bom dia, {}.'.format(nome))"
      ],
      "execution_count": 0,
      "outputs": [
        {
          "output_type": "stream",
          "text": [
            "Qual é seu nome? josé\n",
            "Seu nome é bem normal.\n",
            "Tenha um bom dia, José.\n"
          ],
          "name": "stdout"
        }
      ]
    },
    {
      "cell_type": "code",
      "metadata": {
        "id": "XNvAFtKAdGqK",
        "colab_type": "code",
        "outputId": "b8f3c66d-816b-4ad9-89f5-3f8387ea22fd",
        "colab": {
          "base_uri": "https://localhost:8080/",
          "height": 68
        }
      },
      "source": [
        "nome = str(input('Qual é seu nome? ')).title()\n",
        "if nome == 'Hamilton':\n",
        "  print('Que nome bonito!')\n",
        "elif nome == 'Pedro' or nome == 'Maria' or nome =='Paulo':\n",
        "  print('Seu nome é bem popular no Brasil.')\n",
        "else:\n",
        "  print('Seu nome é bem normal.')\n",
        "print('Tenha um bom dia, {}.'.format(nome))"
      ],
      "execution_count": 0,
      "outputs": [
        {
          "output_type": "stream",
          "text": [
            "Qual é seu nome? Paulo\n",
            "Seu nome é bem popular no Brasil.\n",
            "Tenha um bom dia, Paulo.\n"
          ],
          "name": "stdout"
        }
      ]
    },
    {
      "cell_type": "code",
      "metadata": {
        "id": "L7QK9i2ddT61",
        "colab_type": "code",
        "outputId": "fcb04aee-5fac-4bcb-a07e-25f9c69e01b4",
        "colab": {
          "base_uri": "https://localhost:8080/",
          "height": 68
        }
      },
      "source": [
        "nome = str(input('Qual é seu nome? ')).title()\n",
        "if nome == 'Hamilton':\n",
        "  print('Que nome bonito!')\n",
        "elif nome == 'Pedro' or nome == 'Maria' or nome =='Paulo':\n",
        "  print('Seu nome é bem popular no Brasil.')\n",
        "elif nome in 'Ana Cláudia Jéssica Juliana':\n",
        "  print('Belo nome feminino!')\n",
        "else:\n",
        "  print('Seu nome é bem normal.')\n",
        "print('Tenha um bom dia, {}.'.format(nome))"
      ],
      "execution_count": 0,
      "outputs": [
        {
          "output_type": "stream",
          "text": [
            "Qual é seu nome? juliana\n",
            "Belo nome feminino!\n",
            "Tenha um bom dia, Juliana.\n"
          ],
          "name": "stdout"
        }
      ]
    },
    {
      "cell_type": "code",
      "metadata": {
        "id": "x07CQkM4dp-z",
        "colab_type": "code",
        "outputId": "a51af5ab-d38d-4096-cd81-d11f4a49480a",
        "colab": {
          "base_uri": "https://localhost:8080/",
          "height": 51
        }
      },
      "source": [
        "nome = str(input('Qual é seu nome? ')).title()\n",
        "if nome == 'Hamilton':\n",
        "  print('Que nome bonito!')\n",
        "elif nome == 'Pedro' or nome == 'Maria' or nome =='Paulo':\n",
        "  print('Seu nome é bem popular no Brasil.')\n",
        "elif nome in 'Ana Cláudia Jéssica Juliana':\n",
        "  print('Belo nome feminino!')\n",
        "print('Tenha um bom dia, {}.'.format(nome))"
      ],
      "execution_count": 0,
      "outputs": [
        {
          "output_type": "stream",
          "text": [
            "Qual é seu nome? Paula\n",
            "Tenha um bom dia, Paula.\n"
          ],
          "name": "stdout"
        }
      ]
    },
    {
      "cell_type": "markdown",
      "metadata": {
        "id": "5VZt77I3Sdjk",
        "colab_type": "text"
      },
      "source": [
        "### DESAFIOS"
      ]
    },
    {
      "cell_type": "markdown",
      "metadata": {
        "id": "icdKvo1weKS2",
        "colab_type": "text"
      },
      "source": [
        "#### Desafio 036 - To Do"
      ]
    },
    {
      "cell_type": "markdown",
      "metadata": {
        "id": "fuiX9riHeQs2",
        "colab_type": "text"
      },
      "source": [
        "Escreva um programa para aprovar o empréstimo bancário para a compra de uma casa. O programa vai perguntar o **valor da casa**, o **salário** do comprador e em **quantos anos** ele vai pagar.  \n",
        "Calcule o valor da prestação mensal, sabendo que ela não pode exceder **30%** do salário ou então o empréstimo será negado."
      ]
    },
    {
      "cell_type": "markdown",
      "metadata": {
        "id": "oyH0KUiEfKvr",
        "colab_type": "text"
      },
      "source": [
        "#### Desafio 037 - To Do"
      ]
    },
    {
      "cell_type": "markdown",
      "metadata": {
        "id": "CuZJjD-zfOKI",
        "colab_type": "text"
      },
      "source": [
        "Escreva um programa que leia um número inteiro qualquer e peça para o usuário escolher qual será a **base de conversão**:  \n",
        "\n",
        "- **1** - para **Binário**\n",
        "- **2** - para **Octal**\n",
        "- **3** - para **Hexadecimal**"
      ]
    },
    {
      "cell_type": "markdown",
      "metadata": {
        "id": "t54pJMk4gBAf",
        "colab_type": "text"
      },
      "source": [
        "#### Desafio 038 - To Do"
      ]
    },
    {
      "cell_type": "markdown",
      "metadata": {
        "id": "HaIho9r1gEoG",
        "colab_type": "text"
      },
      "source": [
        "Escreva um programa que leia **dois números** inteiros e compare-os, mostrando na tela uma mensagem:  \n",
        "\n",
        "- O **primeiro valor** é **maior**\n",
        "- O **segundo valor** é **maior**\n",
        "- **Não existe** valor maior, os dois são **iguais**"
      ]
    },
    {
      "cell_type": "markdown",
      "metadata": {
        "id": "N3jIK2E-gjfj",
        "colab_type": "text"
      },
      "source": [
        "#### Desafio 039 - To Do"
      ]
    },
    {
      "cell_type": "markdown",
      "metadata": {
        "id": "rTTPdiZkgnK3",
        "colab_type": "text"
      },
      "source": [
        "Faça um programa que leia o ano de nascimento de um jovem e informe, de acordo com sua idade:  \n",
        "\n",
        "- Se ele **ainda vai se alistar** ao serviço militar.\n",
        "- Se é a **hora de se alistar**.\n",
        "- Se já **passou do tempo** do alistamento.\n",
        "\n",
        "Seu programa também deverá mostrar o tempo que falta ou que passou do prazo."
      ]
    },
    {
      "cell_type": "markdown",
      "metadata": {
        "id": "bBBCzmumhZEG",
        "colab_type": "text"
      },
      "source": [
        "#### Desafio 040 - To Do"
      ]
    },
    {
      "cell_type": "markdown",
      "metadata": {
        "id": "mqEi9y77hcqn",
        "colab_type": "text"
      },
      "source": [
        "Crie um programa que leia duas notas de um aluno e calcule sua média, mostrando uma mensagem no final, de acordo com a média atingida:  \n",
        "\n",
        "- Média abaixo de **5.0**: **REPROVADO**\n",
        "\n",
        "- Média entre **5.0** e **6.9**: **RECUPERAÇÃO**\n",
        "\n",
        "- Média **7.0** ou superior: **APROVADO**"
      ]
    }
  ]
}