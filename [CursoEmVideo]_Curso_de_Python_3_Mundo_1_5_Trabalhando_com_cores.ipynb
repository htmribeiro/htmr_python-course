{
  "nbformat": 4,
  "nbformat_minor": 0,
  "metadata": {
    "colab": {
      "name": "[CursoEmVideo] Curso de Python 3 - Mundo 1: 5 Trabalhando com cores.ipynb",
      "provenance": [],
      "collapsed_sections": [],
      "toc_visible": true,
      "authorship_tag": "ABX9TyP61fys0bmNIuXtidbehO4j",
      "include_colab_link": true
    },
    "kernelspec": {
      "name": "python3",
      "display_name": "Python 3"
    }
  },
  "cells": [
    {
      "cell_type": "markdown",
      "metadata": {
        "id": "view-in-github",
        "colab_type": "text"
      },
      "source": [
        "<a href=\"https://colab.research.google.com/github/htmribeiro/htmr_python-course/blob/master/%5BCursoEmVideo%5D_Curso_de_Python_3_Mundo_1_5_Trabalhando_com_cores.ipynb\" target=\"_parent\"><img src=\"https://colab.research.google.com/assets/colab-badge.svg\" alt=\"Open In Colab\"/></a>"
      ]
    },
    {
      "cell_type": "markdown",
      "metadata": {
        "id": "utSKTG-gwFf6",
        "colab_type": "text"
      },
      "source": [
        "# **CURSO DE PYTHON 3 - MUNDO 1: FUNDAMENTOS**  \n",
        "http://www.cursoemvideo.com"
      ]
    },
    {
      "cell_type": "markdown",
      "metadata": {
        "id": "rE8LB9GowNfF",
        "colab_type": "text"
      },
      "source": [
        "# **5 Trabalhando com cores**"
      ]
    },
    {
      "cell_type": "markdown",
      "metadata": {
        "id": "hR6t5ZuT3Nnk",
        "colab_type": "text"
      },
      "source": [
        "## Curso Python #11 - Cores no Terminal"
      ]
    },
    {
      "cell_type": "markdown",
      "metadata": {
        "id": "cH_UImDuma7T",
        "colab_type": "text"
      },
      "source": [
        "Nessa aula, vamos aprender como utilizar os códigos de **escape sequence ANSI** para configurar cores para os seus programas em Python. Veja como utilizar o código `\\033[m` com todas as suas principais possibilidades."
      ]
    },
    {
      "cell_type": "markdown",
      "metadata": {
        "id": "ElXgN1WhnHQZ",
        "colab_type": "text"
      },
      "source": [
        "### TEORIA"
      ]
    },
    {
      "cell_type": "markdown",
      "metadata": {
        "id": "g-Y-zngLn5D6",
        "colab_type": "text"
      },
      "source": [
        "#### **ANSI escape sequence \"\\033[m\"**"
      ]
    },
    {
      "cell_type": "markdown",
      "metadata": {
        "id": "ZOO2nczCs78E",
        "colab_type": "text"
      },
      "source": [
        "#### **Estrutura do código**  \n",
        "\n",
        "- iniciamos o código com a sequencia\n",
        " - **\\033[**\n",
        "- seguido das configurações que serão utilizadaos\n",
        " - **style;**\n",
        " - **text;**\n",
        " - **back**\n",
        "- e finalizamos o código com a letra minúscula\n",
        " - **m**"
      ]
    },
    {
      "cell_type": "markdown",
      "metadata": {
        "id": "ZQ4a3tnqsLW-",
        "colab_type": "text"
      },
      "source": [
        "#### **Tabela de código ANSI mais utilizado (Terminal)**\n",
        "\n",
        "STYLE||TEXT|BACK|color\n",
        ":---:|---|:---:|:---:|:---:\n",
        "0|None|30|40|Branco\n",
        "1|Bold|31|41|Vermelho\n",
        "4|Underline|32|42|verde\n",
        "7|Negative|33|43|amarelo\n",
        "||34|44|azul\n",
        "||35|45|magenta\n",
        "||36|46|cian\n",
        "||37|47|cinza\n",
        "\n",
        ">Ex.:\n",
        ">```\n",
        ">\\033[0;33;44m\n",
        ">```\n"
      ]
    },
    {
      "cell_type": "markdown",
      "metadata": {
        "id": "swx6dL-ntjyy",
        "colab_type": "text"
      },
      "source": [
        "#### Testes"
      ]
    },
    {
      "cell_type": "code",
      "metadata": {
        "id": "jZX-fbfptrO6",
        "colab_type": "code",
        "colab": {}
      },
      "source": [
        "Teste \\033[0;30;41m"
      ],
      "execution_count": 0,
      "outputs": []
    },
    {
      "cell_type": "code",
      "metadata": {
        "id": "qJLBqV7JuJ3E",
        "colab_type": "code",
        "colab": {}
      },
      "source": [
        "Teste \\033[4;33;44m"
      ],
      "execution_count": 0,
      "outputs": []
    },
    {
      "cell_type": "code",
      "metadata": {
        "id": "m1LbaMrTuTzJ",
        "colab_type": "code",
        "colab": {}
      },
      "source": [
        "Teste \\033[0;35;43m"
      ],
      "execution_count": 0,
      "outputs": []
    },
    {
      "cell_type": "code",
      "metadata": {
        "id": "UPFM8FWFufaQ",
        "colab_type": "code",
        "colab": {}
      },
      "source": [
        "Teste \\033[1;30;42m"
      ],
      "execution_count": 0,
      "outputs": []
    },
    {
      "cell_type": "code",
      "metadata": {
        "id": "L9WbCgoEusmQ",
        "colab_type": "code",
        "colab": {}
      },
      "source": [
        "Teste \\033[m (padrão: fundo preto, letra cinza)"
      ],
      "execution_count": 0,
      "outputs": []
    },
    {
      "cell_type": "code",
      "metadata": {
        "id": "B486RkntvFNz",
        "colab_type": "code",
        "colab": {}
      },
      "source": [
        "Teste \\033[7;30m"
      ],
      "execution_count": 0,
      "outputs": []
    },
    {
      "cell_type": "markdown",
      "metadata": {
        "id": "gPUyoDb4nMUy",
        "colab_type": "text"
      },
      "source": [
        "### PRÁTICA"
      ]
    },
    {
      "cell_type": "markdown",
      "metadata": {
        "id": "fu716q7HvrZ5",
        "colab_type": "text"
      },
      "source": [
        "#### aula11a"
      ]
    },
    {
      "cell_type": "code",
      "metadata": {
        "id": "yJTx6rUiv08n",
        "colab_type": "code",
        "outputId": "3301e6b4-ce39-4053-b588-8177e0bb9ee7",
        "colab": {
          "base_uri": "https://localhost:8080/",
          "height": 34
        }
      },
      "source": [
        "print('\\033[1;30;45mOlá, Mundo!\\033[m')"
      ],
      "execution_count": 0,
      "outputs": [
        {
          "output_type": "stream",
          "text": [
            "\u001b[1;30;45mOlá, Mundo!\u001b[m\n"
          ],
          "name": "stdout"
        }
      ]
    },
    {
      "cell_type": "code",
      "metadata": {
        "id": "3OgPYj_-wqx1",
        "colab_type": "code",
        "outputId": "5c9680d8-0275-4d3d-a0e2-f2cd1bec0a68",
        "colab": {
          "base_uri": "https://localhost:8080/",
          "height": 34
        }
      },
      "source": [
        "a = 3\n",
        "b = 5\n",
        "#print('Os valores são {} e {}!!!'.format(a, b))\n",
        "print('Os valores são \\033[1;32m{}\\033[m e \\033[1;34m{}\\033[m!!!'.format(a, b))"
      ],
      "execution_count": 0,
      "outputs": [
        {
          "output_type": "stream",
          "text": [
            "Os valores são \u001b[1;32m3\u001b[m e \u001b[1;34m5\u001b[m!!!\u001b[m\n"
          ],
          "name": "stdout"
        }
      ]
    },
    {
      "cell_type": "code",
      "metadata": {
        "id": "HqexStTRyNtz",
        "colab_type": "code",
        "outputId": "68380946-5873-44d2-fbce-d05dd9079b01",
        "colab": {
          "base_uri": "https://localhost:8080/",
          "height": 34
        }
      },
      "source": [
        "nome = 'Hamilton'\n",
        "print('Olá, Muito prazer em te conhecer, {}{}{}!!!'.format('\\033[4;34m', nome, '\\033[m'))"
      ],
      "execution_count": 0,
      "outputs": [
        {
          "output_type": "stream",
          "text": [
            "Olá, Muito prazer em te conhecer, \u001b[4;34mHamilton\u001b[m!!!\n"
          ],
          "name": "stdout"
        }
      ]
    },
    {
      "cell_type": "code",
      "metadata": {
        "id": "rPMbiooOyp0S",
        "colab_type": "code",
        "outputId": "0c370fb3-75f6-43b9-e6a1-b4ed4c7bb001",
        "colab": {
          "base_uri": "https://localhost:8080/",
          "height": 34
        }
      },
      "source": [
        "nome = 'Hamilton'\n",
        "cores = {'limpa':'\\33[m', \n",
        "         'azul':'\\033[34m', \n",
        "         'amarelo':'\\033[33m',\n",
        "         'pretobranco':'\\033[7;30m'}\n",
        "\n",
        "print('Olá, Muito prazer em te conhecer, {}{}{}!!!'.format(cores['amarelo'], nome, cores['limpa']))"
      ],
      "execution_count": 0,
      "outputs": [
        {
          "output_type": "stream",
          "text": [
            "Olá, Muito prazer em te conhecer, \u001b[33mHamilton\u001b[m!!!\n"
          ],
          "name": "stdout"
        }
      ]
    },
    {
      "cell_type": "markdown",
      "metadata": {
        "id": "mZZNY8UPnQsS",
        "colab_type": "text"
      },
      "source": [
        "### DESAFIOS"
      ]
    },
    {
      "cell_type": "markdown",
      "metadata": {
        "id": "MExHHoCKUOb4",
        "colab_type": "text"
      },
      "source": [
        "#### Easy\n",
        "- colocar cor em 10 exercícios."
      ]
    },
    {
      "cell_type": "markdown",
      "metadata": {
        "id": "j_8RBLdrUZZa",
        "colab_type": "text"
      },
      "source": [
        "#### Hard\n",
        "- Criar um sistema de cores nos 35 exercícios."
      ]
    }
  ]
}