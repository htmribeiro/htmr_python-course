{
  "nbformat": 4,
  "nbformat_minor": 0,
  "metadata": {
    "colab": {
      "name": "[CursoEmVideo] Curso de Python 3 - Mundo 1: 5 Trabalhando com cores.ipynb",
      "provenance": [],
      "collapsed_sections": [],
      "toc_visible": true,
      "authorship_tag": "ABX9TyM4+E13KlDrKS6QTT5/TZ7H",
      "include_colab_link": true
    },
    "kernelspec": {
      "name": "python3",
      "display_name": "Python 3"
    }
  },
  "cells": [
    {
      "cell_type": "markdown",
      "metadata": {
        "id": "view-in-github",
        "colab_type": "text"
      },
      "source": [
        "<a href=\"https://colab.research.google.com/github/htmribeiro/htmr_python-course/blob/master/%5BCursoEmVideo%5D_Curso_de_Python_3_Mundo_1_5_Trabalhando_com_cores.ipynb\" target=\"_parent\"><img src=\"https://colab.research.google.com/assets/colab-badge.svg\" alt=\"Open In Colab\"/></a>"
      ]
    },
    {
      "cell_type": "markdown",
      "metadata": {
        "id": "utSKTG-gwFf6",
        "colab_type": "text"
      },
      "source": [
        "# **CURSO DE PYTHON 3 - MUNDO 1: FUNDAMENTOS**  \n",
        "http://www.cursoemvideo.com"
      ]
    },
    {
      "cell_type": "markdown",
      "metadata": {
        "id": "rE8LB9GowNfF",
        "colab_type": "text"
      },
      "source": [
        "# **5 Trabalhando com cores**"
      ]
    },
    {
      "cell_type": "markdown",
      "metadata": {
        "id": "hR6t5ZuT3Nnk",
        "colab_type": "text"
      },
      "source": [
        "## Curso Python #11 - Cores no Terminal"
      ]
    },
    {
      "cell_type": "markdown",
      "metadata": {
        "id": "cH_UImDuma7T",
        "colab_type": "text"
      },
      "source": [
        "Nessa aula, vamos aprender como utilizar os códigos de **escape sequence ANSI** para configurar cores para os seus programas em Python. Veja como utilizar o código `\\033[m` com todas as suas principais possibilidades."
      ]
    },
    {
      "cell_type": "markdown",
      "metadata": {
        "id": "ElXgN1WhnHQZ",
        "colab_type": "text"
      },
      "source": [
        "### TEORIA"
      ]
    },
    {
      "cell_type": "markdown",
      "metadata": {
        "id": "g-Y-zngLn5D6",
        "colab_type": "text"
      },
      "source": [
        "#### **ANSI escape sequence \"\\033[m\"**"
      ]
    },
    {
      "cell_type": "markdown",
      "metadata": {
        "id": "ZOO2nczCs78E",
        "colab_type": "text"
      },
      "source": [
        "#### **Estrutura do código**  \n",
        "\n",
        "- iniciamos o código com a sequencia\n",
        " - **\\033[**\n",
        "- seguido das configurações que serão utilizadaos\n",
        " - **style;**\n",
        " - **text;**\n",
        " - **back**\n",
        "- e finalizamos o código com a letra minúscula\n",
        " - **m**"
      ]
    },
    {
      "cell_type": "markdown",
      "metadata": {
        "id": "ZQ4a3tnqsLW-",
        "colab_type": "text"
      },
      "source": [
        "#### **Tabela de código ANSI mais utilizado (Terminal)**\n",
        "\n",
        "STYLE||TEXT|BACK|color\n",
        ":---:|---|:---:|:---:|:---:\n",
        "0|None|30|40|Branco\n",
        "1|Bold|31|41|Vermelho\n",
        "4|Underline|32|42|verde\n",
        "7|Negative|33|43|amarelo\n",
        "||34|44|azul\n",
        "||35|45|magenta\n",
        "||36|46|cian\n",
        "||37|47|cinza\n",
        "\n",
        ">Ex.:\n",
        ">```\n",
        ">\\033[0;33;44m\n",
        ">```\n"
      ]
    },
    {
      "cell_type": "markdown",
      "metadata": {
        "id": "swx6dL-ntjyy",
        "colab_type": "text"
      },
      "source": [
        "#### Testes"
      ]
    },
    {
      "cell_type": "code",
      "metadata": {
        "id": "jZX-fbfptrO6",
        "colab_type": "code",
        "colab": {}
      },
      "source": [
        "Teste \\033[0;30;41m"
      ],
      "execution_count": 0,
      "outputs": []
    },
    {
      "cell_type": "code",
      "metadata": {
        "id": "qJLBqV7JuJ3E",
        "colab_type": "code",
        "colab": {}
      },
      "source": [
        "Teste \\033[4;33;44m"
      ],
      "execution_count": 0,
      "outputs": []
    },
    {
      "cell_type": "code",
      "metadata": {
        "id": "m1LbaMrTuTzJ",
        "colab_type": "code",
        "colab": {}
      },
      "source": [
        "Teste \\033[0;35;43m"
      ],
      "execution_count": 0,
      "outputs": []
    },
    {
      "cell_type": "code",
      "metadata": {
        "id": "UPFM8FWFufaQ",
        "colab_type": "code",
        "colab": {}
      },
      "source": [
        "Teste \\033[1;30;42m"
      ],
      "execution_count": 0,
      "outputs": []
    },
    {
      "cell_type": "code",
      "metadata": {
        "id": "L9WbCgoEusmQ",
        "colab_type": "code",
        "colab": {}
      },
      "source": [
        "Teste \\033[m (padrão: fundo preto, letra cinza)"
      ],
      "execution_count": 0,
      "outputs": []
    },
    {
      "cell_type": "code",
      "metadata": {
        "id": "B486RkntvFNz",
        "colab_type": "code",
        "colab": {}
      },
      "source": [
        "Teste \\033[7;30m"
      ],
      "execution_count": 0,
      "outputs": []
    },
    {
      "cell_type": "markdown",
      "metadata": {
        "id": "gPUyoDb4nMUy",
        "colab_type": "text"
      },
      "source": [
        "### PRÁTICA"
      ]
    },
    {
      "cell_type": "markdown",
      "metadata": {
        "id": "fu716q7HvrZ5",
        "colab_type": "text"
      },
      "source": [
        "#### aula11a"
      ]
    },
    {
      "cell_type": "code",
      "metadata": {
        "id": "yJTx6rUiv08n",
        "colab_type": "code",
        "outputId": "3301e6b4-ce39-4053-b588-8177e0bb9ee7",
        "colab": {
          "base_uri": "https://localhost:8080/",
          "height": 34
        }
      },
      "source": [
        "print('\\033[1;30;45mOlá, Mundo!\\033[m')"
      ],
      "execution_count": 0,
      "outputs": [
        {
          "output_type": "stream",
          "text": [
            "\u001b[1;30;45mOlá, Mundo!\u001b[m\n"
          ],
          "name": "stdout"
        }
      ]
    },
    {
      "cell_type": "code",
      "metadata": {
        "id": "3OgPYj_-wqx1",
        "colab_type": "code",
        "outputId": "5c9680d8-0275-4d3d-a0e2-f2cd1bec0a68",
        "colab": {
          "base_uri": "https://localhost:8080/",
          "height": 34
        }
      },
      "source": [
        "a = 3\n",
        "b = 5\n",
        "#print('Os valores são {} e {}!!!'.format(a, b))\n",
        "print('Os valores são \\033[1;32m{}\\033[m e \\033[1;34m{}\\033[m!!!'.format(a, b))"
      ],
      "execution_count": 0,
      "outputs": [
        {
          "output_type": "stream",
          "text": [
            "Os valores são \u001b[1;32m3\u001b[m e \u001b[1;34m5\u001b[m!!!\u001b[m\n"
          ],
          "name": "stdout"
        }
      ]
    },
    {
      "cell_type": "code",
      "metadata": {
        "id": "HqexStTRyNtz",
        "colab_type": "code",
        "outputId": "68380946-5873-44d2-fbce-d05dd9079b01",
        "colab": {
          "base_uri": "https://localhost:8080/",
          "height": 34
        }
      },
      "source": [
        "nome = 'Hamilton'\n",
        "print('Olá, Muito prazer em te conhecer, {}{}{}!!!'.format('\\033[4;34m', nome, '\\033[m'))"
      ],
      "execution_count": 0,
      "outputs": [
        {
          "output_type": "stream",
          "text": [
            "Olá, Muito prazer em te conhecer, \u001b[4;34mHamilton\u001b[m!!!\n"
          ],
          "name": "stdout"
        }
      ]
    },
    {
      "cell_type": "code",
      "metadata": {
        "id": "rPMbiooOyp0S",
        "colab_type": "code",
        "outputId": "0c370fb3-75f6-43b9-e6a1-b4ed4c7bb001",
        "colab": {
          "base_uri": "https://localhost:8080/",
          "height": 34
        }
      },
      "source": [
        "nome = 'Hamilton'\n",
        "cores = {'limpa':'\\33[m', \n",
        "         'azul':'\\033[34m', \n",
        "         'amarelo':'\\033[33m',\n",
        "         'pretobranco':'\\033[7;30m'}\n",
        "\n",
        "print('Olá, Muito prazer em te conhecer, {}{}{}!!!'.format(cores['amarelo'], nome, cores['limpa']))"
      ],
      "execution_count": 0,
      "outputs": [
        {
          "output_type": "stream",
          "text": [
            "Olá, Muito prazer em te conhecer, \u001b[33mHamilton\u001b[m!!!\n"
          ],
          "name": "stdout"
        }
      ]
    },
    {
      "cell_type": "markdown",
      "metadata": {
        "id": "mZZNY8UPnQsS",
        "colab_type": "text"
      },
      "source": [
        "### DESAFIOS"
      ]
    },
    {
      "cell_type": "markdown",
      "metadata": {
        "id": "MExHHoCKUOb4",
        "colab_type": "text"
      },
      "source": [
        "#### **Enunciados**"
      ]
    },
    {
      "cell_type": "markdown",
      "metadata": {
        "colab_type": "text",
        "id": "UEePlgbIyHDi"
      },
      "source": [
        "##### Ex.001.11 - Crie um programa que escreva \"Olá, Mundo!\" na tela."
      ]
    },
    {
      "cell_type": "markdown",
      "metadata": {
        "colab_type": "text",
        "id": "MVMB6MCIy-pB"
      },
      "source": [
        "##### Ex.002.11 - Crie um script Python que **leia** o nome de uma pessoa e **mostre** uma mensagem de boas-vindas de acordo com o valor digitado."
      ]
    },
    {
      "cell_type": "markdown",
      "metadata": {
        "colab_type": "text",
        "id": "92AsUBwB5MHz"
      },
      "source": [
        "##### Ex.003.11 - Crei um programa que **leia** dois números e mostre a **soma** entre eles."
      ]
    },
    {
      "cell_type": "markdown",
      "metadata": {
        "id": "xyNn7jQFxQPW",
        "colab_type": "text"
      },
      "source": [
        "##### Ex.004.11 - Faça um programa que **leia** algo pelo teclado e **mostre** na tela o seu **tipo primitivo** e **todas as informações** possíveis sobre ele."
      ]
    },
    {
      "cell_type": "markdown",
      "metadata": {
        "id": "A9IPWOs6lUxw",
        "colab_type": "text"
      },
      "source": [
        "##### Ex.005.11 - Faça um programa que **leia** um **número Inteiro** e **mostre** na tela o seu ***sucessor*** e seu ***antecessor***."
      ]
    },
    {
      "cell_type": "markdown",
      "metadata": {
        "id": "JcJ1R2RYvDXE",
        "colab_type": "text"
      },
      "source": [
        "##### Ex.006.11 - Crie um algoritmo que **leia** um número e **mostre** o seu **dobro**, **triplo** e **raiz quadrada**."
      ]
    },
    {
      "cell_type": "markdown",
      "metadata": {
        "id": "gbXhWL4I3GSr",
        "colab_type": "text"
      },
      "source": [
        "##### Ex.007.11 - Desenvolva um programa que leia as duas notas de um aluno, calcule e mostre a sua média."
      ]
    },
    {
      "cell_type": "markdown",
      "metadata": {
        "id": "fmzCB9e77S1k",
        "colab_type": "text"
      },
      "source": [
        "##### Ex.008.11 - Escreva um programa que leia um valor em metros e o exiba convertido em centímetros e milímetros.  \n",
        "\n",
        "\n",
        "|**kilometro**|**hectometro**|**decametro**|**Metro**|**decimetro**|**centimetro**|**milimetro**| \n",
        "|:---:|:---:|:---:|:---:|:---:|:---:|:---:|\n",
        "|0,001|0,01|0,1|1|10|100|1000|\n",
        "|km|hm|dam|m|dm|cm|mm|\n"
      ]
    },
    {
      "cell_type": "markdown",
      "metadata": {
        "id": "SCZAR6I-Y-a4",
        "colab_type": "text"
      },
      "source": [
        "##### Ex.009.11 - Faça um programa que leia um número inteiro qualquer e mostre na tela a sua tabuada."
      ]
    },
    {
      "cell_type": "markdown",
      "metadata": {
        "id": "8rjITdrAkQXg",
        "colab_type": "text"
      },
      "source": [
        "##### Ex.010.11 - Crie um programa leia quanto dinheiro uma pessoa tem na carteira e mostre quantos Dólares ela pode comprar."
      ]
    },
    {
      "cell_type": "markdown",
      "metadata": {
        "id": "-wJw5KZEJpWP",
        "colab_type": "text"
      },
      "source": [
        "##### Ex.011.11 - Faça um programa que leia a largura e a altura de uma parede em metros, calcule a sua área e a quantidade de tinta necessária para pintá-la.  \n",
        "- **sabendo que cada litro de tinta, pinta uma área de 2m².**"
      ]
    },
    {
      "cell_type": "markdown",
      "metadata": {
        "id": "7HzHPcJVevnd",
        "colab_type": "text"
      },
      "source": [
        "##### Ex.012.11 - Faça um algoritmos que leia o preço de um produto e mostre seu novo preço, com 5% de desconto."
      ]
    },
    {
      "cell_type": "markdown",
      "metadata": {
        "id": "0LSt0OD1jNnn",
        "colab_type": "text"
      },
      "source": [
        "##### Ex.013.11 - Faça um algoritmo que leia o salário de um funcionário e mostre seu novo salário, com 15% de aumento."
      ]
    },
    {
      "cell_type": "markdown",
      "metadata": {
        "id": "JOg3wVLKxEuZ",
        "colab_type": "text"
      },
      "source": [
        "##### Ex.014.11 - Escreva um programa que converta uma temperatura digitando em graus Celsius e converta para graus Fahrenheit."
      ]
    },
    {
      "cell_type": "markdown",
      "metadata": {
        "id": "XXhl6G7hbs7V",
        "colab_type": "text"
      },
      "source": [
        "##### Ex.015 - Escreva um programa que pergunte:  \n",
        "- a quantidade de Km percorridos por um carro alugado;\n",
        "- a quantidade de dias pelos quais ele foi alugado.  \n",
        "\n",
        "Calcule o preço a pagar.  \n",
        "\n",
        "- **sabendo que o carro custa R\\$60 por dia e R\\$0,15 por Km rodado.**"
      ]
    },
    {
      "cell_type": "markdown",
      "metadata": {
        "id": "RPZa4ufGjjC2",
        "colab_type": "text"
      },
      "source": [
        "##### Ex.016.11 - Crie um programa que leia um número Real qualquer e mostre na tela a sua porção Inteira.  \n",
        "Ex.:  \n",
        "Digite um número: **6.127**  \n",
        "O número **6.127** tem a parte inteira **6**."
      ]
    },
    {
      "cell_type": "markdown",
      "metadata": {
        "id": "nUmCC0cxqNwj",
        "colab_type": "text"
      },
      "source": [
        "##### Ex.017.11 - Faça um programa que leia o comprimento do cateto oposto e do cateto adjacente de um triângulo, calcule e mostre o comprimento da hipotenusa\n",
        "\n",
        "Princípio matemático: a² = b² + c²"
      ]
    },
    {
      "cell_type": "markdown",
      "metadata": {
        "id": "Z5He854NxIIJ",
        "colab_type": "text"
      },
      "source": [
        "##### Ex.018.11 - Faça um programa que leia um Ângulo qualquer e mostre na tela o valor do seno, cosseno e tangente desse ângulo."
      ]
    },
    {
      "cell_type": "markdown",
      "metadata": {
        "id": "AKzjVCi3-kVz",
        "colab_type": "text"
      },
      "source": [
        "##### Ex.019.11 - Um professor quer sortear um dos seus quatro alunos para apagar o quadro. Faça um programa que ajude ele, lendo o nome deles e escrevendo o nome escolhido."
      ]
    },
    {
      "cell_type": "markdown",
      "metadata": {
        "id": "5c46GMeWYYnI",
        "colab_type": "text"
      },
      "source": [
        "##### Ex.020.11 - O mesmo professor do desafio anterior quer sortear a ordem de apresentação de trabalhos dos alunos. Faça um programa que leia o nome dos quatro alunos e mostre a ordem sorteada."
      ]
    },
    {
      "cell_type": "markdown",
      "metadata": {
        "id": "PXJKzCs_bMNC",
        "colab_type": "text"
      },
      "source": [
        "##### Ex.021.11 - Faça um programa em Python que abra e reproduza o áudio de um arquivo MP3."
      ]
    },
    {
      "cell_type": "markdown",
      "metadata": {
        "id": "bQrlyRw3XqA8",
        "colab_type": "text"
      },
      "source": [
        "##### Ex.022.11 - Crie um programa que leia o nome completo de uma pessoa e mostre:  \n",
        "- O nome com todas as letras maiúsculas\n",
        "- O nome com todas as letras minúsculas\n",
        "- Quantas letras ao todo (sem considerar espaços)\n",
        "- Quantas letras tem o primeiro nome."
      ]
    },
    {
      "cell_type": "markdown",
      "metadata": {
        "id": "oOttblcsYrvA",
        "colab_type": "text"
      },
      "source": [
        "##### Ex.023.11 - Faça um programa que leia um número de **0** a **9999** e mostre na tela cada um dos dígitos separados.  \n",
        "Ex.:  \n",
        "**Digite um número:** 1834  \n",
        "\n",
        "**unidade:** 4  \n",
        "**dezena:** 3  \n",
        "**centena:** 8  \n",
        "**milhar:** 1"
      ]
    },
    {
      "cell_type": "markdown",
      "metadata": {
        "id": "3XnMvyY3Z3jJ",
        "colab_type": "text"
      },
      "source": [
        "##### Ex.024.11 - Crie um programa que leia o nome de uma cidade e diga se ela começa ou não com o nome **\"SANTO\"**."
      ]
    },
    {
      "cell_type": "markdown",
      "metadata": {
        "id": "9uHGGSA3aMy_",
        "colab_type": "text"
      },
      "source": [
        "##### Ex.025.11 - Crie um programa que leia o nome de uma pessoa e diga se ela tem **\"SILVA\"** no nome."
      ]
    },
    {
      "cell_type": "markdown",
      "metadata": {
        "id": "MLxfgv97akFc",
        "colab_type": "text"
      },
      "source": [
        "##### Ex.026.11 - Faça um programa que leia uma frase pelo teclado e mostre:  \n",
        "- Quantas vezes aparece a letra **\"A\"**.\n",
        "- Em que posição ela aparece a primeira vez.\n",
        "- Em que posição ela aparece a última vez."
      ]
    },
    {
      "cell_type": "markdown",
      "metadata": {
        "id": "upKqZ-rzbB35",
        "colab_type": "text"
      },
      "source": [
        "##### Ex.027.11 - Faça um programa que leia o nome completo de uma pessoa, mostrando em seguida o primeiro e o último nome separadamente.  \n",
        "Ex.: Ana Maria de Souza  \n",
        "**primeiro =** Ana  \n",
        "**último =** Souza"
      ]
    },
    {
      "cell_type": "markdown",
      "metadata": {
        "id": "jg8_ZzvxLQ8b",
        "colab_type": "text"
      },
      "source": [
        "##### Ex.028.11 - Escreva um programa que faça o computador \"pensar\" em um número inteiro entre **0** e **5** e **peça para o usuário tentar descobrir** qual foi o número escolhido pelo computador.  \n",
        "\n",
        "O programa deverá **escrever** na tela se o usuário **venceu** ou **perdeu**.  \n",
        "\n",
        "`random.ranint(0,5)`"
      ]
    },
    {
      "cell_type": "markdown",
      "metadata": {
        "id": "65jWt11jMDpC",
        "colab_type": "text"
      },
      "source": [
        "##### Ex.029.11 - Escreva um programa que **leia** a velocidadde de um carro.  \n",
        "\n",
        "Se ele ultrapassar **80 Km/h**, mostre uma mensagem dizendo que ele foi multado.  \n",
        "\n",
        "A multa vai custar **R$7,00** por cada Km acima do limite."
      ]
    },
    {
      "cell_type": "markdown",
      "metadata": {
        "id": "hlpNeEv8Mv8E",
        "colab_type": "text"
      },
      "source": [
        "##### Ex.030.11 - Crie um programa que **leia** um número inteiro e mostre na tela se ele é **PAR** ou **IMPAR**."
      ]
    },
    {
      "cell_type": "markdown",
      "metadata": {
        "id": "60Q8SpDxNMY9",
        "colab_type": "text"
      },
      "source": [
        "##### Ex.031.11 - Desenvolva um programa que **pergunte** a distância de uma viagem em Km. **Calcule** o preço da passagem, cobrando **R\\$0,50** por Km para viagens até **200Km** e **R$0,45** para viagens **mais longas**."
      ]
    },
    {
      "cell_type": "markdown",
      "metadata": {
        "id": "az9MfqtZOIua",
        "colab_type": "text"
      },
      "source": [
        "##### Ex.032.11 - Faça um programa que **leia** um ano qualquer e mostre se ele é **BISSEXTO**."
      ]
    },
    {
      "cell_type": "markdown",
      "metadata": {
        "id": "Yz0n5WVFObV6",
        "colab_type": "text"
      },
      "source": [
        "##### Ex.033.11 - Faça um programa que **leia** três números e mostre qual é o **maior** e qual é o **menor**."
      ]
    },
    {
      "cell_type": "markdown",
      "metadata": {
        "id": "Zq8fC7c7OvrI",
        "colab_type": "text"
      },
      "source": [
        "##### Ex.034.11 - Escreva um programa que **pergunte** o salário de um funcionário e calcule o valor do seu aumento.  \n",
        "\n",
        "Para salários superiores a **R$1.250,00**, calcule um aumento de **10%**.  \n",
        "\n",
        "Para os inferiores ou iguais, o aumento é de **15%**.\n",
        "\n",
        "***Utilizando equação geral***  \n",
        "*vlProd - (vlProd * vlDesc / 100)*"
      ]
    },
    {
      "cell_type": "markdown",
      "metadata": {
        "id": "GtbJqogRPY9b",
        "colab_type": "text"
      },
      "source": [
        "##### Ex.035.11 - Desenvolva um programa que **leia** o comprimento de três retas e **diga** ao usuário se elas **podem** ou **não formar um triângulo**.  \n",
        "*regra:* ***a < b + c***\n",
        "- r1\n",
        "- r2\n",
        "- r3"
      ]
    },
    {
      "cell_type": "markdown",
      "metadata": {
        "id": "j_8RBLdrUZZa",
        "colab_type": "text"
      },
      "source": [
        "#### **Resoluções**"
      ]
    },
    {
      "cell_type": "markdown",
      "metadata": {
        "colab_type": "text",
        "id": "RYej3VZ5yu2H"
      },
      "source": [
        "##### Ex.001.11 - Crie um programa que escreva \"Olá, Mundo!\" na tela."
      ]
    },
    {
      "cell_type": "code",
      "metadata": {
        "colab_type": "code",
        "id": "zHLJJFBmsztv",
        "outputId": "4f0b8fa5-6635-4132-ecba-b1129a99ce6d",
        "colab": {
          "base_uri": "https://localhost:8080/",
          "height": 85
        }
      },
      "source": [
        "cor = {'limpa':'\\033[0;30;7m',\n",
        "         'verde':'\\033[1;32m',\n",
        "         'amarelo':'\\033[1;33m',\n",
        "         'azul':'\\033[1;34m'}\n",
        "\n",
        "print('{:=^50}'.format(' DESAFIO 001.11 '))\n",
        "\n",
        "print('\\033[32mOlá, \\033[33mMundo\\033[7;30m!')\n",
        "print('{}Olá{}, {}Mundo{}!'.format(cor['azul'], cor['limpa'], cor['verde'], cor['limpa']))\n",
        "print('')"
      ],
      "execution_count": 0,
      "outputs": [
        {
          "output_type": "stream",
          "text": [
            "================= DESAFIO 001.11 =================\n",
            "\u001b[32mOlá, \u001b[33mMundo\u001b[7;30m!\n",
            "\u001b[1;34mOlá\u001b[0;30;7m, \u001b[1;32mMundo\u001b[0;30;7m!\n",
            "\n"
          ],
          "name": "stdout"
        }
      ]
    },
    {
      "cell_type": "markdown",
      "metadata": {
        "colab_type": "text",
        "id": "DTlUj4fE40bp"
      },
      "source": [
        "##### Ex.002.11 - Crie um script Python que **leia** o nome de uma pessoa e **mostre** uma mensagem de boas-vindas de acordo com o valor digitado."
      ]
    },
    {
      "cell_type": "code",
      "metadata": {
        "id": "DNBwutAZzCr2",
        "colab_type": "code",
        "outputId": "c56627a1-df0c-4917-899b-5b592d524586",
        "colab": {
          "base_uri": "https://localhost:8080/",
          "height": 102
        }
      },
      "source": [
        "cor = {'limpa':'\\033[0;30;7m',\n",
        "       'verde':'\\033[1;32m',\n",
        "       'amarelo':'\\033[1;33m',\n",
        "       'azul':'\\033[1;34m',\n",
        "       'barra':'\\033[1;33;46m'}\n",
        "\n",
        "print(cor['barra'],'{:=^50} '.format(' DESAFIO 002.11 '), cor['limpa'])\n",
        "nome = str(input('\\nQual o seu nome? ')).strip().title()\n",
        "\n",
        "print('\\nÉ um prazer te conhecer, {}{}{}!'.format(cor['azul'], nome, cor['limpa']))"
      ],
      "execution_count": 0,
      "outputs": [
        {
          "output_type": "stream",
          "text": [
            "\u001b[1;33;46m ================= DESAFIO 002.11 =================  \u001b[0;30;7m\n",
            "\n",
            "Qual o seu nome? hamilton\n",
            "\n",
            "É um prazer te conhecer, \u001b[1;34mHamilton\u001b[0;30;7m!\n"
          ],
          "name": "stdout"
        }
      ]
    },
    {
      "cell_type": "markdown",
      "metadata": {
        "colab_type": "text",
        "id": "x3CZOd5S5s_j"
      },
      "source": [
        "##### Ex.003.11 - Crei um programa que **leia** dois números e mostre a **soma** entre eles."
      ]
    },
    {
      "cell_type": "code",
      "metadata": {
        "id": "f8EPaFtG6EGN",
        "colab_type": "code",
        "outputId": "c962065f-ede6-4b79-e51c-3db6d8ad3dc2",
        "colab": {
          "base_uri": "https://localhost:8080/",
          "height": 136
        }
      },
      "source": [
        "cor = {'limpa':'\\033[0;30;7m',\n",
        "       'verde':'\\033[1;32m',\n",
        "       'amarelo':'\\033[1;33m',\n",
        "       'azul':'\\033[1;34m',\n",
        "       'barra':'\\033[1;46m'}\n",
        "\n",
        "print(cor['barra'],'{:=^50}'.format(' DESAFIO 003.11 '), cor['limpa'])\n",
        "\n",
        "n1 = int(input('\\nDigite o primeiro número: '))\n",
        "n2 = int(input('Digite o segundo número: '))\n",
        "soma = n1 + n2\n",
        "\n",
        "print('\\nA soma entre {}{}{} e {}{}{} é: {}{}{}!!!'.format(cor['verde'], n1, cor['limpa'],\n",
        "                                                         cor['amarelo'], n2, cor['limpa'],\n",
        "                                                         cor['azul'], soma, cor['limpa']))"
      ],
      "execution_count": 0,
      "outputs": [
        {
          "output_type": "stream",
          "text": [
            "\u001b[1;46m ================= DESAFIO 003.11 =================\n",
            " \u001b[0;30;7m\n",
            "\n",
            "Digite o primeiro número: 43\n",
            "Digite o segundo número: 6\n",
            "\n",
            "A soma entre \u001b[1;32m43\u001b[0;30;7m e \u001b[1;33m6\u001b[0;30;7m é: \u001b[1;34m49\u001b[0;30;7m!!!\n"
          ],
          "name": "stdout"
        }
      ]
    },
    {
      "cell_type": "markdown",
      "metadata": {
        "colab_type": "text",
        "id": "6AZEug7p94Hq"
      },
      "source": [
        "##### Ex.004.11 - Faça um programa que **leia** algo pelo teclado e **mostre** na tela o seu **tipo primitivo** e **todas as informações** possíveis sobre ele."
      ]
    },
    {
      "cell_type": "code",
      "metadata": {
        "id": "3G2r6Str98YJ",
        "colab_type": "code",
        "outputId": "938f7618-f558-4cc7-ca6d-4d711b745e34",
        "colab": {
          "base_uri": "https://localhost:8080/",
          "height": 221
        }
      },
      "source": [
        "cor = {\n",
        "    'limpa':'\\033[0;30;7m',\n",
        "    'verde':'\\033[1;32m',\n",
        "    'amarelo':'\\033[1;33m',\n",
        "    'azul':'\\033[1;34m',\n",
        "    'magenta':'\\033[1;35m',\n",
        "    'barra':'\\033[1;46m'\n",
        "}\n",
        "print(cor['barra'],'{:=^50}'.format(' DESAFIO 004.11 '), cor['limpa'])\n",
        "n = input('\\nDigite algo: ')\n",
        "\n",
        "print('\\nO tipo primitivo de {}\"{}\"{} é: {}{}{}'.format(cor['magenta'], n, cor['limpa'], cor['azul'], type(n), cor['limpa']))\n",
        "print('O conteúdo {}\"{}\"{} tem espaço? {}{}{}'.format(cor['magenta'], n, cor['limpa'], cor['azul'], n.isspace(), cor['limpa']))\n",
        "print('O conteúdo {}\"{}\"{} é númerico? {}{}{}'.format(cor['magenta'], n, cor['limpa'], cor['azul'], n.isnumeric(), cor['limpa']))\n",
        "print('O conteúdo {}\"{}\"{} é alfabético? {}{}{}'.format(cor['magenta'], n, cor['limpa'], cor['azul'], n.isalpha(), cor['limpa']))\n",
        "print('O conteúdo {}\"{}\"{} é alfanumérico? {}{}{}'.format(cor['magenta'], n, cor['limpa'], cor['azul'], n.isalnum(), cor['limpa']))\n",
        "print('O conteúdo {}\"{}\"{} está em maiúsculas? {}{}{}'.format(cor['magenta'], n, cor['limpa'], cor['azul'], n.isupper(), cor['limpa']))\n",
        "print('O conteúdo {}\"{}\"{} está em minúsculas? {}{}{}'.format(cor['magenta'], n, cor['limpa'], cor['azul'], n.islower(), cor['limpa']))\n",
        "print('O conteúdo {}\"{}\"{} está capitalizada? {}{}{}'.format(cor['magenta'], n, cor['limpa'], cor['azul'], n.istitle(), cor['limpa']))"
      ],
      "execution_count": 0,
      "outputs": [
        {
          "output_type": "stream",
          "text": [
            "\u001b[1;46m ================= DESAFIO 004.11 ================= \u001b[0;30;7m\n",
            "\n",
            "Digite algo: Frase\n",
            "\n",
            "O tipo primitivo de \u001b[1;35m\"Frase\"\u001b[0;30;7m é: \u001b[1;34m<class 'str'>\u001b[0;30;7m\n",
            "O conteúdo \u001b[1;35m\"Frase\"\u001b[0;30;7m tem espaço? \u001b[1;34mFalse\u001b[0;30;7m\n",
            "O conteúdo \u001b[1;35m\"Frase\"\u001b[0;30;7m é númerico? \u001b[1;34mFalse\u001b[0;30;7m\n",
            "O conteúdo \u001b[1;35m\"Frase\"\u001b[0;30;7m é alfabético? \u001b[1;34mTrue\u001b[0;30;7m\n",
            "O conteúdo \u001b[1;35m\"Frase\"\u001b[0;30;7m é alfanumérico? \u001b[1;34mTrue\u001b[0;30;7m\n",
            "O conteúdo \u001b[1;35m\"Frase\"\u001b[0;30;7m está em maiúsculas? \u001b[1;34mFalse\u001b[0;30;7m\n",
            "O conteúdo \u001b[1;35m\"Frase\"\u001b[0;30;7m está em minúsculas? \u001b[1;34mFalse\u001b[0;30;7m\n",
            "O conteúdo \u001b[1;35m\"Frase\"\u001b[0;30;7m está capitalizada? \u001b[1;34mTrue\u001b[0;30;7m\n"
          ],
          "name": "stdout"
        }
      ]
    },
    {
      "cell_type": "markdown",
      "metadata": {
        "colab_type": "text",
        "id": "QvgBby30dxaI"
      },
      "source": [
        "##### Ex.005.11 - Faça um programa que **leia** um **número Inteiro** e **mostre** na tela o seu ***sucessor*** e seu ***antecessor***."
      ]
    },
    {
      "cell_type": "code",
      "metadata": {
        "id": "_AEP93ZMd7he",
        "colab_type": "code",
        "outputId": "461215c7-6c29-4ef9-91dd-9ab9e70f2a1b",
        "colab": {
          "base_uri": "https://localhost:8080/",
          "height": 102
        }
      },
      "source": [
        "cor = {\n",
        "    'limpa':'\\033[0;30;7m',\n",
        "    'verde':'\\033[1;32m',\n",
        "    'amarelo':'\\033[1;33m',\n",
        "    'azul':'\\033[1;34m',\n",
        "    'magenta':'\\033[1;35m',\n",
        "    'barra':'\\033[1;33;46m'\n",
        "}\n",
        "print(cor['barra'],'{:=^50}'.format(' DESAFIO 005.11'), cor['limpa'])\n",
        "num = int(input('\\nDigite um número inteiro: '))\n",
        "\n",
        "print('\\nO {}antecessor{} de {}{}{} é {}{}{}'.format(cor['azul'], cor['limpa'], \n",
        "                                                      cor['amarelo'], num, cor['limpa'],\n",
        "                                                      cor['verde'], num - 1, cor['limpa']), end=' e ')\n",
        "print('o seu {}sucessor{} é {}{}{}.'.format(cor['azul'], cor['limpa'],\n",
        "                                            cor['verde'], num + 1, cor['limpa']))\n"
      ],
      "execution_count": 0,
      "outputs": [
        {
          "output_type": "stream",
          "text": [
            "\u001b[1;33;46m ================= DESAFIO 005.11================== \u001b[0;30;7m\n",
            "\n",
            "Digite um número inteiro: 35\n",
            "\n",
            "O \u001b[1;34mantecessor\u001b[0;30;7m de \u001b[1;33m35\u001b[0;30;7m é \u001b[1;32m34\u001b[0;30;7m e o seu \u001b[1;34msucessor\u001b[0;30;7m é \u001b[1;32m36\u001b[0;30;7m.\n"
          ],
          "name": "stdout"
        }
      ]
    },
    {
      "cell_type": "markdown",
      "metadata": {
        "colab_type": "text",
        "id": "LlgLwhBdizz3"
      },
      "source": [
        "##### Ex.006.11 - Crie um algoritmo que **leia** um número e **mostre** o seu **dobro**, **triplo** e **raiz quadrada**."
      ]
    },
    {
      "cell_type": "code",
      "metadata": {
        "id": "lxibe1IXi4rE",
        "colab_type": "code",
        "outputId": "c039b374-4917-48ac-db11-8884e2f47bce",
        "colab": {
          "base_uri": "https://localhost:8080/",
          "height": 204
        }
      },
      "source": [
        "cor = {\n",
        "    'limpa':'\\033[0;30;7m',\n",
        "    'verde':'\\033[1;32m',\n",
        "    'amarelo':'\\033[1;33m',\n",
        "    'azul':'\\033[1;34m',\n",
        "    'magenta':'\\033[1;35m',\n",
        "    'barra':'\\033[1;46m'\n",
        "}\n",
        "print(cor['barra'],'{:=^50}'.format(' DESAFIO 006.11 '), cor['limpa'])\n",
        "num = int(input('\\nDigite um número: '))\n",
        "\n",
        "print('\\nO {}dobro{} de {}{}{} é: {}{}{}.'.format(cor['verde'], cor['limpa'],cor['magenta'], num, cor['limpa'], cor['azul'], num*2, cor['limpa']))\n",
        "print('\\nO {}triplo{} de {}{}{} é: {}{}{}.'.format(cor['verde'], cor['limpa'],cor['magenta'], num, cor['limpa'], cor['azul'], num*3, cor['limpa']))\n",
        "print('\\nA {}raíz quadrada{} de {}{}{} é: {}{:.2f}{}.'.format(cor['verde'], cor['limpa'], cor['magenta'], num, cor['limpa'], cor['azul'], pow(num,(1/2)), cor['limpa']))\n",
        "\n",
        "print('\\n', cor['barra'],'{:=^50}'.format(' fim de processamento '), cor['limpa'])"
      ],
      "execution_count": 0,
      "outputs": [
        {
          "output_type": "stream",
          "text": [
            "\u001b[1;46m ================= DESAFIO 006.11 ================= \u001b[0;30;7m\n",
            "\n",
            "Digite um número: 25\n",
            "\n",
            "O \u001b[1;32mdobro\u001b[0;30;7m de \u001b[1;35m25\u001b[0;30;7m é: \u001b[1;34m50\u001b[0;30;7m.\n",
            "\n",
            "O \u001b[1;32mtriplo\u001b[0;30;7m de \u001b[1;35m25\u001b[0;30;7m é: \u001b[1;34m75\u001b[0;30;7m.\n",
            "\n",
            "A \u001b[1;32mraíz quadrada\u001b[0;30;7m de \u001b[1;35m25\u001b[0;30;7m é: \u001b[1;34m5.00\u001b[0;30;7m.\n",
            "\n",
            " \u001b[1;46m ============== fim de processamento ============== \u001b[0;30;7m\n"
          ],
          "name": "stdout"
        }
      ]
    },
    {
      "cell_type": "markdown",
      "metadata": {
        "colab_type": "text",
        "id": "9orh6c43nnee"
      },
      "source": [
        "##### Ex.007.11 - Desenvolva um programa que leia as duas notas de um aluno, calcule e mostre a sua média."
      ]
    },
    {
      "cell_type": "code",
      "metadata": {
        "id": "GlrfQbDznpY4",
        "colab_type": "code",
        "outputId": "85b9eca2-9b4f-4f0d-e28b-ded666772c02",
        "colab": {
          "base_uri": "https://localhost:8080/",
          "height": 187
        }
      },
      "source": [
        "cor = {\n",
        "    'limpa':'\\033[0;30;7m',\n",
        "    'verde':'\\033[1;32m',\n",
        "    'amarelo':'\\033[1;33m',\n",
        "    'azul':'\\033[1;34m',\n",
        "    'magenta':'\\033[1;35m',\n",
        "    'barra':'\\033[1;33;46m'\n",
        "}\n",
        "print(cor['barra'],'{:=^50}'.format(' DESAFIO 007.11 '), cor['limpa'])\n",
        "\n",
        "nome = str(input('\\nDigite seu nome: ')).title()\n",
        "n1 = float(input('\\nDigite a primeira nota: '))\n",
        "n2 = float(input('Digite a segunda nota: '))\n",
        "media = (n1 + n2)/2\n",
        "\n",
        "print('\\nA média entre as notas {}{}{} e {}{}{}, do Aluno {}{}{} é: {}{:.2f}{}.'.format(cor['magenta'], n1, cor['limpa'],\n",
        "                                                                            cor['azul'], n2, cor['limpa'],\n",
        "                                                                            cor['verde'], nome, cor['limpa'],\n",
        "                                                                            cor['amarelo'], media, cor['limpa']))\n",
        "\n",
        "print('\\n', cor['barra'],'{:=^50}'.format(' fim de processamento '), cor['limpa'])"
      ],
      "execution_count": 0,
      "outputs": [
        {
          "output_type": "stream",
          "text": [
            "\u001b[1;33;46m ================= DESAFIO 007.11 ================= \u001b[0;30;7m\n",
            "\n",
            "Digite seu nome: hamilton\n",
            "\n",
            "Digite a primeira nota: 9\n",
            "Digite a segunda nota: 10\n",
            "\n",
            "A média entre as notas \u001b[1;35m9.0\u001b[0;30;7m e \u001b[1;34m10.0\u001b[0;30;7m, do Aluno \u001b[1;32mHamilton\u001b[0;30;7m é: \u001b[1;33m9.50\u001b[0;30;7m.\n",
            "\n",
            " \u001b[1;33;46m ============== fim de processamento ============== \u001b[0;30;7m\n"
          ],
          "name": "stdout"
        }
      ]
    },
    {
      "cell_type": "markdown",
      "metadata": {
        "colab_type": "text",
        "id": "Axt6z4l-rff-"
      },
      "source": [
        "##### Ex.008.11 - Escreva um programa que leia um valor em metros e o exiba convertido em centímetros e milímetros.  \n",
        "\n",
        "\n",
        "|**kilometro**|**hectometro**|**decametro**|**Metro**|**decimetro**|**centimetro**|**milimetro**| \n",
        "|:---:|:---:|:---:|:---:|:---:|:---:|:---:|\n",
        "|0,001|0,01|0,1|1|10|100|1000|\n",
        "|km|hm|dam|m|dm|cm|mm|\n"
      ]
    },
    {
      "cell_type": "code",
      "metadata": {
        "id": "gBc2yoNeriJG",
        "colab_type": "code",
        "outputId": "af189d11-f702-435c-b92c-a63a4c6b626f",
        "colab": {
          "base_uri": "https://localhost:8080/",
          "height": 255
        }
      },
      "source": [
        "from time import sleep\n",
        "cor = {\n",
        "    'limpa':'\\033[0;30;7m',\n",
        "    'verde':'\\033[1;32m',\n",
        "    'amarelo':'\\033[1;33m',\n",
        "    'azul':'\\033[1;34m',\n",
        "    'magenta':'\\033[1;35m',\n",
        "    'barra':'\\033[1;46m'\n",
        "}\n",
        "print(cor['barra'], '{:=^50}'.format(' DESAFIO 008.11 '), cor['limpa'])\n",
        "\n",
        "m = float(input('\\nDigite a metragem: '))\n",
        "\n",
        "print(cor['verde'], 'Aguarde...processando a conversão!', cor['limpa'])\n",
        "sleep(1)\n",
        "\n",
        "mm = m * 1000\n",
        "cm = m * 100\n",
        "dm = m * 10\n",
        "dam = m / 10\n",
        "hm = m / 100\n",
        "km = m / 1000\n",
        "\n",
        "print('\\nA conversão da medida {}{} metro{}, corresponde a:'.format(cor['azul'], m, cor['limpa']))\n",
        "sleep(1)\n",
        "print('{}{:.0f}{} milímetro'.format(cor['amarelo'], mm, cor['limpa']))\n",
        "sleep(2)\n",
        "print('{}{:.0f}{} centimetro'.format(cor['amarelo'], cm, cor['limpa']))\n",
        "sleep(2)\n",
        "print('{}{:.0f}{} decimetro'.format(cor['amarelo'], dm, cor['limpa']))\n",
        "sleep(2)\n",
        "print('{}{}{} decametro'.format(cor['verde'], dam, cor['limpa']))\n",
        "sleep(2)\n",
        "print('{}{}{} hectometro'.format(cor['verde'], hm, cor['limpa']))\n",
        "sleep(2)\n",
        "print('{}{}{} kilometro'.format(cor['verde'], km, cor['limpa']))\n",
        "sleep(1)\n",
        "print('\\n',cor['barra'], '{:=^50}'.format(' fim do processamento '), cor['limpa'])"
      ],
      "execution_count": 0,
      "outputs": [
        {
          "output_type": "stream",
          "text": [
            "\u001b[1;46m ================= DESAFIO 008.11 ================= \u001b[0;30;7m\n",
            "\n",
            "Digite a metragem: 5\n",
            "\u001b[1;32m Aguarde...processando a conversão! \u001b[0;30;7m\n",
            "\n",
            "A conversão da medida \u001b[1;34m5.0 metro\u001b[0;30;7m, corresponde a:\n",
            "\u001b[1;33m5000\u001b[0;30;7m milímetro\n",
            "\u001b[1;33m500\u001b[0;30;7m centimetro\n",
            "\u001b[1;33m50\u001b[0;30;7m decimetro\n",
            "\u001b[1;32m0.5\u001b[0;30;7m decametro\n",
            "\u001b[1;32m0.05\u001b[0;30;7m hectometro\n",
            "\u001b[1;32m0.005\u001b[0;30;7m kilometro\n",
            "\n",
            " \u001b[1;46m ============== fim do processamento ============== \u001b[0;30;7m\n"
          ],
          "name": "stdout"
        }
      ]
    },
    {
      "cell_type": "markdown",
      "metadata": {
        "colab_type": "text",
        "id": "fwLht2aNyZBf"
      },
      "source": [
        "##### Ex.009.11 - Faça um programa que leia um número inteiro qualquer e mostre na tela a sua tabuada."
      ]
    },
    {
      "cell_type": "code",
      "metadata": {
        "id": "6LRqNkTwyckT",
        "colab_type": "code",
        "outputId": "b9434caf-9009-4a91-8737-abec5164ba00",
        "colab": {
          "base_uri": "https://localhost:8080/",
          "height": 272
        }
      },
      "source": [
        "cor = {\n",
        "    'limpa':'\\033[0;30;7m',\n",
        "    'verde':'\\033[1;32m',\n",
        "    'amarelo':'\\033[1;33m',\n",
        "    'azul':'\\033[1;34m',\n",
        "    'magenta':'\\033[1;35m',\n",
        "    'barra':'\\033[1;33;46m'\n",
        "}\n",
        "print(cor['barra'], '{:=^50}'.format(' DESAFIO 009.11 '), cor['limpa'])\n",
        "\n",
        "n = int(input('\\nDeseja visualizar a tabuada de qual número: '))\n",
        "\n",
        "print('{}{}{} x {}{:2}{} = {}{}{}'.format(cor['amarelo'], n, cor['limpa'], cor['azul'],  1, cor['limpa'], cor['magenta'], n *  1, cor['limpa']))\n",
        "print('{}{}{} x {}{:2}{} = {}{}{}'.format(cor['amarelo'], n, cor['limpa'], cor['azul'],  2, cor['limpa'], cor['magenta'], n *  2, cor['limpa']))\n",
        "print('{}{}{} x {}{:2}{} = {}{}{}'.format(cor['amarelo'], n, cor['limpa'], cor['azul'],  3, cor['limpa'], cor['magenta'], n *  3, cor['limpa']))\n",
        "print('{}{}{} x {}{:2}{} = {}{}{}'.format(cor['amarelo'], n, cor['limpa'], cor['azul'],  4, cor['limpa'], cor['magenta'], n *  4, cor['limpa']))\n",
        "print('{}{}{} x {}{:2}{} = {}{}{}'.format(cor['amarelo'], n, cor['limpa'], cor['azul'],  5, cor['limpa'], cor['magenta'], n *  5, cor['limpa']))\n",
        "print('{}{}{} x {}{:2}{} = {}{}{}'.format(cor['amarelo'], n, cor['limpa'], cor['azul'],  6, cor['limpa'], cor['magenta'], n *  6, cor['limpa']))\n",
        "print('{}{}{} x {}{:2}{} = {}{}{}'.format(cor['amarelo'], n, cor['limpa'], cor['azul'],  7, cor['limpa'], cor['magenta'], n *  7, cor['limpa']))\n",
        "print('{}{}{} x {}{:2}{} = {}{}{}'.format(cor['amarelo'], n, cor['limpa'], cor['azul'],  8, cor['limpa'], cor['magenta'], n *  8, cor['limpa']))\n",
        "print('{}{}{} x {}{:2}{} = {}{}{}'.format(cor['amarelo'], n, cor['limpa'], cor['azul'],  9, cor['limpa'], cor['magenta'], n *  9, cor['limpa']))\n",
        "print('{}{}{} x {}{:2}{} = {}{}{}'.format(cor['amarelo'], n, cor['limpa'], cor['azul'], 10, cor['limpa'], cor['magenta'], n * 10, cor['limpa']))\n",
        "\n",
        "print('\\n', cor['barra'], '{:=^50}'.format(' fim do processamento '), cor['limpa'])"
      ],
      "execution_count": 0,
      "outputs": [
        {
          "output_type": "stream",
          "text": [
            "\u001b[1;33;46m ================= DESAFIO 009.11 ================= \u001b[0;30;7m\n",
            "\n",
            "Deseja visualizar a tabuada de qual número: 7\n",
            "\u001b[1;33m7\u001b[0;30;7m x \u001b[1;34m 1\u001b[0;30;7m = \u001b[1;35m7\u001b[0;30;7m\n",
            "\u001b[1;33m7\u001b[0;30;7m x \u001b[1;34m 2\u001b[0;30;7m = \u001b[1;35m14\u001b[0;30;7m\n",
            "\u001b[1;33m7\u001b[0;30;7m x \u001b[1;34m 3\u001b[0;30;7m = \u001b[1;35m21\u001b[0;30;7m\n",
            "\u001b[1;33m7\u001b[0;30;7m x \u001b[1;34m 4\u001b[0;30;7m = \u001b[1;35m28\u001b[0;30;7m\n",
            "\u001b[1;33m7\u001b[0;30;7m x \u001b[1;34m 5\u001b[0;30;7m = \u001b[1;35m35\u001b[0;30;7m\n",
            "\u001b[1;33m7\u001b[0;30;7m x \u001b[1;34m 6\u001b[0;30;7m = \u001b[1;35m42\u001b[0;30;7m\n",
            "\u001b[1;33m7\u001b[0;30;7m x \u001b[1;34m 7\u001b[0;30;7m = \u001b[1;35m49\u001b[0;30;7m\n",
            "\u001b[1;33m7\u001b[0;30;7m x \u001b[1;34m 8\u001b[0;30;7m = \u001b[1;35m56\u001b[0;30;7m\n",
            "\u001b[1;33m7\u001b[0;30;7m x \u001b[1;34m 9\u001b[0;30;7m = \u001b[1;35m63\u001b[0;30;7m\n",
            "\u001b[1;33m7\u001b[0;30;7m x \u001b[1;34m10\u001b[0;30;7m = \u001b[1;35m70\u001b[0;30;7m\n",
            "\n",
            " \u001b[1;33;46m ============== fim do processamento ============== \u001b[0;30;7m\n"
          ],
          "name": "stdout"
        }
      ]
    },
    {
      "cell_type": "markdown",
      "metadata": {
        "colab_type": "text",
        "id": "CvfbrGs5OC72"
      },
      "source": [
        "##### Ex.010.11 - Crie um programa leia quanto dinheiro uma pessoa tem na carteira e mostre quantos Dólares ela pode comprar."
      ]
    },
    {
      "cell_type": "code",
      "metadata": {
        "id": "Mz9g8HbjPIq6",
        "colab_type": "code",
        "outputId": "a7f5ad0c-1c92-41a3-d82f-351831ac2fd8",
        "colab": {
          "base_uri": "https://localhost:8080/",
          "height": 323
        }
      },
      "source": [
        "cor = {\n",
        "    'limpa':'\\033[0;30;7m',\n",
        "    'dolar':'\\033[1;30;44m',\n",
        "    'euro':'\\033[1;33;44m',\n",
        "    'libra':'\\033[1;7;41m',\n",
        "    'barra':'\\033[1;46m'\n",
        "}\n",
        "print(cor['barra'], '{:=^50}'.format(' DESAFIO 010.11 '), cor['limpa'])\n",
        "\n",
        "real = float(input('\\nQuanto você tem na carteira? '))\n",
        "cotData = '26/01/2020'\n",
        "\n",
        "cotUs = 4.38\n",
        "cotEu = 4.84\n",
        "cotLi = 5.87\n",
        "\n",
        "dolar = real / cotUs\n",
        "euro = real / cotEu\n",
        "libra = real / cotLi\n",
        "\n",
        "print('\\n')\n",
        "print(cor['dolar'],'{:-^50}'.format(' Dólar '), cor['limpa'])\n",
        "print('Com o valor de R${:.2f}, você poderá comprar US${:.2f}.'.format(real, dolar))\n",
        "print('Cotação do US$ valendo {:.2f} em {}.\\n'.format(cotUs, cotData))\n",
        "\n",
        "print(cor['euro'],'{:-^50}'.format(' Euro '), cor['limpa'])\n",
        "print('Com o valor de R${:.2f}, você poderá comprar €{:.2f}.'.format(real, euro))\n",
        "print('Cotação do € valento {:.2f} em {}.\\n'.format(cotEu, cotData))\n",
        "\n",
        "print(cor['libra'],'{:-^50}'.format(' Libra '), cor['limpa'])\n",
        "print('Com o valor de R${:.2f}, você poderá comprar ₡{:.2f}'.format(real, libra))\n",
        "print('Cotação da ₡ valendo {:.2f} em {}.\\n'.format(cotLi, cotData))\n",
        "\n",
        "print(cor['barra'],'{:=^50}'.format(' fim do processamento '), cor['limpa'])"
      ],
      "execution_count": 0,
      "outputs": [
        {
          "output_type": "stream",
          "text": [
            "\u001b[1;46m ================= DESAFIO 010.11 ================= \u001b[0;30;7m\n",
            "\n",
            "Quanto você tem na carteira? 1\n",
            "\n",
            "\n",
            "\u001b[1;30;44m --------------------- Dólar ---------------------- \u001b[0;30;7m\n",
            "Com o valor de R$1.00, você poderá comprar US$0.23.\n",
            "Cotação do US$ valendo 4.38 em 26/01/2020.\n",
            "\n",
            "\u001b[1;33;44m ---------------------- Euro ---------------------- \u001b[0;30;7m\n",
            "Com o valor de R$1.00, você poderá comprar €0.21.\n",
            "Cotação do € valento 4.84 em 26/01/2020.\n",
            "\n",
            "\u001b[1;7;41m --------------------- Libra ---------------------- \u001b[0;30;7m\n",
            "Com o valor de R$1.00, você poderá comprar ₡0.17\n",
            "Cotação da ₡ valendo 5.87 em 26/01/2020.\n",
            "\n",
            "\u001b[1;46m ============== fim do processamento ============== \u001b[0;30;7m\n"
          ],
          "name": "stdout"
        }
      ]
    },
    {
      "cell_type": "markdown",
      "metadata": {
        "colab_type": "text",
        "id": "LdNMgVb1ezSP"
      },
      "source": [
        "##### Ex.011.11 - Faça um programa que leia a largura e a altura de uma parede em metros, calcule a sua área e a quantidade de tinta necessária para pintá-la.  \n",
        "- **sabendo que cada litro de tinta, pinta uma área de 2m².**"
      ]
    },
    {
      "cell_type": "code",
      "metadata": {
        "id": "QsDoBjGQiry2",
        "colab_type": "code",
        "outputId": "156dddb7-121d-4b00-f4a6-717e7d31a1f8",
        "colab": {
          "base_uri": "https://localhost:8080/",
          "height": 357
        }
      },
      "source": [
        "cor = {\n",
        "    'limpa':'\\033[0;30;7m',\n",
        "    'verde':'\\033[1;32m',\n",
        "    'amarelo':'\\033[1;33m',\n",
        "    'azul':'\\033[1;34m',\n",
        "    'magenta':'\\033[1;35m',\n",
        "    'demao':'\\033[1;31m',\n",
        "    'barra':'\\033[1;33;46m'\n",
        "}\n",
        "print(cor['barra'], '{:=^50}'.format(' DESAFIO 011.11 '), cor['limpa'])\n",
        "\n",
        "a = float(input('\\nDigite a altura da parede: '))\n",
        "b = float(input('\\nDigite a largura da parede: '))\n",
        "\n",
        "area = b * a\n",
        "\n",
        "tinta = area / 2\n",
        "\n",
        "print('\\n')\n",
        "print(cor['demao'], '{:-^50}'.format(' Área da Parede '), cor['limpa'])\n",
        "print('A área calculada da parede é de {:.2f}m².'.format(area))\n",
        "print('\\n')\n",
        "print(cor['demao'], '{:-^50}'.format(' Pintura - 1 Demão '), cor['limpa'])\n",
        "print('A quantidade de tinta necessária, será de {:.2f} Litros.'.format(tinta))\n",
        "print('\\n')\n",
        "print(cor['demao'], '{:-^50}'.format(' Pintura - 2 Demãos '), cor['limpa'])\n",
        "print('A quantidade de tinta necessária, será de {:.2f} Litros.'.format(tinta*2))\n",
        "print('\\n')\n",
        "print(cor['barra'], '{:=^50}'.format(' fim do processamento '), cor['limpa'])"
      ],
      "execution_count": 0,
      "outputs": [
        {
          "output_type": "stream",
          "text": [
            "\u001b[1;33;46m ================= DESAFIO 011.11 ================= \u001b[0;30;7m\n",
            "\n",
            "Digite a altura da parede: 2\n",
            "\n",
            "Digite a largura da parede: 5\n",
            "\n",
            "\n",
            "\u001b[1;31m ----------------- Área da Parede ----------------- \u001b[0;30;7m\n",
            "A área calculada da parede é de 10.00m².\n",
            "\n",
            "\n",
            "\u001b[1;31m --------------- Pintura - 1 Demão ---------------- \u001b[0;30;7m\n",
            "A quantidade de tinta necessária, será de 5.00 Litros.\n",
            "\n",
            "\n",
            "\u001b[1;31m --------------- Pintura - 2 Demãos --------------- \u001b[0;30;7m\n",
            "A quantidade de tinta necessária, será de 10.00 Litros.\n",
            "\n",
            "\n",
            "\u001b[1;33;46m ============== fim do processamento ============== \u001b[0;30;7m\n"
          ],
          "name": "stdout"
        }
      ]
    },
    {
      "cell_type": "markdown",
      "metadata": {
        "colab_type": "text",
        "id": "5xjQ2vztoA_H"
      },
      "source": [
        "##### Ex.012.11 - Faça um algoritmos que leia o preço de um produto e mostre seu novo preço, com 5% de desconto."
      ]
    },
    {
      "cell_type": "code",
      "metadata": {
        "id": "5HjisxvGoCgp",
        "colab_type": "code",
        "outputId": "66098f6b-0e9d-43f6-bdd9-fe8955ae2622",
        "colab": {
          "base_uri": "https://localhost:8080/",
          "height": 221
        }
      },
      "source": [
        "cor = {\n",
        "    'limpa':'\\033[0;30;7m',\n",
        "    'vermelho':'\\033[1;31m',\n",
        "    'verde':'\\033[1;32m',\n",
        "    'amarelo':'\\033[1;33m',\n",
        "    'azul':'\\033[1;34m',\n",
        "    'magenta':'\\033[1;35m',\n",
        "    'barra':'\\033[1;46m',\n",
        "    'header':'\\033[1;31;46m'\n",
        "}\n",
        "print(cor['barra'], '{:=^50}'.format(' DESAFIO 012.11 '), cor['limpa'])\n",
        "\n",
        "price = float(input('\\nDigite o valor do produto: '))\n",
        "newPrice = price - (price * 5 / 100)\n",
        "\n",
        "print('\\n')\n",
        "print(cor['header'], '{:-^50}'.format(' O produto com 5% de Desconto '), cor['limpa'])\n",
        "print('\\nDE: {}R${:.2f}{}\\nPOR: {}R${:.2f}{}'.format(cor['vermelho'], price, cor['limpa'],\n",
        "                                                   cor['verde'], newPrice, cor['limpa']))\n",
        "print('\\n')\n",
        "print(cor['barra'], '{:=^50}'.format(' fim do processamento '), cor['limpa'])"
      ],
      "execution_count": 0,
      "outputs": [
        {
          "output_type": "stream",
          "text": [
            "\u001b[1;46m ================= DESAFIO 012.11 ================= \u001b[0;30;7m\n",
            "\n",
            "Digite o valor do produto: 2345\n",
            "\n",
            "\n",
            "\u001b[1;31;46m ---------- O produto com 5% de Desconto ---------- \u001b[0;30;7m\n",
            "\n",
            "DE: \u001b[1;31mR$2345.00\u001b[0;30;7m\n",
            "POR: \u001b[1;32mR$2227.75\u001b[0;30;7m\n",
            "\n",
            "\n",
            "\u001b[1;46m ============== fim do processamento ============== \u001b[0;30;7m\n"
          ],
          "name": "stdout"
        }
      ]
    },
    {
      "cell_type": "markdown",
      "metadata": {
        "colab_type": "text",
        "id": "4YpRgrfQus8v"
      },
      "source": [
        "##### Ex.013.11 - Faça um algoritmo que leia o salário de um funcionário e mostre seu novo salário, com 15% de aumento."
      ]
    },
    {
      "cell_type": "code",
      "metadata": {
        "id": "XySo9A8HuyLr",
        "colab_type": "code",
        "outputId": "63703289-e03c-4545-ba87-2d7f83adf078",
        "colab": {
          "base_uri": "https://localhost:8080/",
          "height": 153
        }
      },
      "source": [
        "cor = {\n",
        "    'limpa':'\\033[0;30;7m',\n",
        "    'vermelho':'\\033[1;31m',\n",
        "    'verde':'\\033[1;32m',\n",
        "    'amarelo':'\\033[1;33m',\n",
        "    'azul':'\\033[1;34m',\n",
        "    'magenta':'\\033[1;35m',\n",
        "    'barra':'\\033[1;33;46m',\n",
        "}\n",
        "print(cor['barra'], '{:=^50}'.format(' DESAFIO 013.11 '), cor['limpa'])\n",
        "\n",
        "salary = float(input('\\nDigite o salário atual: R$'))\n",
        "reajuste = 15\n",
        "newSalary = salary + (salary * reajuste / 100)\n",
        "\n",
        "print('\\nSeu novo salário com o reajuste de {}{}%{}'.format(cor['magenta'], reajuste, cor['limpa']), end=' ')\n",
        "print('será de: {}R${:.2f}{}.'.format(cor['azul'], newSalary, cor['limpa']))\n",
        "print('\\n')\n",
        "print(cor['barra'], '{:=^50}'.format(' fim do processamento '), cor['limpa'])"
      ],
      "execution_count": 0,
      "outputs": [
        {
          "output_type": "stream",
          "text": [
            "\u001b[1;33;46m ================= DESAFIO 013.11 ================= \u001b[0;30;7m\n",
            "\n",
            "Digite o salário atual: R$6050.89\n",
            "\n",
            "Seu novo salário com o reajuste de \u001b[1;35m15%\u001b[0;30;7m será de: \u001b[1;34mR$6958.52\u001b[0;30;7m.\n",
            "\n",
            "\n",
            "\u001b[1;33;46m ============== fim do processamento ============== \u001b[0;30;7m\n"
          ],
          "name": "stdout"
        }
      ]
    },
    {
      "cell_type": "markdown",
      "metadata": {
        "colab_type": "text",
        "id": "4VYedxbcyGac"
      },
      "source": [
        "##### Ex.014.11 - Escreva um programa que converta uma temperatura digitando em graus Celsius e converta para graus Fahrenheit."
      ]
    },
    {
      "cell_type": "code",
      "metadata": {
        "id": "rgETZUYJyMVm",
        "colab_type": "code",
        "outputId": "28227043-3a8e-4eba-844b-8c6dee9dd79f",
        "colab": {
          "base_uri": "https://localhost:8080/",
          "height": 204
        }
      },
      "source": [
        "cor = {\n",
        "    'limpa':'\\033[0;30;7m',\n",
        "    'vermelho':'\\033[1;31m',\n",
        "    'verde':'\\033[1;32m',\n",
        "    'amarelo':'\\033[1;33m',\n",
        "    'azul':'\\033[1;34m',\n",
        "    'magenta':'\\033[1;35m',\n",
        "    'barra':'\\033[1;46m',\n",
        "    'convert':'\\033[1;45m'\n",
        "}\n",
        "print(cor['barra'], '{:=^50}'.format(' DESAFIO 014.11 '), cor['limpa'])\n",
        "\n",
        "c = float(input('\\nDigite a temperatura em °C: '))\n",
        "print('\\n')\n",
        "print(cor['convert'],'{:-^50}'.format(' Celsius → Fahrenheit '), cor['limpa'])\n",
        "#f = (c * 1.8) + 32\n",
        "f = (c * 9) / 5 + 32\n",
        "\n",
        "print('\\nA temperatura de {}{:.1f}°C{} é equivalente a {}{}°F{}'.format(cor['amarelo'], c, cor['limpa'],\n",
        "                                                                        cor['magenta'], f, cor['limpa']))\n",
        "print('\\n')\n",
        "print(cor['barra'], '{:=^50}'.format(' fim do processamento '), cor['limpa'])"
      ],
      "execution_count": 0,
      "outputs": [
        {
          "output_type": "stream",
          "text": [
            "\u001b[1;46m ================= DESAFIO 014.11 ================= \u001b[0;30;7m\n",
            "\n",
            "Digite a temperatura em °C: 21\n",
            "\n",
            "\n",
            "\u001b[1;45m -------------- Celsius → Fahrenheit -------------- \u001b[0;30;7m\n",
            "\n",
            "A temperatura de \u001b[1;33m21.0°C\u001b[0;30;7m é equivalente a \u001b[1;35m69.8°F\u001b[0;30;7m\n",
            "\n",
            "\n",
            "\u001b[1;46m ============== fim do processamento ============== \u001b[0;30;7m\n"
          ],
          "name": "stdout"
        }
      ]
    },
    {
      "cell_type": "markdown",
      "metadata": {
        "colab_type": "text",
        "id": "u55s9pvebGsk"
      },
      "source": [
        "##### Ex.015 - Escreva um programa que pergunte:  \n",
        "- a quantidade de Km percorridos por um carro alugado;\n",
        "- a quantidade de dias pelos quais ele foi alugado.  \n",
        "\n",
        "Calcule o preço a pagar.  \n",
        "\n",
        "- **sabendo que o carro custa R\\$60 por dia e R\\$0,15 por Km rodado.**"
      ]
    },
    {
      "cell_type": "code",
      "metadata": {
        "id": "QrO6_ZESbU8F",
        "colab_type": "code",
        "outputId": "d0fce09b-9f70-4389-9155-da07036e47f1",
        "colab": {
          "base_uri": "https://localhost:8080/",
          "height": 204
        }
      },
      "source": [
        "cor = {\n",
        "    'limpa':'\\033[0;30;7m',\n",
        "    'vermelho':'\\033[1;31m',\n",
        "    'verde':'\\033[1;32m',\n",
        "    'amarelo':'\\033[1;33m',\n",
        "    'azul':'\\033[1;34m',\n",
        "    'magenta':'\\033[1;35m',\n",
        "    'barra':'\\033[1;33;46m',\n",
        "    'convert':'\\033[1;45m'\n",
        "}\n",
        "print(cor['barra'], '{:=^50}'.format(' DESAFIO 015.11 '), cor['limpa'])\n",
        "\n",
        "km = float(input('\\nDigite os kilometros rodados: '))\n",
        "dias = int(input('\\nQuantidade de dias locados: '))\n",
        "aluguel = (km * 0.15) + (dias * 60)\n",
        "print('\\n')\n",
        "print('O valor do aluguel por {}{} dias{}'.format(cor['azul'], dias, cor['limpa']), end=' ')\n",
        "print('e {}{} Km{} rodados'.format(cor['azul'], km, cor['limpa']), end=' ')\n",
        "print('será de {}R${:.2f}{}.'.format(cor['vermelho'], aluguel, cor['limpa']))\n",
        "print('\\n')\n",
        "print(cor['barra'], '{:=^50}'.format(' fim do processamento '), cor['limpa'])"
      ],
      "execution_count": 0,
      "outputs": [
        {
          "output_type": "stream",
          "text": [
            "\u001b[1;33;46m ================= DESAFIO 015.11 ================= \u001b[0;30;7m\n",
            "\n",
            "Digite os kilometros rodados: 300\n",
            "\n",
            "Quantidade de dias locados: 4\n",
            "\n",
            "\n",
            "O valor do aluguel por \u001b[1;34m4 dias\u001b[0;30;7m e \u001b[1;34m300.0 Km\u001b[0;30;7m rodados será de \u001b[1;31mR$285.00\u001b[0;30;7m.\n",
            "\n",
            "\n",
            "\u001b[1;33;46m ============== fim do processamento ============== \u001b[0;30;7m\n"
          ],
          "name": "stdout"
        }
      ]
    },
    {
      "cell_type": "markdown",
      "metadata": {
        "colab_type": "text",
        "id": "gQ7YngnbhQs4"
      },
      "source": [
        "##### Ex.016.11 - Crie um programa que leia um número Real qualquer e mostre na tela a sua porção Inteira.  \n",
        "Ex.:  \n",
        "Digite um número: **6.127**  \n",
        "O número **6.127** tem a parte inteira **6**."
      ]
    },
    {
      "cell_type": "code",
      "metadata": {
        "id": "ttQ6BSeThgaO",
        "colab_type": "code",
        "outputId": "4f6a5939-12c1-4abf-f7b1-854f56ff44d5",
        "colab": {
          "base_uri": "https://localhost:8080/",
          "height": 153
        }
      },
      "source": [
        "cor = {\n",
        "    'limpa':'\\033[0;30;7m',\n",
        "    'vermelho':'\\033[1;31m',\n",
        "    'verde':'\\033[1;32m',\n",
        "    'amarelo':'\\033[1;33m',\n",
        "    'azul':'\\033[1;34m',\n",
        "    'magenta':'\\033[1;35m',\n",
        "    'barra':'\\033[1;46m',\n",
        "    'convert':'\\033[1;45m'\n",
        "}\n",
        "print(cor['barra'], '{:=^50}'.format(' DESAFIO 016.11 '), cor['limpa'])\n",
        "\n",
        "from math import trunc\n",
        "\n",
        "num = float(input('\\nDigite um número real: '))\n",
        "print('\\nA porção inteira do número é {}{}{}.'.format(cor['vermelho'],trunc(num), cor['limpa']))\n",
        "print('\\n')\n",
        "print(cor['barra'], '{:=^50}'.format(' fim do processamento '), cor['limpa'])"
      ],
      "execution_count": 0,
      "outputs": [
        {
          "output_type": "stream",
          "text": [
            "\u001b[1;46m ================= DESAFIO 016.11 ================= \u001b[0;30;7m\n",
            "\n",
            "Digite um número real: 78.45345\n",
            "\n",
            "A porção inteira do número é \u001b[1;31m78\u001b[0;30;7m.\n",
            "\n",
            "\n",
            "\u001b[1;46m ============== fim do processamento ============== \u001b[0;30;7m\n"
          ],
          "name": "stdout"
        }
      ]
    },
    {
      "cell_type": "markdown",
      "metadata": {
        "colab_type": "text",
        "id": "43LnHYBBnVwl"
      },
      "source": [
        "##### Ex.017.11 - Faça um programa que leia o comprimento do cateto oposto e do cateto adjacente de um triângulo, calcule e mostre o comprimento da hipotenusa\n",
        "\n",
        "Princípio matemático: a² = b² + c²"
      ]
    },
    {
      "cell_type": "code",
      "metadata": {
        "id": "QVrQ7ranndX_",
        "colab_type": "code",
        "outputId": "bc78b5fc-3af8-41ea-de24-bc047a5a29db",
        "colab": {
          "base_uri": "https://localhost:8080/",
          "height": 170
        }
      },
      "source": [
        "cor = {\n",
        "    'limpa':'\\033[0;30;7m',\n",
        "    'vermelho':'\\033[1;31m',\n",
        "    'verde':'\\033[1;32m',\n",
        "    'amarelo':'\\033[1;33m',\n",
        "    'azul':'\\033[1;34m',\n",
        "    'magenta':'\\033[1;35m',\n",
        "    'barra':'\\033[1;33;46m'\n",
        "}\n",
        "print(cor['barra'], '{:=^50}'.format(' DESAFIO 017.11 '), cor['limpa'])\n",
        "\n",
        "from math import hypot\n",
        "c = float(input('\\nDigite o valor cateto oposto: '))\n",
        "b = float(input('Digite o valor cateto adjacente: '))\n",
        "a = hypot(b, c)\n",
        "print('\\nO comprimento da hipotenusa é de {}{:.2f}{}'.format(cor['azul'], a, cor['limpa']))\n",
        "print('\\n')\n",
        "print(cor['barra'], '{:=^50}'.format(' fim do processamento '), cor['limpa'])"
      ],
      "execution_count": 0,
      "outputs": [
        {
          "output_type": "stream",
          "text": [
            "\u001b[1;33;46m ================= DESAFIO 017.11 ================= \u001b[0;30;7m\n",
            "\n",
            "Digite o valor cateto oposto: 6\n",
            "Digite o valor cateto adjacente: 8\n",
            "\n",
            "O comprimento da hipotenusa é de \u001b[1;34m10.00\u001b[0;30;7m\n",
            "\n",
            "\n",
            "\u001b[1;33;46m ============== fim do processamento ============== \u001b[0;30;7m\n"
          ],
          "name": "stdout"
        }
      ]
    },
    {
      "cell_type": "markdown",
      "metadata": {
        "colab_type": "text",
        "id": "TZEHQIbSphaT"
      },
      "source": [
        "##### Ex.018.11 - Faça um programa que leia um Ângulo qualquer e mostre na tela o valor do seno, cosseno e tangente desse ângulo."
      ]
    },
    {
      "cell_type": "code",
      "metadata": {
        "id": "eSuta1NoplbX",
        "colab_type": "code",
        "outputId": "85aa6a5c-5d47-4dcc-e664-f7cf69c2d60a",
        "colab": {
          "base_uri": "https://localhost:8080/",
          "height": 204
        }
      },
      "source": [
        "cor = {\n",
        "    'limpa':'\\033[0;30;7m',\n",
        "    'vermelho':'\\033[1;31m',\n",
        "    'verde':'\\033[1;32m',\n",
        "    'amarelo':'\\033[1;33m',\n",
        "    'azul':'\\033[1;34m',\n",
        "    'magenta':'\\033[1;35m',\n",
        "    'barra':'\\033[1;46m'\n",
        "}\n",
        "print(cor['barra'], '{:=^50}'.format(' DESAFIO 018.11 '), cor['limpa'])\n",
        "from math import radians, sin, cos, tan\n",
        "ang = float(input('\\nDigite o ângulo que deseja: '))\n",
        "se = sin(radians(ang))\n",
        "co = cos(radians(ang))\n",
        "tg = tan(radians(ang))\n",
        "print('\\nO {}Ângulo{} de {}{}°{} tem:'.format(cor['verde'], cor['limpa'],\n",
        "                                              cor['amarelo'], int(ang), cor['limpa']))\n",
        "print('O {}Seno{} de {}{:.3f}{}'.format(cor['vermelho'], cor['limpa'],\n",
        "                                        cor['azul'], se, cor['limpa']))\n",
        "print('O {}Cosseno{} de {}{:.3f}{}'.format(cor['vermelho'], cor['limpa'],\n",
        "                                           cor['azul'], co, cor['limpa']))\n",
        "print('A {}Tangente{} de {}{:.3f}{}'.format(cor['vermelho'], cor['limpa'],\n",
        "                                            cor['azul'], tg, cor['limpa']))\n",
        "print('\\n')\n",
        "print(cor['barra'], '{:=^50}'.format(' fim do processamento '), cor['limpa'])\n"
      ],
      "execution_count": 0,
      "outputs": [
        {
          "output_type": "stream",
          "text": [
            "\u001b[1;46m ================= DESAFIO 018.11 ================= \u001b[0;30;7m\n",
            "\n",
            "Digite o ângulo que deseja: 60\n",
            "\n",
            "O \u001b[1;32mÂngulo\u001b[0;30;7m de \u001b[1;33m60°\u001b[0;30;7m tem:\n",
            "O \u001b[1;31mSeno\u001b[0;30;7m de \u001b[1;34m0.866\u001b[0;30;7m\n",
            "O \u001b[1;31mCosseno\u001b[0;30;7m de \u001b[1;34m0.500\u001b[0;30;7m\n",
            "A \u001b[1;31mTangente\u001b[0;30;7m de \u001b[1;34m1.732\u001b[0;30;7m\n",
            "\n",
            "\n",
            "\u001b[1;46m ============== fim do processamento ============== \u001b[0;30;7m\n"
          ],
          "name": "stdout"
        }
      ]
    },
    {
      "cell_type": "markdown",
      "metadata": {
        "colab_type": "text",
        "id": "z7_Ba3wMt_LS"
      },
      "source": [
        "##### Ex.019.11 - Um professor quer sortear um dos seus quatro alunos para apagar o quadro. Faça um programa que ajude ele, lendo o nome deles e escrevendo o nome escolhido."
      ]
    },
    {
      "cell_type": "code",
      "metadata": {
        "id": "YX3Y1gk-uBmw",
        "colab_type": "code",
        "outputId": "cd56aae1-4d3f-42a8-fb07-f25bc877cbd3",
        "colab": {
          "base_uri": "https://localhost:8080/",
          "height": 204
        }
      },
      "source": [
        "cor = {\n",
        "    'limpa':'\\033[0;30;7m',\n",
        "    'vermelho':'\\033[1;31m',\n",
        "    'verde':'\\033[1;32m',\n",
        "    'amarelo':'\\033[1;33m',\n",
        "    'azul':'\\033[1;34m',\n",
        "    'magenta':'\\033[1;35m',\n",
        "    'barra':'\\033[1;33;46m'\n",
        "}\n",
        "print(cor['barra'], '{:=^50}'.format(' DESAFIO 019.11 '), cor['limpa'])\n",
        "\n",
        "from random import choice\n",
        "from time import sleep\n",
        "\n",
        "n1 = str(input('\\nPrimeiro aluno: ')).strip().title()\n",
        "n2 = str(input('Segundo aluno: ')).strip().title()\n",
        "n3 = str(input('Terceiro aluno: ')).strip().title()\n",
        "n4 = str(input('Quarto aluno: ')).strip().title()\n",
        "\n",
        "lista = [n1, n2, n3, n4]\n",
        "sorteio = choice(lista)\n",
        "\n",
        "print('\\nO aluno escolhido foi...', end='')\n",
        "sleep(3)\n",
        "print('{}{}{}.'.format(cor['magenta'], sorteio, cor['limpa']))\n",
        "print('\\n')\n",
        "print(cor['barra'], '{:=^50}'.format(' fim do processamento '), cor['limpa'])"
      ],
      "execution_count": 0,
      "outputs": [
        {
          "output_type": "stream",
          "text": [
            "\u001b[1;33;46m ================= DESAFIO 019.11 ================= \u001b[0;30;7m\n",
            "\n",
            "Primeiro aluno: hamilton\n",
            "Segundo aluno: fabiana\n",
            "Terceiro aluno: paulo\n",
            "Quarto aluno: josé\n",
            "\n",
            "O aluno escolhido foi...\u001b[1;35mFabiana\u001b[0;30;7m.\n",
            "\n",
            "\n",
            "\u001b[1;33;46m ============== fim do processamento ============== \u001b[0;30;7m\n"
          ],
          "name": "stdout"
        }
      ]
    },
    {
      "cell_type": "markdown",
      "metadata": {
        "colab_type": "text",
        "id": "21F8rNnPxoOm"
      },
      "source": [
        "##### Ex.020.11 - O mesmo professor do desafio anterior quer sortear a ordem de apresentação de trabalhos dos alunos. Faça um programa que leia o nome dos quatro alunos e mostre a ordem sorteada."
      ]
    },
    {
      "cell_type": "code",
      "metadata": {
        "id": "wPTzPgpBxsA4",
        "colab_type": "code",
        "outputId": "aa70cc48-45e0-4f38-fc8a-911098cd0071",
        "colab": {
          "base_uri": "https://localhost:8080/",
          "height": 221
        }
      },
      "source": [
        "cor = {\n",
        "    'limpa':'\\033[0;30;7m',\n",
        "    'vermelho':'\\033[1;31m',\n",
        "    'verde':'\\033[1;32m',\n",
        "    'amarelo':'\\033[1;33m',\n",
        "    'azul':'\\033[1;34m',\n",
        "    'magenta':'\\033[1;35m',\n",
        "    'barra':'\\033[1;46m'\n",
        "}\n",
        "print(cor['barra'], '{:=^50}'.format(' DESAFIO 020.11 '), cor['limpa'])\n",
        "\n",
        "from random import shuffle\n",
        "\n",
        "n1 = str(input('\\nDigite o nome do 1º aluno: ')).strip().title()\n",
        "n2 = str(input('Digite o nome do 2º aluno: ')).strip().title()\n",
        "n3 = str(input('Digite o nome do 3º aluno: ')).strip().title()\n",
        "n4 = str(input('Digite o nome do 4º aluno: ')).strip().title()\n",
        "\n",
        "lista = [n1, n2, n3, n4]\n",
        "shuffle(lista)\n",
        "\n",
        "print('\\nA ordem de apresentação será: \\n{}{}{}'.format(cor['magenta'], lista, cor['limpa']))\n",
        "print('\\n')\n",
        "print(cor['barra'], '{:=^50}'.format(' fim do processamento '), cor['limpa'])"
      ],
      "execution_count": 0,
      "outputs": [
        {
          "output_type": "stream",
          "text": [
            "\u001b[1;46m ================= DESAFIO 020.11 ================= \u001b[0;30;7m\n",
            "\n",
            "Digite o nome do 1º aluno: hamilton\n",
            "Digite o nome do 2º aluno: tadeu\n",
            "Digite o nome do 3º aluno: marques\n",
            "Digite o nome do 4º aluno: ribeiro\n",
            "\n",
            "A ordem de apresentação será: \n",
            "\u001b[1;35m['Tadeu', 'Marques', 'Hamilton', 'Ribeiro']\u001b[0;30;7m\n",
            "\n",
            "\n",
            "\u001b[1;46m ============== fim do processamento ============== \u001b[0;30;7m\n"
          ],
          "name": "stdout"
        }
      ]
    },
    {
      "cell_type": "markdown",
      "metadata": {
        "colab_type": "text",
        "id": "92CIZ5XlnMen"
      },
      "source": [
        "##### Ex.021.11 - Faça um programa em Python que abra e reproduza o áudio de um arquivo MP3."
      ]
    },
    {
      "cell_type": "code",
      "metadata": {
        "id": "olgM86-Enfqf",
        "colab_type": "code",
        "colab": {}
      },
      "source": [
        "cor = {\n",
        "    'limpa':'\\033[0;30;7m',\n",
        "    'vermelho':'\\033[1;31m',\n",
        "    'verde':'\\033[1;32m',\n",
        "    'amarelo':'\\033[1;33m',\n",
        "    'azul':'\\033[1;34m',\n",
        "    'magenta':'\\033[1;35m',\n",
        "    'barra':'\\033[1;33;46m'\n",
        "}\n",
        "print(cor['barra'], '{:=^50}'.format(' DESAFIO 021.11 '), cor['limpa'])\n",
        "import pygame\n",
        "pygame.init()\n",
        "pygame.mixer.music.load('ex021_11.mp3')\n",
        "pygame.mixer.music.play()\n",
        "pygame.event.wait()\n",
        "print(cor['barra'], '{:=^50}'.format(' fim do processamento '), cor['limpa'])"
      ],
      "execution_count": 0,
      "outputs": []
    },
    {
      "cell_type": "markdown",
      "metadata": {
        "colab_type": "text",
        "id": "2xeIDeJyvdwb"
      },
      "source": [
        "##### Ex.022.11 - Crie um programa que leia o nome completo de uma pessoa e mostre:  \n",
        "- O nome com todas as letras maiúsculas\n",
        "- O nome com todas as letras minúsculas\n",
        "- Quantas letras ao todo (sem considerar espaços)\n",
        "- Quantas letras tem o primeiro nome."
      ]
    },
    {
      "cell_type": "code",
      "metadata": {
        "id": "WbjZmHKXvjL7",
        "colab_type": "code",
        "outputId": "d7ffd379-a10b-45d8-99fc-81b8a0d66ee6",
        "colab": {
          "base_uri": "https://localhost:8080/",
          "height": 510
        }
      },
      "source": [
        "cor = {\n",
        "    'limpa':'\\033[0;30;7m',\n",
        "    'vermelho':'\\033[1;31m',\n",
        "    'verde':'\\033[1;32m',\n",
        "    'amarelo':'\\033[1;33m',\n",
        "    'azul':'\\033[1;34m',\n",
        "    'magenta':'\\033[1;35m',\n",
        "    'barra':'\\033[1;46m',\n",
        "    'titulo':'\\033[1;45m',\n",
        "    'analise':'\\033[1;37;46m'\n",
        "}\n",
        "print(cor['barra'], '{:=^50}'.format(' DESAFIO 022.11 '), cor['limpa'])\n",
        "from time import sleep\n",
        "nome = str(input('\\nDigite o seu nome completo: ')).strip().title()\n",
        "print('\\n')\n",
        "print(cor['analise'], 'Analisando seu nome...', cor['limpa'])\n",
        "sleep(2)\n",
        "print('\\n')\n",
        "print(cor['titulo'], '{:-^50}'.format(' TODAS AS LETRAS MAÍUSCULAS '), cor['limpa'])\n",
        "sleep(2)\n",
        "print('\\n{}'.format(nome.upper()))\n",
        "sleep(2)\n",
        "print('\\n')\n",
        "print(cor['titulo'], '{:-^50}'.format(' todas as letras minúsculas '), cor['limpa'])\n",
        "sleep(2)\n",
        "print('\\n{}'.format(nome.lower()))\n",
        "sleep(2)\n",
        "\n",
        "#fatiamento do nome em lista\n",
        "lista = nome.split()\n",
        "\n",
        "print('\\n')\n",
        "print(cor['titulo'], '{:-^50}'.format(' Quantidade de letras '), cor['limpa'])\n",
        "sleep(2)\n",
        "print('\\nSeu nome tem um total de {} letras.'.format(len(''.join(lista))))\n",
        "sleep(2)\n",
        "print('\\n')\n",
        "print(cor['titulo'],'{:-^50}'.format(' Primeiro nome '), cor['limpa'])\n",
        "sleep(2)\n",
        "print('\\nSeu primeiro nome é {}'.format(lista[0].upper()), end=' e ')\n",
        "print('tem {} letras'.format(len(lista[0])))\n",
        "print('\\n')\n",
        "print(cor['barra'], '{:=^50}'.format(' fim do processamento '), cor['limpa'])"
      ],
      "execution_count": 0,
      "outputs": [
        {
          "output_type": "stream",
          "text": [
            "\u001b[1;46m ================= DESAFIO 022.11 ================= \u001b[0;30;7m\n",
            "\n",
            "Digite o seu nome completo: arthur dias marques ribeiro\n",
            "\n",
            "\n",
            "\u001b[1;37;46m Analisando seu nome... \u001b[0;30;7m\n",
            "\n",
            "\n",
            "\u001b[1;45m ----------- TODAS AS LETRAS MAÍUSCULAS ----------- \u001b[0;30;7m\n",
            "\n",
            "ARTHUR DIAS MARQUES RIBEIRO\n",
            "\n",
            "\n",
            "\u001b[1;45m ----------- todas as letras minúsculas ----------- \u001b[0;30;7m\n",
            "\n",
            "arthur dias marques ribeiro\n",
            "\n",
            "\n",
            "\u001b[1;45m -------------- Quantidade de letras -------------- \u001b[0;30;7m\n",
            "\n",
            "Seu nome tem um total de 24 letras.\n",
            "\n",
            "\n",
            "\u001b[1;45m ----------------- Primeiro nome ------------------ \u001b[0;30;7m\n",
            "\n",
            "Seu primeiro nome é ARTHUR e tem 6 letras\n",
            "\n",
            "\n",
            "\u001b[1;46m ============== fim do processamento ============== \u001b[0;30;7m\n"
          ],
          "name": "stdout"
        }
      ]
    },
    {
      "cell_type": "markdown",
      "metadata": {
        "colab_type": "text",
        "id": "lFWOsbuz9v1M"
      },
      "source": [
        "##### Ex.023.11 - Faça um programa que leia um número de **0** a **9999** e mostre na tela cada um dos dígitos separados.  \n",
        "Ex.:  \n",
        "**Digite um número:** 1834  \n",
        "\n",
        "**unidade:** 4  \n",
        "**dezena:** 3  \n",
        "**centena:** 8  \n",
        "**milhar:** 1"
      ]
    },
    {
      "cell_type": "code",
      "metadata": {
        "id": "nCYPfd8prY6H",
        "colab_type": "code",
        "outputId": "7e868d97-1e1e-4f5e-f936-214e3df0b8c7",
        "colab": {
          "base_uri": "https://localhost:8080/",
          "height": 374
        }
      },
      "source": [
        "cor = {'limpa':'\\033[0;30;7m',\n",
        "       'vermelho':'\\033[1;31m',\n",
        "       'verde':'\\033[1;32m',\n",
        "       'amarelo':'\\033[1;33m',\n",
        "       'azul':'\\033[1;34m',\n",
        "       'magenta':'\\033[1;35m',\n",
        "       'barra':'\\033[1;33;46m',\n",
        "       'analise':'\\033[1;37;45m'\n",
        "       }\n",
        "print(cor['barra'],'{:=^50}'.format(' DESAFIO 023.11 '),cor['limpa'])\n",
        "\n",
        "from time import sleep\n",
        "\n",
        "num = int(input('\\nDigite um número entre 0 e 9999: '))\n",
        "print('\\n')\n",
        "\n",
        "print(cor['analise'],'Analisando o número...',cor['limpa'])\n",
        "print('\\n')\n",
        "sleep(1)\n",
        "\n",
        "u = num // 1 % 10\n",
        "d = num // 10 % 10\n",
        "c = num // 100 % 10\n",
        "m = num // 1000 % 10\n",
        "\n",
        "print(cor['vermelho'],'A {}Unidade{} {}do número é: {}{}{}'.format('\\33[4m',cor['limpa'],cor['vermelho'],cor['vermelho'],u,cor['limpa']))\n",
        "print('\\n')\n",
        "sleep(1)\n",
        "print(cor['verde'],'A {}Dezena{} {}do número é: {}{}{}'.format('\\33[4m',cor['limpa'],cor['verde'],cor['verde'],d,cor['limpa']))\n",
        "print('\\n')\n",
        "sleep(1)\n",
        "print(cor['amarelo'],'A {}Centena{} {}do número é: {}{}{}'.format('\\33[4m',cor['limpa'],cor['amarelo'],cor['amarelo'],c,cor['limpa']))\n",
        "print('\\n')\n",
        "sleep(1)\n",
        "print(cor['azul'],'A {}Milhar{} {}do número é: {}{}{}'.format('\\33[4m',cor['limpa'],cor['azul'],cor['azul'],m,cor['limpa']))\n",
        "print('\\n')\n",
        "sleep(1)\n",
        "\n",
        "print(cor['barra'],'{:=^50}'.format(' fim do processamento '),cor['limpa'])"
      ],
      "execution_count": 0,
      "outputs": [
        {
          "output_type": "stream",
          "text": [
            "\u001b[1;33;46m ================= DESAFIO 023.11 ================= \u001b[0;30;7m\n",
            "\n",
            "Digite um número entre 0 e 9999: 1980\n",
            "\n",
            "\n",
            "\u001b[1;37;45m Analisando o número... \u001b[0;30;7m\n",
            "\n",
            "\n",
            "\u001b[1;31m A \u001b[4mUnidade\u001b[0;30;7m \u001b[1;31mdo número é: \u001b[1;31m0\u001b[0;30;7m\n",
            "\n",
            "\n",
            "\u001b[1;32m A \u001b[4mDezena\u001b[0;30;7m \u001b[1;32mdo número é: \u001b[1;32m8\u001b[0;30;7m\n",
            "\n",
            "\n",
            "\u001b[1;33m A \u001b[4mCentena\u001b[0;30;7m \u001b[1;33mdo número é: \u001b[1;33m9\u001b[0;30;7m\n",
            "\n",
            "\n",
            "\u001b[1;34m A \u001b[4mMilhar\u001b[0;30;7m \u001b[1;34mdo número é: \u001b[1;34m1\u001b[0;30;7m\n",
            "\n",
            "\n",
            "\u001b[1;33;46m ============== fim do processamento ============== \u001b[0;30;7m\n"
          ],
          "name": "stdout"
        }
      ]
    },
    {
      "cell_type": "markdown",
      "metadata": {
        "colab_type": "text",
        "id": "WPAdGWgjl6Yq"
      },
      "source": [
        "##### Ex.024.11 - Crie um programa que leia o nome de uma cidade e diga se ela começa ou não com o nome **\"SANTO\"**."
      ]
    },
    {
      "cell_type": "code",
      "metadata": {
        "id": "Zp7xFeGdIt02",
        "colab_type": "code",
        "outputId": "2a96212b-c316-43b7-bf4a-c236f56de832",
        "colab": {
          "base_uri": "https://localhost:8080/",
          "height": 217
        }
      },
      "source": [
        "cor = {'limpa':'\\033[0;30;7m',\n",
        "       'vermelho':'\\033[1;31m',\n",
        "       'verde':'\\033[1;32m',\n",
        "       'amarelo':'\\033[1;33m',\n",
        "       'azul':'\\033[1;34m',\n",
        "       'magenta':'\\033[1;35m',\n",
        "       'barra':'\\033[1;46m',\n",
        "       'analise':'\\033[1;37;45m'\n",
        "       }\n",
        "print(cor['barra'],'{:=^50}'.format(' DESAFIO 024.11 '),cor['limpa'])\n",
        "print('\\n')\n",
        "cid = str(input('Qual o nome da cidade?\\n')).strip().title()\n",
        "\n",
        "lista = cid.split()\n",
        "\n",
        "print('\\nA cidade {} começa com \"Santo\"? \\n{}'.format(cid, lista[0] == 'Santo'))\n",
        "print('\\n')\n",
        "print(cor['barra'],'{:=^50}'.format(' fim do processamento '),cor['limpa'])"
      ],
      "execution_count": 0,
      "outputs": [
        {
          "output_type": "stream",
          "text": [
            "\u001b[1;46m ================= DESAFIO 024.11 ================= \u001b[0;30;7m\n",
            "\n",
            "\n",
            "Qual o nome da cidade?\n",
            "santopolis\n",
            "\n",
            "A cidade Santopolis começa com \"Santo\"? \n",
            "False\n",
            "\n",
            "\n",
            "\u001b[1;46m ============== fim do processamento ============== \u001b[0;30;7m\n"
          ],
          "name": "stdout"
        }
      ]
    },
    {
      "cell_type": "markdown",
      "metadata": {
        "colab_type": "text",
        "id": "yO4r7HlEOVEk"
      },
      "source": [
        "##### Ex.025.11 - Crie um programa que leia o nome de uma pessoa e diga se ela tem **\"SILVA\"** no nome."
      ]
    },
    {
      "cell_type": "code",
      "metadata": {
        "id": "Dcp7ygugOdGJ",
        "colab_type": "code",
        "outputId": "5de6bd51-19b9-4f03-9443-0f1190d1e6c3",
        "colab": {
          "base_uri": "https://localhost:8080/",
          "height": 181
        }
      },
      "source": [
        "cor = {'limpa':'\\033[0;30;7m',\n",
        "       'vermelho':'\\033[1;31m',\n",
        "       'verde':'\\033[1;32m',\n",
        "       'amarelo':'\\033[1;33m',\n",
        "       'azul':'\\033[1;34m',\n",
        "       'magenta':'\\033[1;35m',\n",
        "       'barra':'\\033[1;33;46m',\n",
        "       'analise':'\\033[1;37;45m'\n",
        "       }\n",
        "print(cor['barra'],'{:=^50}'.format(' DESAFIO 025.11 '),cor['limpa'])\n",
        "\n",
        "nome = str(input('\\nDigite seu nome completo: ')).strip().title()\n",
        "\n",
        "print('\\nSeu nome tem \"Silva\" no nome?\\n{}'.format('Silva' in nome.split()))\n",
        "print('\\n')\n",
        "print(cor['barra'],'{:=^50}'.format(' fim do processamento '),cor['limpa'])"
      ],
      "execution_count": 0,
      "outputs": [
        {
          "output_type": "stream",
          "text": [
            "\u001b[1;33;46m ================= DESAFIO 025.11 ================= \u001b[0;30;7m\n",
            "\n",
            "Digite seu nome completo: danilo silva santos\n",
            "\n",
            "Seu nome tem \"Silva\" no nome?\n",
            "True\n",
            "\n",
            "\n",
            "\u001b[1;33;46m ============== fim do processamento ============== \u001b[0;30;7m\n"
          ],
          "name": "stdout"
        }
      ]
    },
    {
      "cell_type": "markdown",
      "metadata": {
        "colab_type": "text",
        "id": "vJSGF2SQRG75"
      },
      "source": [
        "##### Ex.026.11 - Faça um programa que leia uma frase pelo teclado e mostre:  \n",
        "- Quantas vezes aparece a letra **\"A\"**.\n",
        "- Em que posição ela aparece a primeira vez.\n",
        "- Em que posição ela aparece a última vez."
      ]
    },
    {
      "cell_type": "code",
      "metadata": {
        "id": "ZdmcyokyRLUW",
        "colab_type": "code",
        "outputId": "0525fd9a-34d8-4c28-c7f3-9d27c37a00d6",
        "colab": {
          "base_uri": "https://localhost:8080/",
          "height": 235
        }
      },
      "source": [
        "cor = {'limpa':'\\033[0;30;7m',\n",
        "       'vermelho':'\\033[1;31m',\n",
        "       'verde':'\\033[1;32m',\n",
        "       'amarelo':'\\033[1;33m',\n",
        "       'azul':'\\033[1;34m',\n",
        "       'magenta':'\\033[1;35m',\n",
        "       'barra':'\\033[1;46m',\n",
        "       'analise':'\\033[1;37;45m'\n",
        "       }\n",
        "print(cor['barra'], '{:=^50}'.format(' DESAFIO 026.11 '), cor['limpa'])\n",
        "frase = str(input('\\nDigite uma frase:\\n')).strip().upper()\n",
        "print('\\n')\n",
        "print(cor['verde'], '- A letra \"A\" aparece {} vez(es) na frase.'.format(frase.count('A')), cor['limpa'])\n",
        "print(cor['azul'], '- A letra \"A\" aparece a primeira vez na posição {}.'.format(frase.find('A')+1), cor['limpa'])\n",
        "print(cor['magenta'], '- A letra \"A\" aparece pela última vez na posição {}.'.format(frase.rfind('A')+1), cor['limpa'])\n",
        "print('\\n')\n",
        "print(cor['barra'], '{:=^50}'.format(' fim do processamento'), cor['limpa'])"
      ],
      "execution_count": 0,
      "outputs": [
        {
          "output_type": "stream",
          "text": [
            "\u001b[1;46m ================= DESAFIO 026.11 ================= \u001b[0;30;7m\n",
            "\n",
            "Digite uma frase:\n",
            "arara azul\n",
            "\n",
            "\n",
            "\u001b[1;32m - A letra \"A\" aparece 4 vez(es) na frase. \u001b[0;30;7m\n",
            "\u001b[1;34m - A letra \"A\" aparece a primeira vez na posição 1. \u001b[0;30;7m\n",
            "\u001b[1;35m - A letra \"A\" aparece pela última vez na posição 7. \u001b[0;30;7m\n",
            "\n",
            "\n",
            "\u001b[1;46m ============== fim do processamento=============== \u001b[0;30;7m\n"
          ],
          "name": "stdout"
        }
      ]
    },
    {
      "cell_type": "markdown",
      "metadata": {
        "colab_type": "text",
        "id": "qPaHb0SE9nnv"
      },
      "source": [
        "##### Ex.027.11 - Faça um programa que leia o nome completo de uma pessoa, mostrando em seguida o primeiro e o último nome separadamente.  \n",
        "Ex.: Ana Maria de Souza  \n",
        "**primeiro =** Ana  \n",
        "**último =** Souza"
      ]
    },
    {
      "cell_type": "code",
      "metadata": {
        "id": "YNVQHq3d9pj0",
        "colab_type": "code",
        "outputId": "28d7def0-45cd-4c23-9123-bd2de91cd77d",
        "colab": {
          "base_uri": "https://localhost:8080/",
          "height": 217
        }
      },
      "source": [
        "cor = {\n",
        "    'limpa':'\\033[0;30;7m',\n",
        "    'vermelho':'\\033[1;31m',\n",
        "    'verde':'\\033[1;32m',\n",
        "    'amarelo':'\\033[1;33m',\n",
        "    'azul':'\\033[1;34m',\n",
        "    'magenta':'\\033[1;35m',\n",
        "    'barra':'\\033[1;33;46m',\n",
        "    'realce':'\\033[1;37;45m'\n",
        "}\n",
        "print(cor['barra'],'{:=^50}'.format(' DESAFIO 027.11 '), cor['limpa'])\n",
        "nome = str(input('\\nDigite o nome completo:\\n')).strip().title()\n",
        "lista = nome.split()\n",
        "\n",
        "print(cor['azul'], '\\nYour First Name is: ', cor['limpa'], cor['realce'], '{}'.format(lista[0]), cor['limpa'])\n",
        "print(cor['azul'], '\\nYour Last Name is: ', cor['limpa'], cor['realce'], '{}'.format(lista[len(lista)-1]), cor['limpa'])\n",
        "print('\\n')\n",
        "print(cor['barra'],'{:=^50}'.format(' fim do processamento '), cor['limpa'])"
      ],
      "execution_count": 0,
      "outputs": [
        {
          "output_type": "stream",
          "text": [
            "\u001b[1;33;46m ================= DESAFIO 027.11 ================= \u001b[0;30;7m\n",
            "\n",
            "Digite o nome completo:\n",
            "h t m r\n",
            "\u001b[1;34m \n",
            "Your First Name is:  \u001b[0;30;7m \u001b[1;37;45m H \u001b[0;30;7m\n",
            "\u001b[1;34m \n",
            "Your Last Name is:  \u001b[0;30;7m \u001b[1;37;45m R \u001b[0;30;7m\n",
            "\n",
            "\n",
            "\u001b[1;33;46m ============== fim do processamento ============== \u001b[0;30;7m\n"
          ],
          "name": "stdout"
        }
      ]
    },
    {
      "cell_type": "markdown",
      "metadata": {
        "colab_type": "text",
        "id": "A4dCcwDMI7HL"
      },
      "source": [
        "##### Ex.028.11 - Escreva um programa que faça o computador \"pensar\" em um número inteiro entre **0** e **5** e **peça para o usuário tentar descobrir** qual foi o número escolhido pelo computador.  \n",
        "\n",
        "O programa deverá **escrever** na tela se o usuário **venceu** ou **perdeu**.  \n",
        "\n",
        "`random.ranint(0,5)`"
      ]
    },
    {
      "cell_type": "code",
      "metadata": {
        "id": "Gnj0F3QOJKQs",
        "colab_type": "code",
        "outputId": "3e7c88af-72f4-44b6-e24d-f99178028e9f",
        "colab": {
          "base_uri": "https://localhost:8080/",
          "height": 272
        }
      },
      "source": [
        "cor = {\n",
        "    'limpa':'\\033[0;30;7m',\n",
        "    'vermelho':'\\033[1;31m',\n",
        "    'verde':'\\033[1;32m',\n",
        "    'amarelo':'\\033[1;33m',\n",
        "    'azul':'\\033[1;34m',\n",
        "    'magenta':'\\033[1;35m',\n",
        "    'barra':'\\033[1;46m',\n",
        "    'realce':'\\033[1;33;45m'\n",
        "}\n",
        "print(cor['barra'],'{:=^50}'.format(' DESAFIO 028.11 '), cor['limpa'])\n",
        "from random import randint\n",
        "from time import sleep\n",
        "\n",
        "computer = randint(0, 5)\n",
        "print('\\n')\n",
        "print(cor['realce'], 'Pensando em um número de 0 a 5...', cor['limpa'])\n",
        "sleep(3)\n",
        "#print('-=-='*13)\n",
        "\n",
        "palpite = int(input('\\nOK...tente advinhá-lo! '))\n",
        "print('\\n')\n",
        "print(cor['realce'], 'PROCESSANDO...', cor['limpa'])\n",
        "sleep(3)\n",
        "\n",
        "if palpite == computer:\n",
        "  print('\\nMuito bem, você', cor['verde'], 'venceu', cor['limpa'], 'o desafio!')\n",
        "else:\n",
        "  print('\\nInfelizmente você', cor['vermelho'], 'perdeu', cor['limpa'], 'o desafio, eu pensei no número {}.'.format(computer))\n",
        "\n",
        "print('\\n')\n",
        "print(cor['barra'],'{:=^50}'.format(' fim do jogo '), cor['limpa'])"
      ],
      "execution_count": 0,
      "outputs": [
        {
          "output_type": "stream",
          "text": [
            "\u001b[1;46m ================= DESAFIO 028.11 ================= \u001b[0;30;7m\n",
            "\n",
            "\n",
            "\u001b[1;33;45m Pensando em um número de 0 a 5... \u001b[0;30;7m\n",
            "\n",
            "OK...tente advinhá-lo! 1\n",
            "\n",
            "\n",
            "\u001b[1;33;45m PROCESSANDO... \u001b[0;30;7m\n",
            "\n",
            "Muito bem, você \u001b[1;32m venceu \u001b[0;30;7m o desafio!\n",
            "\n",
            "\n",
            "\u001b[1;46m ================== fim do jogo =================== \u001b[0;30;7m\n"
          ],
          "name": "stdout"
        }
      ]
    },
    {
      "cell_type": "markdown",
      "metadata": {
        "colab_type": "text",
        "id": "sEDZfzMDcg8U"
      },
      "source": [
        "##### Ext.029.11 - Escreva um programa que **leia** a velocidadde de um carro.  \n",
        "\n",
        "Se ele ultrapassar **80 Km/h**, mostre uma mensagem dizendo que ele foi multado.  \n",
        "\n",
        "A multa vai custar **R$7,00** por cada Km acima do limite."
      ]
    },
    {
      "cell_type": "code",
      "metadata": {
        "id": "r1N_rNd1cncV",
        "colab_type": "code",
        "outputId": "75dbf210-3414-46cd-d29a-bb44bb6275a3",
        "colab": {
          "base_uri": "https://localhost:8080/",
          "height": 345
        }
      },
      "source": [
        "cor = {\n",
        "    'limpa':'\\033[0;30;7m',\n",
        "    'vermelho':'\\033[1;31m',\n",
        "    'verde':'\\033[1;32m',\n",
        "    'amarelo':'\\033[1;33m',\n",
        "    'azul':'\\033[1;34m',\n",
        "    'magenta':'\\033[1;35m',\n",
        "    'barra':'\\033[1;46m',\n",
        "    'realce':'\\033[1;33;41m',\n",
        "    'multa':'\\033[1;31;43m'\n",
        "}\n",
        "print(cor['barra'],'{:=^50}'.format(' DESAFIO 029.11 '), cor['limpa'])\n",
        "\n",
        "from time import sleep\n",
        "\n",
        "speed = float(input('\\nDigite a velocidade do carro: '))\n",
        "\n",
        "if speed > 80:\n",
        "  print(cor['vermelho'],'\\nO seu veículo foi multado!', cor['limpa'])\n",
        "  multa = (speed - 80)\n",
        "  percExcedente =    # 200 + 200 * p/100 = 300\n",
        "  print(cor['vermelho'],'\\nVocê excedeu a velocidade em {:.0f}%'.format(percExcedente), cor['limpa'])\n",
        "  sleep(2)\n",
        "  print('\\n')\n",
        "  print(cor['multa'], 'Calculando o valor da multa...', cor['limpa'])\n",
        "  sleep(2)\n",
        "  print('\\nPague a multa no valor de R${:.2f}.'.format(multa * 7))\n",
        "else:\n",
        "  print(cor['verde'], '\\nVelocidade Regular!', cor['limpa'])\n",
        "print('\\n')\n",
        "print(cor['realce'], 'Boa viagem e Dirija com Segurança!', cor['limpa'])\n",
        "\n",
        "print('\\n')\n",
        "print(cor['barra'],'{:=^50}'.format(' fim do processamento '), cor['limpa'])"
      ],
      "execution_count": 0,
      "outputs": [
        {
          "output_type": "stream",
          "text": [
            "\u001b[1;46m ================= DESAFIO 029.11 ================= \u001b[0;30;7m\n",
            "\n",
            "Digite a velocidade do carro: 105\n",
            "\u001b[1;31m \n",
            "O seu veículo foi multado! \u001b[0;30;7m\n",
            "\u001b[1;31m \n",
            "Você excedeu a velocidade em 189% \u001b[0;30;7m\n",
            "\n",
            "\n",
            "\u001b[1;31;43m Calculando o valor da multa... \u001b[0;30;7m\n",
            "\n",
            "Pague a multa no valor de R$175.00.\n",
            "\n",
            "\n",
            "\u001b[1;33;41m Boa viagem e Dirija com Segurança! \u001b[0;30;7m\n",
            "\n",
            "\n",
            "\u001b[1;46m ============== fim do processamento ============== \u001b[0;30;7m\n"
          ],
          "name": "stdout"
        }
      ]
    },
    {
      "cell_type": "markdown",
      "metadata": {
        "colab_type": "text",
        "id": "nfMFnrNgb0Rg"
      },
      "source": [
        "##### Ex.030.11 - Crie um programa que **leia** um número inteiro e mostre na tela se ele é **PAR** ou **IMPAR**."
      ]
    },
    {
      "cell_type": "code",
      "metadata": {
        "id": "nu6PquBIb5Dr",
        "colab_type": "code",
        "colab": {
          "base_uri": "https://localhost:8080/",
          "height": 235
        },
        "outputId": "e4cdce56-d65c-4610-97d5-e071b2c96240"
      },
      "source": [
        "cor = {\n",
        "    'limpa':'\\033[0;30;7m',\n",
        "    'vermelho':'\\033[1;31m',\n",
        "    'verde':'\\033[1;32m',\n",
        "    'amarelo':'\\033[1;33m',\n",
        "    'azul':'\\033[1;34m',\n",
        "    'magenta':'\\033[1;35m',\n",
        "    'barra':'\\033[1;33;46m',\n",
        "    'realce':'\\033[1;33;41m'\n",
        "}\n",
        "print(cor['barra'],'{:=^50}'.format(' DESAFIO 030.11 '), cor['limpa'])\n",
        "\n",
        "from time import sleep\n",
        "# Entrada\n",
        "num = int(input('\\nDigite um número: '))\n",
        "print('\\n')\n",
        "print('Analisando se o número é {}Par{}'.format(cor['realce'], cor['limpa']), end=' ')\n",
        "print('ou se é um número {}Ímpar{}'.format(cor['realce'], cor['limpa']))\n",
        "sleep(3)\n",
        "# Processamento\n",
        "if num % 2 == 0:\n",
        "  print('\\n')\n",
        "  print('O número é {}Par{}!'.format(cor['realce'], cor['limpa']))\n",
        "else:\n",
        "  print('\\n')\n",
        "  print('O número é {}Ímpar{}!'.format(cor['realce'], cor['limpa']))\n",
        "print('\\n')\n",
        "print(cor['barra'],'{:=^50}'.format(' fim do processamento '), cor['limpa'])"
      ],
      "execution_count": 6,
      "outputs": [
        {
          "output_type": "stream",
          "text": [
            "\u001b[1;33;46m ================= DESAFIO 030.11 ================= \u001b[0;30;7m\n",
            "\n",
            "Digite um número: 43\n",
            "\n",
            "\n",
            "Analisando se o número é \u001b[1;33;41mPar\u001b[0;30;7m ou se é um número \u001b[1;33;41mÍmpar\u001b[0;30;7m\n",
            "\n",
            "\n",
            "O número é \u001b[1;33;41mÍmpar\u001b[0;30;7m!\n",
            "\n",
            "\n",
            "\u001b[1;33;46m ============== fim do processamento ============== \u001b[0;30;7m\n"
          ],
          "name": "stdout"
        }
      ]
    },
    {
      "cell_type": "markdown",
      "metadata": {
        "colab_type": "text",
        "id": "S6_JzKcRhh0L"
      },
      "source": [
        "##### Ex.031.11 - Desenvolva um programa que **pergunte** a distância de uma viagem em Km. **Calcule** o preço da passagem, cobrando **R\\$0,50** por Km para viagens até **200Km** e **R$0,45** para viagens **mais longas**."
      ]
    },
    {
      "cell_type": "code",
      "metadata": {
        "id": "HGKMvCUEiEx2",
        "colab_type": "code",
        "colab": {
          "base_uri": "https://localhost:8080/",
          "height": 199
        },
        "outputId": "e8e4f5a9-fc23-4a7e-9d6a-c1ad11aa9bbe"
      },
      "source": [
        "cor = {\n",
        "    'limpa':'\\033[0;30;7m',\n",
        "    'vermelho':'\\033[1;31m',\n",
        "    'verde':'\\033[1;32m',\n",
        "    'amarelo':'\\033[1;33m',\n",
        "    'azul':'\\033[1;34m',\n",
        "    'magenta':'\\033[1;35m',\n",
        "    'barra':'\\033[1;33;46m',\n",
        "    'realce':'\\033[1;33;41m'\n",
        "}\n",
        "print(cor['barra'],'{:=^50}'.format(' DESAFIO 031.11 '), cor['limpa'])\n",
        "\n",
        "# entrada\n",
        "dist = float(input('\\nDigite a distância da viagem (Km): '))\n",
        "\n",
        "# processamento\n",
        "print('\\nVocê está prestes a começar uma viagem de {}{}{} Km.'.format(cor['azul'], dist, cor['limpa']))\n",
        "preco = dist * 0.5 if dist <= 200 else dist * 0.45\n",
        "\n",
        "# saída\n",
        "print('\\nE o preço da sua passagem será de {}R${:.2f}{}'.format(cor['verde'], preco, cor['limpa']))\n",
        "print('\\n')\n",
        "print(cor['barra'],'{:=^50}'.format(' fim do processamento '), cor['limpa'])"
      ],
      "execution_count": 7,
      "outputs": [
        {
          "output_type": "stream",
          "text": [
            "\u001b[1;33;46m ================= DESAFIO 031.11 ================= \u001b[0;30;7m\n",
            "\n",
            "Digite a distância da viagem (Km): 400\n",
            "\n",
            "Você está prestes a começar uma viagem de \u001b[1;34m400.0\u001b[0;30;7m Km.\n",
            "\n",
            "E o preço da sua passagem será de \u001b[1;32mR$180.00\u001b[0;30;7m\n",
            "\n",
            "\n",
            "\u001b[1;33;46m ============== fim do processamento ============== \u001b[0;30;7m\n"
          ],
          "name": "stdout"
        }
      ]
    },
    {
      "cell_type": "markdown",
      "metadata": {
        "colab_type": "text",
        "id": "a1arUG2jnPPb"
      },
      "source": [
        "##### Ex.032.11 - Faça um programa que **leia** um ano qualquer e mostre se ele é **BISSEXTO**."
      ]
    },
    {
      "cell_type": "code",
      "metadata": {
        "id": "D-4QxJydnaAo",
        "colab_type": "code",
        "colab": {
          "base_uri": "https://localhost:8080/",
          "height": 163
        },
        "outputId": "7be7ec90-0c4e-40c3-fac5-5f6a601e1b43"
      },
      "source": [
        "cor = {\n",
        "    'limpa':'\\033[0;30;7m',\n",
        "    'vermelho':'\\033[1;31m',\n",
        "    'verde':'\\033[1;32m',\n",
        "    'amarelo':'\\033[1;33m',\n",
        "    'azul':'\\033[1;34m',\n",
        "    'magenta':'\\033[1;35m',\n",
        "    'barra':'\\033[1;46m',\n",
        "    'realce':'\\033[1;33;41m'\n",
        "}\n",
        "print(cor['barra'],'{:=^50}'.format(' DESAFIO 032.11 '), cor['limpa'])\n",
        "\n",
        "from datetime import date\n",
        "\n",
        "# entrada\n",
        "ano = int(input('\\nQual o ano que deseja analisar? Digite 0 para o ano atual: '))\n",
        "\n",
        "# processamento\n",
        "if ano == 0:\n",
        "  ano = date.today().year\n",
        "\n",
        "if ano%4 == 0 and ano%100 != 0 or ano%400 == 0:\n",
        "  print('\\nO ano {}{}{} {}é Bissexto{}!'.format(\n",
        "      cor['vermelho'], ano, cor['limpa'],\n",
        "      cor['realce'], cor['limpa']))\n",
        "else:\n",
        "  print('\\nO ano {}{}{} {}não é Bissexto{}!'.format(\n",
        "      cor['vermelho'], ano, cor['limpa'],\n",
        "      cor['realce'], cor['limpa']))\n",
        "\n",
        "# saída\n",
        "print('\\n')\n",
        "print(cor['barra'],'{:=^50}'.format(' fim do processamento '), cor['limpa'])"
      ],
      "execution_count": 11,
      "outputs": [
        {
          "output_type": "stream",
          "text": [
            "\u001b[1;46m ================= DESAFIO 032.11 ================= \u001b[0;30;7m\n",
            "\n",
            "Qual o ano que deseja analisar? Digite 0 para o ano atual: 2010\n",
            "\n",
            "O ano \u001b[1;31m2010\u001b[0;30;7m \u001b[1;33;41mnão é Bissexto\u001b[0;30;7m!\n",
            "\n",
            "\n",
            "\u001b[1;46m ============== fim do processamento ============== \u001b[0;30;7m\n"
          ],
          "name": "stdout"
        }
      ]
    },
    {
      "cell_type": "markdown",
      "metadata": {
        "colab_type": "text",
        "id": "M_frV3dLtAKA"
      },
      "source": [
        "##### Ex.033.11 - Faça um programa que **leia** três números e mostre qual é o **maior** e qual é o **menor**."
      ]
    },
    {
      "cell_type": "code",
      "metadata": {
        "id": "6oQTYRvMtBqH",
        "colab_type": "code",
        "colab": {
          "base_uri": "https://localhost:8080/",
          "height": 272
        },
        "outputId": "39959a69-d9e4-4693-ca31-38f3a8ecc6ee"
      },
      "source": [
        "cor = {\n",
        "    'limpa':'\\033[0;30;7m',\n",
        "    'vermelho':'\\033[1;31m',\n",
        "    'verde':'\\033[1;32m',\n",
        "    'amarelo':'\\033[1;33m',\n",
        "    'azul':'\\033[1;34m',\n",
        "    'magenta':'\\033[1;35m',\n",
        "    'barra':'\\033[1;33;46m',\n",
        "    'realce':'\\033[1;33;41m'\n",
        "}\n",
        "print(cor['barra'],'{:=^50}'.format(' DESAFIO 033.11 '), cor['limpa'])\n",
        "# entrada\n",
        "a = int(input('\\nPrimeiro valor: '))\n",
        "b = int(input('\\nSegundo valor: '))\n",
        "c = int(input('\\nTerceiro valor: '))\n",
        "\n",
        "# processamento\n",
        "\n",
        "# verificando o menor valor\n",
        "menor = a\n",
        "if b<=a and b<=c:\n",
        "  menor = b\n",
        "if c<=a and c<=b:\n",
        "  menor = c\n",
        "print(cor['azul'], '\\n- O menor valor foi: {}{}{}'.format(\n",
        "    cor['realce'], menor, cor['limpa']), cor['limpa'])\n",
        "\n",
        "# verificando o maior valor\n",
        "maior = a\n",
        "if b>=a and b>=c:\n",
        "  maior = b\n",
        "if c>=a and c>=b:\n",
        "  maior = c\n",
        "print(cor['vermelho'], '\\n- O maior valor foi: {}{}{}'.format(\n",
        "    cor['realce'], maior, cor['limpa']), cor['limpa'])\n",
        "\n",
        "print('\\n')\n",
        "print(cor['barra'],'{:=^50}'.format(' fim do processamento '), cor['limpa'])"
      ],
      "execution_count": 21,
      "outputs": [
        {
          "output_type": "stream",
          "text": [
            "\u001b[1;33;46m ================= DESAFIO 033.11 ================= \u001b[0;30;7m\n",
            "\n",
            "Primeiro valor: 2\n",
            "\n",
            "Segundo valor: 3\n",
            "\n",
            "Terceiro valor: 3\n",
            "\u001b[1;34m \n",
            "- O menor valor foi: \u001b[1;33;41m2\u001b[0;30;7m \u001b[0;30;7m\n",
            "\u001b[1;31m \n",
            "- O maior valor foi: \u001b[1;33;41m3\u001b[0;30;7m \u001b[0;30;7m\n",
            "\n",
            "\n",
            "\u001b[1;33;46m ============== fim do processamento ============== \u001b[0;30;7m\n"
          ],
          "name": "stdout"
        }
      ]
    },
    {
      "cell_type": "markdown",
      "metadata": {
        "colab_type": "text",
        "id": "R8NaWPvE_KgY"
      },
      "source": [
        "##### Ex.034.11 - Escreva um programa que **pergunte** o salário de um funcionário e calcule o valor do seu aumento.  \n",
        "\n",
        "Para salários superiores a **R$1.250,00**, calcule um aumento de **10%**.  \n",
        "\n",
        "Para os inferiores ou iguais, o aumento é de **15%**.\n",
        "\n",
        "***Utilizando equação geral***  \n",
        "*vlProd - (vlProd * vlDesc / 100)*"
      ]
    },
    {
      "cell_type": "code",
      "metadata": {
        "id": "7W39oOea_VLy",
        "colab_type": "code",
        "colab": {
          "base_uri": "https://localhost:8080/",
          "height": 163
        },
        "outputId": "7df5a23d-3fbc-4284-a154-bef0ac2987d2"
      },
      "source": [
        "cor = {\n",
        "    'limpa':'\\033[0;30;7m',\n",
        "    'vermelho':'\\033[1;31m',\n",
        "    'verde':'\\033[1;32m',\n",
        "    'amarelo':'\\033[1;33m',\n",
        "    'azul':'\\033[1;34m',\n",
        "    'magenta':'\\033[1;35m',\n",
        "    'barra':'\\033[1;46m',\n",
        "    'realce':'\\033[1;33;41m'\n",
        "}\n",
        "print(cor['barra'],'{:=^50}'.format(' DESAFIO 034.11 '), cor['limpa'])\n",
        "\n",
        "sal = float(input('\\nDigite o salário atual: R$'))\n",
        "\n",
        "if sal <= 1250:\n",
        "  sal = sal + (sal * 15/100)\n",
        "else:\n",
        "  sal = sal + (sal * 10/100)\n",
        "\n",
        "print(cor['magenta'],'\\nO salário reajustado será de: {}R${:.2f}{}'.format(cor['verde'], sal, cor['limpa']), cor['limpa'])\n",
        "\n",
        "print('\\n')\n",
        "print(cor['barra'],'{:=^50}'.format(' fim do processamento '), cor['limpa'])"
      ],
      "execution_count": 24,
      "outputs": [
        {
          "output_type": "stream",
          "text": [
            "\u001b[1;46m ================= DESAFIO 034.11 ================= \u001b[0;30;7m\n",
            "\n",
            "Digite o salário atual: R$1250\n",
            "\u001b[1;35m \n",
            "O salário reajustado será de: \u001b[1;32mR$1437.50\u001b[0;30;7m \u001b[0;30;7m\n",
            "\n",
            "\n",
            "\u001b[1;46m ============== fim do processamento ============== \u001b[0;30;7m\n"
          ],
          "name": "stdout"
        }
      ]
    },
    {
      "cell_type": "markdown",
      "metadata": {
        "colab_type": "text",
        "id": "cearAnQxCJ1Q"
      },
      "source": [
        "##### Ex.035.11 - Desenvolva um programa que **leia** o comprimento de três retas e **diga** ao usuário se elas **podem** ou **não formar um triângulo**.  \n",
        "*regra:* ***a < b + c***\n",
        "- r1\n",
        "- r2\n",
        "- r3"
      ]
    },
    {
      "cell_type": "code",
      "metadata": {
        "id": "hm8BN_y4CSoT",
        "colab_type": "code",
        "colab": {
          "base_uri": "https://localhost:8080/",
          "height": 272
        },
        "outputId": "a1861995-430a-4f60-beca-464e908aa765"
      },
      "source": [
        "cor = {\n",
        "    'limpa':'\\033[0;30;7m',\n",
        "    'vermelho':'\\033[1;31m',\n",
        "    'verde':'\\033[1;32m',\n",
        "    'amarelo':'\\033[1;33m',\n",
        "    'azul':'\\033[1;34m',\n",
        "    'magenta':'\\033[1;35m',\n",
        "    'barra':'\\033[1;33;46m',\n",
        "    'realce':'\\033[1;33;41m'\n",
        "}\n",
        "print(cor['barra'],'{:=^50}'.format(' DESAFIO 035.11 '), cor['limpa'])\n",
        "# entrada\n",
        "a = float(input('\\nDigite o valor do primeiro segmento: '))\n",
        "b = float(input('\\nDigite o valor do segundo segmento: '))\n",
        "c = float(input('\\nDigite o valor do terceiro segmento: '))\n",
        "# processamento\n",
        "print('{:=^50}'.format(' Analisador de Triângulo '))\n",
        "print('-'*50)\n",
        "if a < b + c and b < a + c and c < a + b:\n",
        "  print(cor['amarelo'],'\\nAs retas {}, {} e {} {}PODEM FORMAR{} um triângulo.'.format(a,b,c,cor['realce'], cor['limpa']), cor['limpa'])\n",
        "else:\n",
        "  print(cor['vermelho'],'\\nAs retas {}, {} e {} {}NÃO PODEM FORMAR{} um triângulo.'.format(a, b, c, cor['realce'], cor['limpa']), cor['limpa'])\n",
        "\n",
        "print('\\n')\n",
        "print(cor['barra'],'{:=^50}'.format(' fim do processamento '), cor['limpa'])"
      ],
      "execution_count": 29,
      "outputs": [
        {
          "output_type": "stream",
          "text": [
            "\u001b[1;33;46m ================= DESAFIO 035.11 ================= \u001b[0;30;7m\n",
            "\n",
            "Digite o valor do primeiro segmento: 353\n",
            "\n",
            "Digite o valor do segundo segmento: 35\n",
            "\n",
            "Digite o valor do terceiro segmento: 35\n",
            "============ Analisador de Triângulo =============\n",
            "--------------------------------------------------\n",
            "\u001b[1;31m \n",
            "As retas 353.0, 35.0 e 35.0 \u001b[1;33;41mNÃO PODEM FORMAR\u001b[0;30;7m um triângulo. \u001b[0;30;7m\n",
            "\n",
            "\n",
            "\u001b[1;33;46m ============== fim do processamento ============== \u001b[0;30;7m\n"
          ],
          "name": "stdout"
        }
      ]
    }
  ]
}